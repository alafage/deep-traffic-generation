{
 "cells": [
  {
   "cell_type": "markdown",
   "id": "78b21166",
   "metadata": {},
   "source": [
    "# VAE performances\n",
    "\n",
    "* Similarity evaluation\n",
    "* Statistical evaluation\n",
    "* Physical evaluation"
   ]
  },
  {
   "cell_type": "code",
   "execution_count": 1,
   "id": "882afc86",
   "metadata": {},
   "outputs": [
    {
     "name": "stderr",
     "output_type": "stream",
     "text": [
      "/home/adrien/.conda/envs/traffic/lib/python3.8/site-packages/pytorch_lightning/utilities/distributed.py:69: DeprecationWarning: `pytorch_lightning.metrics.*` module has been renamed to `torchmetrics.*` and split off to its own package (https://github.com/PyTorchLightning/metrics) since v1.3 and will be removed in v1.5\n",
      "  warnings.warn(*args, **kwargs)\n",
      "/home/adrien/.conda/envs/traffic/lib/python3.8/site-packages/tensorboard/compat/tensorflow_stub/dtypes.py:572: DeprecationWarning: `np.object` is a deprecated alias for the builtin `object`. To silence this warning, use `object` by itself. Doing this will not modify any behavior and is safe. \n",
      "Deprecated in NumPy 1.20; for more details and guidance: https://numpy.org/devdocs/release/1.20.0-notes.html#deprecations\n",
      "  (np.object, string),\n",
      "/home/adrien/.conda/envs/traffic/lib/python3.8/site-packages/tensorboard/compat/tensorflow_stub/dtypes.py:573: DeprecationWarning: `np.bool` is a deprecated alias for the builtin `bool`. To silence this warning, use `bool` by itself. Doing this will not modify any behavior and is safe. If you specifically wanted the numpy scalar type, use `np.bool_` here.\n",
      "Deprecated in NumPy 1.20; for more details and guidance: https://numpy.org/devdocs/release/1.20.0-notes.html#deprecations\n",
      "  (np.bool, bool),\n",
      "/home/adrien/.conda/envs/traffic/lib/python3.8/site-packages/tensorboard/util/tensor_util.py:113: DeprecationWarning: `np.object` is a deprecated alias for the builtin `object`. To silence this warning, use `object` by itself. Doing this will not modify any behavior and is safe. \n",
      "Deprecated in NumPy 1.20; for more details and guidance: https://numpy.org/devdocs/release/1.20.0-notes.html#deprecations\n",
      "  np.object: SlowAppendObjectArrayToTensorProto,\n",
      "/home/adrien/.conda/envs/traffic/lib/python3.8/site-packages/tensorboard/util/tensor_util.py:114: DeprecationWarning: `np.bool` is a deprecated alias for the builtin `bool`. To silence this warning, use `bool` by itself. Doing this will not modify any behavior and is safe. If you specifically wanted the numpy scalar type, use `np.bool_` here.\n",
      "Deprecated in NumPy 1.20; for more details and guidance: https://numpy.org/devdocs/release/1.20.0-notes.html#deprecations\n",
      "  np.bool: SlowAppendBoolArrayToTensorProto,\n",
      "/home/adrien/.conda/envs/traffic/lib/python3.8/site-packages/numba/core/types/__init__.py:108: DeprecationWarning: `np.long` is a deprecated alias for `np.compat.long`. To silence this warning, use `np.compat.long` by itself. In the likely event your code does not need to work on Python 2 you can use the builtin `int` for which `np.compat.long` is itself an alias. Doing this will not modify any behaviour and is safe. When replacing `np.long`, you may wish to use e.g. `np.int64` or `np.int32` to specify the precision. If you wish to review your current use, check the release note link for additional information.\n",
      "Deprecated in NumPy 1.20; for more details and guidance: https://numpy.org/devdocs/release/1.20.0-notes.html#deprecations\n",
      "  long_ = _make_signed(np.long)\n",
      "/home/adrien/.conda/envs/traffic/lib/python3.8/site-packages/numba/cuda/api.py:118: DeprecationWarning: `np.float` is a deprecated alias for the builtin `float`. To silence this warning, use `float` by itself. Doing this will not modify any behavior and is safe. If you specifically wanted the numpy scalar type, use `np.float64` here.\n",
      "Deprecated in NumPy 1.20; for more details and guidance: https://numpy.org/devdocs/release/1.20.0-notes.html#deprecations\n",
      "  def device_array(shape, dtype=np.float, strides=None, order='C', stream=0):\n",
      "/home/adrien/.conda/envs/traffic/lib/python3.8/site-packages/numba/cuda/simulator/cudadrv/devicearray.py:271: DeprecationWarning: `np.float` is a deprecated alias for the builtin `float`. To silence this warning, use `float` by itself. Doing this will not modify any behavior and is safe. If you specifically wanted the numpy scalar type, use `np.float64` here.\n",
      "Deprecated in NumPy 1.20; for more details and guidance: https://numpy.org/devdocs/release/1.20.0-notes.html#deprecations\n",
      "  def pinned_array(shape, dtype=np.float, strides=None, order='C'):\n"
     ]
    }
   ],
   "source": [
    "# imports\n",
    "from traffic.core import Traffic\n",
    "from deep_traffic_generation.core.utils import extract_features\n",
    "\n",
    "import numpy as np\n",
    "\n",
    "import warnings\n",
    "warnings.filterwarnings(\"ignore\")"
   ]
  },
  {
   "cell_type": "code",
   "execution_count": 2,
   "id": "44f08148",
   "metadata": {},
   "outputs": [],
   "source": [
    "features = [\"latitude\", \"longitude\", \"altitude\", \"timedelta\"]"
   ]
  },
  {
   "cell_type": "code",
   "execution_count": 3,
   "id": "59098c14",
   "metadata": {},
   "outputs": [
    {
     "data": {
      "text/plain": [
       "(1000, 200, 4)"
      ]
     },
     "execution_count": 3,
     "metadata": {},
     "output_type": "execute_result"
    }
   ],
   "source": [
    "X_gen = extract_features(Traffic.from_file(\"./outputs/vae_gen.csv\"), features)\n",
    "X_gen = X_gen.reshape(X_gen.shape[0], -1, len(features))\n",
    "X_gen.shape"
   ]
  },
  {
   "cell_type": "code",
   "execution_count": 4,
   "id": "7ac3e1b5",
   "metadata": {},
   "outputs": [
    {
     "data": {
      "text/plain": [
       "(3968, 200, 4)"
      ]
     },
     "execution_count": 4,
     "metadata": {},
     "output_type": "execute_result"
    }
   ],
   "source": [
    "X_ref = extract_features(Traffic.from_file(\"../deep_traffic_generation/data/traffic_15.pkl\"), features)\n",
    "X_ref = X_ref.reshape(X_ref.shape[0], -1, len(features))\n",
    "X_ref.shape"
   ]
  },
  {
   "cell_type": "markdown",
   "id": "156f6811",
   "metadata": {},
   "source": [
    "### Similarity Evaluation"
   ]
  },
  {
   "cell_type": "code",
   "execution_count": 11,
   "id": "088a926a",
   "metadata": {},
   "outputs": [
    {
     "data": {
      "text/plain": [
       "(4, 4)"
      ]
     },
     "execution_count": 11,
     "metadata": {},
     "output_type": "execute_result"
    }
   ],
   "source": [
    "from tslearn.metrics import cdist_dtw\n",
    "\n",
    "cdist_dtw(X_gen, X_ref).shape"
   ]
  }
 ],
 "metadata": {
  "kernelspec": {
   "display_name": "Python 3.8.3 64-bit ('traffic': conda)",
   "language": "python",
   "name": "python38364bittrafficcondac883b0b6a9534c18ae7c8771421dfabd"
  },
  "language_info": {
   "codemirror_mode": {
    "name": "ipython",
    "version": 3
   },
   "file_extension": ".py",
   "mimetype": "text/x-python",
   "name": "python",
   "nbconvert_exporter": "python",
   "pygments_lexer": "ipython3",
   "version": "3.8.8"
  }
 },
 "nbformat": 4,
 "nbformat_minor": 5
}
