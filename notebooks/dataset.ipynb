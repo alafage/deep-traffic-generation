{
 "cells": [
  {
   "cell_type": "code",
   "execution_count": 1,
   "id": "2d7334b2",
   "metadata": {},
   "outputs": [],
   "source": [
    "from deep_traffic_generation.core.datasets import TrafficDataset\n",
    "from traffic.core import Traffic\n",
    "from sklearn.preprocessing import MinMaxScaler\n",
    "\n",
    "import warnings\n",
    "warnings.filterwarnings(\"ignore\")"
   ]
  },
  {
   "cell_type": "code",
   "execution_count": 2,
   "id": "f2e90c5b",
   "metadata": {},
   "outputs": [
    {
     "data": {
      "text/plain": [
       "Dataset TrafficDataset\n",
       "    Number of datapoints: 3968\n",
       "    File location: ../deep_traffic_generation/data/simplified_15.pkl\n",
       "    MinMaxScaler(feature_range=(-1, 1))"
      ]
     },
     "execution_count": 2,
     "metadata": {},
     "output_type": "execute_result"
    }
   ],
   "source": [
    "features = [\"latitude\", \"longitude\", \"altitude\", \"timedelta\"]\n",
    "\n",
    "dataset = TrafficDataset.from_file(\n",
    "    \"../deep_traffic_generation/data/simplified_15.pkl\",\n",
    "    features,\n",
    "    scaler = MinMaxScaler(feature_range=(-1, 1)),\n",
    "    shape=\"sequence\"\n",
    ")\n",
    "dataset"
   ]
  },
  {
   "cell_type": "code",
   "execution_count": 4,
   "id": "2f608028",
   "metadata": {},
   "outputs": [
    {
     "data": {
      "text/html": [
       "<div>\n",
       "<style scoped>\n",
       "    .dataframe tbody tr th:only-of-type {\n",
       "        vertical-align: middle;\n",
       "    }\n",
       "\n",
       "    .dataframe tbody tr th {\n",
       "        vertical-align: top;\n",
       "    }\n",
       "\n",
       "    .dataframe thead th {\n",
       "        text-align: right;\n",
       "    }\n",
       "</style>\n",
       "<table border=\"1\" class=\"dataframe\">\n",
       "  <thead>\n",
       "    <tr style=\"text-align: right;\">\n",
       "      <th></th>\n",
       "      <th>lengths</th>\n",
       "    </tr>\n",
       "  </thead>\n",
       "  <tbody>\n",
       "    <tr>\n",
       "      <th>0</th>\n",
       "      <td>9</td>\n",
       "    </tr>\n",
       "    <tr>\n",
       "      <th>1</th>\n",
       "      <td>8</td>\n",
       "    </tr>\n",
       "    <tr>\n",
       "      <th>2</th>\n",
       "      <td>5</td>\n",
       "    </tr>\n",
       "    <tr>\n",
       "      <th>3</th>\n",
       "      <td>10</td>\n",
       "    </tr>\n",
       "    <tr>\n",
       "      <th>4</th>\n",
       "      <td>10</td>\n",
       "    </tr>\n",
       "  </tbody>\n",
       "</table>\n",
       "</div>"
      ],
      "text/plain": [
       "   lengths\n",
       "0        9\n",
       "1        8\n",
       "2        5\n",
       "3       10\n",
       "4       10"
      ]
     },
     "execution_count": 4,
     "metadata": {},
     "output_type": "execute_result"
    }
   ],
   "source": [
    "import pandas as pd\n",
    "\n",
    "df = pd.DataFrame({\"lengths\": dataset.lengths})\n",
    "df.head()"
   ]
  },
  {
   "cell_type": "code",
   "execution_count": 5,
   "id": "525f0f15",
   "metadata": {},
   "outputs": [
    {
     "data": {
      "text/plain": [
       "5     1072\n",
       "6      648\n",
       "7      548\n",
       "4      539\n",
       "8      478\n",
       "9      354\n",
       "10     195\n",
       "11      74\n",
       "3       31\n",
       "12      22\n",
       "13       5\n",
       "14       2\n",
       "Name: lengths, dtype: int64"
      ]
     },
     "execution_count": 5,
     "metadata": {},
     "output_type": "execute_result"
    }
   ],
   "source": [
    "df.lengths.value_counts()"
   ]
  }
 ],
 "metadata": {
  "kernelspec": {
   "display_name": "Python 3.8.3 64-bit ('traffic': conda)",
   "language": "python",
   "name": "python38364bittrafficcondac883b0b6a9534c18ae7c8771421dfabd"
  },
  "language_info": {
   "codemirror_mode": {
    "name": "ipython",
    "version": 3
   },
   "file_extension": ".py",
   "mimetype": "text/x-python",
   "name": "python",
   "nbconvert_exporter": "python",
   "pygments_lexer": "ipython3",
   "version": "3.8.8"
  }
 },
 "nbformat": 4,
 "nbformat_minor": 5
}
