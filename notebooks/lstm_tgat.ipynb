{
 "cells": [
  {
   "cell_type": "code",
   "execution_count": 1,
   "id": "b1671940",
   "metadata": {},
   "outputs": [],
   "source": [
    "from deep_traffic_generation.lstm_ae import LSTMAE\n",
    "from deep_traffic_generation.core.datasets import TrafficDataset\n",
    "from deep_traffic_generation.core.utils import traffic_from_data\n",
    "\n",
    "from sklearn.preprocessing import MinMaxScaler\n",
    "from sklearn.manifold import TSNE\n",
    "\n",
    "import matplotlib.pyplot as plt\n",
    "import numpy as np\n",
    "\n",
    "from traffic.core.projection import EuroPP\n",
    "\n",
    "import torch\n",
    "\n",
    "import warnings\n",
    "warnings.filterwarnings(\"ignore\")"
   ]
  },
  {
   "cell_type": "code",
   "execution_count": 2,
   "id": "95f020a8",
   "metadata": {},
   "outputs": [
    {
     "data": {
      "text/plain": [
       "Dataset TrafficDataset\n",
       "    Number of datapoints: 3968\n",
       "    File location: ../deep_traffic_generation/data/traffic_15.pkl\n",
       "    MinMaxScaler(feature_range=(-1, 1))"
      ]
     },
     "execution_count": 2,
     "metadata": {},
     "output_type": "execute_result"
    }
   ],
   "source": [
    "dataset = TrafficDataset(\n",
    "    \"../deep_traffic_generation/data/traffic_15.pkl\",\n",
    "    features=[\"track_unwrapped\", \"groundspeed\", \"altitude\", \"timedelta\"],\n",
    "    init_features=[\"latitude\", \"longitude\"],\n",
    "    scaler=MinMaxScaler(feature_range=(-1,1)),\n",
    "    mode=\"sequence\",\n",
    ")\n",
    "dataset"
   ]
  },
  {
   "cell_type": "code",
   "execution_count": 3,
   "id": "4fac7bd4",
   "metadata": {},
   "outputs": [
    {
     "data": {
      "text/plain": [
       "LSTMAE(\n",
       "  (out_activ): Tanh()\n",
       "  (encoder): Encoder(\n",
       "    (encoder): RNN(\n",
       "      (layers): ModuleList(\n",
       "        (0): LSTM(4, 64, batch_first=True)\n",
       "        (1): LSTM(64, 32, batch_first=True)\n",
       "        (2): LSTM(32, 16, batch_first=True)\n",
       "      )\n",
       "    )\n",
       "  )\n",
       "  (decoder): Decoder(\n",
       "    (decoder): RNN(\n",
       "      (layers): ModuleList(\n",
       "        (0): LSTM(16, 16, batch_first=True)\n",
       "        (1): LSTM(16, 32, batch_first=True)\n",
       "        (2): LSTM(32, 64, batch_first=True)\n",
       "      )\n",
       "    )\n",
       "    (fc): Linear(in_features=64, out_features=4, bias=True)\n",
       "  )\n",
       ")"
      ]
     },
     "execution_count": 3,
     "metadata": {},
     "output_type": "execute_result"
    }
   ],
   "source": [
    "model = LSTMAE.load_from_checkpoint(\n",
    "    \"../deep_traffic_generation/lightning_logs/lstm_ae/version_1/checkpoints/epoch=19-step=59.ckpt\",\n",
    "    hparams_file=\"../deep_traffic_generation/lightning_logs/lstm_ae/version_1/hparams.yaml\",\n",
    "    x_dim=dataset.input_dim,\n",
    "    seq_len=dataset.seq_len,\n",
    "    scaler=dataset.scaler\n",
    ")\n",
    "model.eval()"
   ]
  },
  {
   "cell_type": "code",
   "execution_count": 4,
   "id": "ff849d51",
   "metadata": {},
   "outputs": [
    {
     "data": {
      "text/plain": [
       "torch.Size([3968, 16])"
      ]
     },
     "execution_count": 4,
     "metadata": {},
     "output_type": "execute_result"
    }
   ],
   "source": [
    "z = model.encoder(torch.Tensor(dataset.dense))\n",
    "z.size()"
   ]
  },
  {
   "cell_type": "code",
   "execution_count": 5,
   "id": "980a853a",
   "metadata": {},
   "outputs": [
    {
     "data": {
      "text/plain": [
       "(3968, 16)"
      ]
     },
     "execution_count": 5,
     "metadata": {},
     "output_type": "execute_result"
    }
   ],
   "source": [
    "z_array = z.detach().cpu().numpy()\n",
    "z_array.shape"
   ]
  },
  {
   "cell_type": "code",
   "execution_count": 6,
   "id": "870bfcdf",
   "metadata": {},
   "outputs": [
    {
     "data": {
      "text/plain": [
       "(3968, 2)"
      ]
     },
     "execution_count": 6,
     "metadata": {},
     "output_type": "execute_result"
    }
   ],
   "source": [
    "z_embedded = TSNE(n_components=2).fit_transform(z_array)\n",
    "z_embedded.shape"
   ]
  },
  {
   "cell_type": "code",
   "execution_count": 7,
   "id": "5547e978",
   "metadata": {},
   "outputs": [
    {
     "data": {
      "image/png": "[encoded data removed]",
      "text/plain": [
       "<Figure size 432x288 with 1 Axes>"
      ]
     },
     "metadata": {
      "needs_background": "light"
     },
     "output_type": "display_data"
    }
   ],
   "source": [
    "plt.scatter(z_embedded[:, 0], z_embedded[:, 1], s=4)\n",
    "plt.show()"
   ]
  },
  {
   "cell_type": "code",
   "execution_count": 8,
   "id": "41f7f273",
   "metadata": {},
   "outputs": [],
   "source": [
    "x, y, info = dataset[0]\n",
    "x = x.unsqueeze(0)\n",
    "z, x_hat = model(x)"
   ]
  },
  {
   "cell_type": "code",
   "execution_count": 9,
   "id": "281e2070",
   "metadata": {},
   "outputs": [
    {
     "data": {
      "text/plain": [
       "torch.Size([1, 200, 4])"
      ]
     },
     "execution_count": 9,
     "metadata": {},
     "output_type": "execute_result"
    }
   ],
   "source": [
    "x.size()"
   ]
  },
  {
   "cell_type": "code",
   "execution_count": 10,
   "id": "20dfc522",
   "metadata": {},
   "outputs": [
    {
     "data": {
      "text/plain": [
       "torch.Size([1, 200, 4])"
      ]
     },
     "execution_count": 10,
     "metadata": {},
     "output_type": "execute_result"
    }
   ],
   "source": [
    "x_hat.size()"
   ]
  },
  {
   "cell_type": "code",
   "execution_count": 11,
   "id": "b6242919",
   "metadata": {},
   "outputs": [
    {
     "data": {
      "text/plain": [
       "torch.Size([1, 16])"
      ]
     },
     "execution_count": 11,
     "metadata": {},
     "output_type": "execute_result"
    }
   ],
   "source": [
    "z.size()"
   ]
  },
  {
   "cell_type": "code",
   "execution_count": 12,
   "id": "d2b1a083",
   "metadata": {},
   "outputs": [
    {
     "data": {
      "text/plain": [
       "(2, 800)"
      ]
     },
     "execution_count": 12,
     "metadata": {},
     "output_type": "execute_result"
    }
   ],
   "source": [
    "data = np.concatenate((x.numpy(), x_hat.detach().numpy()))\n",
    "data = data.reshape((data.shape[0], -1))\n",
    "data = dataset.scaler.inverse_transform(data)\n",
    "data.shape"
   ]
  },
  {
   "cell_type": "code",
   "execution_count": 13,
   "id": "9083a087",
   "metadata": {},
   "outputs": [
    {
     "data": {
      "text/plain": [
       "(2, 802)"
      ]
     },
     "execution_count": 13,
     "metadata": {},
     "output_type": "execute_result"
    }
   ],
   "source": [
    "info = np.repeat(info.unsqueeze(0), data.shape[0], axis=0)\n",
    "data = np.concatenate((info, data), axis=1)\n",
    "data.shape"
   ]
  },
  {
   "cell_type": "code",
   "execution_count": 14,
   "id": "5723da0d",
   "metadata": {},
   "outputs": [
    {
     "data": {
      "text/html": [
       "<b>Traffic with 2 identifiers</b><style  type=\"text/css\" >\n",
       "#T_863e9_row0_col0,#T_863e9_row1_col0{\n",
       "            width:  10em;\n",
       "             height:  80%;\n",
       "            background:  linear-gradient(90deg,#5fba7d 100.0%, transparent 100.0%);\n",
       "        }</style><table id=\"T_863e9_\" ><thead>    <tr>        <th class=\"blank level0\" ></th>        <th class=\"col_heading level0 col0\" >count</th>    </tr>    <tr>        <th class=\"index_name level0\" >flight_id</th>        <th class=\"blank\" ></th>    </tr></thead><tbody>\n",
       "                <tr>\n",
       "                        <th id=\"T_863e9_level0_row0\" class=\"row_heading level0 row0\" >0</th>\n",
       "                        <td id=\"T_863e9_row0_col0\" class=\"data row0 col0\" >200</td>\n",
       "            </tr>\n",
       "            <tr>\n",
       "                        <th id=\"T_863e9_level0_row1\" class=\"row_heading level0 row1\" >1</th>\n",
       "                        <td id=\"T_863e9_row1_col0\" class=\"data row1 col0\" >200</td>\n",
       "            </tr>\n",
       "    </tbody></table>"
      ],
      "text/plain": [
       "           count\n",
       "flight_id       \n",
       "0            200\n",
       "1            200"
      ]
     },
     "execution_count": 14,
     "metadata": {},
     "output_type": "execute_result"
    }
   ],
   "source": [
    "builder = model.get_builder(data.shape[0])\n",
    "features = [\n",
    "    \"track\" if \"track\" in f else f for f in model.hparams.features\n",
    "]\n",
    "traffic = traffic_from_data(\n",
    "    data, features, model.hparams.init_features, builder=builder\n",
    ")\n",
    "traffic"
   ]
  },
  {
   "cell_type": "code",
   "execution_count": 15,
   "id": "6f73aa19",
   "metadata": {},
   "outputs": [
    {
     "data": {
      "image/png": "[encoded data removed]",
      "text/plain": [
       "<Figure size 720x504 with 2 Axes>"
      ]
     },
     "metadata": {},
     "output_type": "display_data"
    }
   ],
   "source": [
    "with plt.style.context(\"traffic\"):\n",
    "    fig, ax = plt.subplots(\n",
    "        1, 2, subplot_kw=dict(projection=EuroPP()), gridspec_kw={'width_ratios': [1, 1]}\n",
    "    )\n",
    "    traffic[1].plot(ax[0], c=\"orange\")\n",
    "    traffic[0].plot(ax[1], c=\"purple\")\n",
    "    ax[0].set_title(\"Reconstruction\")\n",
    "    ax[1].set_title(\"Original\")\n",
    "    plt.show()"
   ]
  }
 ],
 "metadata": {
  "kernelspec": {
   "display_name": "Python 3.8.3 64-bit ('traffic': conda)",
   "language": "python",
   "name": "python38364bittrafficcondac883b0b6a9534c18ae7c8771421dfabd"
  },
  "language_info": {
   "codemirror_mode": {
    "name": "ipython",
    "version": 3
   },
   "file_extension": ".py",
   "mimetype": "text/x-python",
   "name": "python",
   "nbconvert_exporter": "python",
   "pygments_lexer": "ipython3",
   "version": "3.8.8"
  }
 },
 "nbformat": 4,
 "nbformat_minor": 5
}
