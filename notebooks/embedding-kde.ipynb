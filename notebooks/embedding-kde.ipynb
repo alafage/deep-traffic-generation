{
 "cells": [
  {
   "cell_type": "code",
   "execution_count": 1,
   "id": "8ee1f4fb",
   "metadata": {},
   "outputs": [],
   "source": [
    "from deep_traffic_generation.tc_vae import TCVAE\n",
    "from deep_traffic_generation.core.datasets import TrafficDataset\n",
    "from sklearn.preprocessing import MinMaxScaler\n",
    "from sklearn.neighbors import KernelDensity\n",
    "import matplotlib.pyplot as plt\n",
    "import numpy as np\n",
    "\n",
    "from traffic.core.projection import EuroPP\n",
    "\n",
    "import torch\n",
    "\n",
    "from deep_traffic_generation.core.utils import traffic_from_data\n",
    "\n",
    "import warnings\n",
    "warnings.filterwarnings(\"ignore\")"
   ]
  },
  {
   "cell_type": "code",
   "execution_count": 2,
   "id": "8f120dbc",
   "metadata": {},
   "outputs": [
    {
     "data": {
      "text/plain": [
       "Dataset TrafficDataset\n",
       "    Number of datapoints: 3968\n",
       "    File location: ../deep_traffic_generation/data/traffic_15.pkl\n",
       "    MinMaxScaler(feature_range=(-1, 1))"
      ]
     },
     "execution_count": 2,
     "metadata": {},
     "output_type": "execute_result"
    }
   ],
   "source": [
    "dataset = TrafficDataset(\n",
    "    \"../deep_traffic_generation/data/traffic_15.pkl\",\n",
    "    features=[\"track_unwrapped\", \"groundspeed\", \"altitude\", \"timedelta\"],\n",
    "    init_features=[\"latitude\", \"longitude\"],\n",
    "    scaler=MinMaxScaler(feature_range=(-1, 1)),\n",
    "    mode=\"image\",\n",
    ")\n",
    "dataset"
   ]
  },
  {
   "cell_type": "code",
   "execution_count": 3,
   "id": "a9bc7182",
   "metadata": {},
   "outputs": [
    {
     "data": {
      "text/plain": [
       "TCVAE(\n",
       "  (encoder): TCEncoder(\n",
       "    (encoder): Sequential(\n",
       "      (0): TCN(\n",
       "        (network): Sequential(\n",
       "          (0): ResidualBlock(\n",
       "            (tmp_block1): TemporalBlock(\n",
       "              (conv): Conv1d(4, 16, kernel_size=(16,), stride=(1,))\n",
       "              (dropout): Dropout(p=0.0, inplace=False)\n",
       "            )\n",
       "            (tmp_block2): TemporalBlock(\n",
       "              (conv): Conv1d(16, 16, kernel_size=(16,), stride=(1,))\n",
       "              (dropout): Dropout(p=0.0, inplace=False)\n",
       "            )\n",
       "            (downsample): Conv1d(4, 16, kernel_size=(1,), stride=(1,))\n",
       "          )\n",
       "          (1): ResidualBlock(\n",
       "            (tmp_block1): TemporalBlock(\n",
       "              (conv): Conv1d(16, 16, kernel_size=(16,), stride=(1,), dilation=(2,))\n",
       "              (dropout): Dropout(p=0.0, inplace=False)\n",
       "            )\n",
       "            (tmp_block2): TemporalBlock(\n",
       "              (conv): Conv1d(16, 16, kernel_size=(16,), stride=(1,), dilation=(2,))\n",
       "              (dropout): Dropout(p=0.0, inplace=False)\n",
       "            )\n",
       "          )\n",
       "          (2): ResidualBlock(\n",
       "            (tmp_block1): TemporalBlock(\n",
       "              (conv): Conv1d(16, 16, kernel_size=(16,), stride=(1,), dilation=(4,))\n",
       "              (dropout): Dropout(p=0.0, inplace=False)\n",
       "            )\n",
       "            (tmp_block2): TemporalBlock(\n",
       "              (conv): Conv1d(16, 16, kernel_size=(16,), stride=(1,), dilation=(4,))\n",
       "              (dropout): Dropout(p=0.0, inplace=False)\n",
       "            )\n",
       "          )\n",
       "        )\n",
       "      )\n",
       "      (1): AvgPool1d(kernel_size=(10,), stride=(10,), padding=(0,))\n",
       "    )\n",
       "    (z_loc): Linear(in_features=320, out_features=32, bias=True)\n",
       "    (z_log_var): Linear(in_features=320, out_features=32, bias=True)\n",
       "  )\n",
       "  (decoder): TCDecoder(\n",
       "    (decode_entry): Linear(in_features=32, out_features=320, bias=True)\n",
       "    (decoder): Sequential(\n",
       "      (0): Upsample(scale_factor=10.0, mode=nearest)\n",
       "      (1): TCN(\n",
       "        (network): Sequential(\n",
       "          (0): ResidualBlock(\n",
       "            (tmp_block1): TemporalBlock(\n",
       "              (conv): Conv1d(16, 16, kernel_size=(16,), stride=(1,))\n",
       "              (dropout): Dropout(p=0.0, inplace=False)\n",
       "            )\n",
       "            (tmp_block2): TemporalBlock(\n",
       "              (conv): Conv1d(16, 16, kernel_size=(16,), stride=(1,))\n",
       "              (dropout): Dropout(p=0.0, inplace=False)\n",
       "            )\n",
       "          )\n",
       "          (1): ResidualBlock(\n",
       "            (tmp_block1): TemporalBlock(\n",
       "              (conv): Conv1d(16, 16, kernel_size=(16,), stride=(1,), dilation=(2,))\n",
       "              (dropout): Dropout(p=0.0, inplace=False)\n",
       "            )\n",
       "            (tmp_block2): TemporalBlock(\n",
       "              (conv): Conv1d(16, 16, kernel_size=(16,), stride=(1,), dilation=(2,))\n",
       "              (dropout): Dropout(p=0.0, inplace=False)\n",
       "            )\n",
       "          )\n",
       "          (2): ResidualBlock(\n",
       "            (tmp_block1): TemporalBlock(\n",
       "              (conv): Conv1d(16, 4, kernel_size=(16,), stride=(1,), dilation=(4,))\n",
       "              (dropout): Dropout(p=0.0, inplace=False)\n",
       "            )\n",
       "            (tmp_block2): TemporalBlock(\n",
       "              (conv): Conv1d(4, 4, kernel_size=(16,), stride=(1,), dilation=(4,))\n",
       "              (dropout): Dropout(p=0.0, inplace=False)\n",
       "            )\n",
       "            (downsample): Conv1d(16, 4, kernel_size=(1,), stride=(1,))\n",
       "          )\n",
       "        )\n",
       "      )\n",
       "    )\n",
       "  )\n",
       "  (out_activ): LinearAct()\n",
       ")"
      ]
     },
     "execution_count": 3,
     "metadata": {},
     "output_type": "execute_result"
    }
   ],
   "source": [
    "model = TCVAE.load_from_checkpoint(\n",
    "    \"../deep_traffic_generation/lightning_logs/tc_vae/version_0/checkpoints/epoch=412-step=1238.ckpt\",\n",
    "    hparams_file=\"../deep_traffic_generation/lightning_logs/tc_vae/version_0/hparams.yaml\",\n",
    "    x_dim = dataset.input_dim,\n",
    "    seq_len=dataset.seq_len,\n",
    "    scaler = dataset.scaler,\n",
    ")\n",
    "model.eval()"
   ]
  },
  {
   "cell_type": "code",
   "execution_count": 4,
   "id": "50e6f3ec",
   "metadata": {},
   "outputs": [
    {
     "data": {
      "text/plain": [
       "torch.Size([3968, 32])"
      ]
     },
     "execution_count": 4,
     "metadata": {},
     "output_type": "execute_result"
    }
   ],
   "source": [
    "z_loc, z_scale = model.encoder(torch.Tensor(dataset.dense))\n",
    "z_loc.size()"
   ]
  },
  {
   "cell_type": "code",
   "execution_count": 5,
   "id": "5e8502c8",
   "metadata": {},
   "outputs": [],
   "source": [
    "np.save(\"../deep_traffic_generation/data/z_loc.npy\", z_loc.detach().cpu().numpy())"
   ]
  },
  {
   "cell_type": "code",
   "execution_count": 6,
   "id": "62b7ca91",
   "metadata": {},
   "outputs": [],
   "source": [
    "z_loc = z_loc.detach().cpu().numpy()\n",
    "# z_scale = np.exp(z_scale.detach().cpu().numpy() / 2)"
   ]
  },
  {
   "cell_type": "code",
   "execution_count": 7,
   "id": "2e3eb7a6",
   "metadata": {},
   "outputs": [],
   "source": [
    "kde = KernelDensity(kernel=\"gaussian\", bandwidth=0.01).fit(z_loc)"
   ]
  },
  {
   "cell_type": "code",
   "execution_count": 8,
   "id": "91de71e1",
   "metadata": {},
   "outputs": [],
   "source": [
    "samples = kde.sample(20, random_state=42)\n",
    "samples = torch.Tensor(samples)"
   ]
  },
  {
   "cell_type": "code",
   "execution_count": 9,
   "id": "b90e1486",
   "metadata": {},
   "outputs": [],
   "source": [
    "# q = torch.distributions.Normal(z_loc[0], torch.exp(z_scale[0] / 2))\n",
    "# samples = q.rsample().unsqueeze(0) "
   ]
  },
  {
   "cell_type": "code",
   "execution_count": 10,
   "id": "91342ad5",
   "metadata": {},
   "outputs": [
    {
     "data": {
      "text/plain": [
       "torch.Size([20, 32])"
      ]
     },
     "execution_count": 10,
     "metadata": {},
     "output_type": "execute_result"
    }
   ],
   "source": [
    "samples.size()"
   ]
  },
  {
   "cell_type": "markdown",
   "id": "4bdd5a08",
   "metadata": {},
   "source": [
    "Find closest original trajectories"
   ]
  },
  {
   "cell_type": "code",
   "execution_count": 11,
   "id": "bf4b6a1b",
   "metadata": {},
   "outputs": [
    {
     "name": "stdout",
     "output_type": "stream",
     "text": [
      "X generated: (32, 20)\n",
      "X real: (32, 3968)\n"
     ]
    }
   ],
   "source": [
    "Xg = samples.numpy().T\n",
    "Xr = z_loc.T\n",
    "print(f\"X generated: {Xg.shape}\")\n",
    "print(f\"X real: {Xr.shape}\")"
   ]
  },
  {
   "cell_type": "code",
   "execution_count": 12,
   "id": "8dcdd433",
   "metadata": {},
   "outputs": [],
   "source": [
    "diff = (Xg[np.newaxis,...] - Xr[np.newaxis,...].T)\n",
    "D = np.sqrt((diff**2).sum(1)).T\n",
    "originals_idx = np.argmin(D, axis=1)"
   ]
  },
  {
   "cell_type": "code",
   "execution_count": 13,
   "id": "df03f344",
   "metadata": {},
   "outputs": [
    {
     "data": {
      "text/plain": [
       "torch.Size([20, 200, 4])"
      ]
     },
     "execution_count": 13,
     "metadata": {},
     "output_type": "execute_result"
    }
   ],
   "source": [
    "originals, _, info = dataset[originals_idx]\n",
    "originals = torch.transpose(originals, 1, 2)\n",
    "originals.size()"
   ]
  },
  {
   "cell_type": "code",
   "execution_count": 14,
   "id": "11d7933d",
   "metadata": {},
   "outputs": [],
   "source": [
    "data = originals.detach().numpy()\n",
    "data = data.reshape((data.shape[0], -1))\n",
    "data = dataset.scaler.inverse_transform(data)"
   ]
  },
  {
   "cell_type": "code",
   "execution_count": 15,
   "id": "a4e4a6b1",
   "metadata": {},
   "outputs": [
    {
     "data": {
      "text/html": [
       "<b>Traffic with 20 identifiers</b><style  type=\"text/css\" >\n",
       "#T_19c9b_row0_col0,#T_19c9b_row1_col0,#T_19c9b_row2_col0,#T_19c9b_row3_col0,#T_19c9b_row4_col0,#T_19c9b_row5_col0,#T_19c9b_row6_col0,#T_19c9b_row7_col0,#T_19c9b_row8_col0,#T_19c9b_row9_col0{\n",
       "            width:  10em;\n",
       "             height:  80%;\n",
       "            background:  linear-gradient(90deg,#5fba7d 100.0%, transparent 100.0%);\n",
       "        }</style><table id=\"T_19c9b_\" ><thead>    <tr>        <th class=\"blank level0\" ></th>        <th class=\"col_heading level0 col0\" >count</th>    </tr>    <tr>        <th class=\"index_name level0\" >flight_id</th>        <th class=\"blank\" ></th>    </tr></thead><tbody>\n",
       "                <tr>\n",
       "                        <th id=\"T_19c9b_level0_row0\" class=\"row_heading level0 row0\" >0</th>\n",
       "                        <td id=\"T_19c9b_row0_col0\" class=\"data row0 col0\" >200</td>\n",
       "            </tr>\n",
       "            <tr>\n",
       "                        <th id=\"T_19c9b_level0_row1\" class=\"row_heading level0 row1\" >1</th>\n",
       "                        <td id=\"T_19c9b_row1_col0\" class=\"data row1 col0\" >200</td>\n",
       "            </tr>\n",
       "            <tr>\n",
       "                        <th id=\"T_19c9b_level0_row2\" class=\"row_heading level0 row2\" >8</th>\n",
       "                        <td id=\"T_19c9b_row2_col0\" class=\"data row2 col0\" >200</td>\n",
       "            </tr>\n",
       "            <tr>\n",
       "                        <th id=\"T_19c9b_level0_row3\" class=\"row_heading level0 row3\" >7</th>\n",
       "                        <td id=\"T_19c9b_row3_col0\" class=\"data row3 col0\" >200</td>\n",
       "            </tr>\n",
       "            <tr>\n",
       "                        <th id=\"T_19c9b_level0_row4\" class=\"row_heading level0 row4\" >6</th>\n",
       "                        <td id=\"T_19c9b_row4_col0\" class=\"data row4 col0\" >200</td>\n",
       "            </tr>\n",
       "            <tr>\n",
       "                        <th id=\"T_19c9b_level0_row5\" class=\"row_heading level0 row5\" >5</th>\n",
       "                        <td id=\"T_19c9b_row5_col0\" class=\"data row5 col0\" >200</td>\n",
       "            </tr>\n",
       "            <tr>\n",
       "                        <th id=\"T_19c9b_level0_row6\" class=\"row_heading level0 row6\" >4</th>\n",
       "                        <td id=\"T_19c9b_row6_col0\" class=\"data row6 col0\" >200</td>\n",
       "            </tr>\n",
       "            <tr>\n",
       "                        <th id=\"T_19c9b_level0_row7\" class=\"row_heading level0 row7\" >3</th>\n",
       "                        <td id=\"T_19c9b_row7_col0\" class=\"data row7 col0\" >200</td>\n",
       "            </tr>\n",
       "            <tr>\n",
       "                        <th id=\"T_19c9b_level0_row8\" class=\"row_heading level0 row8\" >2</th>\n",
       "                        <td id=\"T_19c9b_row8_col0\" class=\"data row8 col0\" >200</td>\n",
       "            </tr>\n",
       "            <tr>\n",
       "                        <th id=\"T_19c9b_level0_row9\" class=\"row_heading level0 row9\" >19</th>\n",
       "                        <td id=\"T_19c9b_row9_col0\" class=\"data row9 col0\" >200</td>\n",
       "            </tr>\n",
       "    </tbody></table>"
      ],
      "text/plain": [
       "           count\n",
       "flight_id       \n",
       "0            200\n",
       "1            200\n",
       "8            200\n",
       "7            200\n",
       "6            200\n",
       "5            200\n",
       "4            200\n",
       "3            200\n",
       "2            200\n",
       "19           200"
      ]
     },
     "execution_count": 15,
     "metadata": {},
     "output_type": "execute_result"
    }
   ],
   "source": [
    "data = np.concatenate((info, data), axis=1)\n",
    "builder = model.get_builder(data.shape[0])\n",
    "features = [\n",
    "    \"track\" if \"track\" in f else f for f in model.hparams.features\n",
    "]\n",
    "traffic_original = traffic_from_data(\n",
    "    data, features, model.hparams.init_features, builder=builder\n",
    ")\n",
    "traffic_original"
   ]
  },
  {
   "cell_type": "code",
   "execution_count": 16,
   "id": "fbd2f86d",
   "metadata": {},
   "outputs": [
    {
     "data": {
      "text/plain": [
       "torch.Size([20, 200, 4])"
      ]
     },
     "execution_count": 16,
     "metadata": {},
     "output_type": "execute_result"
    }
   ],
   "source": [
    "outputs = model.decoder(samples)\n",
    "outputs = torch.transpose(outputs, 1, 2)\n",
    "outputs.size()"
   ]
  },
  {
   "cell_type": "code",
   "execution_count": 17,
   "id": "fa59b95c",
   "metadata": {},
   "outputs": [],
   "source": [
    "data = outputs.detach().numpy()\n",
    "data = data.reshape((data.shape[0], -1))\n",
    "data = dataset.scaler.inverse_transform(data)"
   ]
  },
  {
   "cell_type": "code",
   "execution_count": 18,
   "id": "9a86c311",
   "metadata": {},
   "outputs": [
    {
     "data": {
      "text/html": [
       "<b>Traffic with 20 identifiers</b><style  type=\"text/css\" >\n",
       "#T_7b69c_row0_col0,#T_7b69c_row1_col0,#T_7b69c_row2_col0,#T_7b69c_row3_col0,#T_7b69c_row4_col0,#T_7b69c_row5_col0,#T_7b69c_row6_col0,#T_7b69c_row7_col0,#T_7b69c_row8_col0,#T_7b69c_row9_col0{\n",
       "            width:  10em;\n",
       "             height:  80%;\n",
       "            background:  linear-gradient(90deg,#5fba7d 100.0%, transparent 100.0%);\n",
       "        }</style><table id=\"T_7b69c_\" ><thead>    <tr>        <th class=\"blank level0\" ></th>        <th class=\"col_heading level0 col0\" >count</th>    </tr>    <tr>        <th class=\"index_name level0\" >flight_id</th>        <th class=\"blank\" ></th>    </tr></thead><tbody>\n",
       "                <tr>\n",
       "                        <th id=\"T_7b69c_level0_row0\" class=\"row_heading level0 row0\" >0</th>\n",
       "                        <td id=\"T_7b69c_row0_col0\" class=\"data row0 col0\" >200</td>\n",
       "            </tr>\n",
       "            <tr>\n",
       "                        <th id=\"T_7b69c_level0_row1\" class=\"row_heading level0 row1\" >1</th>\n",
       "                        <td id=\"T_7b69c_row1_col0\" class=\"data row1 col0\" >200</td>\n",
       "            </tr>\n",
       "            <tr>\n",
       "                        <th id=\"T_7b69c_level0_row2\" class=\"row_heading level0 row2\" >8</th>\n",
       "                        <td id=\"T_7b69c_row2_col0\" class=\"data row2 col0\" >200</td>\n",
       "            </tr>\n",
       "            <tr>\n",
       "                        <th id=\"T_7b69c_level0_row3\" class=\"row_heading level0 row3\" >7</th>\n",
       "                        <td id=\"T_7b69c_row3_col0\" class=\"data row3 col0\" >200</td>\n",
       "            </tr>\n",
       "            <tr>\n",
       "                        <th id=\"T_7b69c_level0_row4\" class=\"row_heading level0 row4\" >6</th>\n",
       "                        <td id=\"T_7b69c_row4_col0\" class=\"data row4 col0\" >200</td>\n",
       "            </tr>\n",
       "            <tr>\n",
       "                        <th id=\"T_7b69c_level0_row5\" class=\"row_heading level0 row5\" >5</th>\n",
       "                        <td id=\"T_7b69c_row5_col0\" class=\"data row5 col0\" >200</td>\n",
       "            </tr>\n",
       "            <tr>\n",
       "                        <th id=\"T_7b69c_level0_row6\" class=\"row_heading level0 row6\" >4</th>\n",
       "                        <td id=\"T_7b69c_row6_col0\" class=\"data row6 col0\" >200</td>\n",
       "            </tr>\n",
       "            <tr>\n",
       "                        <th id=\"T_7b69c_level0_row7\" class=\"row_heading level0 row7\" >3</th>\n",
       "                        <td id=\"T_7b69c_row7_col0\" class=\"data row7 col0\" >200</td>\n",
       "            </tr>\n",
       "            <tr>\n",
       "                        <th id=\"T_7b69c_level0_row8\" class=\"row_heading level0 row8\" >2</th>\n",
       "                        <td id=\"T_7b69c_row8_col0\" class=\"data row8 col0\" >200</td>\n",
       "            </tr>\n",
       "            <tr>\n",
       "                        <th id=\"T_7b69c_level0_row9\" class=\"row_heading level0 row9\" >19</th>\n",
       "                        <td id=\"T_7b69c_row9_col0\" class=\"data row9 col0\" >200</td>\n",
       "            </tr>\n",
       "    </tbody></table>"
      ],
      "text/plain": [
       "           count\n",
       "flight_id       \n",
       "0            200\n",
       "1            200\n",
       "8            200\n",
       "7            200\n",
       "6            200\n",
       "5            200\n",
       "4            200\n",
       "3            200\n",
       "2            200\n",
       "19           200"
      ]
     },
     "execution_count": 18,
     "metadata": {},
     "output_type": "execute_result"
    }
   ],
   "source": [
    "# add latitude longitude info\n",
    "data = np.concatenate((info, data), axis=1)\n",
    "builder = model.get_builder(data.shape[0])\n",
    "features = [\n",
    "    \"track\" if \"track\" in f else f for f in model.hparams.features\n",
    "]\n",
    "traffic_generated = traffic_from_data(\n",
    "    data, features, model.hparams.init_features, builder=builder\n",
    ")\n",
    "traffic_generated"
   ]
  },
  {
   "cell_type": "code",
   "execution_count": 22,
   "id": "a560b3f5",
   "metadata": {},
   "outputs": [
    {
     "data": {
      "image/png": "[encoded data removed]",
      "text/plain": [
       "<Figure size 720x504 with 2 Axes>"
      ]
     },
     "metadata": {},
     "output_type": "display_data"
    }
   ],
   "source": [
    "flight_id = 5\n",
    "generated = traffic_generated[str(flight_id)]\n",
    "original = traffic_original[str(flight_id)]\n",
    "\n",
    "with plt.style.context(\"traffic\"):\n",
    "    fig, ax = plt.subplots(1, 2, subplot_kw=dict(projection=EuroPP()))\n",
    "    ax[0].set_title(\"Closest original\")\n",
    "    original.plot(ax[0])\n",
    "    ax[1].set_title(\"Generated\")\n",
    "    generated.plot(ax[1])\n",
    "    # traffic_original[str(0)].plot(ax[1])\n",
    "\n",
    "    plt.show()"
   ]
  }
 ],
 "metadata": {
  "kernelspec": {
   "display_name": "Python 3.8.3 64-bit ('traffic': conda)",
   "language": "python",
   "name": "python38364bittrafficcondac883b0b6a9534c18ae7c8771421dfabd"
  },
  "language_info": {
   "codemirror_mode": {
    "name": "ipython",
    "version": 3
   },
   "file_extension": ".py",
   "mimetype": "text/x-python",
   "name": "python",
   "nbconvert_exporter": "python",
   "pygments_lexer": "ipython3",
   "version": "3.8.8"
  }
 },
 "nbformat": 4,
 "nbformat_minor": 5
}
