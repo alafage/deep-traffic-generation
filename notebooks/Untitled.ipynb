{
 "cells": [
  {
   "cell_type": "code",
   "execution_count": 1,
   "id": "eeac5831",
   "metadata": {},
   "outputs": [],
   "source": [
    "import numpy as np\n",
    "import torch\n",
    "\n",
    "from sklearn.preprocessing import MinMaxScaler\n",
    "from deep_traffic_generation.core.transforms import PyTMinMaxScaler"
   ]
  },
  {
   "cell_type": "code",
   "execution_count": 2,
   "id": "5e4d03cf",
   "metadata": {},
   "outputs": [
    {
     "name": "stderr",
     "output_type": "stream",
     "text": [
      "/home/adrien/.conda/envs/traffic/lib/python3.8/site-packages/ipykernel/ipkernel.py:283: DeprecationWarning: `should_run_async` will not call `transform_cell` automatically in the future. Please pass the result to `transformed_cell` argument and any exception that happen during thetransform in `preprocessing_exc_tuple` in IPython 7.17 and above.\n",
      "  and should_run_async(code)\n"
     ]
    },
    {
     "data": {
      "text/plain": [
       "array([[0., 0., 0.],\n",
       "       [1., 1., 0.],\n",
       "       [2., 2., 0.],\n",
       "       [3., 3., 0.],\n",
       "       [4., 4., 0.]])"
      ]
     },
     "execution_count": 2,
     "metadata": {},
     "output_type": "execute_result"
    }
   ],
   "source": [
    "X = np.array([\n",
    "    [i, i, 0.0] for i in range(5)\n",
    "])\n",
    "X"
   ]
  },
  {
   "cell_type": "code",
   "execution_count": 3,
   "id": "4d9bae12",
   "metadata": {},
   "outputs": [
    {
     "data": {
      "text/plain": [
       "array([[0, 2],\n",
       "       [1, 3]])"
      ]
     },
     "execution_count": 3,
     "metadata": {},
     "output_type": "execute_result"
    }
   ],
   "source": [
    "nav = np.array([\n",
    "    [i, i+2] for i in range(2)\n",
    "])\n",
    "nav"
   ]
  },
  {
   "cell_type": "code",
   "execution_count": 4,
   "id": "95425c6a",
   "metadata": {},
   "outputs": [],
   "source": [
    "x1 = X[:, 0, np.newaxis]\n",
    "y1 = X[:, 1, np.newaxis]\n",
    "tracks = X[:, 2, np.newaxis]\n",
    "\n",
    "x2 = nav[:, 0]\n",
    "y2 = nav[:, 1]"
   ]
  },
  {
   "cell_type": "code",
   "execution_count": 15,
   "id": "2d50da7e",
   "metadata": {},
   "outputs": [
    {
     "data": {
      "text/plain": [
       "array([[ 0.        ,  0.32175055],\n",
       "       [-0.78539816,  0.        ],\n",
       "       [-1.57079633, -0.78539816],\n",
       "       [-1.89254688, -1.57079633],\n",
       "       [-2.03444394, -1.89254688]])"
      ]
     },
     "execution_count": 15,
     "metadata": {},
     "output_type": "execute_result"
    }
   ],
   "source": [
    "bearings = np.arctan2(x2-x1,y2-y1) * 180 / np.pi\n",
    "bearings"
   ]
  },
  {
   "cell_type": "code",
   "execution_count": 6,
   "id": "44a5f81b",
   "metadata": {},
   "outputs": [
    {
     "data": {
      "text/plain": [
       "array([0, 1, 1, 1, 1])"
      ]
     },
     "execution_count": 6,
     "metadata": {},
     "output_type": "execute_result"
    }
   ],
   "source": [
    "np.argmin(abs(tracks-bearings), axis=1)"
   ]
  },
  {
   "cell_type": "code",
   "execution_count": 7,
   "id": "a88d6553",
   "metadata": {},
   "outputs": [
    {
     "data": {
      "text/plain": [
       "array([  0.        ,   0.        ,  45.        ,  90.        ,\n",
       "       108.43494882])"
      ]
     },
     "execution_count": 7,
     "metadata": {},
     "output_type": "execute_result"
    }
   ],
   "source": [
    "np.min(abs(tracks-bearings), axis=1)"
   ]
  },
  {
   "cell_type": "markdown",
   "id": "776eb402",
   "metadata": {},
   "source": [
    "_________________"
   ]
  },
  {
   "cell_type": "code",
   "execution_count": 8,
   "id": "519165f1",
   "metadata": {},
   "outputs": [
    {
     "data": {
      "text/plain": [
       "array([[-1. , -1. , -1. ],\n",
       "       [-0.5, -0.5, -1. ],\n",
       "       [ 0. ,  0. , -1. ],\n",
       "       [ 0.5,  0.5, -1. ],\n",
       "       [ 1. ,  1. , -1. ]])"
      ]
     },
     "execution_count": 8,
     "metadata": {},
     "output_type": "execute_result"
    }
   ],
   "source": [
    "scaler = MinMaxScaler(feature_range=(-1, 1)).fit(X)\n",
    "X_scaled = scaler.transform(X)\n",
    "X_scaled"
   ]
  },
  {
   "cell_type": "code",
   "execution_count": 9,
   "id": "c2258428",
   "metadata": {},
   "outputs": [
    {
     "name": "stderr",
     "output_type": "stream",
     "text": [
      "/home/adrien/.conda/envs/traffic/lib/python3.8/site-packages/ipykernel/ipkernel.py:283: DeprecationWarning: `should_run_async` will not call `transform_cell` automatically in the future. Please pass the result to `transformed_cell` argument and any exception that happen during thetransform in `preprocessing_exc_tuple` in IPython 7.17 and above.\n",
      "  and should_run_async(code)\n"
     ]
    },
    {
     "data": {
      "text/plain": [
       "tensor([[0., 0., 0.],\n",
       "        [1., 1., 0.],\n",
       "        [2., 2., 0.],\n",
       "        [3., 3., 0.],\n",
       "        [4., 4., 0.]], dtype=torch.float64)"
      ]
     },
     "execution_count": 9,
     "metadata": {},
     "output_type": "execute_result"
    }
   ],
   "source": [
    "X_t = torch.from_numpy(X)\n",
    "X_t"
   ]
  },
  {
   "cell_type": "code",
   "execution_count": 10,
   "id": "cf4c8601",
   "metadata": {},
   "outputs": [
    {
     "data": {
      "text/plain": [
       "tensor([[-1.0000, -1.0000, -1.0000],\n",
       "        [-0.5000, -0.5000, -1.0000],\n",
       "        [ 0.0000,  0.0000, -1.0000],\n",
       "        [ 0.5000,  0.5000, -1.0000],\n",
       "        [ 1.0000,  1.0000, -1.0000]], dtype=torch.float64,\n",
       "       grad_fn=<AddBackward0>)"
      ]
     },
     "execution_count": 10,
     "metadata": {},
     "output_type": "execute_result"
    }
   ],
   "source": [
    "X_t.requires_grad_()\n",
    "scaler = PyTMinMaxScaler(feature_range=(-1, 1)).fit(X_t)\n",
    "X_t = scaler.transform(X_t)\n",
    "X_t"
   ]
  },
  {
   "cell_type": "code",
   "execution_count": 11,
   "id": "32fe287d",
   "metadata": {},
   "outputs": [
    {
     "data": {
      "text/plain": [
       "tensor([[0., 0., 0.],\n",
       "        [1., 1., 0.],\n",
       "        [2., 2., 0.],\n",
       "        [3., 3., 0.],\n",
       "        [4., 4., 0.]], dtype=torch.float64, grad_fn=<DivBackward0>)"
      ]
     },
     "execution_count": 11,
     "metadata": {},
     "output_type": "execute_result"
    }
   ],
   "source": [
    "scaler.inverse_transform(X_t)"
   ]
  },
  {
   "cell_type": "code",
   "execution_count": 12,
   "id": "a6a03e1f",
   "metadata": {},
   "outputs": [
    {
     "data": {
      "text/plain": [
       "tensor([[-1.0000,  0.0000],\n",
       "        [-0.5000,  0.5000]], dtype=torch.float64, grad_fn=<AddBackward0>)"
      ]
     },
     "execution_count": 12,
     "metadata": {},
     "output_type": "execute_result"
    }
   ],
   "source": [
    "scaler.partial_transform(torch.from_numpy(nav), idxs=np.where(np.isin([\"x\", \"y\", \"track\"], [\"x\", \"y\"]))[0])"
   ]
  },
  {
   "cell_type": "code",
   "execution_count": 13,
   "id": "834ae886",
   "metadata": {},
   "outputs": [
    {
     "data": {
      "text/plain": [
       "tensor([[-1.0000, -1.0000,  0.0000],\n",
       "        [-0.5000, -0.5000,  0.0000],\n",
       "        [ 0.0000,  0.0000,  0.0000],\n",
       "        [ 0.5000,  0.5000,  0.0000],\n",
       "        [ 1.0000,  1.0000,  0.0000]], dtype=torch.float64,\n",
       "       grad_fn=<CopySlices>)"
      ]
     },
     "execution_count": 13,
     "metadata": {},
     "output_type": "execute_result"
    }
   ],
   "source": [
    "X_t[:, 2] = scaler.partial_inverse(X_t[:, 2], idxs=2)\n",
    "X_t"
   ]
  },
  {
   "cell_type": "code",
   "execution_count": 14,
   "id": "fe6bd5fa",
   "metadata": {},
   "outputs": [
    {
     "data": {
      "text/plain": [
       "tensor([[-1.0000, -1.0000,  0.0000],\n",
       "        [-0.5000, -0.5000,  0.0000],\n",
       "        [ 0.0000,  0.0000,  0.0000],\n",
       "        [ 0.5000,  0.5000,  0.0000],\n",
       "        [ 1.0000,  1.0000,  0.0000]], dtype=torch.float64,\n",
       "       grad_fn=<CopySlices>)"
      ]
     },
     "execution_count": 14,
     "metadata": {},
     "output_type": "execute_result"
    }
   ],
   "source": [
    "X_t"
   ]
  }
 ],
 "metadata": {
  "kernelspec": {
   "display_name": "Python 3.8.3 64-bit ('traffic': conda)",
   "language": "python",
   "name": "python38364bittrafficcondac883b0b6a9534c18ae7c8771421dfabd"
  },
  "language_info": {
   "codemirror_mode": {
    "name": "ipython",
    "version": 3
   },
   "file_extension": ".py",
   "mimetype": "text/x-python",
   "name": "python",
   "nbconvert_exporter": "python",
   "pygments_lexer": "ipython3",
   "version": "3.8.8"
  }
 },
 "nbformat": 4,
 "nbformat_minor": 5
}
