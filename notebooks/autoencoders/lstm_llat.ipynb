{
 "cells": [
  {
   "cell_type": "code",
   "execution_count": 1,
   "source": [
    "from deep_traffic_generation.rae import RAE\n",
    "from deep_traffic_generation.core.datasets import TrafficDataset\n",
    "from deep_traffic_generation.core.utils import traffic_from_data\n",
    "\n",
    "from sklearn.preprocessing import MinMaxScaler\n",
    "from sklearn.manifold import TSNE\n",
    "\n",
    "import matplotlib.pyplot as plt\n",
    "import numpy as np\n",
    "\n",
    "from traffic.core.projection import EuroPP\n",
    "\n",
    "import torch\n",
    "\n",
    "import warnings\n",
    "warnings.filterwarnings(\"ignore\")"
   ],
   "outputs": [],
   "metadata": {}
  },
  {
   "cell_type": "code",
   "execution_count": 2,
   "source": [
    "dataset = TrafficDataset.from_file(\n",
    "    \"../../deep_traffic_generation/data/traffic_15.pkl\",\n",
    "    features=[\"latitude\", \"longitude\", \"altitude\", \"timedelta\"],\n",
    "    scaler=MinMaxScaler(feature_range=(-1,1)),\n",
    "    shape=\"sequence\",\n",
    ")\n",
    "dataset"
   ],
   "outputs": [
    {
     "output_type": "execute_result",
     "data": {
      "text/plain": [
       "Dataset TrafficDataset\n",
       "    Number of datapoints: 3968\n",
       "    MinMaxScaler(feature_range=(-1, 1))"
      ]
     },
     "metadata": {},
     "execution_count": 2
    }
   ],
   "metadata": {}
  },
  {
   "cell_type": "code",
   "execution_count": 3,
   "source": [
    "model = RAE.load_from_checkpoint(\n",
    "    \"../../deep_traffic_generation/lightning_logs/rae/version_0/checkpoints/epoch=91-step=275.ckpt\",\n",
    "    hparams_file=\"../../deep_traffic_generation/lightning_logs/rae/version_0/hparams.yaml\",\n",
    "    dataset_params=dataset.parameters,\n",
    ")\n",
    "model.eval()"
   ],
   "outputs": [
    {
     "output_type": "execute_result",
     "data": {
      "text/plain": [
       "RAE(\n",
       "  (encoder): RNN(\n",
       "    (layers): ModuleList(\n",
       "      (0): LSTM(4, 64, batch_first=True)\n",
       "      (1): LSTM(64, 32, batch_first=True)\n",
       "      (2): LSTM(32, 16, batch_first=True)\n",
       "    )\n",
       "  )\n",
       "  (decoder): RNN(\n",
       "    (layers): ModuleList(\n",
       "      (0): LSTM(16, 16, batch_first=True)\n",
       "      (1): LSTM(16, 32, batch_first=True)\n",
       "      (2): LSTM(32, 64, batch_first=True)\n",
       "      (3): LSTM(64, 4, batch_first=True)\n",
       "    )\n",
       "  )\n",
       "  (out_activ): Tanh()\n",
       ")"
      ]
     },
     "metadata": {},
     "execution_count": 3
    }
   ],
   "metadata": {}
  },
  {
   "cell_type": "code",
   "execution_count": 4,
   "source": [
    "_, (h, _) = model.encoder(dataset.data)\n",
    "z = h.squeeze(0)\n",
    "z.size()"
   ],
   "outputs": [
    {
     "output_type": "execute_result",
     "data": {
      "text/plain": [
       "torch.Size([3968, 16])"
      ]
     },
     "metadata": {},
     "execution_count": 4
    }
   ],
   "metadata": {}
  },
  {
   "cell_type": "code",
   "execution_count": 5,
   "source": [
    "z_array = z.detach().cpu().numpy()\n",
    "z_array.shape"
   ],
   "outputs": [
    {
     "output_type": "execute_result",
     "data": {
      "text/plain": [
       "(3968, 16)"
      ]
     },
     "metadata": {},
     "execution_count": 5
    }
   ],
   "metadata": {}
  },
  {
   "cell_type": "code",
   "execution_count": 6,
   "source": [
    "z_embedded = TSNE(n_components=2).fit_transform(z_array)\n",
    "z_embedded.shape"
   ],
   "outputs": [
    {
     "output_type": "execute_result",
     "data": {
      "text/plain": [
       "(3968, 2)"
      ]
     },
     "metadata": {},
     "execution_count": 6
    }
   ],
   "metadata": {}
  },
  {
   "cell_type": "code",
   "execution_count": 7,
   "source": [
    "plt.scatter(z_embedded[:, 0], z_embedded[:, 1], s=4)\n",
    "plt.show()"
   ],
   "outputs": [
    {
     "output_type": "display_data",
     "data": {
      "image/png": "[encoded data removed]",
      "text/plain": [
       "<Figure size 432x288 with 1 Axes>"
      ]
     },
     "metadata": {
      "needs_background": "light"
     }
    }
   ],
   "metadata": {}
  },
  {
   "cell_type": "code",
   "execution_count": 8,
   "source": [
    "x, _ = dataset[0]\n",
    "x = x.unsqueeze(0)\n",
    "z, x_hat = model(x)"
   ],
   "outputs": [],
   "metadata": {}
  },
  {
   "cell_type": "code",
   "execution_count": 9,
   "source": [
    "x.size()"
   ],
   "outputs": [
    {
     "output_type": "execute_result",
     "data": {
      "text/plain": [
       "torch.Size([1, 200, 4])"
      ]
     },
     "metadata": {},
     "execution_count": 9
    }
   ],
   "metadata": {}
  },
  {
   "cell_type": "code",
   "execution_count": 10,
   "source": [
    "x_hat.size()"
   ],
   "outputs": [
    {
     "output_type": "execute_result",
     "data": {
      "text/plain": [
       "torch.Size([1, 200, 4])"
      ]
     },
     "metadata": {},
     "execution_count": 10
    }
   ],
   "metadata": {}
  },
  {
   "cell_type": "code",
   "execution_count": 11,
   "source": [
    "z.size()"
   ],
   "outputs": [
    {
     "output_type": "execute_result",
     "data": {
      "text/plain": [
       "torch.Size([1, 16])"
      ]
     },
     "metadata": {},
     "execution_count": 11
    }
   ],
   "metadata": {}
  },
  {
   "cell_type": "code",
   "execution_count": 12,
   "source": [
    "data = np.concatenate((x.numpy(), x_hat.detach().numpy()))\n",
    "data = data.reshape((data.shape[0], -1))\n",
    "data = dataset.scaler.inverse_transform(data)\n",
    "data.shape"
   ],
   "outputs": [
    {
     "output_type": "execute_result",
     "data": {
      "text/plain": [
       "(2, 800)"
      ]
     },
     "metadata": {},
     "execution_count": 12
    }
   ],
   "metadata": {}
  },
  {
   "cell_type": "code",
   "execution_count": 13,
   "source": [
    "builder = model.get_builder(data.shape[0], dataset.seq_len)\n",
    "features = [\n",
    "    \"track\" if \"track\" in f else f for f in model.hparams.features\n",
    "]\n",
    "traffic = traffic_from_data(\n",
    "    data, features, model.dataset_params[\"info_params\"][\"features\"], builder=builder\n",
    ")\n",
    "traffic"
   ],
   "outputs": [
    {
     "output_type": "execute_result",
     "data": {
      "text/html": [
       "<b>Traffic with 2 identifiers</b><style type=\"text/css\">\n",
       "#T_ce6ab_row0_col0, #T_ce6ab_row1_col0 {\n",
       "  width: 10em;\n",
       "  height: 80%;\n",
       "  background: linear-gradient(90deg,#5fba7d 100.0%, transparent 100.0%);\n",
       "}\n",
       "</style>\n",
       "<table id=\"T_ce6ab_\">\n",
       "  <thead>\n",
       "    <tr>\n",
       "      <th class=\"blank level0\" >&nbsp;</th>\n",
       "      <th class=\"col_heading level0 col0\" >count</th>\n",
       "    </tr>\n",
       "    <tr>\n",
       "      <th class=\"index_name level0\" >flight_id</th>\n",
       "      <th class=\"blank col0\" >&nbsp;</th>\n",
       "    </tr>\n",
       "  </thead>\n",
       "  <tbody>\n",
       "    <tr>\n",
       "      <th id=\"T_ce6ab_level0_row0\" class=\"row_heading level0 row0\" >TRAJ_0</th>\n",
       "      <td id=\"T_ce6ab_row0_col0\" class=\"data row0 col0\" >200</td>\n",
       "    </tr>\n",
       "    <tr>\n",
       "      <th id=\"T_ce6ab_level0_row1\" class=\"row_heading level0 row1\" >TRAJ_1</th>\n",
       "      <td id=\"T_ce6ab_row1_col0\" class=\"data row1 col0\" >200</td>\n",
       "    </tr>\n",
       "  </tbody>\n",
       "</table>\n"
      ],
      "text/plain": [
       "           count\n",
       "flight_id       \n",
       "TRAJ_0       200\n",
       "TRAJ_1       200"
      ]
     },
     "metadata": {},
     "execution_count": 13
    }
   ],
   "metadata": {}
  },
  {
   "cell_type": "code",
   "execution_count": 14,
   "source": [
    "with plt.style.context(\"traffic\"):\n",
    "    fig, ax = plt.subplots(1, 2, subplot_kw=dict(projection=EuroPP()))\n",
    "    ax[0].set_title(\"Comparison\")\n",
    "    traffic[1].plot(ax[0], c=\"orange\", label=\"reconstructed\")\n",
    "    traffic[0].plot(ax[0], c=\"purple\", label=\"original\")\n",
    "    ax[1].set_title(\"Reconstructed\")\n",
    "    traffic[1].plot(ax[1])\n",
    "\n",
    "    plt.show()"
   ],
   "outputs": [
    {
     "output_type": "display_data",
     "data": {
      "image/png": "[encoded data removed]",
      "text/plain": [
       "<Figure size 720x504 with 2 Axes>"
      ]
     },
     "metadata": {}
    }
   ],
   "metadata": {}
  }
 ],
 "metadata": {
  "kernelspec": {
   "name": "python3",
   "display_name": "Python 3.9.7 64-bit ('traffic': conda)"
  },
  "language_info": {
   "codemirror_mode": {
    "name": "ipython",
    "version": 3
   },
   "file_extension": ".py",
   "mimetype": "text/x-python",
   "name": "python",
   "nbconvert_exporter": "python",
   "pygments_lexer": "ipython3",
   "version": "3.9.7"
  },
  "interpreter": {
   "hash": "02563796408177ab037e9c9552899dd2474eb5fce04f93794f3dc7996f461bbb"
  }
 },
 "nbformat": 4,
 "nbformat_minor": 5
}