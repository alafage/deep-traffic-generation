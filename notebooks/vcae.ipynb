{
 "cells": [
  {
   "cell_type": "markdown",
   "id": "e8903f38",
   "metadata": {},
   "source": [
    "# Vine Copula Auto-encoder\n",
    "\n",
    "This notebook presents a vine copula auto-encoder ([paper](https://arxiv.org/abs/1906.05423)) for trajectory generation.\n",
    "\n",
    "The basic idea is to learn the distribution in the latent space of a pre-trained auto-encoder using a vine copula.\n",
    "Sampling from the vine to feed the auto-encoder's decoder will produce new trajectories."
   ]
  },
  {
   "cell_type": "code",
   "execution_count": 1,
   "id": "8ee1f4fb",
   "metadata": {},
   "outputs": [
    {
     "name": "stderr",
     "output_type": "stream",
     "text": [
      "/home/adrien/.conda/envs/traffic/lib/python3.8/site-packages/numba/core/types/__init__.py:108: DeprecationWarning: `np.long` is a deprecated alias for `np.compat.long`. To silence this warning, use `np.compat.long` by itself. In the likely event your code does not need to work on Python 2 you can use the builtin `int` for which `np.compat.long` is itself an alias. Doing this will not modify any behaviour and is safe. When replacing `np.long`, you may wish to use e.g. `np.int64` or `np.int32` to specify the precision. If you wish to review your current use, check the release note link for additional information.\n",
      "Deprecated in NumPy 1.20; for more details and guidance: https://numpy.org/devdocs/release/1.20.0-notes.html#deprecations\n",
      "  long_ = _make_signed(np.long)\n",
      "/home/adrien/.conda/envs/traffic/lib/python3.8/site-packages/numba/cuda/api.py:118: DeprecationWarning: `np.float` is a deprecated alias for the builtin `float`. To silence this warning, use `float` by itself. Doing this will not modify any behavior and is safe. If you specifically wanted the numpy scalar type, use `np.float64` here.\n",
      "Deprecated in NumPy 1.20; for more details and guidance: https://numpy.org/devdocs/release/1.20.0-notes.html#deprecations\n",
      "  def device_array(shape, dtype=np.float, strides=None, order='C', stream=0):\n",
      "/home/adrien/.conda/envs/traffic/lib/python3.8/site-packages/numba/cuda/simulator/cudadrv/devicearray.py:271: DeprecationWarning: `np.float` is a deprecated alias for the builtin `float`. To silence this warning, use `float` by itself. Doing this will not modify any behavior and is safe. If you specifically wanted the numpy scalar type, use `np.float64` here.\n",
      "Deprecated in NumPy 1.20; for more details and guidance: https://numpy.org/devdocs/release/1.20.0-notes.html#deprecations\n",
      "  def pinned_array(shape, dtype=np.float, strides=None, order='C'):\n"
     ]
    }
   ],
   "source": [
    "import altair as alt\n",
    "\n",
    "from deep_traffic_generation.tc_vae import TCVAE\n",
    "from deep_traffic_generation.core.datasets import TrafficDataset\n",
    "\n",
    "from sklearn.preprocessing import MinMaxScaler\n",
    "from sklearn.manifold import TSNE\n",
    "\n",
    "import pyvinecopulib as pv\n",
    "\n",
    "import matplotlib.pyplot as plt\n",
    "import numpy as np\n",
    "\n",
    "from traffic.core.projection import EuroPP\n",
    "\n",
    "import torch\n",
    "\n",
    "from deep_traffic_generation.core.utils import traffic_from_data\n",
    "\n",
    "import warnings\n",
    "warnings.filterwarnings(\"ignore\")\n",
    "\n",
    "torch.manual_seed(42)\n",
    "np.random.seed(42)"
   ]
  },
  {
   "cell_type": "markdown",
   "id": "5cca43eb",
   "metadata": {},
   "source": [
    "Data Loading"
   ]
  },
  {
   "cell_type": "code",
   "execution_count": 2,
   "id": "8f120dbc",
   "metadata": {},
   "outputs": [
    {
     "data": {
      "text/plain": [
       "Dataset TrafficDataset\n",
       "    Number of datapoints: 3968\n",
       "    MinMaxScaler(feature_range=(-1, 1))"
      ]
     },
     "execution_count": 2,
     "metadata": {},
     "output_type": "execute_result"
    }
   ],
   "source": [
    "dataset = TrafficDataset.from_file(\n",
    "    \"../deep_traffic_generation/data/traffic_15.pkl\",\n",
    "    features=[\"track_unwrapped\", \"groundspeed\", \"altitude\", \"timedelta\"],\n",
    "    init_features=[\"latitude\", \"longitude\"],\n",
    "    scaler=MinMaxScaler(feature_range=(-1, 1)),\n",
    "    shape=\"image\",\n",
    ")\n",
    "dataset"
   ]
  },
  {
   "cell_type": "markdown",
   "id": "02a1635c",
   "metadata": {},
   "source": [
    "Model Loading"
   ]
  },
  {
   "cell_type": "code",
   "execution_count": 3,
   "id": "a9bc7182",
   "metadata": {},
   "outputs": [
    {
     "data": {
      "text/plain": [
       "TCVAE(\n",
       "  (encoder): TCEncoder(\n",
       "    (encoder): Sequential(\n",
       "      (0): TCN(\n",
       "        (network): Sequential(\n",
       "          (0): ResidualBlock(\n",
       "            (tmp_block1): TemporalBlock(\n",
       "              (conv): Conv1d(4, 16, kernel_size=(16,), stride=(1,))\n",
       "              (dropout): Dropout(p=0.0, inplace=False)\n",
       "            )\n",
       "            (tmp_block2): TemporalBlock(\n",
       "              (conv): Conv1d(16, 16, kernel_size=(16,), stride=(1,))\n",
       "              (dropout): Dropout(p=0.0, inplace=False)\n",
       "            )\n",
       "            (downsample): Conv1d(4, 16, kernel_size=(1,), stride=(1,))\n",
       "          )\n",
       "          (1): ResidualBlock(\n",
       "            (tmp_block1): TemporalBlock(\n",
       "              (conv): Conv1d(16, 16, kernel_size=(16,), stride=(1,), dilation=(2,))\n",
       "              (dropout): Dropout(p=0.0, inplace=False)\n",
       "            )\n",
       "            (tmp_block2): TemporalBlock(\n",
       "              (conv): Conv1d(16, 16, kernel_size=(16,), stride=(1,), dilation=(2,))\n",
       "              (dropout): Dropout(p=0.0, inplace=False)\n",
       "            )\n",
       "          )\n",
       "          (2): ResidualBlock(\n",
       "            (tmp_block1): TemporalBlock(\n",
       "              (conv): Conv1d(16, 16, kernel_size=(16,), stride=(1,), dilation=(4,))\n",
       "              (dropout): Dropout(p=0.0, inplace=False)\n",
       "            )\n",
       "            (tmp_block2): TemporalBlock(\n",
       "              (conv): Conv1d(16, 16, kernel_size=(16,), stride=(1,), dilation=(4,))\n",
       "              (dropout): Dropout(p=0.0, inplace=False)\n",
       "            )\n",
       "          )\n",
       "        )\n",
       "      )\n",
       "      (1): AvgPool1d(kernel_size=(10,), stride=(10,), padding=(0,))\n",
       "    )\n",
       "    (z_loc): Linear(in_features=320, out_features=32, bias=True)\n",
       "    (z_log_var): Linear(in_features=320, out_features=32, bias=True)\n",
       "  )\n",
       "  (decoder): TCDecoder(\n",
       "    (decode_entry): Linear(in_features=32, out_features=320, bias=True)\n",
       "    (decoder): Sequential(\n",
       "      (0): Upsample(scale_factor=10.0, mode=nearest)\n",
       "      (1): TCN(\n",
       "        (network): Sequential(\n",
       "          (0): ResidualBlock(\n",
       "            (tmp_block1): TemporalBlock(\n",
       "              (conv): Conv1d(16, 16, kernel_size=(16,), stride=(1,))\n",
       "              (dropout): Dropout(p=0.0, inplace=False)\n",
       "            )\n",
       "            (tmp_block2): TemporalBlock(\n",
       "              (conv): Conv1d(16, 16, kernel_size=(16,), stride=(1,))\n",
       "              (dropout): Dropout(p=0.0, inplace=False)\n",
       "            )\n",
       "          )\n",
       "          (1): ResidualBlock(\n",
       "            (tmp_block1): TemporalBlock(\n",
       "              (conv): Conv1d(16, 16, kernel_size=(16,), stride=(1,), dilation=(2,))\n",
       "              (dropout): Dropout(p=0.0, inplace=False)\n",
       "            )\n",
       "            (tmp_block2): TemporalBlock(\n",
       "              (conv): Conv1d(16, 16, kernel_size=(16,), stride=(1,), dilation=(2,))\n",
       "              (dropout): Dropout(p=0.0, inplace=False)\n",
       "            )\n",
       "          )\n",
       "          (2): ResidualBlock(\n",
       "            (tmp_block1): TemporalBlock(\n",
       "              (conv): Conv1d(16, 4, kernel_size=(16,), stride=(1,), dilation=(4,))\n",
       "              (dropout): Dropout(p=0.0, inplace=False)\n",
       "            )\n",
       "            (tmp_block2): TemporalBlock(\n",
       "              (conv): Conv1d(4, 4, kernel_size=(16,), stride=(1,), dilation=(4,))\n",
       "              (dropout): Dropout(p=0.0, inplace=False)\n",
       "            )\n",
       "            (downsample): Conv1d(16, 4, kernel_size=(1,), stride=(1,))\n",
       "          )\n",
       "        )\n",
       "      )\n",
       "    )\n",
       "  )\n",
       "  (out_activ): LinearAct()\n",
       ")"
      ]
     },
     "execution_count": 3,
     "metadata": {},
     "output_type": "execute_result"
    }
   ],
   "source": [
    "model = TCVAE.load_from_checkpoint(\n",
    "    \"../deep_traffic_generation/lightning_logs/tc_vae/version_0/checkpoints/epoch=2663-step=7991.ckpt\",\n",
    "    hparams_file=\"../deep_traffic_generation/lightning_logs/tc_vae/version_0/hparams.yaml\",\n",
    "    x_dim = dataset.input_dim,\n",
    "    seq_len=dataset.seq_len,\n",
    "    scaler = dataset.scaler,\n",
    "    navpts = dataset.navpts,\n",
    ")\n",
    "model.eval()"
   ]
  },
  {
   "cell_type": "markdown",
   "id": "0cb926f8",
   "metadata": {},
   "source": [
    "Compute representation in latent space for every trajectories"
   ]
  },
  {
   "cell_type": "code",
   "execution_count": 4,
   "id": "50e6f3ec",
   "metadata": {},
   "outputs": [
    {
     "data": {
      "text/plain": [
       "torch.Size([3968, 32])"
      ]
     },
     "execution_count": 4,
     "metadata": {},
     "output_type": "execute_result"
    }
   ],
   "source": [
    "z, _ = model.encoder(torch.Tensor(dataset.dense))\n",
    "z.size()"
   ]
  },
  {
   "cell_type": "code",
   "execution_count": 5,
   "id": "62b7ca91",
   "metadata": {},
   "outputs": [
    {
     "data": {
      "text/plain": [
       "(3968, 32)"
      ]
     },
     "execution_count": 5,
     "metadata": {},
     "output_type": "execute_result"
    }
   ],
   "source": [
    "x = z.detach().cpu().numpy()\n",
    "# z_scale = np.exp(z_scale.detach().cpu().numpy() / 2)\n",
    "x.shape"
   ]
  },
  {
   "cell_type": "markdown",
   "id": "bc7243d2",
   "metadata": {},
   "source": [
    "### Reconstruction"
   ]
  },
  {
   "cell_type": "code",
   "execution_count": 6,
   "id": "44e76b27",
   "metadata": {},
   "outputs": [
    {
     "data": {
      "text/plain": [
       "(2, 200, 4)"
      ]
     },
     "execution_count": 6,
     "metadata": {},
     "output_type": "execute_result"
    }
   ],
   "source": [
    "original, _, info = dataset[0]\n",
    "_, reconstruction = model(original.unsqueeze(0))\n",
    "\n",
    "data = np.concatenate((original.unsqueeze(0).numpy(), reconstruction.detach().numpy()))\n",
    "data = np.transpose(data, (0, 2, 1))\n",
    "data.shape"
   ]
  },
  {
   "cell_type": "code",
   "execution_count": 7,
   "id": "002b6a0c",
   "metadata": {},
   "outputs": [
    {
     "data": {
      "text/plain": [
       "(2, 800)"
      ]
     },
     "execution_count": 7,
     "metadata": {},
     "output_type": "execute_result"
    }
   ],
   "source": [
    "data = data.reshape(data.shape[0], -1)\n",
    "data = dataset.scaler.inverse_transform(data)\n",
    "data.shape"
   ]
  },
  {
   "cell_type": "code",
   "execution_count": 8,
   "id": "5c0082fe",
   "metadata": {},
   "outputs": [
    {
     "data": {
      "text/plain": [
       "torch.Size([2, 2])"
      ]
     },
     "execution_count": 8,
     "metadata": {},
     "output_type": "execute_result"
    }
   ],
   "source": [
    "info = info.repeat(2, 1)\n",
    "info.size()"
   ]
  },
  {
   "cell_type": "code",
   "execution_count": 9,
   "id": "6668a468",
   "metadata": {},
   "outputs": [
    {
     "name": "stdout",
     "output_type": "stream",
     "text": [
      "(2, 802)\n"
     ]
    },
    {
     "data": {
      "text/html": [
       "<b>Traffic with 2 identifiers</b><style  type=\"text/css\" >\n",
       "#T_82b8e_row0_col0,#T_82b8e_row1_col0{\n",
       "            width:  10em;\n",
       "             height:  80%;\n",
       "            background:  linear-gradient(90deg,#5fba7d 100.0%, transparent 100.0%);\n",
       "        }</style><table id=\"T_82b8e_\" ><thead>    <tr>        <th class=\"blank level0\" ></th>        <th class=\"col_heading level0 col0\" >count</th>    </tr>    <tr>        <th class=\"index_name level0\" >flight_id</th>        <th class=\"blank\" ></th>    </tr></thead><tbody>\n",
       "                <tr>\n",
       "                        <th id=\"T_82b8e_level0_row0\" class=\"row_heading level0 row0\" >0</th>\n",
       "                        <td id=\"T_82b8e_row0_col0\" class=\"data row0 col0\" >200</td>\n",
       "            </tr>\n",
       "            <tr>\n",
       "                        <th id=\"T_82b8e_level0_row1\" class=\"row_heading level0 row1\" >1</th>\n",
       "                        <td id=\"T_82b8e_row1_col0\" class=\"data row1 col0\" >200</td>\n",
       "            </tr>\n",
       "    </tbody></table>"
      ],
      "text/plain": [
       "           count\n",
       "flight_id       \n",
       "0            200\n",
       "1            200"
      ]
     },
     "execution_count": 9,
     "metadata": {},
     "output_type": "execute_result"
    }
   ],
   "source": [
    "# add latitude longitude info\n",
    "data = np.concatenate((info.numpy(), data), axis=1)\n",
    "print(data.shape)\n",
    "builder = model.get_builder(data.shape[0])\n",
    "features = [\n",
    "    \"track\" if \"track\" in f else f for f in model.hparams.features\n",
    "]\n",
    "traffic = traffic_from_data(\n",
    "    data, features, model.hparams.init_features, builder=builder\n",
    ")\n",
    "traffic"
   ]
  },
  {
   "cell_type": "code",
   "execution_count": 10,
   "id": "8f6b1e4e",
   "metadata": {},
   "outputs": [
    {
     "data": {
      "image/png": "[encoded data removed]",
      "text/plain": [
       "<Figure size 720x504 with 2 Axes>"
      ]
     },
     "metadata": {},
     "output_type": "display_data"
    }
   ],
   "source": [
    "with plt.style.context(\"traffic\"):\n",
    "    fig, ax = plt.subplots(1, 2, subplot_kw=dict(projection=EuroPP()))\n",
    "    ax[0].set_title(\"Original\")\n",
    "    traffic[0].plot(ax[0])\n",
    "    ax[1].set_title(\"Reconstructed\")\n",
    "    traffic[1].plot(ax[1])\n",
    "\n",
    "    plt.show()"
   ]
  },
  {
   "cell_type": "markdown",
   "id": "8f28d947",
   "metadata": {},
   "source": [
    "### Generation"
   ]
  },
  {
   "cell_type": "markdown",
   "id": "7b0b68b2",
   "metadata": {},
   "source": [
    "Transform copula data using the empirical distribution"
   ]
  },
  {
   "cell_type": "code",
   "execution_count": 11,
   "id": "9b893a82",
   "metadata": {},
   "outputs": [],
   "source": [
    "u = pv.to_pseudo_obs(x)"
   ]
  },
  {
   "cell_type": "markdown",
   "id": "61eb47d6",
   "metadata": {},
   "source": [
    "Fit a vine"
   ]
  },
  {
   "cell_type": "code",
   "execution_count": 12,
   "id": "2e3eb7a6",
   "metadata": {
    "scrolled": true
   },
   "outputs": [
    {
     "data": {
      "text/plain": [
       "<pyvinecopulib.Vinecop>\n",
       "** Tree: 0\n",
       "2,11 <-> Gumbel 180°, parameters = 1.05872\n",
       "23,12 <-> Clayton 90°, parameters = 0.178727\n",
       "32,24 <-> Student, parameters = -0.0874574\n",
       "   9.15604\n",
       "8,15 <-> Student, parameters = -0.0857155\n",
       "   12.9181\n",
       "6,10 <-> Student, parameters = -0.0576692\n",
       "   9.34741\n",
       "15,28 <-> BB8 180°, parameters =  1.31246\n",
       "0.838173\n",
       "11,4 <-> Student, parameters = 0.125426\n",
       " 10.9049\n",
       "29,4 <-> Student, parameters = -0.101886\n",
       "  9.69714\n",
       "4,3 <-> Student, parameters = -0.134459\n",
       "  10.1177\n",
       "25,22 <-> Student, parameters = -0.0751197\n",
       "   7.65112\n",
       "30,22 <-> BB8 90°, parameters =   1.4581\n",
       "0.727214\n",
       "20,10 <-> Student, parameters = -0.0981744\n",
       "   6.13337\n",
       "10,5 <-> Student, parameters = 0.135925\n",
       " 4.52677\n",
       "17,5 <-> Student, parameters = -0.139444\n",
       "  10.3914\n",
       "13,28 <-> Student, parameters = -0.117699\n",
       "   11.076\n",
       "7,27 <-> Gumbel 90°, parameters = 1.08399\n",
       "21,14 <-> Clayton 270°, parameters = 0.238575\n",
       "27,28 <-> Frank, parameters = 0.830763\n",
       "12,22 <-> TLL, parameters = [30x30 grid]\n",
       "16,1 <-> Student, parameters = 0.0838354\n",
       "  15.4049\n",
       "22,3 <-> TLL, parameters = [30x30 grid]\n",
       "18,26 <-> Student, parameters = 0.0811427\n",
       "  5.57018\n",
       "3,31 <-> Student, parameters = 0.152658\n",
       " 6.72124\n",
       "31,1 <-> Student, parameters = 0.150691\n",
       " 7.16209\n",
       "1,19 <-> Student, parameters = 0.211488\n",
       " 15.0544\n",
       "5,14 <-> Student, parameters = 0.172316\n",
       " 8.21422\n",
       "24,14 <-> Student, parameters = 0.116425\n",
       " 13.4399\n",
       "14,19 <-> Gaussian, parameters = 0.212267\n",
       "9,26 <-> Student, parameters = -0.103102\n",
       "  6.50234\n",
       "19,28 <-> Gaussian, parameters = 0.197056\n",
       "26,28 <-> BB1, parameters = 0.122194\n",
       " 1.05926\n",
       "** Tree: 1\n",
       "2,4 | 11 <-> Student, parameters = -0.0194713\n",
       "   8.58899\n",
       "23,22 | 12 <-> TLL, parameters = [30x30 grid]\n",
       "32,14 | 24 <-> Independence\n",
       "8,28 | 15 <-> Clayton, parameters = 0.0788352\n",
       "6,5 | 10 <-> Student, parameters = -0.0505832\n",
       "   10.7311\n",
       "15,13 | 28 <-> BB8, parameters =  1.19087\n",
       "0.915549\n",
       "11,3 | 4 <-> Student, parameters = 0.0390173\n",
       "  9.73154\n",
       "29,3 | 4 <-> Student, parameters = -0.0396589\n",
       "   5.32911\n",
       "4,31 | 3 <-> Student, parameters = 0.0292365\n",
       "  5.92009\n",
       "25,12 | 22 <-> Clayton 90°, parameters = 0.0983221\n",
       "30,12 | 22 <-> Clayton 90°, parameters = 0.122152\n",
       "20,5 | 10 <-> Student, parameters = 0.0795254\n",
       "  4.66607\n",
       "10,17 | 5 <-> Gumbel, parameters = 1.037\n",
       "17,14 | 5 <-> BB8, parameters =  1.16323\n",
       "0.907228\n",
       "13,27 | 28 <-> Gumbel, parameters = 1.05046\n",
       "7,28 | 27 <-> Student, parameters = 0.0795956\n",
       "  9.69877\n",
       "21,19 | 14 <-> Student, parameters = -0.063768\n",
       "  17.2325\n",
       "27,19 | 28 <-> Clayton 270°, parameters = 0.124545\n",
       "12,3 | 22 <-> Student, parameters = 0.158151\n",
       " 11.8402\n",
       "16,19 | 1 <-> Joe 90°, parameters = 1.04077\n",
       "22,31 | 3 <-> TLL, parameters = [30x30 grid]\n",
       "18,9 | 26 <-> Student, parameters = 0.0384868\n",
       "  10.0643\n",
       "3,1 | 31 <-> Joe 180°, parameters = 1.04987\n",
       "31,19 | 1 <-> Student, parameters = -0.0839043\n",
       "   11.3223\n",
       "1,14 | 19 <-> Joe, parameters = 1.05655\n",
       "5,24 | 14 <-> Student, parameters = -0.0686699\n",
       "   8.45285\n",
       "24,19 | 14 <-> Student, parameters = 0.0426763\n",
       "  12.0556\n",
       "14,28 | 19 <-> Clayton 90°, parameters = 0.157378\n",
       "9,28 | 26 <-> Student, parameters = -0.0674145\n",
       "   11.8538\n",
       "19,26 | 28 <-> Gumbel 90°, parameters = 1.04395\n",
       "** Tree: 2\n",
       "2,3 | 4,11 <-> Student, parameters = 0.0128971\n",
       "   6.6529\n",
       "23,3 | 22,12 <-> Clayton 180°, parameters = 0.131883\n",
       "32,19 | 14,24 <-> Gumbel 90°, parameters = 1.03294\n",
       "8,13 | 28,15 <-> Student, parameters = 0.0546046\n",
       "  11.7115\n",
       "6,17 | 5,10 <-> Frank, parameters = -0.354929\n",
       "15,27 | 13,28 <-> Student, parameters = -0.010023\n",
       "  10.8544\n",
       "11,29 | 3,4 <-> Student, parameters = -0.0341932\n",
       "   14.8961\n",
       "29,31 | 3,4 <-> Student, parameters = -0.0626976\n",
       "   7.20082\n",
       "4,1 | 31,3 <-> Student, parameters = -0.0257369\n",
       "   9.25133\n",
       "25,3 | 12,22 <-> Gumbel 180°, parameters = 1.053\n",
       "30,3 | 12,22 <-> Joe 180°, parameters = 1.06497\n",
       "20,17 | 5,10 <-> Student, parameters = 0.0655665\n",
       "  8.63854\n",
       "10,14 | 17,5 <-> Frank, parameters = -0.284835\n",
       "17,24 | 14,5 <-> Student, parameters = -0.016062\n",
       "  9.43402\n",
       "13,7 | 27,28 <-> Student, parameters = 0.0273482\n",
       "  9.36386\n",
       "7,19 | 28,27 <-> Frank, parameters = -0.605994\n",
       "21,24 | 19,14 <-> Joe 90°, parameters = 1.04424\n",
       "27,26 | 19,28 <-> Gumbel 90°, parameters = 1.05531\n",
       "12,31 | 3,22 <-> Frank, parameters = -0.924432\n",
       "16,14 | 19,1 <-> Joe, parameters = 1.03701\n",
       "22,1 | 31,3 <-> TLL, parameters = [30x30 grid]\n",
       "18,28 | 9,26 <-> Independence\n",
       "3,19 | 1,31 <-> Clayton 180°, parameters = 0.0911166\n",
       "31,14 | 19,1 <-> Joe, parameters = 1.06358\n",
       "1,24 | 14,19 <-> Student, parameters = 0.0756088\n",
       "  12.5543\n",
       "5,19 | 24,14 <-> Student, parameters = 0.028779\n",
       " 12.5494\n",
       "24,28 | 19,14 <-> Student, parameters = 0.0861205\n",
       "  9.34604\n",
       "14,26 | 28,19 <-> Student, parameters = 0.154854\n",
       " 13.5228\n",
       "9,19 | 28,26 <-> Gumbel, parameters = 1.02446\n",
       "** Tree: 3\n",
       "2,29 | 3,4,11 <-> Student, parameters = 0.00193473\n",
       "   5.93039\n",
       "23,31 | 3,22,12 <-> Frank, parameters = -0.704701\n",
       "32,28 | 19,14,24 <-> Frank, parameters = 0.6244\n",
       "8,27 | 13,28,15 <-> Joe 270°, parameters = 1.05602\n",
       "6,20 | 17,5,10 <-> Student, parameters = -0.0389604\n",
       "   13.6375\n",
       "15,7 | 27,13,28 <-> Joe 270°, parameters = 1.03387\n",
       "11,31 | 29,3,4 <-> Independence\n",
       "29,1 | 31,3,4 <-> Student, parameters = -0.0445674\n",
       "   12.1882\n",
       "4,19 | 1,31,3 <-> Gumbel, parameters = 1.05379\n",
       "25,31 | 3,12,22 <-> Gumbel 270°, parameters = 1.0559\n",
       "30,31 | 3,12,22 <-> BB8 90°, parameters =  1.15951\n",
       "0.963079\n",
       "20,14 | 17,5,10 <-> Clayton 270°, parameters = 0.110233\n",
       "10,24 | 14,17,5 <-> Student, parameters = 0.0952577\n",
       "  6.67682\n",
       "17,19 | 24,14,5 <-> Independence\n",
       "13,19 | 7,27,28 <-> Independence\n",
       "7,26 | 19,28,27 <-> Gumbel 270°, parameters = 1.06912\n",
       "21,5 | 24,19,14 <-> Independence\n",
       "27,14 | 26,19,28 <-> Clayton 270°, parameters = 0.0639913\n",
       "12,1 | 31,3,22 <-> Frank, parameters = 0.853286\n",
       "16,24 | 14,19,1 <-> Student, parameters = -0.0470121\n",
       "   16.4468\n",
       "22,19 | 1,31,3 <-> Gaussian, parameters = 0.0623156\n",
       "18,19 | 28,9,26 <-> Joe 90°, parameters = 1.03936\n",
       "3,14 | 19,1,31 <-> Gumbel, parameters = 1.0526\n",
       "31,24 | 14,19,1 <-> Student, parameters = 0.0449538\n",
       "  11.6397\n",
       "1,5 | 24,14,19 <-> Student, parameters = 0.0898385\n",
       "  8.73595\n",
       "5,28 | 19,24,14 <-> Student, parameters = 0.0519107\n",
       "  12.1921\n",
       "24,26 | 28,19,14 <-> Student, parameters = -0.0383873\n",
       "   10.9971\n",
       "14,9 | 26,28,19 <-> Joe 270°, parameters = 1.03836\n",
       "** Tree: 4\n",
       "2,31 | 29,3,4,11 <-> Student, parameters = 0.0664294\n",
       "  5.66402\n",
       "23,1 | 31,3,22,12 <-> Joe, parameters = 1.21148\n",
       "32,5 | 28,19,14,24 <-> Student, parameters = 0.0147554\n",
       "  9.11173\n",
       "8,7 | 27,13,28,15 <-> Student, parameters = -0.0539566\n",
       "   8.47481\n",
       "6,14 | 20,17,5,10 <-> Independence\n",
       "15,19 | 7,27,13,28 <-> Student, parameters = -0.0393754\n",
       "   12.9062\n",
       "11,1 | 31,29,3,4 <-> Student, parameters = 0.0237491\n",
       "    14.81\n",
       "29,19 | 1,31,3,4 <-> Independence\n",
       "4,22 | 19,1,31,3 <-> Independence\n",
       "25,1 | 31,3,12,22 <-> Gumbel, parameters = 1.0684\n",
       "30,1 | 31,3,12,22 <-> Frank, parameters = 0.728469\n",
       "20,24 | 14,17,5,10 <-> Student, parameters = 0.138624\n",
       " 11.4605\n",
       "10,19 | 24,14,17,5 <-> Independence\n",
       "17,28 | 19,24,14,5 <-> Independence\n",
       "13,26 | 19,7,27,28 <-> Student, parameters = -0.0252362\n",
       "   11.5688\n",
       "7,14 | 26,19,28,27 <-> Gumbel, parameters = 1.05456\n",
       "21,1 | 5,24,19,14 <-> Student, parameters = 0.0105581\n",
       "  13.1403\n",
       "27,24 | 14,26,19,28 <-> Clayton 270°, parameters = 0.0566228\n",
       "12,19 | 1,31,3,22 <-> Frank, parameters = 0.434933\n",
       "16,5 | 24,14,19,1 <-> Student, parameters = -0.0970653\n",
       "   10.8442\n",
       "22,14 | 19,1,31,3 <-> Gumbel 90°, parameters = 1.08407\n",
       "18,14 | 19,28,9,26 <-> Student, parameters = -0.000476482\n",
       "      13.075\n",
       "3,24 | 14,19,1,31 <-> Student, parameters = 0.0272366\n",
       "  15.5907\n",
       "31,5 | 24,14,19,1 <-> Student, parameters = 0.0377374\n",
       "   7.4509\n",
       "1,28 | 5,24,14,19 <-> Independence\n",
       "5,26 | 28,19,24,14 <-> Student, parameters = 0.0802336\n",
       "  12.0452\n",
       "24,9 | 26,28,19,14 <-> Student, parameters = -0.102397\n",
       "  9.28073\n",
       "** Tree: 5\n",
       "2,1 | 31,29,3,4,11 <-> Student, parameters = 0.0320014\n",
       "  8.56258\n",
       "23,19 | 1,31,3,22,12 <-> Frank, parameters = -0.752036\n",
       "32,17 | 5,28,19,14,24 <-> Student, parameters = 0.0644166\n",
       "  13.1243\n",
       "8,19 | 7,27,13,28,15 <-> Gumbel, parameters = 1.04286\n",
       "6,24 | 14,20,17,5,10 <-> Independence\n",
       "15,26 | 19,7,27,13,28 <-> Joe, parameters = 1.04739\n",
       "11,19 | 1,31,29,3,4 <-> Clayton 270°, parameters = 0.0783477\n",
       "29,22 | 19,1,31,3,4 <-> TLL, parameters = [30x30 grid]\n",
       "4,12 | 22,19,1,31,3 <-> Frank, parameters = -0.346215\n",
       "25,19 | 1,31,3,12,22 <-> Frank, parameters = -0.50736\n",
       "30,19 | 1,31,3,12,22 <-> Frank, parameters = -0.560192\n",
       "20,19 | 24,14,17,5,10 <-> Independence\n",
       "10,28 | 19,24,14,17,5 <-> Clayton 90°, parameters = 0.0574098\n",
       "17,26 | 28,19,24,14,5 <-> Joe 270°, parameters = 1.06753\n",
       "13,14 | 26,19,7,27,28 <-> Gumbel 270°, parameters = 1.02716\n",
       "7,24 | 14,26,19,28,27 <-> Student, parameters = -0.0413163\n",
       "   8.56974\n",
       "21,31 | 1,5,24,19,14 <-> Clayton 270°, parameters = 0.0845815\n",
       "27,5 | 24,14,26,19,28 <-> Student, parameters = -0.0494449\n",
       "   15.7225\n",
       "12,14 | 19,1,31,3,22 <-> Independence\n",
       "16,28 | 5,24,14,19,1 <-> BB7, parameters =   1.04802\n",
       "0.0825428\n",
       "22,24 | 14,19,1,31,3 <-> Independence\n",
       "18,24 | 14,19,28,9,26 <-> Clayton, parameters = 0.0477998\n",
       "3,5 | 24,14,19,1,31 <-> Student, parameters = -0.101192\n",
       "  9.32052\n",
       "31,28 | 5,24,14,19,1 <-> Gumbel, parameters = 1.05214\n",
       "1,26 | 28,5,24,14,19 <-> Joe, parameters = 1.138\n",
       "5,9 | 26,28,19,24,14 <-> Student, parameters = 0.0794282\n",
       "  7.78039\n",
       "** Tree: 6\n",
       "2,19 | 1,31,29,3,4,11 <-> Clayton 270°, parameters = 0.0707624\n",
       "23,25 | 19,1,31,3,22,12 <-> Clayton 90°, parameters = 0.0866193\n",
       "32,10 | 17,5,28,19,14,24 <-> Student, parameters = 0.0596314\n",
       "  16.1682\n",
       "8,26 | 19,7,27,13,28,15 <-> Joe, parameters = 1.0955\n",
       "6,19 | 24,14,20,17,5,10 <-> Independence\n",
       "15,14 | 26,19,7,27,13,28 <-> Frank, parameters = 0.623071\n",
       "11,22 | 19,1,31,29,3,4 <-> Student, parameters = -0.0153457\n",
       "   13.6158\n",
       "29,12 | 22,19,1,31,3,4 <-> Gumbel 270°, parameters = 1.03675\n",
       "4,25 | 12,22,19,1,31,3 <-> Student, parameters = 0.0278485\n",
       "  15.4607\n",
       "25,30 | 19,1,31,3,12,22 <-> Joe 270°, parameters = 1.04988\n",
       "30,14 | 19,1,31,3,12,22 <-> Student, parameters = -0.0992524\n",
       "   9.44418\n",
       "20,28 | 19,24,14,17,5,10 <-> Clayton 270°, parameters = 0.0531997\n",
       "10,26 | 28,19,24,14,17,5 <-> Student, parameters = 0.0297137\n",
       "  10.3236\n",
       "17,27 | 26,28,19,24,14,5 <-> Gumbel 270°, parameters = 1.03314\n",
       "13,24 | 14,26,19,7,27,28 <-> Student, parameters = 0.0814797\n",
       "  14.9441\n",
       "7,5 | 24,14,26,19,28,27 <-> Student, parameters = 0.128312\n",
       " 5.78498\n",
       "21,3 | 31,1,5,24,19,14 <-> Independence\n",
       "27,1 | 5,24,14,26,19,28 <-> Frank, parameters = 0.444223\n",
       "12,24 | 14,19,1,31,3,22 <-> Independence\n",
       "16,26 | 28,5,24,14,19,1 <-> Gumbel 90°, parameters = 1.04177\n",
       "22,5 | 24,14,19,1,31,3 <-> Clayton 180°, parameters = 0.165613\n",
       "18,5 | 24,14,19,28,9,26 <-> Student, parameters = -0.0344187\n",
       "   9.58425\n",
       "3,28 | 5,24,14,19,1,31 <-> Joe 90°, parameters = 1.04696\n",
       "31,26 | 28,5,24,14,19,1 <-> Student, parameters = -0.0951323\n",
       "   10.4127\n",
       "1,9 | 26,28,5,24,14,19 <-> Gumbel 90°, parameters = 1.05944\n",
       "** Tree: 7\n",
       "2,22 | 19,1,31,29,3,4,11 <-> Joe, parameters = 1.07219\n",
       "23,4 | 25,19,1,31,3,22,12 <-> Independence\n",
       "32,20 | 10,17,5,28,19,14,24 <-> Joe 270°, parameters = 1.04357\n",
       "8,14 | 26,19,7,27,13,28,15 <-> Independence\n",
       "6,28 | 19,24,14,20,17,5,10 <-> Independence\n",
       "15,24 | 14,26,19,7,27,13,28 <-> Gaussian, parameters = -0.0722603\n",
       "11,12 | 22,19,1,31,29,3,4 <-> Independence\n",
       "29,25 | 12,22,19,1,31,3,4 <-> Joe 270°, parameters = 1.02587\n",
       "4,30 | 25,12,22,19,1,31,3 <-> Student, parameters = -0.00872992\n",
       "    12.7454\n",
       "25,14 | 30,19,1,31,3,12,22 <-> Independence\n",
       "30,24 | 14,19,1,31,3,12,22 <-> Student, parameters = -0.0337359\n",
       "   11.6661\n",
       "20,26 | 28,19,24,14,17,5,10 <-> Joe 90°, parameters = 1.06563\n",
       "10,27 | 26,28,19,24,14,17,5 <-> Independence\n",
       "17,7 | 27,26,28,19,24,14,5 <-> Student, parameters = -0.0128534\n",
       "   12.9625\n",
       "13,5 | 24,14,26,19,7,27,28 <-> Clayton 180°, parameters = 0.0758611\n",
       "7,1 | 5,24,14,26,19,28,27 <-> Joe 180°, parameters = 1.06965\n",
       "21,22 | 3,31,1,5,24,19,14 <-> TLL, parameters = [30x30 grid]\n",
       "27,16 | 1,5,24,14,26,19,28 <-> Frank, parameters = -0.48226\n",
       "12,5 | 24,14,19,1,31,3,22 <-> Clayton 180°, parameters = 0.108943\n",
       "16,9 | 26,28,5,24,14,19,1 <-> Student, parameters = 0.0926359\n",
       "  16.8935\n",
       "22,28 | 5,24,14,19,1,31,3 <-> Clayton 90°, parameters = 0.118008\n",
       "18,1 | 5,24,14,19,28,9,26 <-> Student, parameters = 0.0162761\n",
       "   8.9918\n",
       "3,26 | 28,5,24,14,19,1,31 <-> Joe 180°, parameters = 1.05043\n",
       "31,9 | 26,28,5,24,14,19,1 <-> Joe 180°, parameters = 1.11287\n",
       "** Tree: 8\n",
       "2,12 | 22,19,1,31,29,3,4,11 <-> Student, parameters = 0.0522486\n",
       "  14.7666\n",
       "23,29 | 4,25,19,1,31,3,22,12 <-> Frank, parameters = 0.371191\n",
       "32,6 | 20,10,17,5,28,19,14,24 <-> Independence\n",
       "8,24 | 14,26,19,7,27,13,28,15 <-> Independence\n",
       "6,26 | 28,19,24,14,20,17,5,10 <-> Independence\n",
       "15,5 | 24,14,26,19,7,27,13,28 <-> Student, parameters = -0.0459899\n",
       "   13.3135\n",
       "11,25 | 12,22,19,1,31,29,3,4 <-> Independence\n",
       "29,30 | 25,12,22,19,1,31,3,4 <-> Student, parameters = -0.00125528\n",
       "    13.4677\n",
       "4,14 | 30,25,12,22,19,1,31,3 <-> Independence\n",
       "25,24 | 14,30,19,1,31,3,12,22 <-> Independence\n",
       "30,5 | 24,14,19,1,31,3,12,22 <-> Student, parameters = 0.0925981\n",
       "  7.56479\n",
       "20,27 | 26,28,19,24,14,17,5,10 <-> Clayton 90°, parameters = 0.05154\n",
       "10,7 | 27,26,28,19,24,14,17,5 <-> Clayton 270°, parameters = 0.0863094\n",
       "17,13 | 7,27,26,28,19,24,14,5 <-> Frank, parameters = 0.400324\n",
       "13,1 | 5,24,14,26,19,7,27,28 <-> Joe 270°, parameters = 1.04185\n",
       "7,16 | 1,5,24,14,26,19,28,27 <-> Frank, parameters = -0.3327\n",
       "21,12 | 22,3,31,1,5,24,19,14 <-> BB8 180°, parameters =  1.70942\n",
       "0.809985\n",
       "27,9 | 16,1,5,24,14,26,19,28 <-> Independence\n",
       "12,28 | 5,24,14,19,1,31,3,22 <-> Gaussian, parameters = -0.0740521\n",
       "16,18 | 9,26,28,5,24,14,19,1 <-> Student, parameters = -0.0374519\n",
       "   15.0879\n",
       "22,26 | 28,5,24,14,19,1,31,3 <-> Clayton 180°, parameters = 0.111131\n",
       "18,31 | 1,5,24,14,19,28,9,26 <-> Student, parameters = -0.0392003\n",
       "   8.85389\n",
       "3,9 | 26,28,5,24,14,19,1,31 <-> Clayton 90°, parameters = 0.054618\n",
       "** Tree: 9\n",
       "2,25 | 12,22,19,1,31,29,3,4,11 <-> Joe 270°, parameters = 1.03899\n",
       "23,11 | 29,4,25,19,1,31,3,22,12 <-> BB8 270°, parameters = 1.45108\n",
       "0.88171\n",
       "32,26 | 6,20,10,17,5,28,19,14,24 <-> Student, parameters = -0.0157615\n",
       "   11.7198\n",
       "8,5 | 24,14,26,19,7,27,13,28,15 <-> Student, parameters = 0.0296452\n",
       "  11.9398\n",
       "6,27 | 26,28,19,24,14,20,17,5,10 <-> Joe 90°, parameters = 1.03629\n",
       "15,1 | 5,24,14,26,19,7,27,13,28 <-> Gumbel 180°, parameters = 1.06925\n",
       "11,30 | 25,12,22,19,1,31,29,3,4 <-> Student, parameters = -0.056356\n",
       "  14.3548\n",
       "29,14 | 30,25,12,22,19,1,31,3,4 <-> Independence\n",
       "4,24 | 14,30,25,12,22,19,1,31,3 <-> Independence\n",
       "25,5 | 24,14,30,19,1,31,3,12,22 <-> Independence\n",
       "30,21 | 5,24,14,19,1,31,3,12,22 <-> Clayton, parameters = 0.066751\n",
       "20,7 | 27,26,28,19,24,14,17,5,10 <-> Clayton 270°, parameters = 0.10301\n",
       "10,13 | 7,27,26,28,19,24,14,17,5 <-> Student, parameters = -0.0663103\n",
       "   9.19947\n",
       "17,1 | 13,7,27,26,28,19,24,14,5 <-> Independence\n",
       "13,16 | 1,5,24,14,26,19,7,27,28 <-> Clayton 180°, parameters = 0.0497796\n",
       "7,9 | 16,1,5,24,14,26,19,28,27 <-> Clayton 180°, parameters = 0.0948398\n",
       "21,28 | 12,22,3,31,1,5,24,19,14 <-> Joe 90°, parameters = 1.03541\n",
       "27,18 | 9,16,1,5,24,14,26,19,28 <-> Independence\n",
       "12,26 | 28,5,24,14,19,1,31,3,22 <-> Clayton, parameters = 0.124258\n",
       "16,31 | 18,9,26,28,5,24,14,19,1 <-> Independence\n",
       "22,9 | 26,28,5,24,14,19,1,31,3 <-> Clayton 180°, parameters = 0.089749\n",
       "18,3 | 31,1,5,24,14,19,28,9,26 <-> Clayton 180°, parameters = 0.0707611\n",
       "** Tree: 10\n",
       "2,23 | 25,12,22,19,1,31,29,3,4,11 <-> Clayton 90°, parameters = 0.0902571\n",
       "23,30 | 11,29,4,25,19,1,31,3,22,12 <-> Student, parameters = -0.0143606\n",
       "    12.656\n",
       "32,27 | 26,6,20,10,17,5,28,19,14,24 <-> Independence\n",
       "8,1 | 5,24,14,26,19,7,27,13,28,15 <-> Gaussian, parameters = 0.0587911\n",
       "6,7 | 27,26,28,19,24,14,20,17,5,10 <-> Independence\n",
       "15,16 | 1,5,24,14,26,19,7,27,13,28 <-> Clayton 270°, parameters = 0.0911752\n",
       "11,14 | 30,25,12,22,19,1,31,29,3,4 <-> Gaussian, parameters = 0.0929207\n",
       "29,24 | 14,30,25,12,22,19,1,31,3,4 <-> Independence\n",
       "4,5 | 24,14,30,25,12,22,19,1,31,3 <-> Clayton, parameters = 0.0828324\n",
       "25,21 | 5,24,14,30,19,1,31,3,12,22 <-> Frank, parameters = 0.550122\n",
       "30,28 | 21,5,24,14,19,1,31,3,12,22 <-> Independence\n",
       "20,13 | 7,27,26,28,19,24,14,17,5,10 <-> Gumbel 90°, parameters = 1.04594\n",
       "10,1 | 13,7,27,26,28,19,24,14,17,5 <-> Student, parameters = -0.0227443\n",
       "    7.2259\n",
       "17,16 | 1,13,7,27,26,28,19,24,14,5 <-> Independence\n",
       "13,9 | 16,1,5,24,14,26,19,7,27,28 <-> Independence\n",
       "7,18 | 9,16,1,5,24,14,26,19,28,27 <-> Student, parameters = 0.0203957\n",
       "  16.1082\n",
       "21,26 | 28,12,22,3,31,1,5,24,19,14 <-> Clayton, parameters = 0.0583503\n",
       "27,31 | 18,9,16,1,5,24,14,26,19,28 <-> Student, parameters = 0.0103459\n",
       "  12.1702\n",
       "12,9 | 26,28,5,24,14,19,1,31,3,22 <-> Independence\n",
       "16,3 | 31,18,9,26,28,5,24,14,19,1 <-> Clayton 270°, parameters = 0.0798846\n",
       "22,18 | 9,26,28,5,24,14,19,1,31,3 <-> Clayton 90°, parameters = 0.0886231\n",
       "** Tree: 11\n",
       "2,30 | 23,25,12,22,19,1,31,29,3,4,11 <-> Student, parameters = -0.00864835\n",
       "    10.4565\n",
       "23,14 | 30,11,29,4,25,19,1,31,3,22,12 <-> Clayton 180°, parameters = 0.0753036\n",
       "32,7 | 27,26,6,20,10,17,5,28,19,14,24 <-> Student, parameters = -0.0226904\n",
       "   14.9906\n",
       "8,16 | 1,5,24,14,26,19,7,27,13,28,15 <-> Independence\n",
       "6,13 | 7,27,26,28,19,24,14,20,17,5,10 <-> Independence\n",
       "15,9 | 16,1,5,24,14,26,19,7,27,13,28 <-> Clayton 180°, parameters = 0.0888211\n",
       "11,24 | 14,30,25,12,22,19,1,31,29,3,4 <-> Independence\n",
       "29,5 | 24,14,30,25,12,22,19,1,31,3,4 <-> Frank, parameters = -0.514974\n",
       "4,21 | 5,24,14,30,25,12,22,19,1,31,3 <-> Independence\n",
       "25,28 | 21,5,24,14,30,19,1,31,3,12,22 <-> Gumbel 180°, parameters = 1.03169\n",
       "30,26 | 28,21,5,24,14,19,1,31,3,12,22 <-> Student, parameters = 0.00797625\n",
       "   9.17714\n",
       "20,1 | 13,7,27,26,28,19,24,14,17,5,10 <-> Clayton 270°, parameters = 0.0467721\n",
       "10,16 | 1,13,7,27,26,28,19,24,14,17,5 <-> Independence\n",
       "17,9 | 16,1,13,7,27,26,28,19,24,14,5 <-> Frank, parameters = -0.2918\n",
       "13,18 | 9,16,1,5,24,14,26,19,7,27,28 <-> Gumbel 180°, parameters = 1.03577\n",
       "7,31 | 18,9,16,1,5,24,14,26,19,28,27 <-> Student, parameters = -0.171648\n",
       "  13.7152\n",
       "21,9 | 26,28,12,22,3,31,1,5,24,19,14 <-> Independence\n",
       "27,3 | 31,18,9,16,1,5,24,14,26,19,28 <-> Joe 270°, parameters = 1.04722\n",
       "12,18 | 9,26,28,5,24,14,19,1,31,3,22 <-> Joe, parameters = 1.03105\n",
       "16,22 | 3,31,18,9,26,28,5,24,14,19,1 <-> Frank, parameters = 0.924547\n",
       "** Tree: 12\n",
       "2,14 | 30,23,25,12,22,19,1,31,29,3,4,11 <-> Independence\n",
       "23,24 | 14,30,11,29,4,25,19,1,31,3,22,12 <-> Frank, parameters = -0.689052\n",
       "32,13 | 7,27,26,6,20,10,17,5,28,19,14,24 <-> Independence\n",
       "8,9 | 16,1,5,24,14,26,19,7,27,13,28,15 <-> Independence\n",
       "6,1 | 13,7,27,26,28,19,24,14,20,17,5,10 <-> Independence\n",
       "15,18 | 9,16,1,5,24,14,26,19,7,27,13,28 <-> Student, parameters = -0.0761658\n",
       "   17.7014\n",
       "11,5 | 24,14,30,25,12,22,19,1,31,29,3,4 <-> Independence\n",
       "29,21 | 5,24,14,30,25,12,22,19,1,31,3,4 <-> Independence\n",
       "4,28 | 21,5,24,14,30,25,12,22,19,1,31,3 <-> Frank, parameters = -0.573936\n",
       "25,26 | 28,21,5,24,14,30,19,1,31,3,12,22 <-> Gumbel 270°, parameters = 1.02463\n",
       "30,9 | 26,28,21,5,24,14,19,1,31,3,12,22 <-> Student, parameters = -0.0503052\n",
       "   17.0653\n",
       "20,16 | 1,13,7,27,26,28,19,24,14,17,5,10 <-> Independence\n",
       "10,9 | 16,1,13,7,27,26,28,19,24,14,17,5 <-> Student, parameters = -0.0255019\n",
       "   10.9772\n",
       "17,18 | 9,16,1,13,7,27,26,28,19,24,14,5 <-> Independence\n",
       "13,31 | 18,9,16,1,5,24,14,26,19,7,27,28 <-> Student, parameters = -0.00696927\n",
       "    11.2413\n",
       "7,3 | 31,18,9,16,1,5,24,14,26,19,28,27 <-> Student, parameters = 0.104981\n",
       " 7.53446\n",
       "21,18 | 9,26,28,12,22,3,31,1,5,24,19,14 <-> Independence\n",
       "27,22 | 3,31,18,9,16,1,5,24,14,26,19,28 <-> Frank, parameters = 0.540846\n",
       "12,16 | 18,9,26,28,5,24,14,19,1,31,3,22 <-> Gumbel 180°, parameters = 1.08859\n",
       "** Tree: 13\n",
       "2,24 | 14,30,23,25,12,22,19,1,31,29,3,4,11 <-> Joe 270°, parameters = 1.03754\n",
       "23,5 | 24,14,30,11,29,4,25,19,1,31,3,22,12 <-> Gumbel 90°, parameters = 1.08123\n",
       "32,1 | 13,7,27,26,6,20,10,17,5,28,19,14,24 <-> Student, parameters = 0.0331656\n",
       "  11.1973\n",
       "8,18 | 9,16,1,5,24,14,26,19,7,27,13,28,15 <-> Independence\n",
       "6,16 | 1,13,7,27,26,28,19,24,14,20,17,5,10 <-> Independence\n",
       "15,31 | 18,9,16,1,5,24,14,26,19,7,27,13,28 <-> Frank, parameters = -0.835242\n",
       "11,21 | 5,24,14,30,25,12,22,19,1,31,29,3,4 <-> Independence\n",
       "29,28 | 21,5,24,14,30,25,12,22,19,1,31,3,4 <-> Clayton 90°, parameters = 0.0531995\n",
       "4,26 | 28,21,5,24,14,30,25,12,22,19,1,31,3 <-> Clayton, parameters = 0.0917655\n",
       "25,9 | 26,28,21,5,24,14,30,19,1,31,3,12,22 <-> BB8 180°, parameters =  1.20456\n",
       "0.916038\n",
       "30,18 | 9,26,28,21,5,24,14,19,1,31,3,12,22 <-> Student, parameters = -0.00318226\n",
       "    14.7217\n",
       "20,9 | 16,1,13,7,27,26,28,19,24,14,17,5,10 <-> Independence\n",
       "10,18 | 9,16,1,13,7,27,26,28,19,24,14,17,5 <-> Student, parameters = -0.0189983\n",
       "   14.3419\n",
       "17,31 | 18,9,16,1,13,7,27,26,28,19,24,14,5 <-> Independence\n",
       "13,3 | 31,18,9,16,1,5,24,14,26,19,7,27,28 <-> Independence\n",
       "7,22 | 3,31,18,9,16,1,5,24,14,26,19,28,27 <-> Clayton 180°, parameters = 0.131137\n",
       "21,16 | 18,9,26,28,12,22,3,31,1,5,24,19,14 <-> Clayton 270°, parameters = 0.0654475\n",
       "27,12 | 22,3,31,18,9,16,1,5,24,14,26,19,28 <-> Gumbel 180°, parameters = 1.11499\n",
       "** Tree: 14\n",
       "2,5 | 24,14,30,23,25,12,22,19,1,31,29,3,4,11 <-> Student, parameters = -0.0583547\n",
       "   9.99817\n",
       "23,21 | 5,24,14,30,11,29,4,25,19,1,31,3,22,12 <-> Gaussian, parameters = 0.168781\n",
       "32,16 | 1,13,7,27,26,6,20,10,17,5,28,19,14,24 <-> Independence\n",
       "8,31 | 18,9,16,1,5,24,14,26,19,7,27,13,28,15 <-> Student, parameters = 0.00925645\n",
       "   9.33954\n",
       "6,9 | 16,1,13,7,27,26,28,19,24,14,20,17,5,10 <-> Independence\n",
       "15,3 | 31,18,9,16,1,5,24,14,26,19,7,27,13,28 <-> Joe 270°, parameters = 1.04912\n",
       "11,28 | 21,5,24,14,30,25,12,22,19,1,31,29,3,4 <-> Gaussian, parameters = 0.110289\n",
       "29,26 | 28,21,5,24,14,30,25,12,22,19,1,31,3,4 <-> Independence\n",
       "4,9 | 26,28,21,5,24,14,30,25,12,22,19,1,31,3 <-> Gumbel 90°, parameters = 1.02374\n",
       "25,18 | 9,26,28,21,5,24,14,30,19,1,31,3,12,22 <-> Independence\n",
       "30,16 | 18,9,26,28,21,5,24,14,19,1,31,3,12,22 <-> Independence\n",
       "20,18 | 9,16,1,13,7,27,26,28,19,24,14,17,5,10 <-> Gaussian, parameters = 0.0566011\n",
       "10,31 | 18,9,16,1,13,7,27,26,28,19,24,14,17,5 <-> Student, parameters = -0.0831535\n",
       "   8.95275\n",
       "17,3 | 31,18,9,16,1,13,7,27,26,28,19,24,14,5 <-> Student, parameters = -0.0273259\n",
       "   13.6672\n",
       "13,22 | 3,31,18,9,16,1,5,24,14,26,19,7,27,28 <-> Clayton 270°, parameters = 0.0953323\n",
       "7,12 | 22,3,31,18,9,16,1,5,24,14,26,19,28,27 <-> Student, parameters = 0.00913498\n",
       "   14.5886\n",
       "21,27 | 16,18,9,26,28,12,22,3,31,1,5,24,19,14 <-> Independence\n",
       "** Tree: 15\n",
       "2,21 | 5,24,14,30,23,25,12,22,19,1,31,29,3,4,11 <-> Clayton 90°, parameters = 0.0535505\n",
       "23,28 | 21,5,24,14,30,11,29,4,25,19,1,31,3,22,12 <-> Clayton 180°, parameters = 0.12297\n",
       "32,9 | 16,1,13,7,27,26,6,20,10,17,5,28,19,14,24 <-> Frank, parameters = 0.433638\n",
       "8,3 | 31,18,9,16,1,5,24,14,26,19,7,27,13,28,15 <-> Joe 270°, parameters = 1.04103\n",
       "6,18 | 9,16,1,13,7,27,26,28,19,24,14,20,17,5,10 <-> Student, parameters = -0.00257658\n",
       "    14.2653\n",
       "15,17 | 3,31,18,9,16,1,5,24,14,26,19,7,27,13,28 <-> Clayton 180°, parameters = 0.0504894\n",
       "11,26 | 28,21,5,24,14,30,25,12,22,19,1,31,29,3,4 <-> Gaussian, parameters = -0.0700748\n",
       "29,9 | 26,28,21,5,24,14,30,25,12,22,19,1,31,3,4 <-> Frank, parameters = -0.509304\n",
       "4,18 | 9,26,28,21,5,24,14,30,25,12,22,19,1,31,3 <-> Clayton, parameters = 0.0555397\n",
       "25,16 | 18,9,26,28,21,5,24,14,30,19,1,31,3,12,22 <-> Clayton, parameters = 0.0818524\n",
       "30,27 | 16,18,9,26,28,21,5,24,14,19,1,31,3,12,22 <-> Frank, parameters = 0.427682\n",
       "20,31 | 18,9,16,1,13,7,27,26,28,19,24,14,17,5,10 <-> Clayton 270°, parameters = 0.0795307\n",
       "10,3 | 31,18,9,16,1,13,7,27,26,28,19,24,14,17,5 <-> Student, parameters = 0.107718\n",
       " 10.9875\n",
       "17,22 | 3,31,18,9,16,1,13,7,27,26,28,19,24,14,5 <-> Independence\n",
       "13,12 | 22,3,31,18,9,16,1,5,24,14,26,19,7,27,28 <-> Gaussian, parameters = -0.107385\n",
       "7,21 | 12,22,3,31,18,9,16,1,5,24,14,26,19,28,27 <-> Frank, parameters = -0.528405\n",
       "** Tree: 16\n",
       "2,28 | 21,5,24,14,30,23,25,12,22,19,1,31,29,3,4,11 <-> Clayton, parameters = 0.0543412\n",
       "23,26 | 28,21,5,24,14,30,11,29,4,25,19,1,31,3,22,12 <-> Gaussian, parameters = -0.202047\n",
       "32,18 | 9,16,1,13,7,27,26,6,20,10,17,5,28,19,14,24 <-> Student, parameters = -0.0143664\n",
       "   14.0686\n",
       "8,17 | 3,31,18,9,16,1,5,24,14,26,19,7,27,13,28,15 <-> Frank, parameters = -0.406676\n",
       "6,31 | 18,9,16,1,13,7,27,26,28,19,24,14,20,17,5,10 <-> Independence\n",
       "15,10 | 17,3,31,18,9,16,1,5,24,14,26,19,7,27,13,28 <-> Independence\n",
       "11,9 | 26,28,21,5,24,14,30,25,12,22,19,1,31,29,3,4 <-> Independence\n",
       "29,18 | 9,26,28,21,5,24,14,30,25,12,22,19,1,31,3,4 <-> Independence\n",
       "4,16 | 18,9,26,28,21,5,24,14,30,25,12,22,19,1,31,3 <-> Independence\n",
       "25,27 | 16,18,9,26,28,21,5,24,14,30,19,1,31,3,12,22 <-> Joe 180°, parameters = 1.03827\n",
       "30,7 | 27,16,18,9,26,28,21,5,24,14,19,1,31,3,12,22 <-> Joe, parameters = 1.06082\n",
       "20,3 | 31,18,9,16,1,13,7,27,26,28,19,24,14,17,5,10 <-> BB8 180°, parameters =  1.40242\n",
       "0.887722\n",
       "10,22 | 3,31,18,9,16,1,13,7,27,26,28,19,24,14,17,5 <-> BB8 90°, parameters = 1.18935\n",
       "0.99725\n",
       "17,12 | 22,3,31,18,9,16,1,13,7,27,26,28,19,24,14,5 <-> Frank, parameters = 0.565478\n",
       "13,21 | 12,22,3,31,18,9,16,1,5,24,14,26,19,7,27,28 <-> Independence\n",
       "** Tree: 17\n",
       "2,26 | 28,21,5,24,14,30,23,25,12,22,19,1,31,29,3,4,11 <-> Independence\n",
       "23,9 | 26,28,21,5,24,14,30,11,29,4,25,19,1,31,3,22,12 <-> Frank, parameters = 0.611081\n",
       "32,31 | 18,9,16,1,13,7,27,26,6,20,10,17,5,28,19,14,24 <-> Independence\n",
       "8,10 | 17,3,31,18,9,16,1,5,24,14,26,19,7,27,13,28,15 <-> Student, parameters = 0.0474487\n",
       "  8.95228\n",
       "6,3 | 31,18,9,16,1,13,7,27,26,28,19,24,14,20,17,5,10 <-> Joe, parameters = 1.05308\n",
       "15,22 | 10,17,3,31,18,9,16,1,5,24,14,26,19,7,27,13,28 <-> Joe 90°, parameters = 1.04694\n",
       "11,18 | 9,26,28,21,5,24,14,30,25,12,22,19,1,31,29,3,4 <-> Independence\n",
       "29,16 | 18,9,26,28,21,5,24,14,30,25,12,22,19,1,31,3,4 <-> Student, parameters = 0.00651916\n",
       "   15.7506\n",
       "4,27 | 16,18,9,26,28,21,5,24,14,30,25,12,22,19,1,31,3 <-> Independence\n",
       "25,7 | 27,16,18,9,26,28,21,5,24,14,30,19,1,31,3,12,22 <-> Independence\n",
       "30,13 | 7,27,16,18,9,26,28,21,5,24,14,19,1,31,3,12,22 <-> Gumbel 90°, parameters = 1.02731\n",
       "20,22 | 3,31,18,9,16,1,13,7,27,26,28,19,24,14,17,5,10 <-> BB8 90°, parameters =  1.41951\n",
       "0.814572\n",
       "10,12 | 22,3,31,18,9,16,1,13,7,27,26,28,19,24,14,17,5 <-> Clayton 270°, parameters = 0.0698681\n",
       "17,21 | 12,22,3,31,18,9,16,1,13,7,27,26,28,19,24,14,5 <-> Independence\n",
       "** Tree: 18\n",
       "2,9 | 26,28,21,5,24,14,30,23,25,12,22,19,1,31,29,3,4,11 <-> Frank, parameters = 0.757937\n",
       "23,18 | 9,26,28,21,5,24,14,30,11,29,4,25,19,1,31,3,22,12 <-> Frank, parameters = -0.61345\n",
       "32,3 | 31,18,9,16,1,13,7,27,26,6,20,10,17,5,28,19,14,24 <-> Independence\n",
       "8,22 | 10,17,3,31,18,9,16,1,5,24,14,26,19,7,27,13,28,15 <-> Joe 90°, parameters = 1.04449\n",
       "6,22 | 3,31,18,9,16,1,13,7,27,26,28,19,24,14,20,17,5,10 <-> Joe 90°, parameters = 1.03894\n",
       "15,12 | 22,10,17,3,31,18,9,16,1,5,24,14,26,19,7,27,13,28 <-> Frank, parameters = 0.905213\n",
       "11,16 | 18,9,26,28,21,5,24,14,30,25,12,22,19,1,31,29,3,4 <-> Gumbel 270°, parameters = 1.03621\n",
       "29,27 | 16,18,9,26,28,21,5,24,14,30,25,12,22,19,1,31,3,4 <-> Frank, parameters = 0.640798\n",
       "4,7 | 27,16,18,9,26,28,21,5,24,14,30,25,12,22,19,1,31,3 <-> Gumbel, parameters = 1.05975\n",
       "25,13 | 7,27,16,18,9,26,28,21,5,24,14,30,19,1,31,3,12,22 <-> Independence\n",
       "30,17 | 13,7,27,16,18,9,26,28,21,5,24,14,19,1,31,3,12,22 <-> Independence\n",
       "20,12 | 22,3,31,18,9,16,1,13,7,27,26,28,19,24,14,17,5,10 <-> BB8 90°, parameters =  1.17064\n",
       "0.925979\n",
       "10,21 | 12,22,3,31,18,9,16,1,13,7,27,26,28,19,24,14,17,5 <-> Clayton 90°, parameters = 0.0513294\n",
       "** Tree: 19\n",
       "2,18 | 9,26,28,21,5,24,14,30,23,25,12,22,19,1,31,29,3,4,11 <-> Frank, parameters = 0.602485\n",
       "23,16 | 18,9,26,28,21,5,24,14,30,11,29,4,25,19,1,31,3,22,12 <-> Joe 270°, parameters = 1.0687\n",
       "32,22 | 3,31,18,9,16,1,13,7,27,26,6,20,10,17,5,28,19,14,24 <-> Student, parameters = 0.0162357\n",
       "  16.1016\n",
       "8,12 | 22,10,17,3,31,18,9,16,1,5,24,14,26,19,7,27,13,28,15 <-> Independence\n",
       "6,12 | 22,3,31,18,9,16,1,13,7,27,26,28,19,24,14,20,17,5,10 <-> Independence\n",
       "15,21 | 12,22,10,17,3,31,18,9,16,1,5,24,14,26,19,7,27,13,28 <-> Clayton 90°, parameters = 0.0868537\n",
       "11,27 | 16,18,9,26,28,21,5,24,14,30,25,12,22,19,1,31,29,3,4 <-> Gaussian, parameters = -0.0955221\n",
       "29,7 | 27,16,18,9,26,28,21,5,24,14,30,25,12,22,19,1,31,3,4 <-> Clayton, parameters = 0.054841\n",
       "4,13 | 7,27,16,18,9,26,28,21,5,24,14,30,25,12,22,19,1,31,3 <-> Independence\n",
       "25,17 | 13,7,27,16,18,9,26,28,21,5,24,14,30,19,1,31,3,12,22 <-> Clayton 180°, parameters = 0.0694175\n",
       "30,10 | 17,13,7,27,16,18,9,26,28,21,5,24,14,19,1,31,3,12,22 <-> Student, parameters = -0.164332\n",
       "  7.31985\n",
       "20,21 | 12,22,3,31,18,9,16,1,13,7,27,26,28,19,24,14,17,5,10 <-> Independence\n",
       "** Tree: 20\n",
       "2,16 | 18,9,26,28,21,5,24,14,30,23,25,12,22,19,1,31,29,3,4,11 <-> Clayton 90°, parameters = 0.0836405\n",
       "23,27 | 16,18,9,26,28,21,5,24,14,30,11,29,4,25,19,1,31,3,22,12 <-> Clayton 90°, parameters = 0.114319\n",
       "32,12 | 22,3,31,18,9,16,1,13,7,27,26,6,20,10,17,5,28,19,14,24 <-> Independence\n",
       "8,21 | 12,22,10,17,3,31,18,9,16,1,5,24,14,26,19,7,27,13,28,15 <-> Frank, parameters = 0.546073\n",
       "6,21 | 12,22,3,31,18,9,16,1,13,7,27,26,28,19,24,14,20,17,5,10 <-> Clayton 90°, parameters = 0.0561391\n",
       "15,30 | 21,12,22,10,17,3,31,18,9,16,1,5,24,14,26,19,7,27,13,28 <-> Independence\n",
       "11,7 | 27,16,18,9,26,28,21,5,24,14,30,25,12,22,19,1,31,29,3,4 <-> Joe 90°, parameters = 1.02901\n",
       "29,13 | 7,27,16,18,9,26,28,21,5,24,14,30,25,12,22,19,1,31,3,4 <-> Frank, parameters = 0.42044\n",
       "4,17 | 13,7,27,16,18,9,26,28,21,5,24,14,30,25,12,22,19,1,31,3 <-> Frank, parameters = 0.288023\n",
       "25,10 | 17,13,7,27,16,18,9,26,28,21,5,24,14,30,19,1,31,3,12,22 <-> Student, parameters = -0.0391011\n",
       "   16.9532\n",
       "30,20 | 10,17,13,7,27,16,18,9,26,28,21,5,24,14,19,1,31,3,12,22 <-> Student, parameters = -0.115412\n",
       "  11.6804\n",
       "** Tree: 21\n",
       "2,27 | 16,18,9,26,28,21,5,24,14,30,23,25,12,22,19,1,31,29,3,4,11 <-> Frank, parameters = -0.523307\n",
       "23,7 | 27,16,18,9,26,28,21,5,24,14,30,11,29,4,25,19,1,31,3,22,12 <-> Clayton 270°, parameters = 0.0782134\n",
       "32,21 | 12,22,3,31,18,9,16,1,13,7,27,26,6,20,10,17,5,28,19,14,24 <-> Independence\n",
       "8,30 | 21,12,22,10,17,3,31,18,9,16,1,5,24,14,26,19,7,27,13,28,15 <-> Student, parameters = 0.019192\n",
       " 15.8401\n",
       "6,30 | 21,12,22,3,31,18,9,16,1,13,7,27,26,28,19,24,14,20,17,5,10 <-> Independence\n",
       "15,25 | 30,21,12,22,10,17,3,31,18,9,16,1,5,24,14,26,19,7,27,13,28 <-> Independence\n",
       "11,13 | 7,27,16,18,9,26,28,21,5,24,14,30,25,12,22,19,1,31,29,3,4 <-> Independence\n",
       "29,17 | 13,7,27,16,18,9,26,28,21,5,24,14,30,25,12,22,19,1,31,3,4 <-> Independence\n",
       "4,10 | 17,13,7,27,16,18,9,26,28,21,5,24,14,30,25,12,22,19,1,31,3 <-> Independence\n",
       "25,20 | 10,17,13,7,27,16,18,9,26,28,21,5,24,14,30,19,1,31,3,12,22 <-> Frank, parameters = -0.520325\n",
       "** Tree: 22\n",
       "2,7 | 27,16,18,9,26,28,21,5,24,14,30,23,25,12,22,19,1,31,29,3,4,11 <-> Student, parameters = -0.0397307\n",
       "   14.6773\n",
       "23,13 | 7,27,16,18,9,26,28,21,5,24,14,30,11,29,4,25,19,1,31,3,22,12 <-> Gaussian, parameters = 0.148833\n",
       "32,30 | 21,12,22,3,31,18,9,16,1,13,7,27,26,6,20,10,17,5,28,19,14,24 <-> Gumbel 180°, parameters = 1.05409\n",
       "8,25 | 30,21,12,22,10,17,3,31,18,9,16,1,5,24,14,26,19,7,27,13,28,15 <-> Independence\n",
       "6,25 | 30,21,12,22,3,31,18,9,16,1,13,7,27,26,28,19,24,14,20,17,5,10 <-> Independence\n",
       "15,4 | 25,30,21,12,22,10,17,3,31,18,9,16,1,5,24,14,26,19,7,27,13,28 <-> Gaussian, parameters = 0.10519\n",
       "11,17 | 13,7,27,16,18,9,26,28,21,5,24,14,30,25,12,22,19,1,31,29,3,4 <-> Independence\n",
       "29,10 | 17,13,7,27,16,18,9,26,28,21,5,24,14,30,25,12,22,19,1,31,3,4 <-> Student, parameters = -0.0266999\n",
       "   16.4774\n",
       "4,20 | 10,17,13,7,27,16,18,9,26,28,21,5,24,14,30,25,12,22,19,1,31,3 <-> Gumbel 180°, parameters = 1.03378\n",
       "** Tree: 23\n",
       "2,13 | 7,27,16,18,9,26,28,21,5,24,14,30,23,25,12,22,19,1,31,29,3,4,11 <-> Student, parameters = 0.0225307\n",
       "  12.5415\n",
       "23,17 | 13,7,27,16,18,9,26,28,21,5,24,14,30,11,29,4,25,19,1,31,3,22,12 <-> BB8 90°, parameters =  1.41699\n",
       "0.789832\n",
       "32,25 | 30,21,12,22,3,31,18,9,16,1,13,7,27,26,6,20,10,17,5,28,19,14,24 <-> Independence\n",
       "8,4 | 25,30,21,12,22,10,17,3,31,18,9,16,1,5,24,14,26,19,7,27,13,28,15 <-> Independence\n",
       "6,4 | 25,30,21,12,22,3,31,18,9,16,1,13,7,27,26,28,19,24,14,20,17,5,10 <-> Clayton, parameters = 0.0518252\n",
       "15,29 | 4,25,30,21,12,22,10,17,3,31,18,9,16,1,5,24,14,26,19,7,27,13,28 <-> Joe, parameters = 1.04496\n",
       "11,10 | 17,13,7,27,16,18,9,26,28,21,5,24,14,30,25,12,22,19,1,31,29,3,4 <-> Frank, parameters = 0.740472\n",
       "29,20 | 10,17,13,7,27,16,18,9,26,28,21,5,24,14,30,25,12,22,19,1,31,3,4 <-> Joe 180°, parameters = 1.03767\n",
       "** Tree: 24\n",
       "2,17 | 13,7,27,16,18,9,26,28,21,5,24,14,30,23,25,12,22,19,1,31,29,3,4,11 <-> Independence\n",
       "23,10 | 17,13,7,27,16,18,9,26,28,21,5,24,14,30,11,29,4,25,19,1,31,3,22,12 <-> Independence\n",
       "32,4 | 25,30,21,12,22,3,31,18,9,16,1,13,7,27,26,6,20,10,17,5,28,19,14,24 <-> Gumbel 90°, parameters = 1.02718\n",
       "8,29 | 4,25,30,21,12,22,10,17,3,31,18,9,16,1,5,24,14,26,19,7,27,13,28,15 <-> Frank, parameters = -0.364639\n",
       "6,29 | 4,25,30,21,12,22,3,31,18,9,16,1,13,7,27,26,28,19,24,14,20,17,5,10 <-> Independence\n",
       "15,11 | 29,4,25,30,21,12,22,10,17,3,31,18,9,16,1,5,24,14,26,19,7,27,13,28 <-> Frank, parameters = -0.703704\n",
       "11,20 | 10,17,13,7,27,16,18,9,26,28,21,5,24,14,30,25,12,22,19,1,31,29,3,4 <-> Frank, parameters = -0.340863\n",
       "** Tree: 25\n",
       "2,10 | 17,13,7,27,16,18,9,26,28,21,5,24,14,30,23,25,12,22,19,1,31,29,3,4,11 <-> Student, parameters = 0.0333307\n",
       "  10.3243\n",
       "23,15 | 10,17,13,7,27,16,18,9,26,28,21,5,24,14,30,11,29,4,25,19,1,31,3,22,12 <-> Gaussian, parameters = -0.185823\n",
       "32,29 | 4,25,30,21,12,22,3,31,18,9,16,1,13,7,27,26,6,20,10,17,5,28,19,14,24 <-> Independence\n",
       "8,11 | 29,4,25,30,21,12,22,10,17,3,31,18,9,16,1,5,24,14,26,19,7,27,13,28,15 <-> Independence\n",
       "6,11 | 29,4,25,30,21,12,22,3,31,18,9,16,1,13,7,27,26,28,19,24,14,20,17,5,10 <-> Gumbel 270°, parameters = 1.02779\n",
       "15,20 | 11,29,4,25,30,21,12,22,10,17,3,31,18,9,16,1,5,24,14,26,19,7,27,13,28 <-> Clayton 90°, parameters = 0.0498267\n",
       "** Tree: 26\n",
       "2,15 | 10,17,13,7,27,16,18,9,26,28,21,5,24,14,30,23,25,12,22,19,1,31,29,3,4,11 <-> Frank, parameters = -0.621097\n",
       "23,8 | 15,10,17,13,7,27,16,18,9,26,28,21,5,24,14,30,11,29,4,25,19,1,31,3,22,12 <-> Frank, parameters = -0.490842\n",
       "32,11 | 29,4,25,30,21,12,22,3,31,18,9,16,1,13,7,27,26,6,20,10,17,5,28,19,14,24 <-> Frank, parameters = 0.451514\n",
       "8,20 | 11,29,4,25,30,21,12,22,10,17,3,31,18,9,16,1,5,24,14,26,19,7,27,13,28,15 <-> Frank, parameters = 0.73559\n",
       "6,15 | 11,29,4,25,30,21,12,22,3,31,18,9,16,1,13,7,27,26,28,19,24,14,20,17,5,10 <-> Gumbel 270°, parameters = 1.03931\n",
       "** Tree: 27\n",
       "2,8 | 15,10,17,13,7,27,16,18,9,26,28,21,5,24,14,30,23,25,12,22,19,1,31,29,3,4,11 <-> Independence\n",
       "23,20 | 8,15,10,17,13,7,27,16,18,9,26,28,21,5,24,14,30,11,29,4,25,19,1,31,3,22,12 <-> Independence\n",
       "32,15 | 11,29,4,25,30,21,12,22,3,31,18,9,16,1,13,7,27,26,6,20,10,17,5,28,19,14,24 <-> Independence\n",
       "8,6 | 20,11,29,4,25,30,21,12,22,10,17,3,31,18,9,16,1,5,24,14,26,19,7,27,13,28,15 <-> Clayton 180°, parameters = 0.0534272\n",
       "** Tree: 28\n",
       "2,20 | 8,15,10,17,13,7,27,16,18,9,26,28,21,5,24,14,30,23,25,12,22,19,1,31,29,3,4,11 <-> Independence\n",
       "23,6 | 20,8,15,10,17,13,7,27,16,18,9,26,28,21,5,24,14,30,11,29,4,25,19,1,31,3,22,12 <-> Clayton, parameters = 0.0497478\n",
       "32,8 | 15,11,29,4,25,30,21,12,22,3,31,18,9,16,1,13,7,27,26,6,20,10,17,5,28,19,14,24 <-> Joe 90°, parameters = 1.03444\n",
       "** Tree: 29\n",
       "2,6 | 20,8,15,10,17,13,7,27,16,18,9,26,28,21,5,24,14,30,23,25,12,22,19,1,31,29,3,4,11 <-> Independence\n",
       "23,32 | 6,20,8,15,10,17,13,7,27,16,18,9,26,28,21,5,24,14,30,11,29,4,25,19,1,31,3,22,12 <-> Independence\n",
       "** Tree: 30\n",
       "2,32 | 6,20,8,15,10,17,13,7,27,16,18,9,26,28,21,5,24,14,30,23,25,12,22,19,1,31,29,3,4,11 <-> Independence"
      ]
     },
     "execution_count": 12,
     "metadata": {},
     "output_type": "execute_result"
    }
   ],
   "source": [
    "# family_set=[\n",
    "#        pv.BicopFamily.indep,\n",
    "#        pv.BicopFamily.gaussian,\n",
    "#        pv.BicopFamily.clayton,\n",
    "#        pv.BicopFamily.gumbel,\n",
    "#        pv.BicopFamily.frank,\n",
    "#        pv.BicopFamily.joe,\n",
    "#    ],\n",
    "controls = pv.FitControlsVinecop(\n",
    "    num_threads=4,\n",
    ")\n",
    "vine = pv.Vinecop(data=u, controls=controls)\n",
    "vine"
   ]
  },
  {
   "cell_type": "markdown",
   "id": "27378c55",
   "metadata": {},
   "source": [
    "Sample from the copula"
   ]
  },
  {
   "cell_type": "code",
   "execution_count": 13,
   "id": "91de71e1",
   "metadata": {},
   "outputs": [],
   "source": [
    "u_sim = vine.simulate(n=100, seeds=[42])"
   ]
  },
  {
   "cell_type": "markdown",
   "id": "0f1fba53",
   "metadata": {},
   "source": [
    "Transform back simulations to the original scale"
   ]
  },
  {
   "cell_type": "code",
   "execution_count": 14,
   "id": "7b6e20aa",
   "metadata": {},
   "outputs": [
    {
     "data": {
      "text/plain": [
       "(100, 32)"
      ]
     },
     "execution_count": 14,
     "metadata": {},
     "output_type": "execute_result"
    }
   ],
   "source": [
    "x_sim = np.asarray([np.quantile(x[:, i], u_sim[:, i]) for i in range(0, 32)])\n",
    "x_sim = x_sim.transpose(1, 0)\n",
    "x_sim.shape"
   ]
  },
  {
   "cell_type": "code",
   "execution_count": 15,
   "id": "fcd47401",
   "metadata": {},
   "outputs": [
    {
     "data": {
      "text/plain": [
       "(4068, 32)"
      ]
     },
     "execution_count": 15,
     "metadata": {},
     "output_type": "execute_result"
    }
   ],
   "source": [
    "encodings = np.concatenate((x, x_sim), axis=0)\n",
    "encodings.shape"
   ]
  },
  {
   "cell_type": "code",
   "execution_count": 16,
   "id": "fbd9aab6",
   "metadata": {},
   "outputs": [
    {
     "data": {
      "text/plain": [
       "(4068, 2)"
      ]
     },
     "execution_count": 16,
     "metadata": {},
     "output_type": "execute_result"
    }
   ],
   "source": [
    "z_embedded = TSNE(n_components=2).fit_transform(encodings)\n",
    "z_embedded.shape"
   ]
  },
  {
   "cell_type": "markdown",
   "id": "b380cdb9",
   "metadata": {},
   "source": [
    "Plot embeddings (blue=original, red=sampled)"
   ]
  },
  {
   "cell_type": "code",
   "execution_count": 17,
   "id": "7dc1c356",
   "metadata": {},
   "outputs": [
    {
     "data": {
      "image/png": "[encoded data removed]",
      "text/plain": [
       "<Figure size 360x720 with 2 Axes>"
      ]
     },
     "metadata": {
      "needs_background": "light"
     },
     "output_type": "display_data"
    }
   ],
   "source": [
    "fig, ax = plt.subplots(2, figsize=(5, 10))\n",
    "ax[0].scatter(z_embedded[:3968, 0], z_embedded[:3968, 1], s=4)\n",
    "ax[1].scatter(z_embedded[3968:, 0], z_embedded[3968:, 1], s=4, c='red')\n",
    "plt.show()"
   ]
  },
  {
   "cell_type": "markdown",
   "id": "6567af42",
   "metadata": {},
   "source": [
    "Find closest original trajectories"
   ]
  },
  {
   "cell_type": "code",
   "execution_count": 18,
   "id": "2dea5c0c",
   "metadata": {},
   "outputs": [
    {
     "name": "stdout",
     "output_type": "stream",
     "text": [
      "X generated: (32, 100)\n",
      "X real: (32, 3968)\n"
     ]
    }
   ],
   "source": [
    "Xg = x_sim.T\n",
    "Xr = x.T\n",
    "print(f\"X generated: {Xg.shape}\")\n",
    "print(f\"X real: {Xr.shape}\")"
   ]
  },
  {
   "cell_type": "code",
   "execution_count": 19,
   "id": "ea2c27b8",
   "metadata": {},
   "outputs": [],
   "source": [
    "diff = (Xg[np.newaxis,...] - Xr[np.newaxis,...].T)\n",
    "D = np.sqrt((diff**2).sum(1)).T\n",
    "originals_idx = np.argmin(D, axis=1)"
   ]
  },
  {
   "cell_type": "code",
   "execution_count": 20,
   "id": "4b1615c7",
   "metadata": {},
   "outputs": [
    {
     "data": {
      "text/plain": [
       "torch.Size([100, 200, 4])"
      ]
     },
     "execution_count": 20,
     "metadata": {},
     "output_type": "execute_result"
    }
   ],
   "source": [
    "originals, _, info = dataset[originals_idx]\n",
    "originals = torch.transpose(originals, 1, 2)\n",
    "originals.size()"
   ]
  },
  {
   "cell_type": "code",
   "execution_count": 21,
   "id": "0a2c8ae3",
   "metadata": {},
   "outputs": [],
   "source": [
    "data = originals.detach().numpy()\n",
    "data = data.reshape((data.shape[0], -1))\n",
    "data = dataset.scaler.inverse_transform(data)"
   ]
  },
  {
   "cell_type": "code",
   "execution_count": 22,
   "id": "993e8dfb",
   "metadata": {},
   "outputs": [
    {
     "data": {
      "text/html": [
       "<b>Traffic with 100 identifiers</b><style  type=\"text/css\" >\n",
       "#T_cc009_row0_col0,#T_cc009_row1_col0,#T_cc009_row2_col0,#T_cc009_row3_col0,#T_cc009_row4_col0,#T_cc009_row5_col0,#T_cc009_row6_col0,#T_cc009_row7_col0,#T_cc009_row8_col0,#T_cc009_row9_col0{\n",
       "            width:  10em;\n",
       "             height:  80%;\n",
       "            background:  linear-gradient(90deg,#5fba7d 100.0%, transparent 100.0%);\n",
       "        }</style><table id=\"T_cc009_\" ><thead>    <tr>        <th class=\"blank level0\" ></th>        <th class=\"col_heading level0 col0\" >count</th>    </tr>    <tr>        <th class=\"index_name level0\" >flight_id</th>        <th class=\"blank\" ></th>    </tr></thead><tbody>\n",
       "                <tr>\n",
       "                        <th id=\"T_cc009_level0_row0\" class=\"row_heading level0 row0\" >0</th>\n",
       "                        <td id=\"T_cc009_row0_col0\" class=\"data row0 col0\" >200</td>\n",
       "            </tr>\n",
       "            <tr>\n",
       "                        <th id=\"T_cc009_level0_row1\" class=\"row_heading level0 row1\" >66</th>\n",
       "                        <td id=\"T_cc009_row1_col0\" class=\"data row1 col0\" >200</td>\n",
       "            </tr>\n",
       "            <tr>\n",
       "                        <th id=\"T_cc009_level0_row2\" class=\"row_heading level0 row2\" >75</th>\n",
       "                        <td id=\"T_cc009_row2_col0\" class=\"data row2 col0\" >200</td>\n",
       "            </tr>\n",
       "            <tr>\n",
       "                        <th id=\"T_cc009_level0_row3\" class=\"row_heading level0 row3\" >74</th>\n",
       "                        <td id=\"T_cc009_row3_col0\" class=\"data row3 col0\" >200</td>\n",
       "            </tr>\n",
       "            <tr>\n",
       "                        <th id=\"T_cc009_level0_row4\" class=\"row_heading level0 row4\" >73</th>\n",
       "                        <td id=\"T_cc009_row4_col0\" class=\"data row4 col0\" >200</td>\n",
       "            </tr>\n",
       "            <tr>\n",
       "                        <th id=\"T_cc009_level0_row5\" class=\"row_heading level0 row5\" >72</th>\n",
       "                        <td id=\"T_cc009_row5_col0\" class=\"data row5 col0\" >200</td>\n",
       "            </tr>\n",
       "            <tr>\n",
       "                        <th id=\"T_cc009_level0_row6\" class=\"row_heading level0 row6\" >71</th>\n",
       "                        <td id=\"T_cc009_row6_col0\" class=\"data row6 col0\" >200</td>\n",
       "            </tr>\n",
       "            <tr>\n",
       "                        <th id=\"T_cc009_level0_row7\" class=\"row_heading level0 row7\" >70</th>\n",
       "                        <td id=\"T_cc009_row7_col0\" class=\"data row7 col0\" >200</td>\n",
       "            </tr>\n",
       "            <tr>\n",
       "                        <th id=\"T_cc009_level0_row8\" class=\"row_heading level0 row8\" >7</th>\n",
       "                        <td id=\"T_cc009_row8_col0\" class=\"data row8 col0\" >200</td>\n",
       "            </tr>\n",
       "            <tr>\n",
       "                        <th id=\"T_cc009_level0_row9\" class=\"row_heading level0 row9\" >69</th>\n",
       "                        <td id=\"T_cc009_row9_col0\" class=\"data row9 col0\" >200</td>\n",
       "            </tr>\n",
       "    </tbody></table>"
      ],
      "text/plain": [
       "           count\n",
       "flight_id       \n",
       "0            200\n",
       "66           200\n",
       "75           200\n",
       "74           200\n",
       "73           200\n",
       "72           200\n",
       "71           200\n",
       "70           200\n",
       "7            200\n",
       "69           200"
      ]
     },
     "execution_count": 22,
     "metadata": {},
     "output_type": "execute_result"
    }
   ],
   "source": [
    "data = np.concatenate((info, data), axis=1)\n",
    "builder = model.get_builder(data.shape[0])\n",
    "features = [\n",
    "    \"track\" if \"track\" in f else f for f in model.hparams.features\n",
    "]\n",
    "traffic_original = traffic_from_data(\n",
    "    data, features, model.hparams.init_features, builder=builder\n",
    ")\n",
    "traffic_original"
   ]
  },
  {
   "cell_type": "markdown",
   "id": "9eb024bd",
   "metadata": {},
   "source": [
    "Decode generated samples"
   ]
  },
  {
   "cell_type": "code",
   "execution_count": 23,
   "id": "fbd2f86d",
   "metadata": {},
   "outputs": [
    {
     "data": {
      "text/plain": [
       "torch.Size([100, 200, 4])"
      ]
     },
     "execution_count": 23,
     "metadata": {},
     "output_type": "execute_result"
    }
   ],
   "source": [
    "outputs = model.decoder(torch.Tensor(x_sim))\n",
    "outputs = torch.transpose(outputs, 1, 2)\n",
    "outputs.size()"
   ]
  },
  {
   "cell_type": "code",
   "execution_count": 24,
   "id": "fa59b95c",
   "metadata": {},
   "outputs": [],
   "source": [
    "data = outputs.detach().numpy()\n",
    "data = data.reshape((data.shape[0], -1))\n",
    "data = dataset.scaler.inverse_transform(data)"
   ]
  },
  {
   "cell_type": "code",
   "execution_count": 25,
   "id": "9a86c311",
   "metadata": {},
   "outputs": [
    {
     "data": {
      "text/html": [
       "<b>Traffic with 100 identifiers</b><style  type=\"text/css\" >\n",
       "#T_10600_row0_col0,#T_10600_row1_col0,#T_10600_row2_col0,#T_10600_row3_col0,#T_10600_row4_col0,#T_10600_row5_col0,#T_10600_row6_col0,#T_10600_row7_col0,#T_10600_row8_col0,#T_10600_row9_col0{\n",
       "            width:  10em;\n",
       "             height:  80%;\n",
       "            background:  linear-gradient(90deg,#5fba7d 100.0%, transparent 100.0%);\n",
       "        }</style><table id=\"T_10600_\" ><thead>    <tr>        <th class=\"blank level0\" ></th>        <th class=\"col_heading level0 col0\" >count</th>    </tr>    <tr>        <th class=\"index_name level0\" >flight_id</th>        <th class=\"blank\" ></th>    </tr></thead><tbody>\n",
       "                <tr>\n",
       "                        <th id=\"T_10600_level0_row0\" class=\"row_heading level0 row0\" >0</th>\n",
       "                        <td id=\"T_10600_row0_col0\" class=\"data row0 col0\" >200</td>\n",
       "            </tr>\n",
       "            <tr>\n",
       "                        <th id=\"T_10600_level0_row1\" class=\"row_heading level0 row1\" >66</th>\n",
       "                        <td id=\"T_10600_row1_col0\" class=\"data row1 col0\" >200</td>\n",
       "            </tr>\n",
       "            <tr>\n",
       "                        <th id=\"T_10600_level0_row2\" class=\"row_heading level0 row2\" >75</th>\n",
       "                        <td id=\"T_10600_row2_col0\" class=\"data row2 col0\" >200</td>\n",
       "            </tr>\n",
       "            <tr>\n",
       "                        <th id=\"T_10600_level0_row3\" class=\"row_heading level0 row3\" >74</th>\n",
       "                        <td id=\"T_10600_row3_col0\" class=\"data row3 col0\" >200</td>\n",
       "            </tr>\n",
       "            <tr>\n",
       "                        <th id=\"T_10600_level0_row4\" class=\"row_heading level0 row4\" >73</th>\n",
       "                        <td id=\"T_10600_row4_col0\" class=\"data row4 col0\" >200</td>\n",
       "            </tr>\n",
       "            <tr>\n",
       "                        <th id=\"T_10600_level0_row5\" class=\"row_heading level0 row5\" >72</th>\n",
       "                        <td id=\"T_10600_row5_col0\" class=\"data row5 col0\" >200</td>\n",
       "            </tr>\n",
       "            <tr>\n",
       "                        <th id=\"T_10600_level0_row6\" class=\"row_heading level0 row6\" >71</th>\n",
       "                        <td id=\"T_10600_row6_col0\" class=\"data row6 col0\" >200</td>\n",
       "            </tr>\n",
       "            <tr>\n",
       "                        <th id=\"T_10600_level0_row7\" class=\"row_heading level0 row7\" >70</th>\n",
       "                        <td id=\"T_10600_row7_col0\" class=\"data row7 col0\" >200</td>\n",
       "            </tr>\n",
       "            <tr>\n",
       "                        <th id=\"T_10600_level0_row8\" class=\"row_heading level0 row8\" >7</th>\n",
       "                        <td id=\"T_10600_row8_col0\" class=\"data row8 col0\" >200</td>\n",
       "            </tr>\n",
       "            <tr>\n",
       "                        <th id=\"T_10600_level0_row9\" class=\"row_heading level0 row9\" >69</th>\n",
       "                        <td id=\"T_10600_row9_col0\" class=\"data row9 col0\" >200</td>\n",
       "            </tr>\n",
       "    </tbody></table>"
      ],
      "text/plain": [
       "           count\n",
       "flight_id       \n",
       "0            200\n",
       "66           200\n",
       "75           200\n",
       "74           200\n",
       "73           200\n",
       "72           200\n",
       "71           200\n",
       "70           200\n",
       "7            200\n",
       "69           200"
      ]
     },
     "execution_count": 25,
     "metadata": {},
     "output_type": "execute_result"
    }
   ],
   "source": [
    "# add latitude longitude info\n",
    "# info = np.ones((20, 2)) * 40\n",
    "data = np.concatenate((info, data), axis=1)\n",
    "builder = model.get_builder(data.shape[0])\n",
    "features = [\n",
    "    \"track\" if \"track\" in f else f for f in model.hparams.features\n",
    "]\n",
    "traffic_generated = traffic_from_data(\n",
    "    data, features, model.hparams.init_features, builder=builder\n",
    ")\n",
    "traffic_generated"
   ]
  },
  {
   "cell_type": "code",
   "execution_count": 26,
   "id": "a560b3f5",
   "metadata": {},
   "outputs": [
    {
     "data": {
      "image/png": "[encoded data removed]",
      "text/plain": [
       "<Figure size 720x504 with 2 Axes>"
      ]
     },
     "metadata": {},
     "output_type": "display_data"
    }
   ],
   "source": [
    "flight_id = 0\n",
    "generated = traffic_generated[str(flight_id)]\n",
    "original = traffic_original[str(flight_id)]\n",
    "\n",
    "with plt.style.context(\"traffic\"):\n",
    "    fig, ax = plt.subplots(1, 2, subplot_kw=dict(projection=EuroPP()))\n",
    "    ax[0].set_title(\"Closest original\")\n",
    "    original.plot(ax[0])\n",
    "    ax[1].set_title(\"Generated\")\n",
    "    generated.plot(ax[1])\n",
    "\n",
    "    plt.show()"
   ]
  },
  {
   "cell_type": "code",
   "execution_count": 27,
   "id": "355647f6",
   "metadata": {},
   "outputs": [
    {
     "data": {
      "text/html": [
       "\n",
       "<div id=\"altair-viz-c18261beeadb44acbff3e071c90959f9\"></div>\n",
       "<script type=\"text/javascript\">\n",
       "  (function(spec, embedOpt){\n",
       "    let outputDiv = document.currentScript.previousElementSibling;\n",
       "    if (outputDiv.id !== \"altair-viz-c18261beeadb44acbff3e071c90959f9\") {\n",
       "      outputDiv = document.getElementById(\"altair-viz-c18261beeadb44acbff3e071c90959f9\");\n",
       "    }\n",
       "    const paths = {\n",
       "      \"vega\": \"https://cdn.jsdelivr.net/npm//vega@5?noext\",\n",
       "      \"vega-lib\": \"https://cdn.jsdelivr.net/npm//vega-lib?noext\",\n",
       "      \"vega-lite\": \"https://cdn.jsdelivr.net/npm//vega-lite@4.8.1?noext\",\n",
       "      \"vega-embed\": \"https://cdn.jsdelivr.net/npm//vega-embed@6?noext\",\n",
       "    };\n",
       "\n",
       "    function loadScript(lib) {\n",
       "      return new Promise(function(resolve, reject) {\n",
       "        var s = document.createElement('script');\n",
       "        s.src = paths[lib];\n",
       "        s.async = true;\n",
       "        s.onload = () => resolve(paths[lib]);\n",
       "        s.onerror = () => reject(`Error loading script: ${paths[lib]}`);\n",
       "        document.getElementsByTagName(\"head\")[0].appendChild(s);\n",
       "      });\n",
       "    }\n",
       "\n",
       "    function showError(err) {\n",
       "      outputDiv.innerHTML = `<div class=\"error\" style=\"color:red;\">${err}</div>`;\n",
       "      throw err;\n",
       "    }\n",
       "\n",
       "    function displayChart(vegaEmbed) {\n",
       "      vegaEmbed(outputDiv, spec, embedOpt)\n",
       "        .catch(err => showError(`Javascript Error: ${err.message}<br>This usually means there's a typo in your chart specification. See the javascript console for the full traceback.`));\n",
       "    }\n",
       "\n",
       "    if(typeof define === \"function\" && define.amd) {\n",
       "      requirejs.config({paths});\n",
       "      require([\"vega-embed\"], displayChart, err => showError(`Error loading script: ${err.message}`));\n",
       "    } else if (typeof vegaEmbed === \"function\") {\n",
       "      displayChart(vegaEmbed);\n",
       "    } else {\n",
       "      loadScript(\"vega\")\n",
       "        .then(() => loadScript(\"vega-lite\"))\n",
       "        .then(() => loadScript(\"vega-embed\"))\n",
       "        .catch(showError)\n",
       "        .then(() => displayChart(vegaEmbed));\n",
       "    }\n",
       "  })({\"config\": {\"view\": {\"continuousWidth\": 400, \"continuousHeight\": 300}}, \"data\": {\"name\": \"data-d083737ff0e9a3578d6448b2a363c04b\"}, \"mark\": \"line\", \"encoding\": {\"color\": {\"type\": \"nominal\", \"field\": \"flight_id\"}, \"x\": {\"type\": \"temporal\", \"field\": \"timestamp\"}, \"y\": {\"type\": \"quantitative\", \"field\": \"track\"}}, \"$schema\": \"https://vega.github.io/schema/vega-lite/v4.8.1.json\", \"datasets\": {\"data-d083737ff0e9a3578d6448b2a363c04b\": [{\"track\": 205.90850830078125, \"groundspeed\": 336.12554931640625, \"altitude\": 14044.533203125, \"timedelta\": 0.0010245740413665771, \"latitude\": 48.12453842163086, \"longitude\": 8.658493995666504, \"flight_id\": \"0\", \"callsign\": \"0\", \"icao24\": \"0\", \"timestamp\": \"2021-08-31T16:57:54.505159574\"}, {\"track\": 206.05795288085938, \"groundspeed\": 335.2626953125, \"altitude\": 13980.013671875, \"timedelta\": 3.5752015113830566, \"latitude\": 48.119538739494054, \"longitude\": 8.654866957402955, \"flight_id\": \"0\", \"callsign\": \"0\", \"icao24\": \"0\", \"timestamp\": \"2021-08-31T16:57:58.079336511\"}, {\"track\": 205.937255859375, \"groundspeed\": 334.4137268066406, \"altitude\": 13896.8564453125, \"timedelta\": 7.228631019592285, \"latitude\": 48.11444778400001, \"longitude\": 8.651149534813982, \"flight_id\": \"0\", \"callsign\": \"0\", \"icao24\": \"0\", \"timestamp\": \"2021-08-31T16:58:01.732766020\"}, {\"track\": 206.1261444091797, \"groundspeed\": 333.3500061035156, \"altitude\": 13815.8173828125, \"timedelta\": 10.82083511352539, \"latitude\": 48.109449684667645, \"longitude\": 8.647519731909759, \"flight_id\": \"0\", \"callsign\": \"0\", \"icao24\": \"0\", \"timestamp\": \"2021-08-31T16:58:05.324970114\"}, {\"track\": 205.7230224609375, \"groundspeed\": 332.5996398925781, \"altitude\": 13733.7568359375, \"timedelta\": 14.429823875427246, \"latitude\": 48.10445225294137, \"longitude\": 8.643860304140443, \"flight_id\": \"0\", \"callsign\": \"0\", \"icao24\": \"0\", \"timestamp\": \"2021-08-31T16:58:08.933958875\"}, {\"track\": 205.29505920410156, \"groundspeed\": 331.8536071777344, \"altitude\": 13647.7041015625, \"timedelta\": 18.044893264770508, \"latitude\": 48.09944055488014, \"longitude\": 8.640255867700628, \"flight_id\": \"0\", \"callsign\": \"0\", \"icao24\": \"0\", \"timestamp\": \"2021-08-31T16:58:12.549028265\"}, {\"track\": 204.58250427246094, \"groundspeed\": 330.8169250488281, \"altitude\": 13567.2568359375, \"timedelta\": 21.66320037841797, \"latitude\": 48.094417746683845, \"longitude\": 8.636712548625942, \"flight_id\": \"0\", \"callsign\": \"0\", \"icao24\": \"0\", \"timestamp\": \"2021-08-31T16:58:16.167335378\"}, {\"track\": 204.13116455078125, \"groundspeed\": 329.9120178222656, \"altitude\": 13485.4833984375, \"timedelta\": 25.243925094604492, \"latitude\": 48.08943389817213, \"longitude\": 8.633309571379955, \"flight_id\": \"0\", \"callsign\": \"0\", \"icao24\": \"0\", \"timestamp\": \"2021-08-31T16:58:19.748060095\"}, {\"track\": 203.31884765625, \"groundspeed\": 328.9156188964844, \"altitude\": 13400.05078125, \"timedelta\": 28.87320327758789, \"latitude\": 48.08437828683345, \"longitude\": 8.62992955218737, \"flight_id\": \"0\", \"callsign\": \"0\", \"icao24\": \"0\", \"timestamp\": \"2021-08-31T16:58:23.377338278\"}, {\"track\": 202.7362060546875, \"groundspeed\": 328.00140380859375, \"altitude\": 13325.849609375, \"timedelta\": 32.4690055847168, \"latitude\": 48.07935322139915, \"longitude\": 8.626697135716197, \"flight_id\": \"0\", \"callsign\": \"0\", \"icao24\": \"0\", \"timestamp\": \"2021-08-31T16:58:26.973140585\"}, {\"track\": 202.19061279296875, \"groundspeed\": 327.4737854003906, \"altitude\": 13246.0791015625, \"timedelta\": 36.076438903808594, \"latitude\": 48.074304135416064, \"longitude\": 8.62354004133859, \"flight_id\": \"0\", \"callsign\": \"0\", \"icao24\": \"0\", \"timestamp\": \"2021-08-31T16:58:30.580573904\"}, {\"track\": 201.748046875, \"groundspeed\": 326.6111145019531, \"altitude\": 13162.9345703125, \"timedelta\": 39.6732177734375, \"latitude\": 48.06925823052282, \"longitude\": 8.620469190771505, \"flight_id\": \"0\", \"callsign\": \"0\", \"icao24\": \"0\", \"timestamp\": \"2021-08-31T16:58:34.177352773\"}, {\"track\": 201.2890167236328, \"groundspeed\": 325.4829406738281, \"altitude\": 13081.8095703125, \"timedelta\": 43.30930709838867, \"latitude\": 48.06415473328803, \"longitude\": 8.617431979335873, \"flight_id\": \"0\", \"callsign\": \"0\", \"icao24\": \"0\", \"timestamp\": \"2021-08-31T16:58:37.813442098\"}, {\"track\": 201.05079650878906, \"groundspeed\": 324.2795715332031, \"altitude\": 12989.61328125, \"timedelta\": 46.89764404296875, \"latitude\": 48.05911977574454, \"longitude\": 8.614505377612918, \"flight_id\": \"0\", \"callsign\": \"0\", \"icao24\": \"0\", \"timestamp\": \"2021-08-31T16:58:41.401779043\"}, {\"track\": 200.70974731445312, \"groundspeed\": 323.4058532714844, \"altitude\": 12920.0283203125, \"timedelta\": 50.509788513183594, \"latitude\": 48.054062009768714, \"longitude\": 8.611601877996966, \"flight_id\": \"0\", \"callsign\": \"0\", \"icao24\": \"0\", \"timestamp\": \"2021-08-31T16:58:45.013923513\"}, {\"track\": 200.5063934326172, \"groundspeed\": 322.22149658203125, \"altitude\": 12834.8486328125, \"timedelta\": 54.10670471191406, \"latitude\": 48.04902771483976, \"longitude\": 8.60876333104539, \"flight_id\": \"0\", \"callsign\": \"0\", \"icao24\": \"0\", \"timestamp\": \"2021-08-31T16:58:48.610839712\"}, {\"track\": 200.33973693847656, \"groundspeed\": 321.31182861328125, \"altitude\": 12760.5673828125, \"timedelta\": 57.758079528808594, \"latitude\": 48.04392911073801, \"longitude\": 8.605919611395926, \"flight_id\": \"0\", \"callsign\": \"0\", \"icao24\": \"0\", \"timestamp\": \"2021-08-31T16:58:52.262214529\"}, {\"track\": 200.6573028564453, \"groundspeed\": 319.8044128417969, \"altitude\": 12668.712890625, \"timedelta\": 61.318180084228516, \"latitude\": 48.038966616737035, \"longitude\": 8.603176581278436, \"flight_id\": \"0\", \"callsign\": \"0\", \"icao24\": \"0\", \"timestamp\": \"2021-08-31T16:58:55.822315084\"}, {\"track\": 200.81546020507812, \"groundspeed\": 318.7093200683594, \"altitude\": 12586.064453125, \"timedelta\": 64.95594787597656, \"latitude\": 48.033930091384434, \"longitude\": 8.600345466905413, \"flight_id\": \"0\", \"callsign\": \"0\", \"icao24\": \"0\", \"timestamp\": \"2021-08-31T16:58:59.460082876\"}, {\"track\": 201.30418395996094, \"groundspeed\": 317.36614990234375, \"altitude\": 12500.0546875, \"timedelta\": 68.5381088256836, \"latitude\": 48.02899269559639, \"longitude\": 8.597547111704095, \"flight_id\": \"0\", \"callsign\": \"0\", \"icao24\": \"0\", \"timestamp\": \"2021-08-31T16:59:03.042243826\"}, {\"track\": 201.72113037109375, \"groundspeed\": 315.2790832519531, \"altitude\": 12419.4794921875, \"timedelta\": 72.02511596679688, \"latitude\": 48.02422239683348, \"longitude\": 8.594774064172507, \"flight_id\": \"0\", \"callsign\": \"0\", \"icao24\": \"0\", \"timestamp\": \"2021-08-31T16:59:06.529250967\"}, {\"track\": 202.07603454589844, \"groundspeed\": 314.0496826171875, \"altitude\": 12328.3203125, \"timedelta\": 75.74321746826172, \"latitude\": 48.01918387139469, \"longitude\": 8.591782239623608, \"flight_id\": \"0\", \"callsign\": \"0\", \"icao24\": \"0\", \"timestamp\": \"2021-08-31T16:59:10.247352468\"}, {\"track\": 202.19625854492188, \"groundspeed\": 312.805908203125, \"altitude\": 12250.0546875, \"timedelta\": 79.38703918457031, \"latitude\": 48.01427748706811, \"longitude\": 8.588816544502514, \"flight_id\": \"0\", \"callsign\": \"0\", \"icao24\": \"0\", \"timestamp\": \"2021-08-31T16:59:13.891174185\"}, {\"track\": 202.78680419921875, \"groundspeed\": 311.3158874511719, \"altitude\": 12146.029296875, \"timedelta\": 82.92477416992188, \"latitude\": 48.00953685902169, \"longitude\": 8.585934029374181, \"flight_id\": \"0\", \"callsign\": \"0\", \"icao24\": \"0\", \"timestamp\": \"2021-08-31T16:59:17.428909170\"}, {\"track\": 202.76197814941406, \"groundspeed\": 310.3604431152344, \"altitude\": 12057.634765625, \"timedelta\": 86.48770141601562, \"latitude\": 48.00480544287079, \"longitude\": 8.582972256316083, \"flight_id\": \"0\", \"callsign\": \"0\", \"icao24\": \"0\", \"timestamp\": \"2021-08-31T16:59:20.991836416\"}, {\"track\": 202.6822052001953, \"groundspeed\": 308.81939697265625, \"altitude\": 11972.9130859375, \"timedelta\": 90.09249114990234, \"latitude\": 48.00003225489229, \"longitude\": 8.57998823790732, \"flight_id\": \"0\", \"callsign\": \"0\", \"icao24\": \"0\", \"timestamp\": \"2021-08-31T16:59:24.596626150\"}, {\"track\": 202.35743713378906, \"groundspeed\": 307.65045166015625, \"altitude\": 11884.470703125, \"timedelta\": 93.7355728149414, \"latitude\": 47.995229512491406, \"longitude\": 8.576997733590016, \"flight_id\": \"0\", \"callsign\": \"0\", \"icao24\": \"0\", \"timestamp\": \"2021-08-31T16:59:28.239707815\"}, {\"track\": 202.07257080078125, \"groundspeed\": 306.08624267578125, \"altitude\": 11787.697265625, \"timedelta\": 97.34949493408203, \"latitude\": 47.99047207471099, \"longitude\": 8.574082790482931, \"flight_id\": \"0\", \"callsign\": \"0\", \"icao24\": \"0\", \"timestamp\": \"2021-08-31T16:59:31.853629934\"}, {\"track\": 201.5701446533203, \"groundspeed\": 304.7939758300781, \"altitude\": 11697.31640625, \"timedelta\": 100.9349594116211, \"latitude\": 47.98576655035631, \"longitude\": 8.57124057989146, \"flight_id\": \"0\", \"callsign\": \"0\", \"icao24\": \"0\", \"timestamp\": \"2021-08-31T16:59:35.439094412\"}, {\"track\": 201.10079956054688, \"groundspeed\": 303.1514892578125, \"altitude\": 11607.1376953125, \"timedelta\": 104.50780487060547, \"latitude\": 47.981080958400874, \"longitude\": 8.568481675302964, \"flight_id\": \"0\", \"callsign\": \"0\", \"icao24\": \"0\", \"timestamp\": \"2021-08-31T16:59:39.011939871\"}, {\"track\": 200.245849609375, \"groundspeed\": 302.21124267578125, \"altitude\": 11522.0400390625, \"timedelta\": 108.10614776611328, \"latitude\": 47.97637231428084, \"longitude\": 8.565775659331258, \"flight_id\": \"0\", \"callsign\": \"0\", \"icao24\": \"0\", \"timestamp\": \"2021-08-31T16:59:42.610282766\"}, {\"track\": 199.6437530517578, \"groundspeed\": 301.0057678222656, \"altitude\": 11439.9345703125, \"timedelta\": 111.78160095214844, \"latitude\": 47.97155060820713, \"longitude\": 8.563127326084276, \"flight_id\": \"0\", \"callsign\": \"0\", \"icao24\": \"0\", \"timestamp\": \"2021-08-31T16:59:46.285735952\"}, {\"track\": 198.61380004882812, \"groundspeed\": 299.80938720703125, \"altitude\": 11354.4794921875, \"timedelta\": 115.42333984375, \"latitude\": 47.96677400621626, \"longitude\": 8.560588593495678, \"flight_id\": \"0\", \"callsign\": \"0\", \"icao24\": \"0\", \"timestamp\": \"2021-08-31T16:59:49.927474844\"}, {\"track\": 197.95458984375, \"groundspeed\": 298.5516662597656, \"altitude\": 11258.0263671875, \"timedelta\": 118.94586181640625, \"latitude\": 47.96214335337256, \"longitude\": 8.558266501841139, \"flight_id\": \"0\", \"callsign\": \"0\", \"icao24\": \"0\", \"timestamp\": \"2021-08-31T16:59:53.449996816\"}, {\"track\": 196.93553161621094, \"groundspeed\": 297.0247802734375, \"altitude\": 11180.3828125, \"timedelta\": 122.5739517211914, \"latitude\": 47.957375838118594, \"longitude\": 8.555966577120447, \"flight_id\": \"0\", \"callsign\": \"0\", \"icao24\": \"0\", \"timestamp\": \"2021-08-31T16:59:57.078086721\"}, {\"track\": 195.9715118408203, \"groundspeed\": 295.8771667480469, \"altitude\": 11088.9111328125, \"timedelta\": 126.14945983886719, \"latitude\": 47.952675245804954, \"longitude\": 8.55383589124355, \"flight_id\": \"0\", \"callsign\": \"0\", \"icao24\": \"0\", \"timestamp\": \"2021-08-31T17:00:00.653594839\"}, {\"track\": 194.83995056152344, \"groundspeed\": 294.25457763671875, \"altitude\": 11012.3984375, \"timedelta\": 129.90098571777344, \"latitude\": 47.94773782931625, \"longitude\": 8.551732512640461, \"flight_id\": \"0\", \"callsign\": \"0\", \"icao24\": \"0\", \"timestamp\": \"2021-08-31T17:00:04.405120718\"}, {\"track\": 194.05825805664062, \"groundspeed\": 292.5788269042969, \"altitude\": 10938.9091796875, \"timedelta\": 133.45762634277344, \"latitude\": 47.94305716841201, \"longitude\": 8.549886728191998, \"flight_id\": \"0\", \"callsign\": \"0\", \"icao24\": \"0\", \"timestamp\": \"2021-08-31T17:00:07.961761343\"}, {\"track\": 193.03799438476562, \"groundspeed\": 291.0862121582031, \"altitude\": 10857.5126953125, \"timedelta\": 137.1840057373047, \"latitude\": 47.93816387805492, \"longitude\": 8.548063227053373, \"flight_id\": \"0\", \"callsign\": \"0\", \"icao24\": \"0\", \"timestamp\": \"2021-08-31T17:00:11.688140737\"}, {\"track\": 192.27882385253906, \"groundspeed\": 289.3280944824219, \"altitude\": 10776.484375, \"timedelta\": 140.74557495117188, \"latitude\": 47.93349085678289, \"longitude\": 8.546452985230149, \"flight_id\": \"0\", \"callsign\": \"0\", \"icao24\": \"0\", \"timestamp\": \"2021-08-31T17:00:15.249709951\"}, {\"track\": 191.39134216308594, \"groundspeed\": 287.4330139160156, \"altitude\": 10698.9013671875, \"timedelta\": 144.19509887695312, \"latitude\": 47.928978774079965, \"longitude\": 8.544991780326853, \"flight_id\": \"0\", \"callsign\": \"0\", \"icao24\": \"0\", \"timestamp\": \"2021-08-31T17:00:18.699233877\"}, {\"track\": 190.57144165039062, \"groundspeed\": 285.8593444824219, \"altitude\": 10629.7958984375, \"timedelta\": 147.81874084472656, \"latitude\": 47.924254673416414, \"longitude\": 8.543575704963727, \"flight_id\": \"0\", \"callsign\": \"0\", \"icao24\": \"0\", \"timestamp\": \"2021-08-31T17:00:22.322875845\"}, {\"track\": 189.96315002441406, \"groundspeed\": 283.6811828613281, \"altitude\": 10553.4306640625, \"timedelta\": 151.51649475097656, \"latitude\": 47.919447012481555, \"longitude\": 8.542240918037468, \"flight_id\": \"0\", \"callsign\": \"0\", \"icao24\": \"0\", \"timestamp\": \"2021-08-31T17:00:26.020629751\"}, {\"track\": 189.45933532714844, \"groundspeed\": 281.763671875, \"altitude\": 10497.283203125, \"timedelta\": 154.98863220214844, \"latitude\": 47.914958459435276, \"longitude\": 8.541068047894923, \"flight_id\": \"0\", \"callsign\": \"0\", \"icao24\": \"0\", \"timestamp\": \"2021-08-31T17:00:29.492767202\"}, {\"track\": 189.07015991210938, \"groundspeed\": 279.4499816894531, \"altitude\": 10431.2763671875, \"timedelta\": 158.6451416015625, \"latitude\": 47.910256439301776, \"longitude\": 8.539902808998523, \"flight_id\": \"0\", \"callsign\": \"0\", \"icao24\": \"0\", \"timestamp\": \"2021-08-31T17:00:33.149276602\"}, {\"track\": 188.45925903320312, \"groundspeed\": 277.7273864746094, \"altitude\": 10385.2587890625, \"timedelta\": 162.25601196289062, \"latitude\": 47.905646127693856, \"longitude\": 8.538808211885332, \"flight_id\": \"0\", \"callsign\": \"0\", \"icao24\": \"0\", \"timestamp\": \"2021-08-31T17:00:36.760146963\"}, {\"track\": 188.10543823242188, \"groundspeed\": 275.2711486816406, \"altitude\": 10325.5234375, \"timedelta\": 165.8925323486328, \"latitude\": 47.901024092482594, \"longitude\": 8.53778595921759, \"flight_id\": \"0\", \"callsign\": \"0\", \"icao24\": \"0\", \"timestamp\": \"2021-08-31T17:00:40.396667349\"}, {\"track\": 187.90826416015625, \"groundspeed\": 273.06500244140625, \"altitude\": 10266.966796875, \"timedelta\": 169.6175994873047, \"latitude\": 47.896327162598084, \"longitude\": 8.536791280897226, \"flight_id\": \"0\", \"callsign\": \"0\", \"icao24\": \"0\", \"timestamp\": \"2021-08-31T17:00:44.121734487\"}, {\"track\": 187.73876953125, \"groundspeed\": 270.6291809082031, \"altitude\": 10215.279296875, \"timedelta\": 173.08351135253906, \"latitude\": 47.89198992448858, \"longitude\": 8.535895484260667, \"flight_id\": \"0\", \"callsign\": \"0\", \"icao24\": \"0\", \"timestamp\": \"2021-08-31T17:00:47.587646353\"}, {\"track\": 188.01040649414062, \"groundspeed\": 268.83685302734375, \"altitude\": 10170.4150390625, \"timedelta\": 176.70663452148438, \"latitude\": 47.88749456552958, \"longitude\": 8.534987255206508, \"flight_id\": \"0\", \"callsign\": \"0\", \"icao24\": \"0\", \"timestamp\": \"2021-08-31T17:00:51.210769521\"}, {\"track\": 187.6661834716797, \"groundspeed\": 266.35076904296875, \"altitude\": 10113.3193359375, \"timedelta\": 180.2566375732422, \"latitude\": 47.883121965289305, \"longitude\": 8.534072495854817, \"flight_id\": \"0\", \"callsign\": \"0\", \"icao24\": \"0\", \"timestamp\": \"2021-08-31T17:00:54.760772573\"}, {\"track\": 188.13882446289062, \"groundspeed\": 264.3734436035156, \"altitude\": 10059.361328125, \"timedelta\": 183.8045654296875, \"latitude\": 47.87878874899142, \"longitude\": 8.533205483007313, \"flight_id\": \"0\", \"callsign\": \"0\", \"icao24\": \"0\", \"timestamp\": \"2021-08-31T17:00:58.308700430\"}, {\"track\": 189.06088256835938, \"groundspeed\": 261.8774108886719, \"altitude\": 10025.5546875, \"timedelta\": 187.59170532226562, \"latitude\": 47.87420296144827, \"longitude\": 8.532230706149278, \"flight_id\": \"0\", \"callsign\": \"0\", \"icao24\": \"0\", \"timestamp\": \"2021-08-31T17:01:02.095840322\"}, {\"track\": 189.59629821777344, \"groundspeed\": 260.40509033203125, \"altitude\": 9982.623046875, \"timedelta\": 191.0229949951172, \"latitude\": 47.870097295940504, \"longitude\": 8.531257609931373, \"flight_id\": \"0\", \"callsign\": \"0\", \"icao24\": \"0\", \"timestamp\": \"2021-08-31T17:01:05.527129995\"}, {\"track\": 190.77745056152344, \"groundspeed\": 258.0652160644531, \"altitude\": 9937.978515625, \"timedelta\": 194.90267944335938, \"latitude\": 47.86548828407374, \"longitude\": 8.53009957847552, \"flight_id\": \"0\", \"callsign\": \"0\", \"icao24\": \"0\", \"timestamp\": \"2021-08-31T17:01:09.406814443\"}, {\"track\": 191.90489196777344, \"groundspeed\": 256.6075744628906, \"altitude\": 9890.3251953125, \"timedelta\": 198.311767578125, \"latitude\": 47.86148956189707, \"longitude\": 8.528968508699734, \"flight_id\": \"0\", \"callsign\": \"0\", \"icao24\": \"0\", \"timestamp\": \"2021-08-31T17:01:12.815902578\"}, {\"track\": 193.3096923828125, \"groundspeed\": 254.35922241210938, \"altitude\": 9847.4375, \"timedelta\": 202.18765258789062, \"latitude\": 47.856986785499956, \"longitude\": 8.527558023468165, \"flight_id\": \"0\", \"callsign\": \"0\", \"icao24\": \"0\", \"timestamp\": \"2021-08-31T17:01:16.691787588\"}, {\"track\": 195.00933837890625, \"groundspeed\": 251.79371643066406, \"altitude\": 9800.38671875, \"timedelta\": 205.6192626953125, \"latitude\": 47.853056680626544, \"longitude\": 8.526176685980726, \"flight_id\": \"0\", \"callsign\": \"0\", \"icao24\": \"0\", \"timestamp\": \"2021-08-31T17:01:20.123397695\"}, {\"track\": 196.66831970214844, \"groundspeed\": 249.71420288085938, \"altitude\": 9753.533203125, \"timedelta\": 209.35487365722656, \"latitude\": 47.84885313948234, \"longitude\": 8.524502307599851, \"flight_id\": \"0\", \"callsign\": \"0\", \"icao24\": \"0\", \"timestamp\": \"2021-08-31T17:01:23.859008657\"}, {\"track\": 198.6957244873047, \"groundspeed\": 248.21209716796875, \"altitude\": 9715.466796875, \"timedelta\": 212.78402709960938, \"latitude\": 47.84505761626194, \"longitude\": 8.522814156979887, \"flight_id\": \"0\", \"callsign\": \"0\", \"icao24\": \"0\", \"timestamp\": \"2021-08-31T17:01:27.288162100\"}, {\"track\": 200.63633728027344, \"groundspeed\": 246.6896514892578, \"altitude\": 9655.69140625, \"timedelta\": 216.32479858398438, \"latitude\": 47.84120581911423, \"longitude\": 8.52087805073644, \"flight_id\": \"0\", \"callsign\": \"0\", \"icao24\": \"0\", \"timestamp\": \"2021-08-31T17:01:30.828933584\"}, {\"track\": 203.23646545410156, \"groundspeed\": 244.90281677246094, \"altitude\": 9613.4677734375, \"timedelta\": 219.75222778320312, \"latitude\": 47.83754477377053, \"longitude\": 8.518830233451123, \"flight_id\": \"0\", \"callsign\": \"0\", \"icao24\": \"0\", \"timestamp\": \"2021-08-31T17:01:34.256362783\"}, {\"track\": 205.57142639160156, \"groundspeed\": 243.61102294921875, \"altitude\": 9565.4140625, \"timedelta\": 223.48196411132812, \"latitude\": 47.83366130570273, \"longitude\": 8.516353903711257, \"flight_id\": \"0\", \"callsign\": \"0\", \"icao24\": \"0\", \"timestamp\": \"2021-08-31T17:01:37.986099111\"}, {\"track\": 208.16543579101562, \"groundspeed\": 242.00827026367188, \"altitude\": 9523.869140625, \"timedelta\": 227.17446899414062, \"latitude\": 47.82990695040736, \"longitude\": 8.513686036088101, \"flight_id\": \"0\", \"callsign\": \"0\", \"icao24\": \"0\", \"timestamp\": \"2021-08-31T17:01:41.678603994\"}, {\"track\": 210.44883728027344, \"groundspeed\": 240.98873901367188, \"altitude\": 9461.365234375, \"timedelta\": 230.96766662597656, \"latitude\": 47.826162479225175, \"longitude\": 8.510708941514308, \"flight_id\": \"0\", \"callsign\": \"0\", \"icao24\": \"0\", \"timestamp\": \"2021-08-31T17:01:45.471801626\"}, {\"track\": 213.0004119873047, \"groundspeed\": 239.48521423339844, \"altitude\": 9404.640625, \"timedelta\": 234.13272094726562, \"latitude\": 47.82312008374241, \"longitude\": 8.508053358668777, \"flight_id\": \"0\", \"callsign\": \"0\", \"icao24\": \"0\", \"timestamp\": \"2021-08-31T17:01:48.636855947\"}, {\"track\": 214.98965454101562, \"groundspeed\": 238.3999481201172, \"altitude\": 9341.3232421875, \"timedelta\": 238.0944366455078, \"latitude\": 47.8194384306984, \"longitude\": 8.504503451903826, \"flight_id\": \"0\", \"callsign\": \"0\", \"icao24\": \"0\", \"timestamp\": \"2021-08-31T17:01:52.598571646\"}, {\"track\": 217.6370849609375, \"groundspeed\": 237.4778594970703, \"altitude\": 9280.92578125, \"timedelta\": 241.2530059814453, \"latitude\": 47.81658408154875, \"longitude\": 8.501537299589161, \"flight_id\": \"0\", \"callsign\": \"0\", \"icao24\": \"0\", \"timestamp\": \"2021-08-31T17:01:55.757140981\"}, {\"track\": 220.43052673339844, \"groundspeed\": 236.46649169921875, \"altitude\": 9216.49609375, \"timedelta\": 245.2887725830078, \"latitude\": 47.81307243552744, \"longitude\": 8.497517213067914, \"flight_id\": \"0\", \"callsign\": \"0\", \"icao24\": \"0\", \"timestamp\": \"2021-08-31T17:01:59.792907583\"}, {\"track\": 223.08692932128906, \"groundspeed\": 236.6881561279297, \"altitude\": 9150.466796875, \"timedelta\": 248.59747314453125, \"latitude\": 47.81031683752277, \"longitude\": 8.494032079162242, \"flight_id\": \"0\", \"callsign\": \"0\", \"icao24\": \"0\", \"timestamp\": \"2021-08-31T17:02:03.101608145\"}, {\"track\": 225.08074951171875, \"groundspeed\": 235.40017700195312, \"altitude\": 9086.4560546875, \"timedelta\": 252.1365509033203, \"latitude\": 47.80748626062444, \"longitude\": 8.490102037327178, \"flight_id\": \"0\", \"callsign\": \"0\", \"icao24\": \"0\", \"timestamp\": \"2021-08-31T17:02:06.640685903\"}, {\"track\": 227.97598266601562, \"groundspeed\": 234.54464721679688, \"altitude\": 9006.955078125, \"timedelta\": 255.7694549560547, \"latitude\": 47.80469223287888, \"longitude\": 8.485943166723937, \"flight_id\": \"0\", \"callsign\": \"0\", \"icao24\": \"0\", \"timestamp\": \"2021-08-31T17:02:10.273589956\"}, {\"track\": 231.24229431152344, \"groundspeed\": 234.25537109375, \"altitude\": 8940.640625, \"timedelta\": 259.7138977050781, \"latitude\": 47.80182656903139, \"longitude\": 8.481223458213192, \"flight_id\": \"0\", \"callsign\": \"0\", \"icao24\": \"0\", \"timestamp\": \"2021-08-31T17:02:14.218032705\"}, {\"track\": 232.0712432861328, \"groundspeed\": 233.75389099121094, \"altitude\": 8872.1201171875, \"timedelta\": 263.2272644042969, \"latitude\": 47.79944255387778, \"longitude\": 8.476816173743849, \"flight_id\": \"0\", \"callsign\": \"0\", \"icao24\": \"0\", \"timestamp\": \"2021-08-31T17:02:17.731399404\"}, {\"track\": 234.12164306640625, \"groundspeed\": 233.72344970703125, \"altitude\": 8805.97265625, \"timedelta\": 267.1963195800781, \"latitude\": 47.796803788305915, \"longitude\": 8.471790986818863, \"flight_id\": \"0\", \"callsign\": \"0\", \"icao24\": \"0\", \"timestamp\": \"2021-08-31T17:02:21.700454580\"}, {\"track\": 236.4314422607422, \"groundspeed\": 233.60935974121094, \"altitude\": 8735.474609375, \"timedelta\": 270.660400390625, \"latitude\": 47.79460824770461, \"longitude\": 8.467286444177738, \"flight_id\": \"0\", \"callsign\": \"0\", \"icao24\": \"0\", \"timestamp\": \"2021-08-31T17:02:25.164535391\"}, {\"track\": 238.24742126464844, \"groundspeed\": 234.0966796875, \"altitude\": 8681.7216796875, \"timedelta\": 274.3735046386719, \"latitude\": 47.79238898288539, \"longitude\": 8.462323887269624, \"flight_id\": \"0\", \"callsign\": \"0\", \"icao24\": \"0\", \"timestamp\": \"2021-08-31T17:02:28.877639639\"}, {\"track\": 239.96267700195312, \"groundspeed\": 233.47792053222656, \"altitude\": 8599.6162109375, \"timedelta\": 278.1012268066406, \"latitude\": 47.79026406010743, \"longitude\": 8.457229126660778, \"flight_id\": \"0\", \"callsign\": \"0\", \"icao24\": \"0\", \"timestamp\": \"2021-08-31T17:02:32.605361807\"}, {\"track\": 240.7989044189453, \"groundspeed\": 233.76084899902344, \"altitude\": 8540.28515625, \"timedelta\": 281.6379699707031, \"latitude\": 47.788351477113345, \"longitude\": 8.452321191511134, \"flight_id\": \"0\", \"callsign\": \"0\", \"icao24\": \"0\", \"timestamp\": \"2021-08-31T17:02:36.142104971\"}, {\"track\": 241.9912567138672, \"groundspeed\": 233.74154663085938, \"altitude\": 8471.794921875, \"timedelta\": 285.08758544921875, \"latitude\": 47.786531088594664, \"longitude\": 8.447488596546057, \"flight_id\": \"0\", \"callsign\": \"0\", \"icao24\": \"0\", \"timestamp\": \"2021-08-31T17:02:39.591720449\"}, {\"track\": 242.8248748779297, \"groundspeed\": 234.27316284179688, \"altitude\": 8407.896484375, \"timedelta\": 288.74481201171875, \"latitude\": 47.78467355468736, \"longitude\": 8.44230729249102, \"flight_id\": \"0\", \"callsign\": \"0\", \"icao24\": \"0\", \"timestamp\": \"2021-08-31T17:02:43.248947012\"}, {\"track\": 242.98419189453125, \"groundspeed\": 234.18280029296875, \"altitude\": 8332.4609375, \"timedelta\": 291.7938537597656, \"latitude\": 47.783164031629866, \"longitude\": 8.437944878423824, \"flight_id\": \"0\", \"callsign\": \"0\", \"icao24\": \"0\", \"timestamp\": \"2021-08-31T17:02:46.297988760\"}, {\"track\": 243.2179412841797, \"groundspeed\": 234.4853057861328, \"altitude\": 8269.638671875, \"timedelta\": 295.8006896972656, \"latitude\": 47.781191799902324, \"longitude\": 8.432206370992642, \"flight_id\": \"0\", \"callsign\": \"0\", \"icao24\": \"0\", \"timestamp\": \"2021-08-31T17:02:50.304824697\"}, {\"track\": 243.49366760253906, \"groundspeed\": 234.6849365234375, \"altitude\": 8196.6220703125, \"timedelta\": 299.510009765625, \"latitude\": 47.779378302068, \"longitude\": 8.42687626107266, \"flight_id\": \"0\", \"callsign\": \"0\", \"icao24\": \"0\", \"timestamp\": \"2021-08-31T17:02:54.014144766\"}, {\"track\": 242.5325469970703, \"groundspeed\": 235.3800048828125, \"altitude\": 8121.7158203125, \"timedelta\": 303.0023193359375, \"latitude\": 47.777685764843014, \"longitude\": 8.42184173478393, \"flight_id\": \"0\", \"callsign\": \"0\", \"icao24\": \"0\", \"timestamp\": \"2021-08-31T17:02:57.506454336\"}, {\"track\": 241.7052459716797, \"groundspeed\": 235.5257110595703, \"altitude\": 8041.380859375, \"timedelta\": 306.7657775878906, \"latitude\": 47.77579513900561, \"longitude\": 8.416446732369362, \"flight_id\": \"0\", \"callsign\": \"0\", \"icao24\": \"0\", \"timestamp\": \"2021-08-31T17:03:01.269912588\"}, {\"track\": 239.6613006591797, \"groundspeed\": 236.46531677246094, \"altitude\": 7959.45361328125, \"timedelta\": 310.1170654296875, \"latitude\": 47.77406393316094, \"longitude\": 8.411676353520017, \"flight_id\": \"0\", \"callsign\": \"0\", \"icao24\": \"0\", \"timestamp\": \"2021-08-31T17:03:04.621200430\"}, {\"track\": 238.17955017089844, \"groundspeed\": 236.55540466308594, \"altitude\": 7864.56201171875, \"timedelta\": 313.9201965332031, \"latitude\": 47.771962045173915, \"longitude\": 8.406349229308693, \"flight_id\": \"0\", \"callsign\": \"0\", \"icao24\": \"0\", \"timestamp\": \"2021-08-31T17:03:08.424331533\"}, {\"track\": 235.6092987060547, \"groundspeed\": 236.90301513671875, \"altitude\": 7775.75634765625, \"timedelta\": 317.37542724609375, \"latitude\": 47.76996795690087, \"longitude\": 8.401582647954708, \"flight_id\": \"0\", \"callsign\": \"0\", \"icao24\": \"0\", \"timestamp\": \"2021-08-31T17:03:11.879562246\"}, {\"track\": 233.57203674316406, \"groundspeed\": 237.23947143554688, \"altitude\": 7693.00146484375, \"timedelta\": 320.7874755859375, \"latitude\": 47.76785537442859, \"longitude\": 8.397004821742078, \"flight_id\": \"0\", \"callsign\": \"0\", \"icao24\": \"0\", \"timestamp\": \"2021-08-31T17:03:15.291610586\"}, {\"track\": 230.15505981445312, \"groundspeed\": 238.078125, \"altitude\": 7584.90283203125, \"timedelta\": 324.1802062988281, \"latitude\": 47.76564385338785, \"longitude\": 8.392560436401482, \"flight_id\": \"0\", \"callsign\": \"0\", \"icao24\": \"0\", \"timestamp\": \"2021-08-31T17:03:18.684341299\"}, {\"track\": 227.3064727783203, \"groundspeed\": 238.4656982421875, \"altitude\": 7481.912109375, \"timedelta\": 327.7299499511719, \"latitude\": 47.76313841510703, \"longitude\": 8.388107707441707, \"flight_id\": \"0\", \"callsign\": \"0\", \"icao24\": \"0\", \"timestamp\": \"2021-08-31T17:03:22.234084951\"}, {\"track\": 224.17324829101562, \"groundspeed\": 238.89805603027344, \"altitude\": 7391.07275390625, \"timedelta\": 331.73602294921875, \"latitude\": 47.76014113235726, \"longitude\": 8.383289624895937, \"flight_id\": \"0\", \"callsign\": \"0\", \"icao24\": \"0\", \"timestamp\": \"2021-08-31T17:03:26.240157949\"}, {\"track\": 221.07736206054688, \"groundspeed\": 239.12469482421875, \"altitude\": 7283.08984375, \"timedelta\": 335.1681213378906, \"latitude\": 47.757420092441166, \"longitude\": 8.379369281556292, \"flight_id\": \"0\", \"callsign\": \"0\", \"icao24\": \"0\", \"timestamp\": \"2021-08-31T17:03:29.672256338\"}, {\"track\": 217.48536682128906, \"groundspeed\": 239.60008239746094, \"altitude\": 7172.21826171875, \"timedelta\": 338.74627685546875, \"latitude\": 47.75443572373228, \"longitude\": 8.375511833425676, \"flight_id\": \"0\", \"callsign\": \"0\", \"icao24\": \"0\", \"timestamp\": \"2021-08-31T17:03:33.250411855\"}, {\"track\": 214.52308654785156, \"groundspeed\": 239.87246704101562, \"altitude\": 7069.56640625, \"timedelta\": 342.5158386230469, \"latitude\": 47.75111962175845, \"longitude\": 8.371740867258229, \"flight_id\": \"0\", \"callsign\": \"0\", \"icao24\": \"0\", \"timestamp\": \"2021-08-31T17:03:37.019973623\"}, {\"track\": 211.2803192138672, \"groundspeed\": 239.93592834472656, \"altitude\": 6960.56689453125, \"timedelta\": 346.43853759765625, \"latitude\": 47.747532581304675, \"longitude\": 8.368082474521744, \"flight_id\": \"0\", \"callsign\": \"0\", \"icao24\": \"0\", \"timestamp\": \"2021-08-31T17:03:40.942672598\"}, {\"track\": 209.1018829345703, \"groundspeed\": 239.97683715820312, \"altitude\": 6858.1640625, \"timedelta\": 349.87945556640625, \"latitude\": 47.74426785252567, \"longitude\": 8.365141840880991, \"flight_id\": \"0\", \"callsign\": \"0\", \"icao24\": \"0\", \"timestamp\": \"2021-08-31T17:03:44.383590566\"}, {\"track\": 206.4860382080078, \"groundspeed\": 240.3126983642578, \"altitude\": 6762.55029296875, \"timedelta\": 353.52288818359375, \"latitude\": 47.740733043929026, \"longitude\": 8.362224901120541, \"flight_id\": \"0\", \"callsign\": \"0\", \"icao24\": \"0\", \"timestamp\": \"2021-08-31T17:03:48.027023184\"}, {\"track\": 204.55226135253906, \"groundspeed\": 240.16726684570312, \"altitude\": 6672.5458984375, \"timedelta\": 357.1514892578125, \"latitude\": 47.7371218157441, \"longitude\": 8.359557508301199, \"flight_id\": \"0\", \"callsign\": \"0\", \"icao24\": \"0\", \"timestamp\": \"2021-08-31T17:03:51.655624258\"}, {\"track\": 202.0662384033203, \"groundspeed\": 240.4041290283203, \"altitude\": 6581.1474609375, \"timedelta\": 360.6820983886719, \"latitude\": 47.733553195733315, \"longitude\": 8.357141019197464, \"flight_id\": \"0\", \"callsign\": \"0\", \"icao24\": \"0\", \"timestamp\": \"2021-08-31T17:03:55.186233389\"}, {\"track\": 200.66522216796875, \"groundspeed\": 239.6553192138672, \"altitude\": 6469.33154296875, \"timedelta\": 364.4427490234375, \"latitude\": 47.7296764970336, \"longitude\": 8.354811775641194, \"flight_id\": \"0\", \"callsign\": \"0\", \"icao24\": \"0\", \"timestamp\": \"2021-08-31T17:03:58.946884023\"}, {\"track\": 199.1566925048828, \"groundspeed\": 239.1256561279297, \"altitude\": 6396.11962890625, \"timedelta\": 367.9979553222656, \"latitude\": 47.72598788031183, \"longitude\": 8.35274983838288, \"flight_id\": \"0\", \"callsign\": \"0\", \"icao24\": \"0\", \"timestamp\": \"2021-08-31T17:04:02.502090322\"}, {\"track\": 197.3786163330078, \"groundspeed\": 238.5332489013672, \"altitude\": 6300.4775390625, \"timedelta\": 371.37298583984375, \"latitude\": 47.72246045910024, \"longitude\": 8.350933846573504, \"flight_id\": \"0\", \"callsign\": \"0\", \"icao24\": \"0\", \"timestamp\": \"2021-08-31T17:04:05.877120840\"}, {\"track\": 195.56703186035156, \"groundspeed\": 237.9168243408203, \"altitude\": 6227.04345703125, \"timedelta\": 375.1548156738281, \"latitude\": 47.718477061105204, \"longitude\": 8.349086430883034, \"flight_id\": \"0\", \"callsign\": \"0\", \"icao24\": \"0\", \"timestamp\": \"2021-08-31T17:04:09.658950674\"}, {\"track\": 194.33517456054688, \"groundspeed\": 237.10052490234375, \"altitude\": 6147.59228515625, \"timedelta\": 378.5950012207031, \"latitude\": 47.714828929910624, \"longitude\": 8.347580502321984, \"flight_id\": \"0\", \"callsign\": \"0\", \"icao24\": \"0\", \"timestamp\": \"2021-08-31T17:04:13.099136221\"}, {\"track\": 192.55702209472656, \"groundspeed\": 236.23333740234375, \"altitude\": 6075.8857421875, \"timedelta\": 382.427490234375, \"latitude\": 47.71075540251604, \"longitude\": 8.346038126984194, \"flight_id\": \"0\", \"callsign\": \"0\", \"icao24\": \"0\", \"timestamp\": \"2021-08-31T17:04:16.931625234\"}, {\"track\": 191.13841247558594, \"groundspeed\": 235.08103942871094, \"altitude\": 6012.49609375, \"timedelta\": 385.7945556640625, \"latitude\": 47.70716310326513, \"longitude\": 8.344852681981205, \"flight_id\": \"0\", \"callsign\": \"0\", \"icao24\": \"0\", \"timestamp\": \"2021-08-31T17:04:20.298690664\"}, {\"track\": 189.85452270507812, \"groundspeed\": 233.6117401123047, \"altitude\": 5960.1865234375, \"timedelta\": 389.4205627441406, \"latitude\": 47.70329336056763, \"longitude\": 8.3437239709892, \"flight_id\": \"0\", \"callsign\": \"0\", \"icao24\": \"0\", \"timestamp\": \"2021-08-31T17:04:23.924697744\"}, {\"track\": 189.29859924316406, \"groundspeed\": 232.6353302001953, \"altitude\": 5905.04345703125, \"timedelta\": 393.2078857421875, \"latitude\": 47.69926000925843, \"longitude\": 8.342686113258159, \"flight_id\": \"0\", \"callsign\": \"0\", \"icao24\": \"0\", \"timestamp\": \"2021-08-31T17:04:27.712020742\"}, {\"track\": 187.561279296875, \"groundspeed\": 231.52223205566406, \"altitude\": 5853.5419921875, \"timedelta\": 396.49066162109375, \"latitude\": 47.695772887899814, \"longitude\": 8.341840414084684, \"flight_id\": \"0\", \"callsign\": \"0\", \"icao24\": \"0\", \"timestamp\": \"2021-08-31T17:04:30.994796621\"}, {\"track\": 187.06979370117188, \"groundspeed\": 229.14706420898438, \"altitude\": 5799.83935546875, \"timedelta\": 399.6371154785156, \"latitude\": 47.692431583048446, \"longitude\": 8.341183498064696, \"flight_id\": \"0\", \"callsign\": \"0\", \"icao24\": \"0\", \"timestamp\": \"2021-08-31T17:04:34.141250479\"}, {\"track\": 186.0384979248047, \"groundspeed\": 227.78286743164062, \"altitude\": 5749.9384765625, \"timedelta\": 403.7643127441406, \"latitude\": 47.68808897895453, \"longitude\": 8.340385871637846, \"flight_id\": \"0\", \"callsign\": \"0\", \"icao24\": \"0\", \"timestamp\": \"2021-08-31T17:04:38.268447744\"}, {\"track\": 185.26617431640625, \"groundspeed\": 226.34686279296875, \"altitude\": 5709.0283203125, \"timedelta\": 407.85174560546875, \"latitude\": 47.68380496634945, \"longitude\": 8.339714772647671, \"flight_id\": \"0\", \"callsign\": \"0\", \"icao24\": \"0\", \"timestamp\": \"2021-08-31T17:04:42.355880605\"}, {\"track\": 184.1113739013672, \"groundspeed\": 224.53623962402344, \"altitude\": 5667.232421875, \"timedelta\": 411.2320556640625, \"latitude\": 47.680279717460685, \"longitude\": 8.339233627974624, \"flight_id\": \"0\", \"callsign\": \"0\", \"icao24\": \"0\", \"timestamp\": \"2021-08-31T17:04:45.736190664\"}, {\"track\": 182.9952850341797, \"groundspeed\": 222.62498474121094, \"altitude\": 5626.85205078125, \"timedelta\": 414.9245300292969, \"latitude\": 47.67645340133603, \"longitude\": 8.338826390781636, \"flight_id\": \"0\", \"callsign\": \"0\", \"icao24\": \"0\", \"timestamp\": \"2021-08-31T17:04:49.428665029\"}, {\"track\": 181.7213134765625, \"groundspeed\": 220.7394256591797, \"altitude\": 5595.54833984375, \"timedelta\": 418.6112060546875, \"latitude\": 47.67266102501016, \"longitude\": 8.338532593979435, \"flight_id\": \"0\", \"callsign\": \"0\", \"icao24\": \"0\", \"timestamp\": \"2021-08-31T17:04:53.115341055\"}, {\"track\": 180.8953857421875, \"groundspeed\": 219.2413330078125, \"altitude\": 5547.974609375, \"timedelta\": 422.3714294433594, \"latitude\": 47.66882223789378, \"longitude\": 8.338361807231644, \"flight_id\": \"0\", \"callsign\": \"0\", \"icao24\": \"0\", \"timestamp\": \"2021-08-31T17:04:56.875564443\"}, {\"track\": 179.2589569091797, \"groundspeed\": 217.08197021484375, \"altitude\": 5513.08447265625, \"timedelta\": 425.9079895019531, \"latitude\": 47.66523510687715, \"longitude\": 8.338278815996699, \"flight_id\": \"0\", \"callsign\": \"0\", \"icao24\": \"0\", \"timestamp\": \"2021-08-31T17:05:00.412124502\"}, {\"track\": 177.991943359375, \"groundspeed\": 215.66600036621094, \"altitude\": 5481.93505859375, \"timedelta\": 429.4955749511719, \"latitude\": 47.66163192064878, \"longitude\": 8.338347802429421, \"flight_id\": \"0\", \"callsign\": \"0\", \"icao24\": \"0\", \"timestamp\": \"2021-08-31T17:05:03.999709951\"}, {\"track\": 175.92117309570312, \"groundspeed\": 213.88967895507812, \"altitude\": 5436.15478515625, \"timedelta\": 433.0103759765625, \"latitude\": 47.65812671895122, \"longitude\": 8.338529708328686, \"flight_id\": \"0\", \"callsign\": \"0\", \"icao24\": \"0\", \"timestamp\": \"2021-08-31T17:05:07.514510977\"}, {\"track\": 174.26100158691406, \"groundspeed\": 212.11175537109375, \"altitude\": 5400.31591796875, \"timedelta\": 436.2705078125, \"latitude\": 47.65490845880437, \"longitude\": 8.33886936792845, \"flight_id\": \"0\", \"callsign\": \"0\", \"icao24\": \"0\", \"timestamp\": \"2021-08-31T17:05:10.774642812\"}, {\"track\": 172.1666717529297, \"groundspeed\": 210.3738555908203, \"altitude\": 5369.2099609375, \"timedelta\": 440.5475769042969, \"latitude\": 47.65073182131107, \"longitude\": 8.339490575364692, \"flight_id\": \"0\", \"callsign\": \"0\", \"icao24\": \"0\", \"timestamp\": \"2021-08-31T17:05:15.051711904\"}, {\"track\": 169.6422119140625, \"groundspeed\": 209.09336853027344, \"altitude\": 5328.38134765625, \"timedelta\": 444.0172119140625, \"latitude\": 47.64738600230062, \"longitude\": 8.340171746680639, \"flight_id\": \"0\", \"callsign\": \"0\", \"icao24\": \"0\", \"timestamp\": \"2021-08-31T17:05:18.521346914\"}, {\"track\": 166.97254943847656, \"groundspeed\": 207.79844665527344, \"altitude\": 5291.9453125, \"timedelta\": 447.7239685058594, \"latitude\": 47.64385825308108, \"longitude\": 8.341125843002633, \"flight_id\": \"0\", \"callsign\": \"0\", \"icao24\": \"0\", \"timestamp\": \"2021-08-31T17:05:22.228103506\"}, {\"track\": 164.24085998535156, \"groundspeed\": 206.5623321533203, \"altitude\": 5245.25634765625, \"timedelta\": 450.86114501953125, \"latitude\": 47.6409195456298, \"longitude\": 8.342131909719916, \"flight_id\": \"0\", \"callsign\": \"0\", \"icao24\": \"0\", \"timestamp\": \"2021-08-31T17:05:25.365280020\"}, {\"track\": 160.85791015625, \"groundspeed\": 205.60479736328125, \"altitude\": 5210.48046875, \"timedelta\": 454.7506103515625, \"latitude\": 47.63734186065127, \"longitude\": 8.343625697086475, \"flight_id\": \"0\", \"callsign\": \"0\", \"icao24\": \"0\", \"timestamp\": \"2021-08-31T17:05:29.254745352\"}, {\"track\": 157.60824584960938, \"groundspeed\": 204.53981018066406, \"altitude\": 5160.7412109375, \"timedelta\": 458.4964294433594, \"latitude\": 47.63397536060419, \"longitude\": 8.34535446646532, \"flight_id\": \"0\", \"callsign\": \"0\", \"icao24\": \"0\", \"timestamp\": \"2021-08-31T17:05:33.000564443\"}, {\"track\": 154.3126983642578, \"groundspeed\": 203.6294708251953, \"altitude\": 5126.85888671875, \"timedelta\": 462.22979736328125, \"latitude\": 47.63070847017306, \"longitude\": 8.347345619926843, \"flight_id\": \"0\", \"callsign\": \"0\", \"icao24\": \"0\", \"timestamp\": \"2021-08-31T17:05:36.733932363\"}, {\"track\": 150.87159729003906, \"groundspeed\": 203.4348602294922, \"altitude\": 5083.7216796875, \"timedelta\": 465.6975402832031, \"latitude\": 47.62776406117621, \"longitude\": 8.349440620273056, \"flight_id\": \"0\", \"callsign\": \"0\", \"icao24\": \"0\", \"timestamp\": \"2021-08-31T17:05:40.201675283\"}, {\"track\": 147.2398681640625, \"groundspeed\": 203.19664001464844, \"altitude\": 5038.67578125, \"timedelta\": 469.091552734375, \"latitude\": 47.62497331350674, \"longitude\": 8.35174093024319, \"flight_id\": \"0\", \"callsign\": \"0\", \"icao24\": \"0\", \"timestamp\": \"2021-08-31T17:05:43.595687734\"}, {\"track\": 143.4843292236328, \"groundspeed\": 203.25314331054688, \"altitude\": 4992.65283203125, \"timedelta\": 472.27349853515625, \"latitude\": 47.62245748903312, \"longitude\": 8.354135401749176, \"flight_id\": \"0\", \"callsign\": \"0\", \"icao24\": \"0\", \"timestamp\": \"2021-08-31T17:05:46.777633535\"}, {\"track\": 140.3887176513672, \"groundspeed\": 203.3344268798828, \"altitude\": 4958.3896484375, \"timedelta\": 476.1702575683594, \"latitude\": 47.61951212748395, \"longitude\": 8.357360692270635, \"flight_id\": \"0\", \"callsign\": \"0\", \"icao24\": \"0\", \"timestamp\": \"2021-08-31T17:05:50.674392568\"}, {\"track\": 138.3130340576172, \"groundspeed\": 203.1197509765625, \"altitude\": 4907.9013671875, \"timedelta\": 479.7799987792969, \"latitude\": 47.61689572687309, \"longitude\": 8.36056310273141, \"flight_id\": \"0\", \"callsign\": \"0\", \"icao24\": \"0\", \"timestamp\": \"2021-08-31T17:05:54.284133779\"}, {\"track\": 136.0266571044922, \"groundspeed\": 203.08876037597656, \"altitude\": 4864.4453125, \"timedelta\": 484.1348876953125, \"latitude\": 47.61383913034824, \"longitude\": 8.364588634534304, \"flight_id\": \"0\", \"callsign\": \"0\", \"icao24\": \"0\", \"timestamp\": \"2021-08-31T17:05:58.639022695\"}, {\"track\": 134.6929931640625, \"groundspeed\": 203.0020751953125, \"altitude\": 4809.61474609375, \"timedelta\": 486.23309326171875, \"latitude\": 47.61242017312931, \"longitude\": 8.366613130743673, \"flight_id\": \"0\", \"callsign\": \"0\", \"icao24\": \"0\", \"timestamp\": \"2021-08-31T17:06:00.737228262\"}, {\"track\": 134.14031982421875, \"groundspeed\": 203.45082092285156, \"altitude\": 4769.1845703125, \"timedelta\": 491.31170654296875, \"latitude\": 47.60906506680182, \"longitude\": 8.37162775841209, \"flight_id\": \"0\", \"callsign\": \"0\", \"icao24\": \"0\", \"timestamp\": \"2021-08-31T17:06:05.815841543\"}, {\"track\": 133.9144744873047, \"groundspeed\": 203.38748168945312, \"altitude\": 4720.08154296875, \"timedelta\": 494.015869140625, \"latitude\": 47.60729222003643, \"longitude\": 8.374329074340947, \"flight_id\": \"0\", \"callsign\": \"0\", \"icao24\": \"0\", \"timestamp\": \"2021-08-31T17:06:08.520004141\"}, {\"track\": 134.39569091796875, \"groundspeed\": 203.15255737304688, \"altitude\": 4675.15576171875, \"timedelta\": 498.06903076171875, \"latitude\": 47.6046465827778, \"longitude\": 8.378391955607178, \"flight_id\": \"0\", \"callsign\": \"0\", \"icao24\": \"0\", \"timestamp\": \"2021-08-31T17:06:12.573165762\"}, {\"track\": 134.19815063476562, \"groundspeed\": 203.34056091308594, \"altitude\": 4628.8232421875, \"timedelta\": 501.5625305175781, \"latitude\": 47.60234911074161, \"longitude\": 8.381861227859948, \"flight_id\": \"0\", \"callsign\": \"0\", \"icao24\": \"0\", \"timestamp\": \"2021-08-31T17:06:16.066665518\"}, {\"track\": 134.6455078125, \"groundspeed\": 203.38595581054688, \"altitude\": 4584.58056640625, \"timedelta\": 505.2637939453125, \"latitude\": 47.59992134025115, \"longitude\": 8.385552451551838, \"flight_id\": \"0\", \"callsign\": \"0\", \"icao24\": \"0\", \"timestamp\": \"2021-08-31T17:06:19.767928944\"}, {\"track\": 135.23130798339844, \"groundspeed\": 201.92063903808594, \"altitude\": 4528.54541015625, \"timedelta\": 508.65618896484375, \"latitude\": 47.5976778706529, \"longitude\": 8.388910461848923, \"flight_id\": \"0\", \"callsign\": \"0\", \"icao24\": \"0\", \"timestamp\": \"2021-08-31T17:06:23.160323965\"}, {\"track\": 135.62924194335938, \"groundspeed\": 202.1201171875, \"altitude\": 4490.61767578125, \"timedelta\": 512.569091796875, \"latitude\": 47.59508235498794, \"longitude\": 8.392716577893522, \"flight_id\": \"0\", \"callsign\": \"0\", \"icao24\": \"0\", \"timestamp\": \"2021-08-31T17:06:27.073226797\"}, {\"track\": 136.2105255126953, \"groundspeed\": 201.7656707763672, \"altitude\": 4448.08642578125, \"timedelta\": 515.9155883789062, \"latitude\": 47.59284510949051, \"longitude\": 8.395951931283117, \"flight_id\": \"0\", \"callsign\": \"0\", \"icao24\": \"0\", \"timestamp\": \"2021-08-31T17:06:30.419723379\"}, {\"track\": 136.1683807373047, \"groundspeed\": 201.09359741210938, \"altitude\": 4397.20458984375, \"timedelta\": 520.0704956054688, \"latitude\": 47.59004489549631, \"longitude\": 8.399919800562925, \"flight_id\": \"0\", \"callsign\": \"0\", \"icao24\": \"0\", \"timestamp\": \"2021-08-31T17:06:34.574630605\"}, {\"track\": 136.8006134033203, \"groundspeed\": 200.6790771484375, \"altitude\": 4355.04296875, \"timedelta\": 523.2727661132812, \"latitude\": 47.58789543181755, \"longitude\": 8.402969943420105, \"flight_id\": \"0\", \"callsign\": \"0\", \"icao24\": \"0\", \"timestamp\": \"2021-08-31T17:06:37.776901113\"}, {\"track\": 137.24122619628906, \"groundspeed\": 200.0531463623047, \"altitude\": 4309.52978515625, \"timedelta\": 526.6533813476562, \"latitude\": 47.58560708276687, \"longitude\": 8.406146053388532, \"flight_id\": \"0\", \"callsign\": \"0\", \"icao24\": \"0\", \"timestamp\": \"2021-08-31T17:06:41.157516348\"}, {\"track\": 137.16676330566406, \"groundspeed\": 200.01309204101562, \"altitude\": 4258.22119140625, \"timedelta\": 530.6370239257812, \"latitude\": 47.5828996123598, \"longitude\": 8.409846182450138, \"flight_id\": \"0\", \"callsign\": \"0\", \"icao24\": \"0\", \"timestamp\": \"2021-08-31T17:06:45.141158926\"}, {\"track\": 137.30404663085938, \"groundspeed\": 199.08677673339844, \"altitude\": 4213.439453125, \"timedelta\": 534.5889892578125, \"latitude\": 47.58021743728292, \"longitude\": 8.413521121304012, \"flight_id\": \"0\", \"callsign\": \"0\", \"icao24\": \"0\", \"timestamp\": \"2021-08-31T17:06:49.093124258\"}, {\"track\": 137.01351928710938, \"groundspeed\": 199.30337524414062, \"altitude\": 4164.3935546875, \"timedelta\": 537.49267578125, \"latitude\": 47.578251509126005, \"longitude\": 8.41620170445195, \"flight_id\": \"0\", \"callsign\": \"0\", \"icao24\": \"0\", \"timestamp\": \"2021-08-31T17:06:51.996810781\"}, {\"track\": 136.634033203125, \"groundspeed\": 198.27398681640625, \"altitude\": 4113.8427734375, \"timedelta\": 541.1157836914062, \"latitude\": 47.57580734005973, \"longitude\": 8.419568273432443, \"flight_id\": \"0\", \"callsign\": \"0\", \"icao24\": \"0\", \"timestamp\": \"2021-08-31T17:06:55.619918691\"}, {\"track\": 136.52145385742188, \"groundspeed\": 197.79904174804688, \"altitude\": 4051.80517578125, \"timedelta\": 544.544189453125, \"latitude\": 47.57352071910451, \"longitude\": 8.422759784404974, \"flight_id\": \"0\", \"callsign\": \"0\", \"icao24\": \"0\", \"timestamp\": \"2021-08-31T17:06:59.048324453\"}, {\"track\": 136.6156005859375, \"groundspeed\": 197.46165466308594, \"altitude\": 4001.47705078125, \"timedelta\": 547.9498291015625, \"latitude\": 47.57125893227085, \"longitude\": 8.42592894504867, \"flight_id\": \"0\", \"callsign\": \"0\", \"icao24\": \"0\", \"timestamp\": \"2021-08-31T17:07:02.453964102\"}, {\"track\": 136.34107971191406, \"groundspeed\": 196.52981567382812, \"altitude\": 3936.298828125, \"timedelta\": 551.9263916015625, \"latitude\": 47.568618369372956, \"longitude\": 8.429616481810111, \"flight_id\": \"0\", \"callsign\": \"0\", \"icao24\": \"0\", \"timestamp\": \"2021-08-31T17:07:06.430526602\"}, {\"track\": 136.16062927246094, \"groundspeed\": 195.9767303466797, \"altitude\": 3881.322998046875, \"timedelta\": 555.4982299804688, \"latitude\": 47.56626846963819, \"longitude\": 8.43292960582843, \"flight_id\": \"0\", \"callsign\": \"0\", \"icao24\": \"0\", \"timestamp\": \"2021-08-31T17:07:10.002364980\"}, {\"track\": 136.28785705566406, \"groundspeed\": 195.0286865234375, \"altitude\": 3827.523193359375, \"timedelta\": 559.0309448242188, \"latitude\": 47.563957826267725, \"longitude\": 8.436207842008535, \"flight_id\": \"0\", \"callsign\": \"0\", \"icao24\": \"0\", \"timestamp\": \"2021-08-31T17:07:13.535079824\"}, {\"track\": 136.26918029785156, \"groundspeed\": 193.69219970703125, \"altitude\": 3761.70166015625, \"timedelta\": 563.0360107421875, \"latitude\": 47.561345344536846, \"longitude\": 8.43989767947571, \"flight_id\": \"0\", \"callsign\": \"0\", \"icao24\": \"0\", \"timestamp\": \"2021-08-31T17:07:17.540145742\"}, {\"track\": 136.29104614257812, \"groundspeed\": 192.2793731689453, \"altitude\": 3695.761474609375, \"timedelta\": 566.1568603515625, \"latitude\": 47.559324221971636, \"longitude\": 8.442754055552513, \"flight_id\": \"0\", \"callsign\": \"0\", \"icao24\": \"0\", \"timestamp\": \"2021-08-31T17:07:20.660995352\"}, {\"track\": 136.47430419921875, \"groundspeed\": 190.7913360595703, \"altitude\": 3634.810546875, \"timedelta\": 570.2137451171875, \"latitude\": 47.556715102718684, \"longitude\": 8.446438405808363, \"flight_id\": \"0\", \"callsign\": \"0\", \"icao24\": \"0\", \"timestamp\": \"2021-08-31T17:07:24.717880117\"}, {\"track\": 136.54176330566406, \"groundspeed\": 188.9922637939453, \"altitude\": 3571.602783203125, \"timedelta\": 573.6549682617188, \"latitude\": 47.55451236773566, \"longitude\": 8.449528922538912, \"flight_id\": \"0\", \"callsign\": \"0\", \"icao24\": \"0\", \"timestamp\": \"2021-08-31T17:07:28.159103262\"}, {\"track\": 136.4252471923828, \"groundspeed\": 187.33218383789062, \"altitude\": 3510.854736328125, \"timedelta\": 577.1100463867188, \"latitude\": 47.552319169650886, \"longitude\": 8.452598682474202, \"flight_id\": \"0\", \"callsign\": \"0\", \"icao24\": \"0\", \"timestamp\": \"2021-08-31T17:07:31.614181387\"}, {\"track\": 136.5367889404297, \"groundspeed\": 185.30374145507812, \"altitude\": 3455.769775390625, \"timedelta\": 581.3817138671875, \"latitude\": 47.54963661082827, \"longitude\": 8.456368499683633, \"flight_id\": \"0\", \"callsign\": \"0\", \"icao24\": \"0\", \"timestamp\": \"2021-08-31T17:07:35.885848867\"}, {\"track\": 136.54559326171875, \"groundspeed\": 183.47433471679688, \"altitude\": 3390.617919921875, \"timedelta\": 584.5272827148438, \"latitude\": 47.5476790151447, \"longitude\": 8.45910873116291, \"flight_id\": \"0\", \"callsign\": \"0\", \"icao24\": \"0\", \"timestamp\": \"2021-08-31T17:07:39.031417715\"}, {\"track\": 136.78469848632812, \"groundspeed\": 181.4087371826172, \"altitude\": 3330.146240234375, \"timedelta\": 588.2477416992188, \"latitude\": 47.54538616274475, \"longitude\": 8.46231711520385, \"flight_id\": \"0\", \"callsign\": \"0\", \"icao24\": \"0\", \"timestamp\": \"2021-08-31T17:07:42.751876699\"}, {\"track\": 136.8540496826172, \"groundspeed\": 179.05606079101562, \"altitude\": 3271.68359375, \"timedelta\": 591.3666381835938, \"latitude\": 47.5434781904104, \"longitude\": 8.46496462169357, \"flight_id\": \"0\", \"callsign\": \"0\", \"icao24\": \"0\", \"timestamp\": \"2021-08-31T17:07:45.870773184\"}, {\"track\": 137.135498046875, \"groundspeed\": 177.17527770996094, \"altitude\": 3213.7919921875, \"timedelta\": 595.4502563476562, \"latitude\": 47.5410096366704, \"longitude\": 8.468381515827598, \"flight_id\": \"0\", \"callsign\": \"0\", \"icao24\": \"0\", \"timestamp\": \"2021-08-31T17:07:49.954391348\"}, {\"track\": 137.11239624023438, \"groundspeed\": 175.32191467285156, \"altitude\": 3154.444091796875, \"timedelta\": 599.0740356445312, \"latitude\": 47.53883211749629, \"longitude\": 8.47136591500242, \"flight_id\": \"0\", \"callsign\": \"0\", \"icao24\": \"0\", \"timestamp\": \"2021-08-31T17:07:53.578170645\"}, {\"track\": 137.11642456054688, \"groundspeed\": 172.51795959472656, \"altitude\": 3098.0244140625, \"timedelta\": 603.0308227539062, \"latitude\": 47.5364802423675, \"longitude\": 8.474591735067104, \"flight_id\": \"0\", \"callsign\": \"0\", \"icao24\": \"0\", \"timestamp\": \"2021-08-31T17:07:57.534957754\"}, {\"track\": 137.16290283203125, \"groundspeed\": 170.21441650390625, \"altitude\": 3040.097900390625, \"timedelta\": 606.1528930664062, \"latitude\": 47.53465408173828, \"longitude\": 8.47709605757813, \"flight_id\": \"0\", \"callsign\": \"0\", \"icao24\": \"0\", \"timestamp\": \"2021-08-31T17:08:00.657028066\"}, {\"track\": 137.21324157714844, \"groundspeed\": 167.55081176757812, \"altitude\": 2982.769775390625, \"timedelta\": 610.2293701171875, \"latitude\": 47.53229972484593, \"longitude\": 8.480319319225702, \"flight_id\": \"0\", \"callsign\": \"0\", \"icao24\": \"0\", \"timestamp\": \"2021-08-31T17:08:04.733505117\"}, {\"track\": 137.1084747314453, \"groundspeed\": 164.99786376953125, \"altitude\": 2932.188720703125, \"timedelta\": 613.4992065429688, \"latitude\": 47.5304392863007, \"longitude\": 8.48286181064295, \"flight_id\": \"0\", \"callsign\": \"0\", \"icao24\": \"0\", \"timestamp\": \"2021-08-31T17:08:08.003341543\"}, {\"track\": 137.17379760742188, \"groundspeed\": 162.04278564453125, \"altitude\": 2880.721923828125, \"timedelta\": 617.936279296875, \"latitude\": 47.52795738975424, \"longitude\": 8.486265874466131, \"flight_id\": \"0\", \"callsign\": \"0\", \"icao24\": \"0\", \"timestamp\": \"2021-08-31T17:08:12.440414297\"}, {\"track\": 137.15963745117188, \"groundspeed\": 159.8073272705078, \"altitude\": 2824.749267578125, \"timedelta\": 620.5198364257812, \"latitude\": 47.5265366569111, \"longitude\": 8.48821000453168, \"flight_id\": \"0\", \"callsign\": \"0\", \"icao24\": \"0\", \"timestamp\": \"2021-08-31T17:08:15.023971426\"}, {\"track\": 137.17486572265625, \"groundspeed\": 157.07644653320312, \"altitude\": 2773.890869140625, \"timedelta\": 624.2069091796875, \"latitude\": 47.524537505630015, \"longitude\": 8.490946880695532, \"flight_id\": \"0\", \"callsign\": \"0\", \"icao24\": \"0\", \"timestamp\": \"2021-08-31T17:08:18.711044180\"}, {\"track\": 137.08030700683594, \"groundspeed\": 154.4514617919922, \"altitude\": 2727.295654296875, \"timedelta\": 627.3597412109375, \"latitude\": 47.522856824731576, \"longitude\": 8.493246470415093, \"flight_id\": \"0\", \"callsign\": \"0\", \"icao24\": \"0\", \"timestamp\": \"2021-08-31T17:08:21.863876211\"}, {\"track\": 137.0810089111328, \"groundspeed\": 152.04600524902344, \"altitude\": 2673.55322265625, \"timedelta\": 631.3286743164062, \"latitude\": 47.52077963886892, \"longitude\": 8.496097877083493, \"flight_id\": \"0\", \"callsign\": \"0\", \"icao24\": \"0\", \"timestamp\": \"2021-08-31T17:08:25.832809316\"}, {\"track\": 137.01036071777344, \"groundspeed\": 149.6949005126953, \"altitude\": 2629.594970703125, \"timedelta\": 634.6573486328125, \"latitude\": 47.5190646565609, \"longitude\": 8.498451949259476, \"flight_id\": \"0\", \"callsign\": \"0\", \"icao24\": \"0\", \"timestamp\": \"2021-08-31T17:08:29.161483633\"}, {\"track\": 137.0144500732422, \"groundspeed\": 147.81532287597656, \"altitude\": 2582.752197265625, \"timedelta\": 639.1196899414062, \"latitude\": 47.51680372874345, \"longitude\": 8.50156294758177, \"flight_id\": \"0\", \"callsign\": \"0\", \"icao24\": \"0\", \"timestamp\": \"2021-08-31T17:08:33.623824941\"}, {\"track\": 137.03286743164062, \"groundspeed\": 146.21038818359375, \"altitude\": 2533.32421875, \"timedelta\": 642.0523681640625, \"latitude\": 47.51533640156617, \"longitude\": 8.503581632284385, \"flight_id\": \"0\", \"callsign\": \"0\", \"icao24\": \"0\", \"timestamp\": \"2021-08-31T17:08:36.556503164\"}, {\"track\": 137.09141540527344, \"groundspeed\": 144.71157836914062, \"altitude\": 2489.726318359375, \"timedelta\": 645.88671875, \"latitude\": 47.51343818900776, \"longitude\": 8.50619132364424, \"flight_id\": \"0\", \"callsign\": \"0\", \"icao24\": \"0\", \"timestamp\": \"2021-08-31T17:08:40.390853750\"}, {\"track\": 137.02426147460938, \"groundspeed\": 144.18768310546875, \"altitude\": 2449.041015625, \"timedelta\": 649.5845336914062, \"latitude\": 47.511624612206866, \"longitude\": 8.508679468191216, \"flight_id\": \"0\", \"callsign\": \"0\", \"icao24\": \"0\", \"timestamp\": \"2021-08-31T17:08:44.088668691\"}, {\"track\": 137.08273315429688, \"groundspeed\": 142.8021240234375, \"altitude\": 2397.44677734375, \"timedelta\": 653.1026000976562, \"latitude\": 47.509907313403126, \"longitude\": 8.511040991322398, \"flight_id\": \"0\", \"callsign\": \"0\", \"icao24\": \"0\", \"timestamp\": \"2021-08-31T17:08:47.606735098\"}, {\"track\": 136.94679260253906, \"groundspeed\": 142.3000030517578, \"altitude\": 2350.977783203125, \"timedelta\": 657.6583862304688, \"latitude\": 47.50770273225066, \"longitude\": 8.514066258126446, \"flight_id\": \"0\", \"callsign\": \"0\", \"icao24\": \"0\", \"timestamp\": \"2021-08-31T17:08:52.162521230\"}, {\"track\": 137.06573486328125, \"groundspeed\": 141.67288208007812, \"altitude\": 2307.906494140625, \"timedelta\": 660.8978271484375, \"latitude\": 47.5061441114386, \"longitude\": 8.516215242441552, \"flight_id\": \"0\", \"callsign\": \"0\", \"icao24\": \"0\", \"timestamp\": \"2021-08-31T17:08:55.401962148\"}, {\"track\": 137.028076171875, \"groundspeed\": 141.42434692382812, \"altitude\": 2262.769287109375, \"timedelta\": 664.5640258789062, \"latitude\": 47.50438452906078, \"longitude\": 8.518631145496798, \"flight_id\": \"0\", \"callsign\": \"0\", \"icao24\": \"0\", \"timestamp\": \"2021-08-31T17:08:59.068160879\"}, {\"track\": 136.9983367919922, \"groundspeed\": 140.6367950439453, \"altitude\": 2215.3779296875, \"timedelta\": 667.320068359375, \"latitude\": 47.50306490634377, \"longitude\": 8.520445334774953, \"flight_id\": \"0\", \"callsign\": \"0\", \"icao24\": \"0\", \"timestamp\": \"2021-08-31T17:09:01.824203359\"}, {\"track\": 136.971435546875, \"groundspeed\": 140.26995849609375, \"altitude\": 2173.165771484375, \"timedelta\": 671.0376586914062, \"latitude\": 47.50129564556443, \"longitude\": 8.522880117931184, \"flight_id\": \"0\", \"callsign\": \"0\", \"icao24\": \"0\", \"timestamp\": \"2021-08-31T17:09:05.541793691\"}, {\"track\": 137.04258728027344, \"groundspeed\": 139.65789794921875, \"altitude\": 2133.705322265625, \"timedelta\": 675.3529663085938, \"latitude\": 47.49924817025658, \"longitude\": 8.525700304674972, \"flight_id\": \"0\", \"callsign\": \"0\", \"icao24\": \"0\", \"timestamp\": \"2021-08-31T17:09:09.857101309\"}, {\"track\": 137.02171325683594, \"groundspeed\": 139.59230041503906, \"altitude\": 2085.92578125, \"timedelta\": 678.9622192382812, \"latitude\": 47.49754119705205, \"longitude\": 8.528045568143055, \"flight_id\": \"0\", \"callsign\": \"0\", \"icao24\": \"0\", \"timestamp\": \"2021-08-31T17:09:13.466354238\"}, {\"track\": 137.06649780273438, \"groundspeed\": 139.91307067871094, \"altitude\": 2041.473388671875, \"timedelta\": 682.2374877929688, \"latitude\": 47.49599343395731, \"longitude\": 8.530173581450981, \"flight_id\": \"0\", \"callsign\": \"0\", \"icao24\": \"0\", \"timestamp\": \"2021-08-31T17:09:16.741622793\"}, {\"track\": 137.0315704345703, \"groundspeed\": 139.2931671142578, \"altitude\": 1997.33740234375, \"timedelta\": 685.9037475585938, \"latitude\": 47.49425565529398, \"longitude\": 8.53255902171527, \"flight_id\": \"0\", \"callsign\": \"0\", \"icao24\": \"0\", \"timestamp\": \"2021-08-31T17:09:20.407882559\"}, {\"track\": 137.0590057373047, \"groundspeed\": 139.1425323486328, \"altitude\": 1954.42529296875, \"timedelta\": 688.290283203125, \"latitude\": 47.49313011219368, \"longitude\": 8.534105913197548, \"flight_id\": \"0\", \"callsign\": \"0\", \"icao24\": \"0\", \"timestamp\": \"2021-08-31T17:09:22.794418203\"}, {\"track\": 137.09722900390625, \"groundspeed\": 139.47955322265625, \"altitude\": 1905.5406494140625, \"timedelta\": 692.2606811523438, \"latitude\": 47.491258763451825, \"longitude\": 8.53667522775152, \"flight_id\": \"0\", \"callsign\": \"0\", \"icao24\": \"0\", \"timestamp\": \"2021-08-31T17:09:26.764816152\"}, {\"track\": 137.07260131835938, \"groundspeed\": 138.86158752441406, \"altitude\": 1862.368408203125, \"timedelta\": 696.704833984375, \"latitude\": 47.48915774081154, \"longitude\": 8.539555901177884, \"flight_id\": \"0\", \"callsign\": \"0\", \"icao24\": \"0\", \"timestamp\": \"2021-08-31T17:09:31.208968984\"}, {\"track\": 137.10055541992188, \"groundspeed\": 138.9945526123047, \"altitude\": 1817.424560546875, \"timedelta\": 700.3080444335938, \"latitude\": 47.48746251276059, \"longitude\": 8.541882133469935, \"flight_id\": \"0\", \"callsign\": \"0\", \"icao24\": \"0\", \"timestamp\": \"2021-08-31T17:09:34.812179434\"}, {\"track\": 137.1694793701172, \"groundspeed\": 138.5213165283203, \"altitude\": 1775.9461669921875, \"timedelta\": 703.1539916992188, \"latitude\": 47.48612167308732, \"longitude\": 8.543720224449467, \"flight_id\": \"0\", \"callsign\": \"0\", \"icao24\": \"0\", \"timestamp\": \"2021-08-31T17:09:37.658126699\"}, {\"track\": 137.03607177734375, \"groundspeed\": 138.52536010742188, \"altitude\": 1729.6199951171875, \"timedelta\": 706.93017578125, \"latitude\": 47.48434663148468, \"longitude\": 8.546147587000661, \"flight_id\": \"0\", \"callsign\": \"0\", \"icao24\": \"0\", \"timestamp\": \"2021-08-31T17:09:41.434310781\"}, {\"track\": 137.0841827392578, \"groundspeed\": 138.39266967773438, \"altitude\": 1683.3260498046875, \"timedelta\": 710.5274658203125, \"latitude\": 47.48265928680113, \"longitude\": 8.548465750274692, \"flight_id\": \"0\", \"callsign\": \"0\", \"icao24\": \"0\", \"timestamp\": \"2021-08-31T17:09:45.031600820\"}, {\"track\": 137.06863403320312, \"groundspeed\": 138.16001892089844, \"altitude\": 1640.95458984375, \"timedelta\": 714.0659790039062, \"latitude\": 47.48099980570559, \"longitude\": 8.550741725863478, \"flight_id\": \"0\", \"callsign\": \"0\", \"icao24\": \"0\", \"timestamp\": \"2021-08-31T17:09:48.570114003\"}, {\"track\": 137.15533447265625, \"groundspeed\": 138.06735229492188, \"altitude\": 1597.2728271484375, \"timedelta\": 716.9806518554688, \"latitude\": 47.47963553687138, \"longitude\": 8.552613792363685, \"flight_id\": \"0\", \"callsign\": \"0\", \"icao24\": \"0\", \"timestamp\": \"2021-08-31T17:09:51.484786855\"}]}}, {\"mode\": \"vega-lite\"});\n",
       "</script>"
      ],
      "text/plain": [
       "alt.Chart(...)"
      ]
     },
     "execution_count": 27,
     "metadata": {},
     "output_type": "execute_result"
    }
   ],
   "source": [
    "generated.chart().encode(alt.Y(\"track\"), alt.X(\"timestamp\"), alt.Color(\"flight_id\"))"
   ]
  },
  {
   "cell_type": "code",
   "execution_count": 28,
   "id": "35fa1980",
   "metadata": {},
   "outputs": [
    {
     "data": {
      "text/html": [
       "\n",
       "<div id=\"altair-viz-a2ca41fdc10d4996908de64424ba372d\"></div>\n",
       "<script type=\"text/javascript\">\n",
       "  (function(spec, embedOpt){\n",
       "    let outputDiv = document.currentScript.previousElementSibling;\n",
       "    if (outputDiv.id !== \"altair-viz-a2ca41fdc10d4996908de64424ba372d\") {\n",
       "      outputDiv = document.getElementById(\"altair-viz-a2ca41fdc10d4996908de64424ba372d\");\n",
       "    }\n",
       "    const paths = {\n",
       "      \"vega\": \"https://cdn.jsdelivr.net/npm//vega@5?noext\",\n",
       "      \"vega-lib\": \"https://cdn.jsdelivr.net/npm//vega-lib?noext\",\n",
       "      \"vega-lite\": \"https://cdn.jsdelivr.net/npm//vega-lite@4.8.1?noext\",\n",
       "      \"vega-embed\": \"https://cdn.jsdelivr.net/npm//vega-embed@6?noext\",\n",
       "    };\n",
       "\n",
       "    function loadScript(lib) {\n",
       "      return new Promise(function(resolve, reject) {\n",
       "        var s = document.createElement('script');\n",
       "        s.src = paths[lib];\n",
       "        s.async = true;\n",
       "        s.onload = () => resolve(paths[lib]);\n",
       "        s.onerror = () => reject(`Error loading script: ${paths[lib]}`);\n",
       "        document.getElementsByTagName(\"head\")[0].appendChild(s);\n",
       "      });\n",
       "    }\n",
       "\n",
       "    function showError(err) {\n",
       "      outputDiv.innerHTML = `<div class=\"error\" style=\"color:red;\">${err}</div>`;\n",
       "      throw err;\n",
       "    }\n",
       "\n",
       "    function displayChart(vegaEmbed) {\n",
       "      vegaEmbed(outputDiv, spec, embedOpt)\n",
       "        .catch(err => showError(`Javascript Error: ${err.message}<br>This usually means there's a typo in your chart specification. See the javascript console for the full traceback.`));\n",
       "    }\n",
       "\n",
       "    if(typeof define === \"function\" && define.amd) {\n",
       "      requirejs.config({paths});\n",
       "      require([\"vega-embed\"], displayChart, err => showError(`Error loading script: ${err.message}`));\n",
       "    } else if (typeof vegaEmbed === \"function\") {\n",
       "      displayChart(vegaEmbed);\n",
       "    } else {\n",
       "      loadScript(\"vega\")\n",
       "        .then(() => loadScript(\"vega-lite\"))\n",
       "        .then(() => loadScript(\"vega-embed\"))\n",
       "        .catch(showError)\n",
       "        .then(() => displayChart(vegaEmbed));\n",
       "    }\n",
       "  })({\"config\": {\"view\": {\"continuousWidth\": 400, \"continuousHeight\": 300}}, \"data\": {\"name\": \"data-e3cfd5e2a261c9993188e8dd36b09fd5\"}, \"mark\": \"line\", \"encoding\": {\"color\": {\"type\": \"nominal\", \"field\": \"flight_id\"}, \"x\": {\"type\": \"temporal\", \"field\": \"timestamp\"}, \"y\": {\"type\": \"quantitative\", \"field\": \"track\"}}, \"$schema\": \"https://vega.github.io/schema/vega-lite/v4.8.1.json\", \"datasets\": {\"data-e3cfd5e2a261c9993188e8dd36b09fd5\": [{\"track\": 208.2781982421875, \"groundspeed\": 344.06072998046875, \"altitude\": 13000.0, \"timedelta\": 0.0, \"latitude\": 48.12453842163086, \"longitude\": 8.658493995666504, \"flight_id\": \"0\", \"callsign\": \"0\", \"icao24\": \"0\", \"timestamp\": \"2021-08-31T16:57:54.504135\"}, {\"track\": 208.3572998046875, \"groundspeed\": 343.1803894042969, \"altitude\": 12999.9990234375, \"timedelta\": 3.0, \"latitude\": 48.120332794057774, \"longitude\": 8.655115116687202, \"flight_id\": \"0\", \"callsign\": \"0\", \"icao24\": \"0\", \"timestamp\": \"2021-08-31T16:57:57.504135\"}, {\"track\": 208.35728454589844, \"groundspeed\": 343.1803894042969, \"altitude\": 13000.0, \"timedelta\": 7.0, \"latitude\": 48.11474377066505, \"longitude\": 8.650610432579715, \"flight_id\": \"0\", \"callsign\": \"0\", \"icao24\": \"0\", \"timestamp\": \"2021-08-31T16:58:01.504135\"}, {\"track\": 208.3572998046875, \"groundspeed\": 343.180419921875, \"altitude\": 13000.0, \"timedelta\": 10.0, \"latitude\": 48.11055201549531, \"longitude\": 8.647232195927623, \"flight_id\": \"0\", \"callsign\": \"0\", \"icao24\": \"0\", \"timestamp\": \"2021-08-31T16:58:04.504135\"}, {\"track\": 208.43679809570312, \"groundspeed\": 342.3007507324219, \"altitude\": 13000.0, \"timedelta\": 13.0, \"latitude\": 48.106360257489875, \"longitude\": 8.643854232008653, \"flight_id\": \"0\", \"callsign\": \"0\", \"icao24\": \"0\", \"timestamp\": \"2021-08-31T16:58:07.504135\"}, {\"track\": 208.43679809570312, \"groundspeed\": 342.30072021484375, \"altitude\": 12975.0, \"timedelta\": 17.0, \"latitude\": 48.10078972618917, \"longitude\": 8.639350767260115, \"flight_id\": \"0\", \"callsign\": \"0\", \"icao24\": \"0\", \"timestamp\": \"2021-08-31T16:58:11.504135\"}, {\"track\": 208.43679809570312, \"groundspeed\": 342.30072021484375, \"altitude\": 12975.0, \"timedelta\": 20.0, \"latitude\": 48.096611841078804, \"longitude\": 8.635973442643724, \"flight_id\": \"0\", \"callsign\": \"0\", \"icao24\": \"0\", \"timestamp\": \"2021-08-31T16:58:14.504135\"}, {\"track\": 208.43679809570312, \"groundspeed\": 342.3007507324219, \"altitude\": 12975.0, \"timedelta\": 23.0, \"latitude\": 48.09243395292314, \"longitude\": 8.632596391610468, \"flight_id\": \"0\", \"callsign\": \"0\", \"icao24\": \"0\", \"timestamp\": \"2021-08-31T16:58:17.504135\"}, {\"track\": 208.35728454589844, \"groundspeed\": 343.180419921875, \"altitude\": 12975.0009765625, \"timedelta\": 27.0, \"latitude\": 48.086863408098516, \"longitude\": 8.628094142742972, \"flight_id\": \"0\", \"callsign\": \"0\", \"icao24\": \"0\", \"timestamp\": \"2021-08-31T16:58:21.504135\"}, {\"track\": 208.3572998046875, \"groundspeed\": 343.180419921875, \"altitude\": 12950.0, \"timedelta\": 30.0, \"latitude\": 48.082671632166324, \"longitude\": 8.62471773170617, \"flight_id\": \"0\", \"callsign\": \"0\", \"icao24\": \"0\", \"timestamp\": \"2021-08-31T16:58:24.504135\"}, {\"track\": 208.35728454589844, \"groundspeed\": 343.180419921875, \"altitude\": 12875.0, \"timedelta\": 33.0, \"latitude\": 48.07847985377085, \"longitude\": 8.621341593287157, \"flight_id\": \"0\", \"callsign\": \"0\", \"icao24\": \"0\", \"timestamp\": \"2021-08-31T16:58:27.504135\"}, {\"track\": 208.27818298339844, \"groundspeed\": 344.0607604980469, \"altitude\": 12775.0, \"timedelta\": 37.0, \"latitude\": 48.07289078829872, \"longitude\": 8.616840565105841, \"flight_id\": \"0\", \"callsign\": \"0\", \"icao24\": \"0\", \"timestamp\": \"2021-08-31T16:58:31.504135\"}, {\"track\": 208.35728454589844, \"groundspeed\": 343.180419921875, \"altitude\": 12700.0, \"timedelta\": 40.0, \"latitude\": 48.06868512185307, \"longitude\": 8.613465069572058, \"flight_id\": \"0\", \"callsign\": \"0\", \"icao24\": \"0\", \"timestamp\": \"2021-08-31T16:58:34.504135\"}, {\"track\": 208.35728454589844, \"groundspeed\": 343.1803894042969, \"altitude\": 12600.0, \"timedelta\": 43.0, \"latitude\": 48.06449333262538, \"longitude\": 8.610089847554887, \"flight_id\": \"0\", \"callsign\": \"0\", \"icao24\": \"0\", \"timestamp\": \"2021-08-31T16:58:37.504135\"}, {\"track\": 208.28941345214844, \"groundspeed\": 341.82568359375, \"altitude\": 12450.0, \"timedelta\": 47.0, \"latitude\": 48.05890425402107, \"longitude\": 8.605590039050735, \"flight_id\": \"0\", \"callsign\": \"0\", \"icao24\": \"0\", \"timestamp\": \"2021-08-31T16:58:41.504135\"}, {\"track\": 208.28939819335938, \"groundspeed\": 341.82568359375, \"altitude\": 12350.0, \"timedelta\": 50.0, \"latitude\": 48.05472633904867, \"longitude\": 8.602236156303125, \"flight_id\": \"0\", \"callsign\": \"0\", \"icao24\": \"0\", \"timestamp\": \"2021-08-31T16:58:44.504135\"}, {\"track\": 208.22097778320312, \"groundspeed\": 340.471435546875, \"altitude\": 12250.0, \"timedelta\": 53.0, \"latitude\": 48.0505484204316, \"longitude\": 8.5988825465006, \"flight_id\": \"0\", \"callsign\": \"0\", \"icao24\": \"0\", \"timestamp\": \"2021-08-31T16:58:47.504135\"}, {\"track\": 208.23193359375, \"groundspeed\": 338.2362976074219, \"altitude\": 12125.0, \"timedelta\": 57.0, \"latitude\": 48.0449963440719, \"longitude\": 8.594439144611075, \"flight_id\": \"0\", \"callsign\": \"0\", \"icao24\": \"0\", \"timestamp\": \"2021-08-31T16:58:51.504135\"}, {\"track\": 208.1625213623047, \"groundspeed\": 336.8824768066406, \"altitude\": 12025.0, \"timedelta\": 60.0, \"latitude\": 48.040860060503924, \"longitude\": 8.59112755642388, \"flight_id\": \"0\", \"callsign\": \"0\", \"icao24\": \"0\", \"timestamp\": \"2021-08-31T16:58:54.504135\"}, {\"track\": 208.0925750732422, \"groundspeed\": 335.5291442871094, \"altitude\": 11924.9990234375, \"timedelta\": 63.000003814697266, \"latitude\": 48.03673764944506, \"longitude\": 8.587836927060202, \"flight_id\": \"0\", \"callsign\": \"0\", \"icao24\": \"0\", \"timestamp\": \"2021-08-31T16:58:57.504138815\"}, {\"track\": 208.02206420898438, \"groundspeed\": 334.17633056640625, \"altitude\": 11800.0, \"timedelta\": 67.0, \"latitude\": 48.03125959471031, \"longitude\": 8.58347748576415, \"flight_id\": \"0\", \"callsign\": \"0\", \"icao24\": \"0\", \"timestamp\": \"2021-08-31T16:59:01.504135\"}, {\"track\": 207.9509735107422, \"groundspeed\": 332.823974609375, \"altitude\": 11700.0, \"timedelta\": 70.0, \"latitude\": 48.02716494226355, \"longitude\": 8.580228851589307, \"flight_id\": \"0\", \"callsign\": \"0\", \"icao24\": \"0\", \"timestamp\": \"2021-08-31T16:59:04.504135\"}, {\"track\": 208.03187561035156, \"groundspeed\": 331.94097900390625, \"altitude\": 11600.0, \"timedelta\": 73.0, \"latitude\": 48.02308416792683, \"longitude\": 8.577001164505068, \"flight_id\": \"0\", \"callsign\": \"0\", \"icao24\": \"0\", \"timestamp\": \"2021-08-31T16:59:07.504135\"}, {\"track\": 207.96034240722656, \"groundspeed\": 330.5885925292969, \"altitude\": 11475.0, \"timedelta\": 77.0, \"latitude\": 48.0176616170801, \"longitude\": 8.572698033035296, \"flight_id\": \"0\", \"callsign\": \"0\", \"icao24\": \"0\", \"timestamp\": \"2021-08-31T16:59:11.504135\"}, {\"track\": 207.88821411132812, \"groundspeed\": 329.2366943359375, \"altitude\": 11375.0, \"timedelta\": 80.0, \"latitude\": 48.01360859619577, \"longitude\": 8.569491624062858, \"flight_id\": \"0\", \"callsign\": \"0\", \"icao24\": \"0\", \"timestamp\": \"2021-08-31T16:59:14.504135\"}, {\"track\": 207.8155059814453, \"groundspeed\": 327.8853759765625, \"altitude\": 11275.0, \"timedelta\": 83.0, \"latitude\": 48.009569453059996, \"longitude\": 8.56630615166376, \"flight_id\": \"0\", \"callsign\": \"0\", \"icao24\": \"0\", \"timestamp\": \"2021-08-31T16:59:17.504135\"}, {\"track\": 207.74220275878906, \"groundspeed\": 326.5345764160156, \"altitude\": 11150.0, \"timedelta\": 87.0, \"latitude\": 48.004202412430516, \"longitude\": 8.56208687171825, \"flight_id\": \"0\", \"callsign\": \"0\", \"icao24\": \"0\", \"timestamp\": \"2021-08-31T16:59:21.504135\"}, {\"track\": 207.586669921875, \"groundspeed\": 326.07025146484375, \"altitude\": 11075.0, \"timedelta\": 90.0, \"latitude\": 48.0001910241167, \"longitude\": 8.558943336900327, \"flight_id\": \"0\", \"callsign\": \"0\", \"icao24\": \"0\", \"timestamp\": \"2021-08-31T16:59:24.504135\"}, {\"track\": 207.51199340820312, \"groundspeed\": 324.72113037109375, \"altitude\": 10975.0, \"timedelta\": 93.0, \"latitude\": 47.99617963340353, \"longitude\": 8.555820727180318, \"flight_id\": \"0\", \"callsign\": \"0\", \"icao24\": \"0\", \"timestamp\": \"2021-08-31T16:59:27.504135\"}, {\"track\": 207.36077880859375, \"groundspeed\": 322.0245666503906, \"altitude\": 10875.0, \"timedelta\": 97.0, \"latitude\": 47.99084959695061, \"longitude\": 8.55168524624683, \"flight_id\": \"0\", \"callsign\": \"0\", \"icao24\": \"0\", \"timestamp\": \"2021-08-31T16:59:31.504135\"}, {\"track\": 207.28421020507812, \"groundspeed\": 320.6771240234375, \"altitude\": 10800.0, \"timedelta\": 99.99999237060547, \"latitude\": 47.986879852625734, \"longitude\": 8.54862523173546, \"flight_id\": \"0\", \"callsign\": \"0\", \"icao24\": \"0\", \"timestamp\": \"2021-08-31T16:59:34.504127371\"}, {\"track\": 207.28924560546875, \"groundspeed\": 319.33026123046875, \"altitude\": 10725.0, \"timedelta\": 103.0, \"latitude\": 47.98292396647248, \"longitude\": 8.545586110220775, \"flight_id\": \"0\", \"callsign\": \"0\", \"icao24\": \"0\", \"timestamp\": \"2021-08-31T16:59:37.504135\"}, {\"track\": 207.21151733398438, \"groundspeed\": 317.9840087890625, \"altitude\": 10375.0, \"timedelta\": 107.0, \"latitude\": 47.97767183349824, \"longitude\": 8.541550698746619, \"flight_id\": \"0\", \"callsign\": \"0\", \"icao24\": \"0\", \"timestamp\": \"2021-08-31T16:59:41.504135\"}, {\"track\": 207.29437255859375, \"groundspeed\": 316.2053527832031, \"altitude\": 10375.0, \"timedelta\": 110.0, \"latitude\": 47.97374660931461, \"longitude\": 8.538545055372865, \"flight_id\": \"0\", \"callsign\": \"0\", \"icao24\": \"0\", \"timestamp\": \"2021-08-31T16:59:44.504135\"}, {\"track\": 207.2161102294922, \"groundspeed\": 314.8584289550781, \"altitude\": 10375.0, \"timedelta\": 113.0, \"latitude\": 47.96984624472698, \"longitude\": 8.535548047184783, \"flight_id\": \"0\", \"callsign\": \"0\", \"icao24\": \"0\", \"timestamp\": \"2021-08-31T16:59:47.504135\"}, {\"track\": 207.3834991455078, \"groundspeed\": 313.0812072753906, \"altitude\": 10350.0, \"timedelta\": 117.0, \"latitude\": 47.964664245067205, \"longitude\": 8.53157999126331, \"flight_id\": \"0\", \"callsign\": \"0\", \"icao24\": \"0\", \"timestamp\": \"2021-08-31T16:59:51.504135\"}, {\"track\": 207.38938903808594, \"groundspeed\": 311.73358154296875, \"altitude\": 10275.0, \"timedelta\": 120.0, \"latitude\": 47.960805515058425, \"longitude\": 8.528604171414216, \"flight_id\": \"0\", \"callsign\": \"0\", \"icao24\": \"0\", \"timestamp\": \"2021-08-31T16:59:54.504135\"}, {\"track\": 207.4744415283203, \"groundspeed\": 309.9577941894531, \"altitude\": 10200.0, \"timedelta\": 123.0, \"latitude\": 47.95696359672453, \"longitude\": 8.525640792370963, \"flight_id\": \"0\", \"callsign\": \"0\", \"icao24\": \"0\", \"timestamp\": \"2021-08-31T16:59:57.504135\"}, {\"track\": 207.5672149658203, \"groundspeed\": 306.835205078125, \"altitude\": 10125.0, \"timedelta\": 127.00000762939453, \"latitude\": 47.95187411274416, \"longitude\": 8.521701256487006, \"flight_id\": \"0\", \"callsign\": \"0\", \"icao24\": \"0\", \"timestamp\": \"2021-08-31T17:00:01.504142629\"}, {\"track\": 207.7410430908203, \"groundspeed\": 305.06365966796875, \"altitude\": 10075.0, \"timedelta\": 130.0, \"latitude\": 47.94809866719527, \"longitude\": 8.51876749327467, \"flight_id\": \"0\", \"callsign\": \"0\", \"icao24\": \"0\", \"timestamp\": \"2021-08-31T17:00:04.504135\"}, {\"track\": 207.74972534179688, \"groundspeed\": 302.82806396484375, \"altitude\": 10025.0, \"timedelta\": 133.0, \"latitude\": 47.9443509693691, \"longitude\": 8.515833935431031, \"flight_id\": \"0\", \"callsign\": \"0\", \"icao24\": \"0\", \"timestamp\": \"2021-08-31T17:00:07.504135\"}, {\"track\": 207.76748657226562, \"groundspeed\": 298.3569030761719, \"altitude\": 10000.0, \"timedelta\": 137.0, \"latitude\": 47.93939103341862, \"longitude\": 8.511950441753823, \"flight_id\": \"0\", \"callsign\": \"0\", \"icao24\": \"0\", \"timestamp\": \"2021-08-31T17:00:11.504135\"}, {\"track\": 207.86700439453125, \"groundspeed\": 295.2369384765625, \"altitude\": 9975.0, \"timedelta\": 140.0, \"latitude\": 47.935726613146116, \"longitude\": 8.509079337644518, \"flight_id\": \"0\", \"callsign\": \"0\", \"icao24\": \"0\", \"timestamp\": \"2021-08-31T17:00:14.504135\"}, {\"track\": 207.79513549804688, \"groundspeed\": 291.65020751953125, \"altitude\": 9975.0, \"timedelta\": 143.0, \"latitude\": 47.93210383166725, \"longitude\": 8.506229088102476, \"flight_id\": \"0\", \"callsign\": \"0\", \"icao24\": \"0\", \"timestamp\": \"2021-08-31T17:00:17.504135\"}, {\"track\": 207.81430053710938, \"groundspeed\": 287.17913818359375, \"altitude\": 9975.0, \"timedelta\": 147.0, \"latitude\": 47.92732896003911, \"longitude\": 8.502484178194821, \"flight_id\": \"0\", \"callsign\": \"0\", \"icao24\": \"0\", \"timestamp\": \"2021-08-31T17:00:21.504135\"}, {\"track\": 207.73971557617188, \"groundspeed\": 283.5927734375, \"altitude\": 9975.0, \"timedelta\": 150.0, \"latitude\": 47.92380333742305, \"longitude\": 8.499716986828151, \"flight_id\": \"0\", \"callsign\": \"0\", \"icao24\": \"0\", \"timestamp\": \"2021-08-31T17:00:24.504135\"}, {\"track\": 207.66323852539062, \"groundspeed\": 280.00689697265625, \"altitude\": 9975.0, \"timedelta\": 153.0, \"latitude\": 47.9203193540829, \"longitude\": 8.496991280954262, \"flight_id\": \"0\", \"callsign\": \"0\", \"icao24\": \"0\", \"timestamp\": \"2021-08-31T17:00:27.504135\"}, {\"track\": 207.68106079101562, \"groundspeed\": 275.53558349609375, \"altitude\": 9975.0, \"timedelta\": 157.0, \"latitude\": 47.91572954852314, \"longitude\": 8.493412387135264, \"flight_id\": \"0\", \"callsign\": \"0\", \"icao24\": \"0\", \"timestamp\": \"2021-08-31T17:00:31.504135\"}, {\"track\": 207.50424194335938, \"groundspeed\": 272.8367004394531, \"altitude\": 9975.0, \"timedelta\": 160.0, \"latitude\": 47.91234272474409, \"longitude\": 8.4907696843937, \"flight_id\": \"0\", \"callsign\": \"0\", \"icao24\": \"0\", \"timestamp\": \"2021-08-31T17:00:34.504135\"}, {\"track\": 207.5120086669922, \"groundspeed\": 270.6009521484375, \"altitude\": 9975.0, \"timedelta\": 163.0, \"latitude\": 47.90898366044554, \"longitude\": 8.488168442087693, \"flight_id\": \"0\", \"callsign\": \"0\", \"icao24\": \"0\", \"timestamp\": \"2021-08-31T17:00:37.504135\"}, {\"track\": 207.61013793945312, \"groundspeed\": 269.7144470214844, \"altitude\": 9975.0, \"timedelta\": 167.0, \"latitude\": 47.90454190692358, \"longitude\": 8.484727938857127, \"flight_id\": \"0\", \"callsign\": \"0\", \"icao24\": \"0\", \"timestamp\": \"2021-08-31T17:00:41.504135\"}, {\"track\": 207.61013793945312, \"groundspeed\": 269.7144470214844, \"altitude\": 9975.0, \"timedelta\": 170.0, \"latitude\": 47.90122447936147, \"longitude\": 8.482147726176091, \"flight_id\": \"0\", \"callsign\": \"0\", \"icao24\": \"0\", \"timestamp\": \"2021-08-31T17:00:44.504135\"}, {\"track\": 207.61012268066406, \"groundspeed\": 269.71441650390625, \"altitude\": 9975.0, \"timedelta\": 173.0, \"latitude\": 47.897907049876736, \"longitude\": 8.479567678326097, \"flight_id\": \"0\", \"callsign\": \"0\", \"icao24\": \"0\", \"timestamp\": \"2021-08-31T17:00:47.504135\"}, {\"track\": 207.5198974609375, \"groundspeed\": 269.25244140625, \"altitude\": 9975.0, \"timedelta\": 177.0, \"latitude\": 47.893483794577214, \"longitude\": 8.476127909640068, \"flight_id\": \"0\", \"callsign\": \"0\", \"icao24\": \"0\", \"timestamp\": \"2021-08-31T17:00:51.504135\"}, {\"track\": 207.51988220214844, \"groundspeed\": 268.3652038574219, \"altitude\": 9975.0, \"timedelta\": 180.0, \"latitude\": 47.89016931951262, \"longitude\": 8.473560423200597, \"flight_id\": \"0\", \"callsign\": \"0\", \"icao24\": \"0\", \"timestamp\": \"2021-08-31T17:00:54.504135\"}, {\"track\": 207.5198974609375, \"groundspeed\": 268.3652038574219, \"altitude\": 9975.0, \"timedelta\": 183.0, \"latitude\": 47.88686576399425, \"longitude\": 8.471001561151503, \"flight_id\": \"0\", \"callsign\": \"0\", \"icao24\": \"0\", \"timestamp\": \"2021-08-31T17:00:57.504135\"}, {\"track\": 207.51988220214844, \"groundspeed\": 268.3652038574219, \"altitude\": 9975.0, \"timedelta\": 187.0, \"latitude\": 47.88246100827817, \"longitude\": 8.46759003258221, \"flight_id\": \"0\", \"callsign\": \"0\", \"icao24\": \"0\", \"timestamp\": \"2021-08-31T17:01:01.504135\"}, {\"track\": 207.5198974609375, \"groundspeed\": 268.36517333984375, \"altitude\": 9975.0, \"timedelta\": 190.0, \"latitude\": 47.87915744831075, \"longitude\": 8.465031550124843, \"flight_id\": \"0\", \"callsign\": \"0\", \"icao24\": \"0\", \"timestamp\": \"2021-08-31T17:01:04.504135\"}, {\"track\": 207.5198974609375, \"groundspeed\": 268.3652038574219, \"altitude\": 9950.0, \"timedelta\": 193.0, \"latitude\": 47.87585388727057, \"longitude\": 8.462473229283964, \"flight_id\": \"0\", \"callsign\": \"0\", \"icao24\": \"0\", \"timestamp\": \"2021-08-31T17:01:07.504135\"}, {\"track\": 207.5198974609375, \"groundspeed\": 268.36517333984375, \"altitude\": 9900.0, \"timedelta\": 197.0, \"latitude\": 47.87144912308481, \"longitude\": 8.459062423508897, \"flight_id\": \"0\", \"callsign\": \"0\", \"icao24\": \"0\", \"timestamp\": \"2021-08-31T17:01:11.504135\"}, {\"track\": 207.61886596679688, \"groundspeed\": 268.8287048339844, \"altitude\": 9825.0, \"timedelta\": 199.99998474121094, \"latitude\": 47.86814557521458, \"longitude\": 8.456504495674565, \"flight_id\": \"0\", \"callsign\": \"0\", \"icao24\": \"0\", \"timestamp\": \"2021-08-31T17:01:14.504119741\"}, {\"track\": 207.61886596679688, \"groundspeed\": 268.3652038574219, \"altitude\": 9775.0, \"timedelta\": 203.0, \"latitude\": 47.86483926808372, \"longitude\": 8.45393379535769, \"flight_id\": \"0\", \"callsign\": \"0\", \"icao24\": \"0\", \"timestamp\": \"2021-08-31T17:01:17.504135\"}, {\"track\": 207.61886596679688, \"groundspeed\": 267.4787292480469, \"altitude\": 9700.0, \"timedelta\": 207.0, \"latitude\": 47.86043846569733, \"longitude\": 8.450512411331122, \"flight_id\": \"0\", \"callsign\": \"0\", \"icao24\": \"0\", \"timestamp\": \"2021-08-31T17:01:21.504135\"}, {\"track\": 207.52792358398438, \"groundspeed\": 266.59307861328125, \"altitude\": 9625.0, \"timedelta\": 210.0, \"latitude\": 47.857148773997444, \"longitude\": 8.447955011334885, \"flight_id\": \"0\", \"callsign\": \"0\", \"icao24\": \"0\", \"timestamp\": \"2021-08-31T17:01:24.504135\"}, {\"track\": 207.5279083251953, \"groundspeed\": 266.12945556640625, \"altitude\": 9550.0, \"timedelta\": 213.0, \"latitude\": 47.853867254453746, \"longitude\": 8.445413975358962, \"flight_id\": \"0\", \"callsign\": \"0\", \"icao24\": \"0\", \"timestamp\": \"2021-08-31T17:01:27.504135\"}, {\"track\": 207.43603515625, \"groundspeed\": 264.78082275390625, \"altitude\": 9450.0, \"timedelta\": 217.0, \"latitude\": 47.849499488190105, \"longitude\": 8.44203210514723, \"flight_id\": \"0\", \"callsign\": \"0\", \"icao24\": \"0\", \"timestamp\": \"2021-08-31T17:01:31.504135\"}, {\"track\": 207.43603515625, \"groundspeed\": 264.78082275390625, \"altitude\": 9400.0, \"timedelta\": 220.0, \"latitude\": 47.84623755186572, \"longitude\": 8.439516480884292, \"flight_id\": \"0\", \"callsign\": \"0\", \"icao24\": \"0\", \"timestamp\": \"2021-08-31T17:01:34.504135\"}, {\"track\": 207.24365234375, \"groundspeed\": 264.321533203125, \"altitude\": 9325.0, \"timedelta\": 223.0, \"latitude\": 47.84297561368204, \"longitude\": 8.437001014332868, \"flight_id\": \"0\", \"callsign\": \"0\", \"icao24\": \"0\", \"timestamp\": \"2021-08-31T17:01:37.504135\"}, {\"track\": 207.24365234375, \"groundspeed\": 265.2110290527344, \"altitude\": 9225.0, \"timedelta\": 227.0, \"latitude\": 47.83862634888279, \"longitude\": 8.433674828405763, \"flight_id\": \"0\", \"callsign\": \"0\", \"icao24\": \"0\", \"timestamp\": \"2021-08-31T17:01:41.504135\"}, {\"track\": 207.24365234375, \"groundspeed\": 264.321533203125, \"altitude\": 9150.0, \"timedelta\": 230.0, \"latitude\": 47.83535342995489, \"longitude\": 8.431171951397635, \"flight_id\": \"0\", \"callsign\": \"0\", \"icao24\": \"0\", \"timestamp\": \"2021-08-31T17:01:44.504135\"}, {\"track\": 207.24365234375, \"groundspeed\": 264.321533203125, \"altitude\": 9050.0, \"timedelta\": 233.0, \"latitude\": 47.83209148635494, \"longitude\": 8.428677625158363, \"flight_id\": \"0\", \"callsign\": \"0\", \"icao24\": \"0\", \"timestamp\": \"2021-08-31T17:01:47.504135\"}, {\"track\": 207.05059814453125, \"groundspeed\": 263.8652648925781, \"altitude\": 8975.0, \"timedelta\": 237.0, \"latitude\": 47.8277422132878, \"longitude\": 8.425352134697373, \"flight_id\": \"0\", \"callsign\": \"0\", \"icao24\": \"0\", \"timestamp\": \"2021-08-31T17:01:51.504135\"}, {\"track\": 207.14968872070312, \"groundspeed\": 262.9750671386719, \"altitude\": 8900.0, \"timedelta\": 240.0, \"latitude\": 47.82448026564015, \"longitude\": 8.422878784411685, \"flight_id\": \"0\", \"callsign\": \"0\", \"icao24\": \"0\", \"timestamp\": \"2021-08-31T17:01:54.504135\"}, {\"track\": 207.14968872070312, \"groundspeed\": 262.9750671386719, \"altitude\": 8850.0, \"timedelta\": 243.0, \"latitude\": 47.82123219666425, \"longitude\": 8.42040558778789, \"flight_id\": \"0\", \"callsign\": \"0\", \"icao24\": \"0\", \"timestamp\": \"2021-08-31T17:01:57.504135\"}, {\"track\": 207.2494354248047, \"groundspeed\": 262.08563232421875, \"altitude\": 8750.0, \"timedelta\": 247.0, \"latitude\": 47.8169014233229, \"longitude\": 8.417108266517236, \"flight_id\": \"0\", \"callsign\": \"0\", \"icao24\": \"0\", \"timestamp\": \"2021-08-31T17:02:01.504135\"}, {\"track\": 207.24945068359375, \"groundspeed\": 262.08563232421875, \"altitude\": 8675.0, \"timedelta\": 250.0, \"latitude\": 47.81366723046612, \"longitude\": 8.41463543017711, \"flight_id\": \"0\", \"callsign\": \"0\", \"icao24\": \"0\", \"timestamp\": \"2021-08-31T17:02:04.504135\"}, {\"track\": 207.15469360351562, \"groundspeed\": 260.7391052246094, \"altitude\": 8600.0, \"timedelta\": 253.00001525878906, \"latitude\": 47.81043302005372, \"longitude\": 8.412162733730186, \"flight_id\": \"0\", \"callsign\": \"0\", \"icao24\": \"0\", \"timestamp\": \"2021-08-31T17:02:07.504150259\"}, {\"track\": 207.1597900390625, \"groundspeed\": 259.8497314453125, \"altitude\": 8525.0, \"timedelta\": 257.0, \"latitude\": 47.80613927122075, \"longitude\": 8.408893579860905, \"flight_id\": \"0\", \"callsign\": \"0\", \"icao24\": \"0\", \"timestamp\": \"2021-08-31T17:02:11.504135\"}, {\"track\": 207.1597900390625, \"groundspeed\": 258.503173828125, \"altitude\": 8475.0, \"timedelta\": 260.0, \"latitude\": 47.80293008426288, \"longitude\": 8.406449794725088, \"flight_id\": \"0\", \"callsign\": \"0\", \"icao24\": \"0\", \"timestamp\": \"2021-08-31T17:02:14.504135\"}, {\"track\": 207.1597900390625, \"groundspeed\": 258.503173828125, \"altitude\": 8425.0, \"timedelta\": 263.0, \"latitude\": 47.79973752586127, \"longitude\": 8.404018822382335, \"flight_id\": \"0\", \"callsign\": \"0\", \"icao24\": \"0\", \"timestamp\": \"2021-08-31T17:02:17.504135\"}, {\"track\": 207.1649932861328, \"groundspeed\": 257.1573181152344, \"altitude\": 8350.0, \"timedelta\": 267.0, \"latitude\": 47.79548076711578, \"longitude\": 8.400777790664803, \"flight_id\": \"0\", \"callsign\": \"0\", \"icao24\": \"0\", \"timestamp\": \"2021-08-31T17:02:21.504135\"}, {\"track\": 207.1649932861328, \"groundspeed\": 256.2672119140625, \"altitude\": 8300.0, \"timedelta\": 270.0, \"latitude\": 47.79230497423961, \"longitude\": 8.398359391650503, \"flight_id\": \"0\", \"callsign\": \"0\", \"icao24\": \"0\", \"timestamp\": \"2021-08-31T17:02:24.504135\"}, {\"track\": 207.2674102783203, \"groundspeed\": 255.3779296875, \"altitude\": 8250.0, \"timedelta\": 273.0, \"latitude\": 47.78914017216304, \"longitude\": 8.395949509826464, \"flight_id\": \"0\", \"callsign\": \"0\", \"icao24\": \"0\", \"timestamp\": \"2021-08-31T17:02:27.504135\"}, {\"track\": 207.2674102783203, \"groundspeed\": 255.3779296875, \"altitude\": 8200.0, \"timedelta\": 277.0, \"latitude\": 47.784938928979, \"longitude\": 8.392736594460747, \"flight_id\": \"0\", \"callsign\": \"0\", \"icao24\": \"0\", \"timestamp\": \"2021-08-31T17:02:31.504135\"}, {\"track\": 207.26742553710938, \"groundspeed\": 255.3779296875, \"altitude\": 8200.0, \"timedelta\": 280.0, \"latitude\": 47.78178800299757, \"longitude\": 8.390327053550482, \"flight_id\": \"0\", \"callsign\": \"0\", \"icao24\": \"0\", \"timestamp\": \"2021-08-31T17:02:34.504135\"}, {\"track\": 207.2674102783203, \"groundspeed\": 255.3779296875, \"altitude\": 8175.0, \"timedelta\": 283.0, \"latitude\": 47.778637075713206, \"longitude\": 8.387917656985067, \"flight_id\": \"0\", \"callsign\": \"0\", \"icao24\": \"0\", \"timestamp\": \"2021-08-31T17:02:37.504135\"}, {\"track\": 207.2674102783203, \"groundspeed\": 255.3779296875, \"altitude\": 8175.0, \"timedelta\": 287.0, \"latitude\": 47.7744358248203, \"longitude\": 8.384705388667383, \"flight_id\": \"0\", \"callsign\": \"0\", \"icao24\": \"0\", \"timestamp\": \"2021-08-31T17:02:41.504135\"}, {\"track\": 207.2674102783203, \"groundspeed\": 255.3779296875, \"altitude\": 8125.0, \"timedelta\": 290.0, \"latitude\": 47.77128489305405, \"longitude\": 8.382296332960296, \"flight_id\": \"0\", \"callsign\": \"0\", \"icao24\": \"0\", \"timestamp\": \"2021-08-31T17:02:44.504135\"}, {\"track\": 207.2674102783203, \"groundspeed\": 255.3779296875, \"altitude\": 8050.0, \"timedelta\": 293.0, \"latitude\": 47.768133959552316, \"longitude\": 8.379887422760168, \"flight_id\": \"0\", \"callsign\": \"0\", \"icao24\": \"0\", \"timestamp\": \"2021-08-31T17:02:47.504135\"}, {\"track\": 207.16497802734375, \"groundspeed\": 256.2672119140625, \"altitude\": 7950.0, \"timedelta\": 297.0, \"latitude\": 47.763932700950235, \"longitude\": 8.376675801122406, \"flight_id\": \"0\", \"callsign\": \"0\", \"icao24\": \"0\", \"timestamp\": \"2021-08-31T17:02:51.504135\"}, {\"track\": 207.1649932861328, \"groundspeed\": 256.2672119140625, \"altitude\": 7850.0, \"timedelta\": 300.0, \"latitude\": 47.760767882745476, \"longitude\": 8.374267231126707, \"flight_id\": \"0\", \"callsign\": \"0\", \"icao24\": \"0\", \"timestamp\": \"2021-08-31T17:02:54.504135\"}, {\"track\": 206.96571350097656, \"groundspeed\": 255.8122100830078, \"altitude\": 7749.99951171875, \"timedelta\": 303.0, \"latitude\": 47.757603063222305, \"longitude\": 8.37185880594572, \"flight_id\": \"0\", \"callsign\": \"0\", \"icao24\": \"0\", \"timestamp\": \"2021-08-31T17:02:57.504135\"}, {\"track\": 206.7657470703125, \"groundspeed\": 255.3603057861328, \"altitude\": 7600.00048828125, \"timedelta\": 307.0, \"latitude\": 47.75338329024276, \"longitude\": 8.368675277144726, \"flight_id\": \"0\", \"callsign\": \"0\", \"icao24\": \"0\", \"timestamp\": \"2021-08-31T17:03:01.504135\"}, {\"track\": 206.46487426757812, \"groundspeed\": 255.8063507080078, \"altitude\": 7150.0, \"timedelta\": 310.0, \"latitude\": 47.75021846753739, \"longitude\": 8.366308356266236, \"flight_id\": \"0\", \"callsign\": \"0\", \"icao24\": \"0\", \"timestamp\": \"2021-08-31T17:03:04.504135\"}, {\"track\": 206.1650848388672, \"groundspeed\": 256.2593994140625, \"altitude\": 7150.0, \"timedelta\": 313.0, \"latitude\": 47.74703976213692, \"longitude\": 8.363962161781695, \"flight_id\": \"0\", \"callsign\": \"0\", \"icao24\": \"0\", \"timestamp\": \"2021-08-31T17:03:07.504135\"}, {\"track\": 206.0668487548828, \"groundspeed\": 257.1573181152344, \"altitude\": 7150.0, \"timedelta\": 317.0, \"latitude\": 47.742782968541725, \"longitude\": 8.360861595561706, \"flight_id\": \"0\", \"callsign\": \"0\", \"icao24\": \"0\", \"timestamp\": \"2021-08-31T17:03:11.504135\"}, {\"track\": 205.86636352539062, \"groundspeed\": 256.7194519042969, \"altitude\": 7100.0, \"timedelta\": 320.0, \"latitude\": 47.739576498531626, \"longitude\": 8.35853631260295, \"flight_id\": \"0\", \"callsign\": \"0\", \"icao24\": \"0\", \"timestamp\": \"2021-08-31T17:03:14.504135\"}, {\"track\": 205.86634826660156, \"groundspeed\": 256.719482421875, \"altitude\": 7000.0, \"timedelta\": 323.0, \"latitude\": 47.736370027305014, \"longitude\": 8.35623174923529, \"flight_id\": \"0\", \"callsign\": \"0\", \"icao24\": \"0\", \"timestamp\": \"2021-08-31T17:03:17.504135\"}, {\"track\": 205.86634826660156, \"groundspeed\": 256.719482421875, \"altitude\": 6875.00048828125, \"timedelta\": 327.0, \"latitude\": 47.73209471819712, \"longitude\": 8.35315925090625, \"flight_id\": \"0\", \"callsign\": \"0\", \"icao24\": \"0\", \"timestamp\": \"2021-08-31T17:03:21.504135\"}, {\"track\": 205.6652069091797, \"groundspeed\": 256.2847595214844, \"altitude\": 6800.0, \"timedelta\": 330.0, \"latitude\": 47.728888241980634, \"longitude\": 8.350855018601054, \"flight_id\": \"0\", \"callsign\": \"0\", \"icao24\": \"0\", \"timestamp\": \"2021-08-31T17:03:24.504135\"}, {\"track\": 205.65725708007812, \"groundspeed\": 255.85325622558594, \"altitude\": 6725.00048828125, \"timedelta\": 333.0, \"latitude\": 47.725681765391826, \"longitude\": 8.348571498233108, \"flight_id\": \"0\", \"callsign\": \"0\", \"icao24\": \"0\", \"timestamp\": \"2021-08-31T17:03:27.504135\"}, {\"track\": 205.6572723388672, \"groundspeed\": 254.0489959716797, \"altitude\": 6674.99951171875, \"timedelta\": 336.0, \"latitude\": 47.7224804723721, \"longitude\": 8.346292620507906, \"flight_id\": \"0\", \"callsign\": \"0\", \"icao24\": \"0\", \"timestamp\": \"2021-08-31T17:03:30.504135\"}, {\"track\": 205.748046875, \"groundspeed\": 250.912109375, \"altitude\": 6625.0, \"timedelta\": 340.0, \"latitude\": 47.71824217017108, \"longitude\": 8.343275787220009, \"flight_id\": \"0\", \"callsign\": \"0\", \"icao24\": \"0\", \"timestamp\": \"2021-08-31T17:03:34.504135\"}, {\"track\": 205.74070739746094, \"groundspeed\": 248.67628479003906, \"altitude\": 6600.0, \"timedelta\": 343.0, \"latitude\": 47.71510509164003, \"longitude\": 8.341033866977174, \"flight_id\": \"0\", \"callsign\": \"0\", \"icao24\": \"0\", \"timestamp\": \"2021-08-31T17:03:37.504135\"}, {\"track\": 205.8345489501953, \"groundspeed\": 245.54000854492188, \"altitude\": 6550.0, \"timedelta\": 346.0, \"latitude\": 47.71199577339659, \"longitude\": 8.338812646308048, \"flight_id\": \"0\", \"callsign\": \"0\", \"icao24\": \"0\", \"timestamp\": \"2021-08-31T17:03:40.504135\"}, {\"track\": 205.71786499023438, \"groundspeed\": 241.9687957763672, \"altitude\": 6525.0, \"timedelta\": 350.0, \"latitude\": 47.707905527742966, \"longitude\": 8.335878670155715, \"flight_id\": \"0\", \"callsign\": \"0\", \"icao24\": \"0\", \"timestamp\": \"2021-08-31T17:03:44.504135\"}, {\"track\": 204.74163818359375, \"groundspeed\": 238.93283081054688, \"altitude\": 6525.0, \"timedelta\": 353.0, \"latitude\": 47.70487949194207, \"longitude\": 8.333719443224084, \"flight_id\": \"0\", \"callsign\": \"0\", \"icao24\": \"0\", \"timestamp\": \"2021-08-31T17:03:47.504135\"}, {\"track\": 201.80140686035156, \"groundspeed\": 236.94703674316406, \"altitude\": 6500.0, \"timedelta\": 356.0, \"latitude\": 47.70186733694291, \"longitude\": 8.331663156297711, \"flight_id\": \"0\", \"callsign\": \"0\", \"icao24\": \"0\", \"timestamp\": \"2021-08-31T17:03:50.504135\"}, {\"track\": 192.50242614746094, \"groundspeed\": 235.5863037109375, \"altitude\": 6500.0, \"timedelta\": 360.0, \"latitude\": 47.697795603859326, \"longitude\": 8.329250633917765, \"flight_id\": \"0\", \"callsign\": \"0\", \"icao24\": \"0\", \"timestamp\": \"2021-08-31T17:03:54.504135\"}, {\"track\": 184.86451721191406, \"groundspeed\": 235.84933471679688, \"altitude\": 6474.99951171875, \"timedelta\": 363.0, \"latitude\": 47.694603007854006, \"longitude\": 8.328202073143512, \"flight_id\": \"0\", \"callsign\": \"0\", \"icao24\": \"0\", \"timestamp\": \"2021-08-31T17:03:57.504135\"}, {\"track\": 179.2747802734375, \"groundspeed\": 237.01878356933594, \"altitude\": 6450.0, \"timedelta\": 366.0000305175781, \"latitude\": 47.6913409772545, \"longitude\": 8.327790894054058, \"flight_id\": \"0\", \"callsign\": \"0\", \"icao24\": \"0\", \"timestamp\": \"2021-08-31T17:04:00.504165518\"}, {\"track\": 173.05282592773438, \"groundspeed\": 239.7600860595703, \"altitude\": 6375.0, \"timedelta\": 370.0, \"latitude\": 47.686954663187166, \"longitude\": 8.327873120949423, \"flight_id\": \"0\", \"callsign\": \"0\", \"icao24\": \"0\", \"timestamp\": \"2021-08-31T17:04:04.504135\"}, {\"track\": 171.1634063720703, \"groundspeed\": 240.1872100830078, \"altitude\": 6325.0, \"timedelta\": 373.0, \"latitude\": 47.68365101763777, \"longitude\": 8.328469236861833, \"flight_id\": \"0\", \"callsign\": \"0\", \"icao24\": \"0\", \"timestamp\": \"2021-08-31T17:04:07.504135\"}, {\"track\": 169.95065307617188, \"groundspeed\": 240.6925506591797, \"altitude\": 6275.0, \"timedelta\": 376.0, \"latitude\": 47.680356579023616, \"longitude\": 8.329227630487969, \"flight_id\": \"0\", \"callsign\": \"0\", \"icao24\": \"0\", \"timestamp\": \"2021-08-31T17:04:10.504135\"}, {\"track\": 169.24903869628906, \"groundspeed\": 241.23411560058594, \"altitude\": 6175.0, \"timedelta\": 380.0, \"latitude\": 47.67597021664207, \"longitude\": 8.330378581419923, \"flight_id\": \"0\", \"callsign\": \"0\", \"icao24\": \"0\", \"timestamp\": \"2021-08-31T17:04:14.504135\"}, {\"track\": 168.73675537109375, \"groundspeed\": 240.63436889648438, \"altitude\": 6100.0, \"timedelta\": 383.0, \"latitude\": 47.672680443342685, \"longitude\": 8.331303394205042, \"flight_id\": \"0\", \"callsign\": \"0\", \"icao24\": \"0\", \"timestamp\": \"2021-08-31T17:04:17.504135\"}, {\"track\": 168.50343322753906, \"groundspeed\": 240.83168029785156, \"altitude\": 6050.0, \"timedelta\": 386.0, \"latitude\": 47.6694045488454, \"longitude\": 8.332269250519547, \"flight_id\": \"0\", \"callsign\": \"0\", \"icao24\": \"0\", \"timestamp\": \"2021-08-31T17:04:20.504135\"}, {\"track\": 168.27049255371094, \"groundspeed\": 240.053955078125, \"altitude\": 5975.0, \"timedelta\": 390.0, \"latitude\": 47.66503668445386, \"longitude\": 8.33358434888891, \"flight_id\": \"0\", \"callsign\": \"0\", \"icao24\": \"0\", \"timestamp\": \"2021-08-31T17:04:24.504135\"}, {\"track\": 168.22198486328125, \"groundspeed\": 240.053955078125, \"altitude\": 5899.99951171875, \"timedelta\": 393.0, \"latitude\": 47.661774091253804, \"longitude\": 8.334587068900223, \"flight_id\": \"0\", \"callsign\": \"0\", \"icao24\": \"0\", \"timestamp\": \"2021-08-31T17:04:27.504135\"}, {\"track\": 167.93869018554688, \"groundspeed\": 239.2820587158203, \"altitude\": 5825.00048828125, \"timedelta\": 396.0, \"latitude\": 47.65851207082528, \"longitude\": 8.335593814521621, \"flight_id\": \"0\", \"callsign\": \"0\", \"icao24\": \"0\", \"timestamp\": \"2021-08-31T17:04:30.504135\"}, {\"track\": 167.93869018554688, \"groundspeed\": 239.28204345703125, \"altitude\": 5775.0, \"timedelta\": 400.0, \"latitude\": 47.65418121307726, \"longitude\": 8.33696342436867, \"flight_id\": \"0\", \"callsign\": \"0\", \"icao24\": \"0\", \"timestamp\": \"2021-08-31T17:04:34.504135\"}, {\"track\": 167.88844299316406, \"groundspeed\": 238.30422973632812, \"altitude\": 5725.00048828125, \"timedelta\": 402.9999694824219, \"latitude\": 47.650933102915126, \"longitude\": 8.337990557381367, \"flight_id\": \"0\", \"callsign\": \"0\", \"icao24\": \"0\", \"timestamp\": \"2021-08-31T17:04:37.504104482\"}, {\"track\": 167.88844299316406, \"groundspeed\": 238.30422973632812, \"altitude\": 5675.0, \"timedelta\": 406.0, \"latitude\": 47.64769880578451, \"longitude\": 8.339017648542459, \"flight_id\": \"0\", \"callsign\": \"0\", \"icao24\": \"0\", \"timestamp\": \"2021-08-31T17:04:40.504135\"}, {\"track\": 167.78671264648438, \"groundspeed\": 236.34910583496094, \"altitude\": 5599.99951171875, \"timedelta\": 410.0, \"latitude\": 47.64338644784178, \"longitude\": 8.340386977021147, \"flight_id\": \"0\", \"callsign\": \"0\", \"icao24\": \"0\", \"timestamp\": \"2021-08-31T17:04:44.504135\"}, {\"track\": 167.7352294921875, \"groundspeed\": 235.37185668945312, \"altitude\": 5550.0, \"timedelta\": 413.0, \"latitude\": 47.640179940974065, \"longitude\": 8.34141391073804, \"flight_id\": \"0\", \"callsign\": \"0\", \"icao24\": \"0\", \"timestamp\": \"2021-08-31T17:04:47.504135\"}, {\"track\": 167.6309356689453, \"groundspeed\": 233.41787719726562, \"altitude\": 5475.0, \"timedelta\": 416.0, \"latitude\": 47.63698731281473, \"longitude\": 8.342440780831472, \"flight_id\": \"0\", \"callsign\": \"0\", \"icao24\": \"0\", \"timestamp\": \"2021-08-31T17:04:50.504135\"}, {\"track\": 165.96376037597656, \"groundspeed\": 230.89370727539062, \"altitude\": 5400.0, \"timedelta\": 420.0, \"latitude\": 47.632767486781425, \"longitude\": 8.343809831301675, \"flight_id\": \"0\", \"callsign\": \"0\", \"icao24\": \"0\", \"timestamp\": \"2021-08-31T17:04:54.504135\"}, {\"track\": 163.4689178466797, \"groundspeed\": 228.44235229492188, \"altitude\": 5350.0, \"timedelta\": 423.0, \"latitude\": 47.62965813955605, \"longitude\": 8.344959764885136, \"flight_id\": \"0\", \"callsign\": \"0\", \"icao24\": \"0\", \"timestamp\": \"2021-08-31T17:04:57.504135\"}, {\"track\": 161.0072479248047, \"groundspeed\": 227.3783416748047, \"altitude\": 5300.0, \"timedelta\": 426.0, \"latitude\": 47.62661819364026, \"longitude\": 8.346294432307573, \"flight_id\": \"0\", \"callsign\": \"0\", \"icao24\": \"0\", \"timestamp\": \"2021-08-31T17:05:00.504135\"}, {\"track\": 157.20347595214844, \"groundspeed\": 224.53932189941406, \"altitude\": 5225.0, \"timedelta\": 430.0, \"latitude\": 47.622638954443154, \"longitude\": 8.348320235539976, \"flight_id\": \"0\", \"callsign\": \"0\", \"icao24\": \"0\", \"timestamp\": \"2021-08-31T17:05:04.504135\"}, {\"track\": 154.9213409423828, \"groundspeed\": 224.12924194335938, \"altitude\": 5175.0, \"timedelta\": 433.0, \"latitude\": 47.61976557100961, \"longitude\": 8.350106403102851, \"flight_id\": \"0\", \"callsign\": \"0\", \"icao24\": \"0\", \"timestamp\": \"2021-08-31T17:05:07.504135\"}, {\"track\": 152.16958618164062, \"groundspeed\": 222.76651000976562, \"altitude\": 5125.0, \"timedelta\": 436.0, \"latitude\": 47.61694770701934, \"longitude\": 8.352056710502868, \"flight_id\": \"0\", \"callsign\": \"0\", \"icao24\": \"0\", \"timestamp\": \"2021-08-31T17:05:10.504135\"}, {\"track\": 148.68092346191406, \"groundspeed\": 221.23724365234375, \"altitude\": 5050.0, \"timedelta\": 440.0, \"latitude\": 47.61330158816154, \"longitude\": 8.354903277938279, \"flight_id\": \"0\", \"callsign\": \"0\", \"icao24\": \"0\", \"timestamp\": \"2021-08-31T17:05:14.504135\"}, {\"track\": 146.09371948242188, \"groundspeed\": 220.4947052001953, \"altitude\": 5000.0, \"timedelta\": 443.0, \"latitude\": 47.61067804811481, \"longitude\": 8.357263895066566, \"flight_id\": \"0\", \"callsign\": \"0\", \"icao24\": \"0\", \"timestamp\": \"2021-08-31T17:05:17.504135\"}, {\"track\": 144.1269073486328, \"groundspeed\": 218.43287658691406, \"altitude\": 4950.0, \"timedelta\": 446.0, \"latitude\": 47.608137789785, \"longitude\": 8.359788606787864, \"flight_id\": \"0\", \"callsign\": \"0\", \"icao24\": \"0\", \"timestamp\": \"2021-08-31T17:05:20.504135\"}, {\"track\": 142.28680419921875, \"groundspeed\": 217.42337036132812, \"altitude\": 4875.0, \"timedelta\": 450.0, \"latitude\": 47.60486180855308, \"longitude\": 8.363291510878385, \"flight_id\": \"0\", \"callsign\": \"0\", \"icao24\": \"0\", \"timestamp\": \"2021-08-31T17:05:24.504135\"}, {\"track\": 141.00900268554688, \"groundspeed\": 216.1479034423828, \"altitude\": 4825.0, \"timedelta\": 452.9999694824219, \"latitude\": 47.602474259003344, \"longitude\": 8.366021160664666, \"flight_id\": \"0\", \"callsign\": \"0\", \"icao24\": \"0\", \"timestamp\": \"2021-08-31T17:05:27.504104482\"}, {\"track\": 139.88839721679688, \"groundspeed\": 215.7450408935547, \"altitude\": 4775.0, \"timedelta\": 455.9999694824219, \"latitude\": 47.600142206875276, \"longitude\": 8.368812286364951, \"flight_id\": \"0\", \"callsign\": \"0\", \"icao24\": \"0\", \"timestamp\": \"2021-08-31T17:05:30.504104482\"}, {\"track\": 138.81407165527344, \"groundspeed\": 212.6027374267578, \"altitude\": 4725.0, \"timedelta\": 460.0, \"latitude\": 47.59708828597955, \"longitude\": 8.372615686707212, \"flight_id\": \"0\", \"callsign\": \"0\", \"icao24\": \"0\", \"timestamp\": \"2021-08-31T17:05:34.504135\"}, {\"track\": 138.4566192626953, \"groundspeed\": 211.1016845703125, \"altitude\": 4675.0, \"timedelta\": 462.9999694824219, \"latitude\": 47.59486730107312, \"longitude\": 8.375488586030803, \"flight_id\": \"0\", \"callsign\": \"0\", \"icao24\": \"0\", \"timestamp\": \"2021-08-31T17:05:37.504104482\"}, {\"track\": 137.89126586914062, \"groundspeed\": 210.27821350097656, \"altitude\": 4625.0, \"timedelta\": 466.0, \"latitude\": 47.59267403257039, \"longitude\": 8.378361423418282, \"flight_id\": \"0\", \"callsign\": \"0\", \"icao24\": \"0\", \"timestamp\": \"2021-08-31T17:05:40.504135\"}, {\"track\": 137.5232696533203, \"groundspeed\": 208.7987518310547, \"altitude\": 4550.0, \"timedelta\": 470.0, \"latitude\": 47.58978670184193, \"longitude\": 8.382218983378928, \"flight_id\": \"0\", \"callsign\": \"0\", \"icao24\": \"0\", \"timestamp\": \"2021-08-31T17:05:44.504135\"}, {\"track\": 137.5232696533203, \"groundspeed\": 208.79876708984375, \"altitude\": 4500.0, \"timedelta\": 473.0, \"latitude\": 47.58764897717782, \"longitude\": 8.385112034838365, \"flight_id\": \"0\", \"callsign\": \"0\", \"icao24\": \"0\", \"timestamp\": \"2021-08-31T17:05:47.504135\"}, {\"track\": 137.33731079101562, \"groundspeed\": 208.06231689453125, \"altitude\": 4450.0, \"timedelta\": 476.0, \"latitude\": 47.58551125155964, \"longitude\": 8.388004968718134, \"flight_id\": \"0\", \"callsign\": \"0\", \"icao24\": \"0\", \"timestamp\": \"2021-08-31T17:05:50.504135\"}, {\"track\": 137.1500244140625, \"groundspeed\": 207.32806396484375, \"altitude\": 4350.0, \"timedelta\": 480.0, \"latitude\": 47.58267944128933, \"longitude\": 8.391862005853596, \"flight_id\": \"0\", \"callsign\": \"0\", \"icao24\": \"0\", \"timestamp\": \"2021-08-31T17:05:54.504135\"}, {\"track\": 137.1500244140625, \"groundspeed\": 207.32806396484375, \"altitude\": 4325.0, \"timedelta\": 482.9999694824219, \"latitude\": 47.5805694980291, \"longitude\": 8.394754637889829, \"flight_id\": \"0\", \"callsign\": \"0\", \"icao24\": \"0\", \"timestamp\": \"2021-08-31T17:05:57.504104482\"}, {\"track\": 136.9749298095703, \"groundspeed\": 206.59605407714844, \"altitude\": 4250.0, \"timedelta\": 486.0, \"latitude\": 47.57845951108827, \"longitude\": 8.397647212524195, \"flight_id\": \"0\", \"callsign\": \"0\", \"icao24\": \"0\", \"timestamp\": \"2021-08-31T17:06:00.504135\"}, {\"track\": 136.97494506835938, \"groundspeed\": 205.1826629638672, \"altitude\": 4175.0, \"timedelta\": 490.0, \"latitude\": 47.57566409853759, \"longitude\": 8.401502760761176, \"flight_id\": \"0\", \"callsign\": \"0\", \"icao24\": \"0\", \"timestamp\": \"2021-08-31T17:06:04.504135\"}, {\"track\": 136.98863220214844, \"groundspeed\": 204.45274353027344, \"altitude\": 4125.0, \"timedelta\": 493.0000305175781, \"latitude\": 47.57358187246045, \"longitude\": 8.40437455319261, \"flight_id\": \"0\", \"callsign\": \"0\", \"icao24\": \"0\", \"timestamp\": \"2021-08-31T17:06:07.504165518\"}, {\"track\": 136.98863220214844, \"groundspeed\": 203.76930236816406, \"altitude\": 4075.0, \"timedelta\": 496.0, \"latitude\": 47.571506632777364, \"longitude\": 8.407235225786998, \"flight_id\": \"0\", \"callsign\": \"0\", \"icao24\": \"0\", \"timestamp\": \"2021-08-31T17:06:10.504135\"}, {\"track\": 137.00253295898438, \"groundspeed\": 202.35594177246094, \"altitude\": 3975.0, \"timedelta\": 500.0, \"latitude\": 47.56874885071786, \"longitude\": 8.411036545494172, \"flight_id\": \"0\", \"callsign\": \"0\", \"icao24\": \"0\", \"timestamp\": \"2021-08-31T17:06:14.504135\"}, {\"track\": 137.00253295898438, \"groundspeed\": 202.35595703125, \"altitude\": 3925.0, \"timedelta\": 503.0, \"latitude\": 47.56669440664206, \"longitude\": 8.413866913502897, \"flight_id\": \"0\", \"callsign\": \"0\", \"icao24\": \"0\", \"timestamp\": \"2021-08-31T17:06:17.504135\"}, {\"track\": 136.82151794433594, \"groundspeed\": 200.21221923828125, \"altitude\": 3900.0, \"timedelta\": 506.0, \"latitude\": 47.56463996167441, \"longitude\": 8.416697171056873, \"flight_id\": \"0\", \"callsign\": \"0\", \"icao24\": \"0\", \"timestamp\": \"2021-08-31T17:06:20.504135\"}, {\"track\": 136.86094665527344, \"groundspeed\": 195.97177124023438, \"altitude\": 3800.000244140625, \"timedelta\": 510.0, \"latitude\": 47.56193770222809, \"longitude\": 8.420443309230825, \"flight_id\": \"0\", \"callsign\": \"0\", \"icao24\": \"0\", \"timestamp\": \"2021-08-31T17:06:24.504135\"}, {\"track\": 137.0901641845703, \"groundspeed\": 193.87608337402344, \"altitude\": 3750.0, \"timedelta\": 513.0, \"latitude\": 47.55995266323755, \"longitude\": 8.423191284824068, \"flight_id\": \"0\", \"callsign\": \"0\", \"icao24\": \"0\", \"timestamp\": \"2021-08-31T17:06:27.504135\"}, {\"track\": 137.12109375, \"groundspeed\": 191.049560546875, \"altitude\": 3700.0, \"timedelta\": 516.0, \"latitude\": 47.55798150574301, \"longitude\": 8.425898144325373, \"flight_id\": \"0\", \"callsign\": \"0\", \"icao24\": \"0\", \"timestamp\": \"2021-08-31T17:06:30.504135\"}, {\"track\": 137.15296936035156, \"groundspeed\": 188.22311401367188, \"altitude\": 3625.000244140625, \"timedelta\": 520.0, \"latitude\": 47.55539029910154, \"longitude\": 8.429452431428821, \"flight_id\": \"0\", \"callsign\": \"0\", \"icao24\": \"0\", \"timestamp\": \"2021-08-31T17:06:34.504135\"}, {\"track\": 137.18580627441406, \"groundspeed\": 185.39669799804688, \"altitude\": 3574.999755859375, \"timedelta\": 523.0, \"latitude\": 47.553474666578616, \"longitude\": 8.432077039794885, \"flight_id\": \"0\", \"callsign\": \"0\", \"icao24\": \"0\", \"timestamp\": \"2021-08-31T17:06:37.504135\"}, {\"track\": 137.2025909423828, \"groundspeed\": 183.9835205078125, \"altitude\": 3525.0, \"timedelta\": 526.0, \"latitude\": 47.55158679693507, \"longitude\": 8.434660545667414, \"flight_id\": \"0\", \"callsign\": \"0\", \"icao24\": \"0\", \"timestamp\": \"2021-08-31T17:06:40.504135\"}, {\"track\": 137.00564575195312, \"groundspeed\": 181.83767700195312, \"altitude\": 3450.000244140625, \"timedelta\": 530.0, \"latitude\": 47.549088133122154, \"longitude\": 8.43807771983288, \"flight_id\": \"0\", \"callsign\": \"0\", \"icao24\": \"0\", \"timestamp\": \"2021-08-31T17:06:44.504135\"}, {\"track\": 137.03732299804688, \"groundspeed\": 179.74411010742188, \"altitude\": 3400.0, \"timedelta\": 533.0, \"latitude\": 47.54724190666506, \"longitude\": 8.44062000799863, \"flight_id\": \"0\", \"callsign\": \"0\", \"icao24\": \"0\", \"timestamp\": \"2021-08-31T17:06:47.504135\"}, {\"track\": 137.03732299804688, \"groundspeed\": 179.01101684570312, \"altitude\": 3350.0, \"timedelta\": 536.0, \"latitude\": 47.5454159958832, \"longitude\": 8.443131448003886, \"flight_id\": \"0\", \"callsign\": \"0\", \"icao24\": \"0\", \"timestamp\": \"2021-08-31T17:06:50.504135\"}, {\"track\": 137.0535430908203, \"groundspeed\": 177.59771728515625, \"altitude\": 3275.0, \"timedelta\": 540.0, \"latitude\": 47.542991364698906, \"longitude\": 8.446466223562199, \"flight_id\": \"0\", \"callsign\": \"0\", \"icao24\": \"0\", \"timestamp\": \"2021-08-31T17:06:54.504135\"}, {\"track\": 137.07003784179688, \"groundspeed\": 176.18441772460938, \"altitude\": 3249.999755859375, \"timedelta\": 543.0, \"latitude\": 47.54118678125265, \"longitude\": 8.448946719589644, \"flight_id\": \"0\", \"callsign\": \"0\", \"icao24\": \"0\", \"timestamp\": \"2021-08-31T17:06:57.504135\"}, {\"track\": 137.10379028320312, \"groundspeed\": 173.35784912109375, \"altitude\": 3200.0, \"timedelta\": 546.0, \"latitude\": 47.53939607849118, \"longitude\": 8.451406631172256, \"flight_id\": \"0\", \"callsign\": \"0\", \"icao24\": \"0\", \"timestamp\": \"2021-08-31T17:07:00.504135\"}, {\"track\": 137.3859405517578, \"groundspeed\": 169.85272216796875, \"altitude\": 3125.0, \"timedelta\": 550.0, \"latitude\": 47.537045481146365, \"longitude\": 8.454631704907523, \"flight_id\": \"0\", \"callsign\": \"0\", \"icao24\": \"0\", \"timestamp\": \"2021-08-31T17:07:04.504135\"}, {\"track\": 137.4059600830078, \"groundspeed\": 168.43975830078125, \"altitude\": 3075.000244140625, \"timedelta\": 553.0, \"latitude\": 47.535310304601744, \"longitude\": 8.456988937298272, \"flight_id\": \"0\", \"callsign\": \"0\", \"icao24\": \"0\", \"timestamp\": \"2021-08-31T17:07:07.504135\"}, {\"track\": 137.1932373046875, \"groundspeed\": 166.29176330566406, \"altitude\": 3025.0, \"timedelta\": 556.0, \"latitude\": 47.533589009243784, \"longitude\": 8.459325596025348, \"flight_id\": \"0\", \"callsign\": \"0\", \"icao24\": \"0\", \"timestamp\": \"2021-08-31T17:07:10.504135\"}, {\"track\": 136.7357177734375, \"groundspeed\": 163.41650390625, \"altitude\": 2975.0, \"timedelta\": 560.0, \"latitude\": 47.53133095437315, \"longitude\": 8.462413678161534, \"flight_id\": \"0\", \"callsign\": \"0\", \"icao24\": \"0\", \"timestamp\": \"2021-08-31T17:07:14.504135\"}, {\"track\": 136.7508544921875, \"groundspeed\": 162.00296020507812, \"altitude\": 2925.0, \"timedelta\": 563.0, \"latitude\": 47.529679064219586, \"longitude\": 8.464709171183976, \"flight_id\": \"0\", \"callsign\": \"0\", \"icao24\": \"0\", \"timestamp\": \"2021-08-31T17:07:17.504135\"}, {\"track\": 137.02731323242188, \"groundspeed\": 159.9060821533203, \"altitude\": 2875.0, \"timedelta\": 566.0, \"latitude\": 47.52804105544433, \"longitude\": 8.466984098643564, \"flight_id\": \"0\", \"callsign\": \"0\", \"icao24\": \"0\", \"timestamp\": \"2021-08-31T17:07:20.504135\"}, {\"track\": 137.31112670898438, \"groundspeed\": 157.81304931640625, \"altitude\": 2825.0, \"timedelta\": 570.0, \"latitude\": 47.5258755433067, \"longitude\": 8.469962560002505, \"flight_id\": \"0\", \"callsign\": \"0\", \"icao24\": \"0\", \"timestamp\": \"2021-08-31T17:07:24.504135\"}, {\"track\": 137.33201599121094, \"groundspeed\": 156.39999389648438, \"altitude\": 2775.0, \"timedelta\": 573.0, \"latitude\": 47.52426529775736, \"longitude\": 8.472155350821286, \"flight_id\": \"0\", \"callsign\": \"0\", \"icao24\": \"0\", \"timestamp\": \"2021-08-31T17:07:27.504135\"}, {\"track\": 137.10165405273438, \"groundspeed\": 154.25291442871094, \"altitude\": 2725.0, \"timedelta\": 576.0, \"latitude\": 47.52266893351134, \"longitude\": 8.474327582435432, \"flight_id\": \"0\", \"callsign\": \"0\", \"icao24\": \"0\", \"timestamp\": \"2021-08-31T17:07:30.504135\"}, {\"track\": 136.8822784423828, \"groundspeed\": 150.69493103027344, \"altitude\": 2675.0, \"timedelta\": 580.0, \"latitude\": 47.520577455031294, \"longitude\": 8.47719645330303, \"flight_id\": \"0\", \"callsign\": \"0\", \"icao24\": \"0\", \"timestamp\": \"2021-08-31T17:07:34.504135\"}, {\"track\": 136.90011596679688, \"groundspeed\": 149.28147888183594, \"altitude\": 2650.0, \"timedelta\": 583.0, \"latitude\": 47.51905049707743, \"longitude\": 8.479307061438622, \"flight_id\": \"0\", \"callsign\": \"0\", \"icao24\": \"0\", \"timestamp\": \"2021-08-31T17:07:37.504135\"}, {\"track\": 137.181640625, \"groundspeed\": 148.60000610351562, \"altitude\": 2600.0, \"timedelta\": 586.0, \"latitude\": 47.51753742023582, \"longitude\": 8.481397117652214, \"flight_id\": \"0\", \"callsign\": \"0\", \"icao24\": \"0\", \"timestamp\": \"2021-08-31T17:07:40.504135\"}, {\"track\": 136.9368133544922, \"groundspeed\": 146.45465087890625, \"altitude\": 2550.0, \"timedelta\": 590.0, \"latitude\": 47.51551997614221, \"longitude\": 8.484156432898336, \"flight_id\": \"0\", \"callsign\": \"0\", \"icao24\": \"0\", \"timestamp\": \"2021-08-31T17:07:44.504135\"}, {\"track\": 136.9556884765625, \"groundspeed\": 145.04124450683594, \"altitude\": 2500.0, \"timedelta\": 593.0, \"latitude\": 47.51403466134758, \"longitude\": 8.486205371111632, \"flight_id\": \"0\", \"callsign\": \"0\", \"icao24\": \"0\", \"timestamp\": \"2021-08-31T17:07:47.504135\"}, {\"track\": 137.51380920410156, \"groundspeed\": 145.09640502929688, \"altitude\": 2475.0, \"timedelta\": 596.0, \"latitude\": 47.51256322805311, \"longitude\": 8.488233763327878, \"flight_id\": \"0\", \"callsign\": \"0\", \"icao24\": \"0\", \"timestamp\": \"2021-08-31T17:07:50.504135\"}, {\"track\": 137.24574279785156, \"groundspeed\": 144.36053466796875, \"altitude\": 2425.0, \"timedelta\": 600.0, \"latitude\": 47.510582800760844, \"longitude\": 8.490910867824915, \"flight_id\": \"0\", \"callsign\": \"0\", \"icao24\": \"0\", \"timestamp\": \"2021-08-31T17:07:54.504135\"}, {\"track\": 137.26795959472656, \"groundspeed\": 143.62786865234375, \"altitude\": 2375.0, \"timedelta\": 603.0, \"latitude\": 47.509111367067646, \"longitude\": 8.492918639881113, \"flight_id\": \"0\", \"callsign\": \"0\", \"icao24\": \"0\", \"timestamp\": \"2021-08-31T17:07:57.504135\"}, {\"track\": 137.2679443359375, \"groundspeed\": 142.94741821289062, \"altitude\": 2350.0, \"timedelta\": 606.0, \"latitude\": 47.50764687629484, \"longitude\": 8.494915328491446, \"flight_id\": \"0\", \"callsign\": \"0\", \"icao24\": \"0\", \"timestamp\": \"2021-08-31T17:08:00.504135\"}, {\"track\": 137.29061889648438, \"groundspeed\": 141.53431701660156, \"altitude\": 2300.0, \"timedelta\": 610.0, \"latitude\": 47.50570346517002, \"longitude\": 8.49756487027129, \"flight_id\": \"0\", \"callsign\": \"0\", \"icao24\": \"0\", \"timestamp\": \"2021-08-31T17:08:04.504135\"}, {\"track\": 137.313720703125, \"groundspeed\": 140.80116271972656, \"altitude\": 2250.0, \"timedelta\": 613.0, \"latitude\": 47.504259793415805, \"longitude\": 8.499531485721725, \"flight_id\": \"0\", \"callsign\": \"0\", \"icao24\": \"0\", \"timestamp\": \"2021-08-31T17:08:07.504135\"}, {\"track\": 137.31373596191406, \"groundspeed\": 140.80116271972656, \"altitude\": 2200.0, \"timedelta\": 616.0, \"latitude\": 47.502823065278285, \"longitude\": 8.501487005924103, \"flight_id\": \"0\", \"callsign\": \"0\", \"icao24\": \"0\", \"timestamp\": \"2021-08-31T17:08:10.504135\"}, {\"track\": 137.31373596191406, \"groundspeed\": 140.1212615966797, \"altitude\": 2150.0, \"timedelta\": 620.0, \"latitude\": 47.500907419319894, \"longitude\": 8.504094270593171, \"flight_id\": \"0\", \"callsign\": \"0\", \"icao24\": \"0\", \"timestamp\": \"2021-08-31T17:08:14.504135\"}, {\"track\": 137.33731079101562, \"groundspeed\": 138.7082061767578, \"altitude\": 2125.0, \"timedelta\": 623.0, \"latitude\": 47.49947762775182, \"longitude\": 8.506040223785778, \"flight_id\": \"0\", \"callsign\": \"0\", \"icao24\": \"0\", \"timestamp\": \"2021-08-31T17:08:17.504135\"}, {\"track\": 137.33731079101562, \"groundspeed\": 138.7082061767578, \"altitude\": 2100.0, \"timedelta\": 626.0, \"latitude\": 47.498061717761615, \"longitude\": 8.507965641699219, \"flight_id\": \"0\", \"callsign\": \"0\", \"icao24\": \"0\", \"timestamp\": \"2021-08-31T17:08:20.504135\"}, {\"track\": 137.3859405517578, \"groundspeed\": 137.97451782226562, \"altitude\": 2050.0, \"timedelta\": 630.0, \"latitude\": 47.49617383004585, \"longitude\": 8.510532773564462, \"flight_id\": \"0\", \"callsign\": \"0\", \"icao24\": \"0\", \"timestamp\": \"2021-08-31T17:08:24.504135\"}, {\"track\": 137.3859405517578, \"groundspeed\": 136.56121826171875, \"altitude\": 2000.0, \"timedelta\": 633.0, \"latitude\": 47.49476430760437, \"longitude\": 8.512446122723315, \"flight_id\": \"0\", \"callsign\": \"0\", \"icao24\": \"0\", \"timestamp\": \"2021-08-31T17:08:27.504135\"}, {\"track\": 137.09889221191406, \"groundspeed\": 135.20712280273438, \"altitude\": 1975.0, \"timedelta\": 636.0, \"latitude\": 47.49336922299253, \"longitude\": 8.514339822922773, \"flight_id\": \"0\", \"callsign\": \"0\", \"icao24\": \"0\", \"timestamp\": \"2021-08-31T17:08:30.504135\"}, {\"track\": 137.09889221191406, \"groundspeed\": 135.14794921875, \"altitude\": 1925.0, \"timedelta\": 640.0, \"latitude\": 47.491536058510434, \"longitude\": 8.516853214628409, \"flight_id\": \"0\", \"callsign\": \"0\", \"icao24\": \"0\", \"timestamp\": \"2021-08-31T17:08:34.504135\"}, {\"track\": 137.12110900878906, \"groundspeed\": 134.46920776367188, \"altitude\": 1875.0, \"timedelta\": 643.0, \"latitude\": 47.49016179164783, \"longitude\": 8.51873738426285, \"flight_id\": \"0\", \"callsign\": \"0\", \"icao24\": \"0\", \"timestamp\": \"2021-08-31T17:08:37.504135\"}, {\"track\": 137.12110900878906, \"groundspeed\": 133.7346954345703, \"altitude\": 1849.9998779296875, \"timedelta\": 646.0, \"latitude\": 47.48879393379797, \"longitude\": 8.520611260167039, \"flight_id\": \"0\", \"callsign\": \"0\", \"icao24\": \"0\", \"timestamp\": \"2021-08-31T17:08:40.504135\"}, {\"track\": 137.1437530517578, \"groundspeed\": 132.32147216796875, \"altitude\": 1812.5, \"timedelta\": 650.0, \"latitude\": 47.486980078423485, \"longitude\": 8.523096028241186, \"flight_id\": \"0\", \"callsign\": \"0\", \"icao24\": \"0\", \"timestamp\": \"2021-08-31T17:08:44.504135\"}, {\"track\": 137.1669158935547, \"groundspeed\": 130.9082489013672, \"altitude\": 1775.0, \"timedelta\": 653.0, \"latitude\": 47.48563357358594, \"longitude\": 8.524939079181204, \"flight_id\": \"0\", \"callsign\": \"0\", \"icao24\": \"0\", \"timestamp\": \"2021-08-31T17:08:47.504135\"}, {\"track\": 137.21475219726562, \"groundspeed\": 130.1766815185547, \"altitude\": 1725.0, \"timedelta\": 656.0, \"latitude\": 47.48430095002447, \"longitude\": 8.526761605216155, \"flight_id\": \"0\", \"callsign\": \"0\", \"icao24\": \"0\", \"timestamp\": \"2021-08-31T17:08:50.504135\"}, {\"track\": 137.2147674560547, \"groundspeed\": 128.08189392089844, \"altitude\": 1675.0, \"timedelta\": 660.0, \"latitude\": 47.482532674567615, \"longitude\": 8.529175801890805, \"flight_id\": \"0\", \"callsign\": \"0\", \"icao24\": \"0\", \"timestamp\": \"2021-08-31T17:08:54.504135\"}, {\"track\": 137.2147674560547, \"groundspeed\": 128.0819091796875, \"altitude\": 1650.0, \"timedelta\": 663.0, \"latitude\": 47.48122781337543, \"longitude\": 8.530957268048459, \"flight_id\": \"0\", \"callsign\": \"0\", \"icao24\": \"0\", \"timestamp\": \"2021-08-31T17:08:57.504135\"}]}}, {\"mode\": \"vega-lite\"});\n",
       "</script>"
      ],
      "text/plain": [
       "alt.Chart(...)"
      ]
     },
     "execution_count": 28,
     "metadata": {},
     "output_type": "execute_result"
    }
   ],
   "source": [
    "original.chart().encode(alt.Y(\"track\"), alt.X(\"timestamp\"), alt.Color(\"flight_id\"))"
   ]
  },
  {
   "cell_type": "markdown",
   "id": "a2252173",
   "metadata": {},
   "source": [
    "Save generated trajectories into csv file"
   ]
  },
  {
   "cell_type": "code",
   "execution_count": 29,
   "id": "62c4c701",
   "metadata": {},
   "outputs": [],
   "source": [
    "traffic_generated.to_csv(\"./outputs/vcae_gen.csv\")"
   ]
  }
 ],
 "metadata": {
  "kernelspec": {
   "display_name": "Python 3.8.3 64-bit ('traffic': conda)",
   "language": "python",
   "name": "python38364bittrafficcondac883b0b6a9534c18ae7c8771421dfabd"
  },
  "language_info": {
   "codemirror_mode": {
    "name": "ipython",
    "version": 3
   },
   "file_extension": ".py",
   "mimetype": "text/x-python",
   "name": "python",
   "nbconvert_exporter": "python",
   "pygments_lexer": "ipython3",
   "version": "3.8.8"
  }
 },
 "nbformat": 4,
 "nbformat_minor": 5
}
