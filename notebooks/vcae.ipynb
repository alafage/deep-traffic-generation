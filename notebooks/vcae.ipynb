{
 "cells": [
  {
   "cell_type": "markdown",
   "id": "e8903f38",
   "metadata": {},
   "source": [
    "# Vine Copula Auto-encoder\n",
    "\n",
    "This notebook presents a vine copula auto-encoder ([paper](https://arxiv.org/abs/1906.05423)) for trajectory generation.\n",
    "\n",
    "The basic idea is to learn the distribution in the latent space of a pre-trained auto-encoder using a vine copula.\n",
    "Sampling from the vine to feed the auto-encoder's decoder will produce new trajectories."
   ]
  },
  {
   "cell_type": "code",
   "execution_count": 1,
   "id": "8ee1f4fb",
   "metadata": {},
   "outputs": [],
   "source": [
    "import altair as alt\n",
    "\n",
    "from deep_traffic_generation.tc_vae import TCVAE\n",
    "from deep_traffic_generation.core.datasets import TrafficDataset\n",
    "\n",
    "from sklearn.preprocessing import MinMaxScaler\n",
    "from sklearn.manifold import TSNE\n",
    "\n",
    "import pyvinecopulib as pv\n",
    "\n",
    "import matplotlib.pyplot as plt\n",
    "import numpy as np\n",
    "\n",
    "from traffic.core.projection import EuroPP\n",
    "\n",
    "import torch\n",
    "\n",
    "from deep_traffic_generation.core.utils import traffic_from_data\n",
    "\n",
    "import warnings\n",
    "warnings.filterwarnings(\"ignore\")\n",
    "\n",
    "torch.manual_seed(42)\n",
    "np.random.seed(42)"
   ]
  },
  {
   "cell_type": "markdown",
   "id": "5cca43eb",
   "metadata": {},
   "source": [
    "Data Loading"
   ]
  },
  {
   "cell_type": "code",
   "execution_count": 2,
   "id": "8f120dbc",
   "metadata": {},
   "outputs": [
    {
     "data": {
      "text/plain": [
       "Dataset TrafficDataset\n",
       "    Number of datapoints: 3968\n",
       "    File location: ../deep_traffic_generation/data/traffic_15.pkl\n",
       "    MinMaxScaler(feature_range=(-1, 1))"
      ]
     },
     "execution_count": 2,
     "metadata": {},
     "output_type": "execute_result"
    }
   ],
   "source": [
    "dataset = TrafficDataset(\n",
    "    \"../deep_traffic_generation/data/traffic_15.pkl\",\n",
    "    features=[\"track_unwrapped\", \"groundspeed\", \"altitude\", \"timedelta\"],\n",
    "    init_features=[\"latitude\", \"longitude\"],\n",
    "    scaler=MinMaxScaler(feature_range=(-1, 1)),\n",
    "    mode=\"image\",\n",
    ")\n",
    "dataset"
   ]
  },
  {
   "cell_type": "markdown",
   "id": "02a1635c",
   "metadata": {},
   "source": [
    "Model Loading"
   ]
  },
  {
   "cell_type": "code",
   "execution_count": 3,
   "id": "a9bc7182",
   "metadata": {},
   "outputs": [
    {
     "data": {
      "text/plain": [
       "TCVAE(\n",
       "  (encoder): TCEncoder(\n",
       "    (encoder): Sequential(\n",
       "      (0): TCN(\n",
       "        (network): Sequential(\n",
       "          (0): ResidualBlock(\n",
       "            (tmp_block1): TemporalBlock(\n",
       "              (conv): Conv1d(4, 16, kernel_size=(16,), stride=(1,))\n",
       "              (dropout): Dropout(p=0.0, inplace=False)\n",
       "            )\n",
       "            (tmp_block2): TemporalBlock(\n",
       "              (conv): Conv1d(16, 16, kernel_size=(16,), stride=(1,))\n",
       "              (dropout): Dropout(p=0.0, inplace=False)\n",
       "            )\n",
       "            (downsample): Conv1d(4, 16, kernel_size=(1,), stride=(1,))\n",
       "          )\n",
       "          (1): ResidualBlock(\n",
       "            (tmp_block1): TemporalBlock(\n",
       "              (conv): Conv1d(16, 16, kernel_size=(16,), stride=(1,), dilation=(2,))\n",
       "              (dropout): Dropout(p=0.0, inplace=False)\n",
       "            )\n",
       "            (tmp_block2): TemporalBlock(\n",
       "              (conv): Conv1d(16, 16, kernel_size=(16,), stride=(1,), dilation=(2,))\n",
       "              (dropout): Dropout(p=0.0, inplace=False)\n",
       "            )\n",
       "          )\n",
       "          (2): ResidualBlock(\n",
       "            (tmp_block1): TemporalBlock(\n",
       "              (conv): Conv1d(16, 16, kernel_size=(16,), stride=(1,), dilation=(4,))\n",
       "              (dropout): Dropout(p=0.0, inplace=False)\n",
       "            )\n",
       "            (tmp_block2): TemporalBlock(\n",
       "              (conv): Conv1d(16, 16, kernel_size=(16,), stride=(1,), dilation=(4,))\n",
       "              (dropout): Dropout(p=0.0, inplace=False)\n",
       "            )\n",
       "          )\n",
       "        )\n",
       "      )\n",
       "      (1): AvgPool1d(kernel_size=(10,), stride=(10,), padding=(0,))\n",
       "    )\n",
       "    (z_loc): Linear(in_features=320, out_features=32, bias=True)\n",
       "    (z_log_var): Linear(in_features=320, out_features=32, bias=True)\n",
       "  )\n",
       "  (decoder): TCDecoder(\n",
       "    (decode_entry): Linear(in_features=32, out_features=320, bias=True)\n",
       "    (decoder): Sequential(\n",
       "      (0): Upsample(scale_factor=10.0, mode=nearest)\n",
       "      (1): TCN(\n",
       "        (network): Sequential(\n",
       "          (0): ResidualBlock(\n",
       "            (tmp_block1): TemporalBlock(\n",
       "              (conv): Conv1d(16, 16, kernel_size=(16,), stride=(1,))\n",
       "              (dropout): Dropout(p=0.0, inplace=False)\n",
       "            )\n",
       "            (tmp_block2): TemporalBlock(\n",
       "              (conv): Conv1d(16, 16, kernel_size=(16,), stride=(1,))\n",
       "              (dropout): Dropout(p=0.0, inplace=False)\n",
       "            )\n",
       "          )\n",
       "          (1): ResidualBlock(\n",
       "            (tmp_block1): TemporalBlock(\n",
       "              (conv): Conv1d(16, 16, kernel_size=(16,), stride=(1,), dilation=(2,))\n",
       "              (dropout): Dropout(p=0.0, inplace=False)\n",
       "            )\n",
       "            (tmp_block2): TemporalBlock(\n",
       "              (conv): Conv1d(16, 16, kernel_size=(16,), stride=(1,), dilation=(2,))\n",
       "              (dropout): Dropout(p=0.0, inplace=False)\n",
       "            )\n",
       "          )\n",
       "          (2): ResidualBlock(\n",
       "            (tmp_block1): TemporalBlock(\n",
       "              (conv): Conv1d(16, 4, kernel_size=(16,), stride=(1,), dilation=(4,))\n",
       "              (dropout): Dropout(p=0.0, inplace=False)\n",
       "            )\n",
       "            (tmp_block2): TemporalBlock(\n",
       "              (conv): Conv1d(4, 4, kernel_size=(16,), stride=(1,), dilation=(4,))\n",
       "              (dropout): Dropout(p=0.0, inplace=False)\n",
       "            )\n",
       "            (downsample): Conv1d(16, 4, kernel_size=(1,), stride=(1,))\n",
       "          )\n",
       "        )\n",
       "      )\n",
       "    )\n",
       "  )\n",
       "  (out_activ): LinearAct()\n",
       ")"
      ]
     },
     "execution_count": 3,
     "metadata": {},
     "output_type": "execute_result"
    }
   ],
   "source": [
    "model = TCVAE.load_from_checkpoint(\n",
    "    \"../deep_traffic_generation/lightning_logs/tc_vae/version_0/checkpoints/epoch=2749-step=8249.ckpt\",\n",
    "    hparams_file=\"../deep_traffic_generation/lightning_logs/tc_vae/version_0/hparams.yaml\",\n",
    "    x_dim = dataset.input_dim,\n",
    "    seq_len=dataset.seq_len,\n",
    "    scaler = dataset.scaler,\n",
    ")\n",
    "model.eval()"
   ]
  },
  {
   "cell_type": "markdown",
   "id": "0cb926f8",
   "metadata": {},
   "source": [
    "Compute representation in latent space for every trajectories"
   ]
  },
  {
   "cell_type": "code",
   "execution_count": 4,
   "id": "50e6f3ec",
   "metadata": {},
   "outputs": [
    {
     "data": {
      "text/plain": [
       "torch.Size([3968, 32])"
      ]
     },
     "execution_count": 4,
     "metadata": {},
     "output_type": "execute_result"
    }
   ],
   "source": [
    "z, _ = model.encoder(torch.Tensor(dataset.dense))\n",
    "z.size()"
   ]
  },
  {
   "cell_type": "code",
   "execution_count": 5,
   "id": "62b7ca91",
   "metadata": {},
   "outputs": [
    {
     "data": {
      "text/plain": [
       "(3968, 32)"
      ]
     },
     "execution_count": 5,
     "metadata": {},
     "output_type": "execute_result"
    }
   ],
   "source": [
    "x = z.detach().cpu().numpy()\n",
    "# z_scale = np.exp(z_scale.detach().cpu().numpy() / 2)\n",
    "x.shape"
   ]
  },
  {
   "cell_type": "markdown",
   "id": "bc7243d2",
   "metadata": {},
   "source": [
    "### Reconstruction"
   ]
  },
  {
   "cell_type": "code",
   "execution_count": 6,
   "id": "44e76b27",
   "metadata": {},
   "outputs": [
    {
     "data": {
      "text/plain": [
       "(2, 200, 4)"
      ]
     },
     "execution_count": 6,
     "metadata": {},
     "output_type": "execute_result"
    }
   ],
   "source": [
    "original, _, info = dataset[0]\n",
    "_, reconstruction = model(original.unsqueeze(0))\n",
    "\n",
    "data = np.concatenate((original.unsqueeze(0).numpy(), reconstruction.detach().numpy()))\n",
    "data = np.transpose(data, (0, 2, 1))\n",
    "data.shape"
   ]
  },
  {
   "cell_type": "code",
   "execution_count": 7,
   "id": "002b6a0c",
   "metadata": {},
   "outputs": [
    {
     "data": {
      "text/plain": [
       "(2, 800)"
      ]
     },
     "execution_count": 7,
     "metadata": {},
     "output_type": "execute_result"
    }
   ],
   "source": [
    "data = data.reshape(data.shape[0], -1)\n",
    "data = dataset.scaler.inverse_transform(data)\n",
    "data.shape"
   ]
  },
  {
   "cell_type": "code",
   "execution_count": 8,
   "id": "5c0082fe",
   "metadata": {},
   "outputs": [
    {
     "data": {
      "text/plain": [
       "torch.Size([2, 2])"
      ]
     },
     "execution_count": 8,
     "metadata": {},
     "output_type": "execute_result"
    }
   ],
   "source": [
    "info = info.repeat(2, 1)\n",
    "info.size()"
   ]
  },
  {
   "cell_type": "code",
   "execution_count": 9,
   "id": "6668a468",
   "metadata": {},
   "outputs": [
    {
     "name": "stdout",
     "output_type": "stream",
     "text": [
      "(2, 802)\n"
     ]
    },
    {
     "data": {
      "text/html": [
       "<b>Traffic with 2 identifiers</b><style  type=\"text/css\" >\n",
       "#T_3a7ca_row0_col0,#T_3a7ca_row1_col0{\n",
       "            width:  10em;\n",
       "             height:  80%;\n",
       "            background:  linear-gradient(90deg,#5fba7d 100.0%, transparent 100.0%);\n",
       "        }</style><table id=\"T_3a7ca_\" ><thead>    <tr>        <th class=\"blank level0\" ></th>        <th class=\"col_heading level0 col0\" >count</th>    </tr>    <tr>        <th class=\"index_name level0\" >flight_id</th>        <th class=\"blank\" ></th>    </tr></thead><tbody>\n",
       "                <tr>\n",
       "                        <th id=\"T_3a7ca_level0_row0\" class=\"row_heading level0 row0\" >0</th>\n",
       "                        <td id=\"T_3a7ca_row0_col0\" class=\"data row0 col0\" >200</td>\n",
       "            </tr>\n",
       "            <tr>\n",
       "                        <th id=\"T_3a7ca_level0_row1\" class=\"row_heading level0 row1\" >1</th>\n",
       "                        <td id=\"T_3a7ca_row1_col0\" class=\"data row1 col0\" >200</td>\n",
       "            </tr>\n",
       "    </tbody></table>"
      ],
      "text/plain": [
       "           count\n",
       "flight_id       \n",
       "0            200\n",
       "1            200"
      ]
     },
     "execution_count": 9,
     "metadata": {},
     "output_type": "execute_result"
    }
   ],
   "source": [
    "# add latitude longitude info\n",
    "data = np.concatenate((info.numpy(), data), axis=1)\n",
    "print(data.shape)\n",
    "builder = model.get_builder(data.shape[0])\n",
    "features = [\n",
    "    \"track\" if \"track\" in f else f for f in model.hparams.features\n",
    "]\n",
    "traffic = traffic_from_data(\n",
    "    data, features, model.hparams.init_features, builder=builder\n",
    ")\n",
    "traffic"
   ]
  },
  {
   "cell_type": "code",
   "execution_count": 10,
   "id": "8f6b1e4e",
   "metadata": {},
   "outputs": [
    {
     "data": {
      "image/png": "[encoded data removed]",
      "text/plain": [
       "<Figure size 720x504 with 2 Axes>"
      ]
     },
     "metadata": {},
     "output_type": "display_data"
    }
   ],
   "source": [
    "with plt.style.context(\"traffic\"):\n",
    "    fig, ax = plt.subplots(1, 2, subplot_kw=dict(projection=EuroPP()))\n",
    "    ax[0].set_title(\"Original\")\n",
    "    traffic[0].plot(ax[0])\n",
    "    ax[1].set_title(\"Reconstructed\")\n",
    "    traffic[1].plot(ax[1])\n",
    "\n",
    "    plt.show()"
   ]
  },
  {
   "cell_type": "markdown",
   "id": "8f28d947",
   "metadata": {},
   "source": [
    "### Generation"
   ]
  },
  {
   "cell_type": "markdown",
   "id": "7b0b68b2",
   "metadata": {},
   "source": [
    "Transform copula data using the empirical distribution"
   ]
  },
  {
   "cell_type": "code",
   "execution_count": 11,
   "id": "9b893a82",
   "metadata": {},
   "outputs": [],
   "source": [
    "u = pv.to_pseudo_obs(x)"
   ]
  },
  {
   "cell_type": "markdown",
   "id": "61eb47d6",
   "metadata": {},
   "source": [
    "Fit a vine"
   ]
  },
  {
   "cell_type": "code",
   "execution_count": 12,
   "id": "2e3eb7a6",
   "metadata": {
    "scrolled": true
   },
   "outputs": [
    {
     "data": {
      "text/plain": [
       "<pyvinecopulib.Vinecop>\n",
       "** Tree: 0\n",
       "15,28 <-> BB8 180°, parameters =  1.27452\n",
       "0.876316\n",
       "2,26 <-> Student, parameters = 0.085012\n",
       " 5.19391\n",
       "32,11 <-> Student, parameters = 0.069506\n",
       " 8.49556\n",
       "18,26 <-> Student, parameters = 0.160503\n",
       " 6.12484\n",
       "17,5 <-> Student, parameters = -0.113814\n",
       "  9.88536\n",
       "11,4 <-> Student, parameters = 0.0983362\n",
       "  12.0177\n",
       "29,4 <-> Student, parameters = -0.0973624\n",
       "   10.5289\n",
       "21,14 <-> Clayton 270°, parameters = 0.244719\n",
       "6,23 <-> Student, parameters = 0.0441343\n",
       "  8.92063\n",
       "4,3 <-> Frank, parameters = -0.959092\n",
       "20,13 <-> Student, parameters = 0.115689\n",
       " 4.63504\n",
       "16,5 <-> Student, parameters = -0.0866768\n",
       "   9.70996\n",
       "30,22 <-> TLL, parameters = [30x30 grid]\n",
       "9,26 <-> Student, parameters = -0.0929847\n",
       "   7.36874\n",
       "3,22 <-> TLL, parameters = [30x30 grid]\n",
       "10,5 <-> Student, parameters = 0.10769\n",
       "4.79176\n",
       "22,12 <-> TLL, parameters = [30x30 grid]\n",
       "26,24 <-> Student, parameters = 0.0886595\n",
       "  9.42297\n",
       "12,23 <-> Clayton 270°, parameters = 0.183957\n",
       "5,14 <-> Student, parameters = 0.195695\n",
       " 8.30893\n",
       "31,1 <-> Student, parameters = 0.151995\n",
       " 7.58306\n",
       "8,24 <-> Student, parameters = 0.086058\n",
       " 8.92664\n",
       "23,1 <-> Joe, parameters = 1.24914\n",
       "24,14 <-> Student, parameters = 0.179758\n",
       "  15.265\n",
       "1,19 <-> Gumbel 180°, parameters = 1.12683\n",
       "13,28 <-> Student, parameters = -0.147339\n",
       "  11.9344\n",
       "7,27 <-> Gumbel 90°, parameters = 1.09042\n",
       "14,19 <-> Gaussian, parameters = 0.19349\n",
       "25,19 <-> Gumbel 270°, parameters = 1.05289\n",
       "19,28 <-> Gaussian, parameters = 0.179616\n",
       "27,28 <-> Frank, parameters = 0.772042\n",
       "** Tree: 1\n",
       "15,13 | 28 <-> Clayton 180°, parameters = 0.102927\n",
       "2,18 | 26 <-> Student, parameters = 0.0550305\n",
       "  5.64148\n",
       "32,4 | 11 <-> Student, parameters = -0.0210985\n",
       "   10.7855\n",
       "18,9 | 26 <-> Student, parameters = -0.0229595\n",
       "   8.28641\n",
       "17,14 | 5 <-> Clayton 180°, parameters = 0.0582376\n",
       "11,3 | 4 <-> Student, parameters = 0.043015\n",
       " 7.21042\n",
       "29,3 | 4 <-> Student, parameters = -0.030234\n",
       "  5.05792\n",
       "21,5 | 14 <-> Student, parameters = 0.0626497\n",
       "  14.5103\n",
       "6,1 | 23 <-> Joe 180°, parameters = 1.0362\n",
       "4,22 | 3 <-> Joe, parameters = 1.07543\n",
       "20,28 | 13 <-> Independence\n",
       "16,14 | 5 <-> Gumbel 180°, parameters = 1.02653\n",
       "30,12 | 22 <-> Clayton 90°, parameters = 0.152853\n",
       "9,24 | 26 <-> Student, parameters = -0.0663972\n",
       "   9.46064\n",
       "3,12 | 22 <-> Student, parameters = 0.158475\n",
       " 11.9593\n",
       "10,14 | 5 <-> Frank, parameters = -0.32629\n",
       "22,23 | 12 <-> TLL, parameters = [30x30 grid]\n",
       "26,14 | 24 <-> Clayton 180°, parameters = 0.0952782\n",
       "12,1 | 23 <-> Frank, parameters = 0.798956\n",
       "5,24 | 14 <-> Student, parameters = -0.0557949\n",
       "   10.3215\n",
       "31,23 | 1 <-> Gumbel 270°, parameters = 1.05239\n",
       "8,14 | 24 <-> Student, parameters = -0.03961\n",
       " 12.1064\n",
       "23,19 | 1 <-> Frank, parameters = -0.841705\n",
       "24,19 | 14 <-> Gumbel, parameters = 1.05269\n",
       "1,25 | 19 <-> Student, parameters = 0.0773637\n",
       "  11.1864\n",
       "13,27 | 28 <-> Clayton 180°, parameters = 0.0994191\n",
       "7,28 | 27 <-> Student, parameters = 0.0859873\n",
       "  10.1796\n",
       "14,28 | 19 <-> Clayton 90°, parameters = 0.165133\n",
       "25,28 | 19 <-> Gumbel 180°, parameters = 1.04042\n",
       "19,27 | 28 <-> Clayton 90°, parameters = 0.108255\n",
       "** Tree: 2\n",
       "15,20 | 13,28 <-> Joe 270°, parameters = 1.05107\n",
       "2,9 | 18,26 <-> Student, parameters = -0.0235322\n",
       "   10.9359\n",
       "32,3 | 4,11 <-> Joe 180°, parameters = 1.03469\n",
       "18,24 | 9,26 <-> Student, parameters = -0.0347566\n",
       "    7.4928\n",
       "17,21 | 14,5 <-> Joe 180°, parameters = 1.04719\n",
       "11,22 | 3,4 <-> Student, parameters = -0.0239692\n",
       "   10.3003\n",
       "29,22 | 3,4 <-> TLL, parameters = [30x30 grid]\n",
       "21,16 | 5,14 <-> Joe 180°, parameters = 1.05449\n",
       "6,19 | 1,23 <-> Gumbel, parameters = 1.03134\n",
       "4,12 | 22,3 <-> Independence\n",
       "20,27 | 28,13 <-> Independence\n",
       "16,24 | 14,5 <-> Student, parameters = -0.0638513\n",
       "   16.5122\n",
       "30,3 | 12,22 <-> Joe 180°, parameters = 1.06907\n",
       "9,14 | 24,26 <-> Independence\n",
       "3,23 | 12,22 <-> Clayton 180°, parameters = 0.114102\n",
       "10,24 | 14,5 <-> Student, parameters = 0.100497\n",
       " 7.33442\n",
       "22,1 | 23,12 <-> TLL, parameters = [30x30 grid]\n",
       "26,5 | 14,24 <-> Student, parameters = 0.0807807\n",
       "  11.1659\n",
       "12,31 | 1,23 <-> Clayton 270°, parameters = 0.0946593\n",
       "5,8 | 24,14 <-> Student, parameters = 0.0658442\n",
       "  8.68516\n",
       "31,19 | 23,1 <-> Student, parameters = -0.0572359\n",
       "   13.1156\n",
       "8,19 | 14,24 <-> Gumbel, parameters = 1.04736\n",
       "23,25 | 19,1 <-> Clayton 90°, parameters = 0.0899373\n",
       "24,28 | 19,14 <-> Student, parameters = 0.144602\n",
       " 9.13545\n",
       "1,28 | 25,19 <-> Student, parameters = -0.0109075\n",
       "   15.0018\n",
       "13,7 | 27,28 <-> Student, parameters = 0.121129\n",
       " 5.66296\n",
       "7,19 | 28,27 <-> Frank, parameters = -0.57346\n",
       "14,27 | 28,19 <-> Clayton 90°, parameters = 0.0851707\n",
       "25,27 | 28,19 <-> Student, parameters = -0.0498559\n",
       "   15.8979\n",
       "** Tree: 3\n",
       "15,27 | 20,13,28 <-> Student, parameters = -0.00478767\n",
       "    13.3355\n",
       "2,24 | 9,18,26 <-> Student, parameters = -0.0189451\n",
       "   8.81943\n",
       "32,22 | 3,4,11 <-> Joe, parameters = 1.04657\n",
       "18,14 | 24,9,26 <-> Student, parameters = -0.00317784\n",
       "    12.7738\n",
       "17,16 | 21,14,5 <-> Independence\n",
       "11,29 | 22,3,4 <-> Independence\n",
       "29,12 | 22,3,4 <-> Gumbel 270°, parameters = 1.03276\n",
       "21,24 | 16,5,14 <-> Joe 90°, parameters = 1.04026\n",
       "6,31 | 19,1,23 <-> Joe, parameters = 1.04167\n",
       "4,23 | 12,22,3 <-> Joe, parameters = 1.03283\n",
       "20,7 | 27,28,13 <-> Student, parameters = -0.00411804\n",
       "    9.77641\n",
       "16,26 | 24,14,5 <-> Independence\n",
       "30,23 | 3,12,22 <-> Clayton, parameters = 0.0545118\n",
       "9,5 | 14,24,26 <-> Joe, parameters = 1.03952\n",
       "3,1 | 23,12,22 <-> Joe 180°, parameters = 1.05442\n",
       "10,26 | 24,14,5 <-> Student, parameters = -0.0751843\n",
       "    7.9842\n",
       "22,31 | 1,23,12 <-> TLL, parameters = [30x30 grid]\n",
       "26,8 | 5,14,24 <-> Student, parameters = -0.0224812\n",
       "    9.9006\n",
       "12,19 | 31,1,23 <-> Independence\n",
       "5,19 | 8,24,14 <-> Student, parameters = -0.00297538\n",
       "    10.2988\n",
       "31,25 | 19,23,1 <-> Student, parameters = -0.044298\n",
       "  9.60244\n",
       "8,28 | 19,14,24 <-> Student, parameters = -0.0415058\n",
       "   14.9466\n",
       "23,28 | 25,19,1 <-> BB7, parameters =   1.06111\n",
       "0.0508586\n",
       "24,27 | 28,19,14 <-> Clayton 90°, parameters = 0.112743\n",
       "1,27 | 28,25,19 <-> Student, parameters = 0.0589895\n",
       "  12.7036\n",
       "13,19 | 7,27,28 <-> Student, parameters = -0.0136214\n",
       "   11.5252\n",
       "7,14 | 19,28,27 <-> Gumbel, parameters = 1.05414\n",
       "14,25 | 27,28,19 <-> Joe, parameters = 1.07266\n",
       "** Tree: 4\n",
       "15,7 | 27,20,13,28 <-> Joe 270°, parameters = 1.03075\n",
       "2,14 | 24,9,18,26 <-> Joe, parameters = 1.03791\n",
       "32,29 | 22,3,4,11 <-> Joe 270°, parameters = 1.03624\n",
       "18,5 | 14,24,9,26 <-> Student, parameters = 0.00987083\n",
       "    8.3876\n",
       "17,24 | 16,21,14,5 <-> Student, parameters = -0.00288985\n",
       "    12.1278\n",
       "11,12 | 29,22,3,4 <-> Independence\n",
       "29,23 | 12,22,3,4 <-> Frank, parameters = 0.465905\n",
       "21,26 | 24,16,5,14 <-> Independence\n",
       "6,12 | 31,19,1,23 <-> Independence\n",
       "4,1 | 23,12,22,3 <-> Frank, parameters = -0.350032\n",
       "20,19 | 7,27,28,13 <-> Independence\n",
       "16,9 | 26,24,14,5 <-> Student, parameters = 0.0383045\n",
       "  15.3895\n",
       "30,1 | 23,3,12,22 <-> Gaussian, parameters = 0.107209\n",
       "9,10 | 5,14,24,26 <-> Student, parameters = -0.0376911\n",
       "    9.7719\n",
       "3,31 | 1,23,12,22 <-> Student, parameters = 0.285068\n",
       " 9.61525\n",
       "10,8 | 26,24,14,5 <-> Student, parameters = -0.0301977\n",
       "   5.55815\n",
       "22,19 | 31,1,23,12 <-> Clayton 180°, parameters = 0.126698\n",
       "26,19 | 8,5,14,24 <-> Gaussian, parameters = -0.055461\n",
       "12,25 | 19,31,1,23 <-> Clayton 270°, parameters = 0.0637761\n",
       "5,28 | 19,8,24,14 <-> Gumbel 180°, parameters = 1.05343\n",
       "31,28 | 25,19,23,1 <-> Gumbel, parameters = 1.04751\n",
       "8,27 | 28,19,14,24 <-> Independence\n",
       "23,27 | 28,25,19,1 <-> Joe 270°, parameters = 1.06264\n",
       "24,7 | 27,28,19,14 <-> Student, parameters = -0.0675193\n",
       "   12.9126\n",
       "1,14 | 27,28,25,19 <-> Joe, parameters = 1.05111\n",
       "13,14 | 19,7,27,28 <-> Joe 90°, parameters = 1.02707\n",
       "7,25 | 14,19,28,27 <-> Student, parameters = 0.019561\n",
       "  13.664\n",
       "** Tree: 5\n",
       "15,19 | 7,27,20,13,28 <-> Student, parameters = -0.048103\n",
       "  14.2123\n",
       "2,5 | 14,24,9,18,26 <-> Student, parameters = 0.0176053\n",
       "  6.75168\n",
       "32,12 | 29,22,3,4,11 <-> Independence\n",
       "18,16 | 5,14,24,9,26 <-> Independence\n",
       "17,26 | 24,16,21,14,5 <-> Student, parameters = 0.0366136\n",
       "   10.312\n",
       "11,23 | 12,29,22,3,4 <-> BB8 90°, parameters =  1.22337\n",
       "0.931855\n",
       "29,1 | 23,12,22,3,4 <-> Gumbel 90°, parameters = 1.04557\n",
       "21,9 | 26,24,16,5,14 <-> Independence\n",
       "6,22 | 12,31,19,1,23 <-> Joe, parameters = 1.04752\n",
       "4,31 | 1,23,12,22,3 <-> Student, parameters = -0.00344626\n",
       "    8.90341\n",
       "20,14 | 19,7,27,28,13 <-> Student, parameters = -0.0431173\n",
       "   14.9438\n",
       "16,10 | 9,26,24,14,5 <-> Independence\n",
       "30,31 | 1,23,3,12,22 <-> BB8 90°, parameters =  1.23713\n",
       "0.961167\n",
       "9,8 | 10,5,14,24,26 <-> Student, parameters = -0.00786382\n",
       "    11.5314\n",
       "3,19 | 31,1,23,12,22 <-> Independence\n",
       "10,19 | 8,26,24,14,5 <-> Frank, parameters = -0.308793\n",
       "22,25 | 19,31,1,23,12 <-> Frank, parameters = -0.42672\n",
       "26,28 | 19,8,5,14,24 <-> Gumbel 180°, parameters = 1.0589\n",
       "12,28 | 25,19,31,1,23 <-> Frank, parameters = -0.557239\n",
       "5,27 | 28,19,8,24,14 <-> Student, parameters = -0.0617842\n",
       "   15.2471\n",
       "31,27 | 28,25,19,23,1 <-> Student, parameters = 0.0260029\n",
       "  10.4963\n",
       "8,7 | 27,28,19,14,24 <-> Student, parameters = -0.0206634\n",
       "   8.20747\n",
       "23,14 | 27,28,25,19,1 <-> Clayton 180°, parameters = 0.103494\n",
       "24,13 | 7,27,28,19,14 <-> Joe 180°, parameters = 1.055\n",
       "1,7 | 14,27,28,25,19 <-> Joe 180°, parameters = 1.0642\n",
       "13,25 | 14,19,7,27,28 <-> Independence\n",
       "** Tree: 6\n",
       "15,14 | 19,7,27,20,13,28 <-> Gaussian, parameters = 0.0850742\n",
       "2,16 | 5,14,24,9,18,26 <-> Clayton 90°, parameters = 0.0818931\n",
       "32,23 | 12,29,22,3,4,11 <-> Independence\n",
       "18,10 | 16,5,14,24,9,26 <-> Student, parameters = -0.00910303\n",
       "    7.64714\n",
       "17,9 | 26,24,16,21,14,5 <-> Frank, parameters = 0.288091\n",
       "11,1 | 23,12,29,22,3,4 <-> Gumbel 180°, parameters = 1.0277\n",
       "29,31 | 1,23,12,22,3,4 <-> Frank, parameters = -0.814315\n",
       "21,10 | 9,26,24,16,5,14 <-> Independence\n",
       "6,3 | 22,12,31,19,1,23 <-> Independence\n",
       "4,19 | 31,1,23,12,22,3 <-> Gumbel, parameters = 1.06442\n",
       "20,24 | 14,19,7,27,28,13 <-> Clayton, parameters = 0.139823\n",
       "16,8 | 10,9,26,24,14,5 <-> Gumbel, parameters = 1.02127\n",
       "30,19 | 31,1,23,3,12,22 <-> Frank, parameters = -0.445075\n",
       "9,19 | 8,10,5,14,24,26 <-> Frank, parameters = 0.54354\n",
       "3,25 | 19,31,1,23,12,22 <-> Gaussian, parameters = 0.109353\n",
       "10,28 | 19,8,26,24,14,5 <-> Independence\n",
       "22,28 | 25,19,31,1,23,12 <-> Joe 270°, parameters = 1.07078\n",
       "26,27 | 28,19,8,5,14,24 <-> Gumbel 270°, parameters = 1.03435\n",
       "12,27 | 28,25,19,31,1,23 <-> Gumbel 180°, parameters = 1.04085\n",
       "5,7 | 27,28,19,8,24,14 <-> Student, parameters =    0.11\n",
       "5.44222\n",
       "31,14 | 27,28,25,19,23,1 <-> Clayton 180°, parameters = 0.0691577\n",
       "8,13 | 7,27,28,19,14,24 <-> Independence\n",
       "23,7 | 14,27,28,25,19,1 <-> Joe 270°, parameters = 1.059\n",
       "24,25 | 13,7,27,28,19,14 <-> Independence\n",
       "1,13 | 7,14,27,28,25,19 <-> Student, parameters = -0.0639076\n",
       "   8.60987\n",
       "** Tree: 7\n",
       "15,24 | 14,19,7,27,20,13,28 <-> Gumbel 270°, parameters = 1.04139\n",
       "2,10 | 16,5,14,24,9,18,26 <-> Student, parameters = 0.0644198\n",
       "  6.28525\n",
       "32,1 | 23,12,29,22,3,4,11 <-> Joe 90°, parameters = 1.0298\n",
       "18,8 | 10,16,5,14,24,9,26 <-> Student, parameters = 0.0631571\n",
       "  10.4817\n",
       "17,10 | 9,26,24,16,21,14,5 <-> Gumbel, parameters = 1.03483\n",
       "11,31 | 1,23,12,29,22,3,4 <-> Independence\n",
       "29,19 | 31,1,23,12,22,3,4 <-> Independence\n",
       "21,8 | 10,9,26,24,16,5,14 <-> Independence\n",
       "6,30 | 3,22,12,31,19,1,23 <-> Clayton, parameters = 0.0521555\n",
       "4,25 | 19,31,1,23,12,22,3 <-> Student, parameters = 0.0587129\n",
       "  10.6193\n",
       "20,8 | 24,14,19,7,27,28,13 <-> Joe 90°, parameters = 1.0439\n",
       "16,19 | 8,10,9,26,24,14,5 <-> Independence\n",
       "30,25 | 19,31,1,23,3,12,22 <-> Joe 90°, parameters = 1.05503\n",
       "9,28 | 19,8,10,5,14,24,26 <-> Student, parameters = -0.0563624\n",
       "   14.1377\n",
       "3,28 | 25,19,31,1,23,12,22 <-> Clayton 90°, parameters = 0.118263\n",
       "10,27 | 28,19,8,26,24,14,5 <-> Gumbel 90°, parameters = 1.02267\n",
       "22,27 | 28,25,19,31,1,23,12 <-> Frank, parameters = 0.756231\n",
       "26,7 | 27,28,19,8,5,14,24 <-> Student, parameters = -0.0931312\n",
       "   8.32547\n",
       "12,14 | 27,28,25,19,31,1,23 <-> Clayton 180°, parameters = 0.0674488\n",
       "5,13 | 7,27,28,19,8,24,14 <-> Student, parameters = -0.168686\n",
       "  6.42789\n",
       "31,7 | 14,27,28,25,19,23,1 <-> Student, parameters = -0.130344\n",
       "  11.7725\n",
       "8,25 | 13,7,27,28,19,14,24 <-> Joe, parameters = 1.045\n",
       "23,13 | 7,14,27,28,25,19,1 <-> BB7 180°, parameters = 1.02992\n",
       "0.09201\n",
       "24,1 | 25,13,7,27,28,19,14 <-> Student, parameters = 0.139192\n",
       " 13.0148\n",
       "** Tree: 8\n",
       "15,8 | 24,14,19,7,27,20,13,28 <-> Frank, parameters = -0.449517\n",
       "2,8 | 10,16,5,14,24,9,18,26 <-> Student, parameters = 0.0197191\n",
       "  9.00624\n",
       "32,31 | 1,23,12,29,22,3,4,11 <-> Independence\n",
       "18,21 | 8,10,16,5,14,24,9,26 <-> Independence\n",
       "17,8 | 10,9,26,24,16,21,14,5 <-> Independence\n",
       "11,19 | 31,1,23,12,29,22,3,4 <-> Clayton 270°, parameters = 0.106038\n",
       "29,25 | 19,31,1,23,12,22,3,4 <-> Independence\n",
       "21,19 | 8,10,9,26,24,16,5,14 <-> Independence\n",
       "6,25 | 30,3,22,12,31,19,1,23 <-> Independence\n",
       "4,28 | 25,19,31,1,23,12,22,3 <-> Frank, parameters = -0.564549\n",
       "20,5 | 8,24,14,19,7,27,28,13 <-> Student, parameters = 0.0508085\n",
       "  6.67423\n",
       "16,28 | 19,8,10,9,26,24,14,5 <-> Student, parameters = 0.102649\n",
       " 13.8642\n",
       "30,28 | 25,19,31,1,23,3,12,22 <-> Clayton, parameters = 0.0647268\n",
       "9,27 | 28,19,8,10,5,14,24,26 <-> Student, parameters = -0.0171291\n",
       "   13.8381\n",
       "3,27 | 28,25,19,31,1,23,12,22 <-> Independence\n",
       "10,7 | 27,28,19,8,26,24,14,5 <-> Student, parameters = -0.0560713\n",
       "   10.6688\n",
       "22,14 | 27,28,25,19,31,1,23,12 <-> Gaussian, parameters = -0.194423\n",
       "26,13 | 7,27,28,19,8,5,14,24 <-> Student, parameters = 0.107327\n",
       " 9.27091\n",
       "12,7 | 14,27,28,25,19,31,1,23 <-> Frank, parameters = -0.372305\n",
       "5,25 | 13,7,27,28,19,8,24,14 <-> Independence\n",
       "31,13 | 7,14,27,28,25,19,23,1 <-> BB8, parameters =  1.45126\n",
       "0.800532\n",
       "8,1 | 25,13,7,27,28,19,14,24 <-> Joe, parameters = 1.04031\n",
       "23,24 | 13,7,14,27,28,25,19,1 <-> Frank, parameters = -0.829255\n",
       "** Tree: 9\n",
       "15,5 | 8,24,14,19,7,27,20,13,28 <-> Student, parameters = -0.0180419\n",
       "   14.2239\n",
       "2,21 | 8,10,16,5,14,24,9,18,26 <-> Independence\n",
       "32,19 | 31,1,23,12,29,22,3,4,11 <-> Independence\n",
       "18,17 | 21,8,10,16,5,14,24,9,26 <-> Independence\n",
       "17,19 | 8,10,9,26,24,16,21,14,5 <-> Frank, parameters = -0.363754\n",
       "11,25 | 19,31,1,23,12,29,22,3,4 <-> Independence\n",
       "29,28 | 25,19,31,1,23,12,22,3,4 <-> Independence\n",
       "21,28 | 19,8,10,9,26,24,16,5,14 <-> Clayton 270°, parameters = 0.0672499\n",
       "6,28 | 25,30,3,22,12,31,19,1,23 <-> Independence\n",
       "4,30 | 28,25,19,31,1,23,12,22,3 <-> Independence\n",
       "20,26 | 5,8,24,14,19,7,27,28,13 <-> Clayton 270°, parameters = 0.1312\n",
       "16,27 | 28,19,8,10,9,26,24,14,5 <-> Clayton 270°, parameters = 0.0909861\n",
       "30,27 | 28,25,19,31,1,23,3,12,22 <-> Clayton, parameters = 0.086049\n",
       "9,7 | 27,28,19,8,10,5,14,24,26 <-> Independence\n",
       "3,14 | 27,28,25,19,31,1,23,12,22 <-> Student, parameters = 0.0978894\n",
       "  12.5058\n",
       "10,13 | 7,27,28,19,8,26,24,14,5 <-> Student, parameters = 0.0313845\n",
       "  11.7738\n",
       "22,7 | 14,27,28,25,19,31,1,23,12 <-> BB8, parameters =  1.25551\n",
       "0.950811\n",
       "26,25 | 13,7,27,28,19,8,5,14,24 <-> Independence\n",
       "12,13 | 7,14,27,28,25,19,31,1,23 <-> Joe, parameters = 1.0252\n",
       "5,1 | 25,13,7,27,28,19,8,24,14 <-> Student, parameters = 0.0827357\n",
       "  16.5793\n",
       "31,24 | 13,7,14,27,28,25,19,23,1 <-> Joe 180°, parameters = 1.03239\n",
       "8,23 | 1,25,13,7,27,28,19,14,24 <-> Student, parameters = 0.0136718\n",
       "  14.5953\n",
       "** Tree: 10\n",
       "15,26 | 5,8,24,14,19,7,27,20,13,28 <-> Joe 90°, parameters = 1.03915\n",
       "2,17 | 21,8,10,16,5,14,24,9,18,26 <-> Independence\n",
       "32,25 | 19,31,1,23,12,29,22,3,4,11 <-> Independence\n",
       "18,19 | 17,21,8,10,16,5,14,24,9,26 <-> Independence\n",
       "17,28 | 19,8,10,9,26,24,16,21,14,5 <-> Clayton 180°, parameters = 0.0646311\n",
       "11,28 | 25,19,31,1,23,12,29,22,3,4 <-> BB7, parameters =   1.03862\n",
       "0.0668963\n",
       "29,30 | 28,25,19,31,1,23,12,22,3,4 <-> Independence\n",
       "21,27 | 28,19,8,10,9,26,24,16,5,14 <-> Frank, parameters = 0.509923\n",
       "6,27 | 28,25,30,3,22,12,31,19,1,23 <-> Independence\n",
       "4,27 | 30,28,25,19,31,1,23,12,22,3 <-> Independence\n",
       "20,10 | 26,5,8,24,14,19,7,27,28,13 <-> BB8 90°, parameters =  1.50303\n",
       "0.790263\n",
       "16,7 | 27,28,19,8,10,9,26,24,14,5 <-> Gumbel 90°, parameters = 1.03526\n",
       "30,14 | 27,28,25,19,31,1,23,3,12,22 <-> Student, parameters = -0.138568\n",
       "  10.9475\n",
       "9,13 | 7,27,28,19,8,10,5,14,24,26 <-> Frank, parameters = 0.533903\n",
       "3,7 | 14,27,28,25,19,31,1,23,12,22 <-> Independence\n",
       "10,25 | 13,7,27,28,19,8,26,24,14,5 <-> Independence\n",
       "22,13 | 7,14,27,28,25,19,31,1,23,12 <-> Clayton 90°, parameters = 0.069\n",
       "26,1 | 25,13,7,27,28,19,8,5,14,24 <-> Student, parameters = 0.0827052\n",
       "  10.4819\n",
       "12,24 | 13,7,14,27,28,25,19,31,1,23 <-> Independence\n",
       "5,23 | 1,25,13,7,27,28,19,8,24,14 <-> Student, parameters = -0.138204\n",
       "  17.2918\n",
       "31,8 | 24,13,7,14,27,28,25,19,23,1 <-> Student, parameters = -0.00155062\n",
       "    8.60871\n",
       "** Tree: 11\n",
       "15,10 | 26,5,8,24,14,19,7,27,20,13,28 <-> Independence\n",
       "2,19 | 17,21,8,10,16,5,14,24,9,18,26 <-> Joe 90°, parameters = 1.03635\n",
       "32,28 | 25,19,31,1,23,12,29,22,3,4,11 <-> Frank, parameters = 0.436743\n",
       "18,28 | 19,17,21,8,10,16,5,14,24,9,26 <-> Independence\n",
       "17,27 | 28,19,8,10,9,26,24,16,21,14,5 <-> Independence\n",
       "11,30 | 28,25,19,31,1,23,12,29,22,3,4 <-> Student, parameters = -0.0717481\n",
       "   15.5554\n",
       "29,27 | 30,28,25,19,31,1,23,12,22,3,4 <-> Frank, parameters = 0.806976\n",
       "21,7 | 27,28,19,8,10,9,26,24,16,5,14 <-> Student, parameters = -0.0329508\n",
       "   14.0658\n",
       "6,14 | 27,28,25,30,3,22,12,31,19,1,23 <-> Independence\n",
       "4,14 | 27,30,28,25,19,31,1,23,12,22,3 <-> Joe 90°, parameters = 1.03203\n",
       "20,9 | 10,26,5,8,24,14,19,7,27,28,13 <-> Independence\n",
       "16,13 | 7,27,28,19,8,10,9,26,24,14,5 <-> Independence\n",
       "30,7 | 14,27,28,25,19,31,1,23,3,12,22 <-> Joe, parameters = 1.08534\n",
       "9,25 | 13,7,27,28,19,8,10,5,14,24,26 <-> Gaussian, parameters = 0.0647782\n",
       "3,13 | 7,14,27,28,25,19,31,1,23,12,22 <-> Frank, parameters = -0.631459\n",
       "10,1 | 25,13,7,27,28,19,8,26,24,14,5 <-> Student, parameters = -0.01315\n",
       " 11.6159\n",
       "22,24 | 13,7,14,27,28,25,19,31,1,23,12 <-> Joe 270°, parameters = 1.03274\n",
       "26,23 | 1,25,13,7,27,28,19,8,5,14,24 <-> Gumbel 270°, parameters = 1.05927\n",
       "12,8 | 24,13,7,14,27,28,25,19,31,1,23 <-> Gumbel 90°, parameters = 1.03419\n",
       "5,31 | 23,1,25,13,7,27,28,19,8,24,14 <-> Student, parameters = 0.0186484\n",
       "  13.5965\n",
       "** Tree: 12\n",
       "15,9 | 10,26,5,8,24,14,19,7,27,20,13,28 <-> Gumbel, parameters = 1.04039\n",
       "2,28 | 19,17,21,8,10,16,5,14,24,9,18,26 <-> Joe 180°, parameters = 1.06396\n",
       "32,30 | 28,25,19,31,1,23,12,29,22,3,4,11 <-> Joe 180°, parameters = 1.03648\n",
       "18,27 | 28,19,17,21,8,10,16,5,14,24,9,26 <-> Independence\n",
       "17,7 | 27,28,19,8,10,9,26,24,16,21,14,5 <-> Independence\n",
       "11,27 | 30,28,25,19,31,1,23,12,29,22,3,4 <-> Frank, parameters = -0.540185\n",
       "29,14 | 27,30,28,25,19,31,1,23,12,22,3,4 <-> Independence\n",
       "21,13 | 7,27,28,19,8,10,9,26,24,16,5,14 <-> Clayton 270°, parameters = 0.0593887\n",
       "6,7 | 14,27,28,25,30,3,22,12,31,19,1,23 <-> Independence\n",
       "4,7 | 14,27,30,28,25,19,31,1,23,12,22,3 <-> Student, parameters = 0.0881789\n",
       "  19.3128\n",
       "20,16 | 9,10,26,5,8,24,14,19,7,27,28,13 <-> Independence\n",
       "16,25 | 13,7,27,28,19,8,10,9,26,24,14,5 <-> Independence\n",
       "30,13 | 7,14,27,28,25,19,31,1,23,3,12,22 <-> Independence\n",
       "9,1 | 25,13,7,27,28,19,8,10,5,14,24,26 <-> Student, parameters = -0.0192685\n",
       "   12.8088\n",
       "3,24 | 13,7,14,27,28,25,19,31,1,23,12,22 <-> Frank, parameters = 0.954661\n",
       "10,23 | 1,25,13,7,27,28,19,8,26,24,14,5 <-> Student, parameters = -0.02579\n",
       " 17.0278\n",
       "22,8 | 24,13,7,14,27,28,25,19,31,1,23,12 <-> Joe 270°, parameters = 1.06313\n",
       "26,31 | 23,1,25,13,7,27,28,19,8,5,14,24 <-> Frank, parameters = -0.916579\n",
       "12,5 | 8,24,13,7,14,27,28,25,19,31,1,23 <-> Clayton 180°, parameters = 0.0808542\n",
       "** Tree: 13\n",
       "15,16 | 9,10,26,5,8,24,14,19,7,27,20,13,28 <-> Clayton 270°, parameters = 0.0738871\n",
       "2,27 | 28,19,17,21,8,10,16,5,14,24,9,18,26 <-> Frank, parameters = -0.654301\n",
       "32,27 | 30,28,25,19,31,1,23,12,29,22,3,4,11 <-> Joe 270°, parameters = 1.03166\n",
       "18,7 | 27,28,19,17,21,8,10,16,5,14,24,9,26 <-> Joe 180°, parameters = 1.02986\n",
       "17,13 | 7,27,28,19,8,10,9,26,24,16,21,14,5 <-> Student, parameters = -0.0449518\n",
       "   15.0041\n",
       "11,14 | 27,30,28,25,19,31,1,23,12,29,22,3,4 <-> Gumbel, parameters = 1.05982\n",
       "29,7 | 14,27,30,28,25,19,31,1,23,12,22,3,4 <-> Gumbel 180°, parameters = 1.02875\n",
       "21,25 | 13,7,27,28,19,8,10,9,26,24,16,5,14 <-> Independence\n",
       "6,13 | 7,14,27,28,25,30,3,22,12,31,19,1,23 <-> Frank, parameters = 0.311578\n",
       "4,13 | 7,14,27,30,28,25,19,31,1,23,12,22,3 <-> Joe 90°, parameters = 1.04262\n",
       "20,25 | 16,9,10,26,5,8,24,14,19,7,27,28,13 <-> Independence\n",
       "16,1 | 25,13,7,27,28,19,8,10,9,26,24,14,5 <-> Gumbel 180°, parameters = 1.05713\n",
       "30,24 | 13,7,14,27,28,25,19,31,1,23,3,12,22 <-> Joe 90°, parameters = 1.04379\n",
       "9,23 | 1,25,13,7,27,28,19,8,10,5,14,24,26 <-> Frank, parameters = 0.514023\n",
       "3,8 | 24,13,7,14,27,28,25,19,31,1,23,12,22 <-> Clayton 270°, parameters = 0.0650848\n",
       "10,31 | 23,1,25,13,7,27,28,19,8,26,24,14,5 <-> Student, parameters = -0.114233\n",
       "  7.56694\n",
       "22,5 | 8,24,13,7,14,27,28,25,19,31,1,23,12 <-> Joe, parameters = 1.07532\n",
       "26,12 | 31,23,1,25,13,7,27,28,19,8,5,14,24 <-> Independence\n",
       "** Tree: 14\n",
       "15,25 | 16,9,10,26,5,8,24,14,19,7,27,20,13,28 <-> Independence\n",
       "2,7 | 27,28,19,17,21,8,10,16,5,14,24,9,18,26 <-> Student, parameters = -0.0651002\n",
       "   9.94209\n",
       "32,14 | 27,30,28,25,19,31,1,23,12,29,22,3,4,11 <-> Independence\n",
       "18,13 | 7,27,28,19,17,21,8,10,16,5,14,24,9,26 <-> Gumbel, parameters = 1.02804\n",
       "17,25 | 13,7,27,28,19,8,10,9,26,24,16,21,14,5 <-> Independence\n",
       "11,7 | 14,27,30,28,25,19,31,1,23,12,29,22,3,4 <-> Independence\n",
       "29,13 | 7,14,27,30,28,25,19,31,1,23,12,22,3,4 <-> Independence\n",
       "21,1 | 25,13,7,27,28,19,8,10,9,26,24,16,5,14 <-> Gumbel 90°, parameters = 1.02784\n",
       "6,24 | 13,7,14,27,28,25,30,3,22,12,31,19,1,23 <-> Clayton 90°, parameters = 0.0511254\n",
       "4,24 | 13,7,14,27,30,28,25,19,31,1,23,12,22,3 <-> Gumbel 180°, parameters = 1.03374\n",
       "20,1 | 25,16,9,10,26,5,8,24,14,19,7,27,28,13 <-> Clayton 270°, parameters = 0.0773753\n",
       "16,23 | 1,25,13,7,27,28,19,8,10,9,26,24,14,5 <-> Clayton 270°, parameters = 0.133038\n",
       "30,8 | 24,13,7,14,27,28,25,19,31,1,23,3,12,22 <-> Joe 90°, parameters = 1.03096\n",
       "9,31 | 23,1,25,13,7,27,28,19,8,10,5,14,24,26 <-> Gumbel, parameters = 1.04825\n",
       "3,5 | 8,24,13,7,14,27,28,25,19,31,1,23,12,22 <-> Frank, parameters = -0.847175\n",
       "10,12 | 31,23,1,25,13,7,27,28,19,8,26,24,14,5 <-> Independence\n",
       "22,26 | 5,8,24,13,7,14,27,28,25,19,31,1,23,12 <-> Clayton 180°, parameters = 0.0742342\n",
       "** Tree: 15\n",
       "15,1 | 25,16,9,10,26,5,8,24,14,19,7,27,20,13,28 <-> Gaussian, parameters = 0.113624\n",
       "2,13 | 7,27,28,19,17,21,8,10,16,5,14,24,9,18,26 <-> Independence\n",
       "32,7 | 14,27,30,28,25,19,31,1,23,12,29,22,3,4,11 <-> Independence\n",
       "18,25 | 13,7,27,28,19,17,21,8,10,16,5,14,24,9,26 <-> Gumbel 90°, parameters = 1.02493\n",
       "17,1 | 25,13,7,27,28,19,8,10,9,26,24,16,21,14,5 <-> Independence\n",
       "11,13 | 7,14,27,30,28,25,19,31,1,23,12,29,22,3,4 <-> Independence\n",
       "29,24 | 13,7,14,27,30,28,25,19,31,1,23,12,22,3,4 <-> Clayton, parameters = 0.0576406\n",
       "21,23 | 1,25,13,7,27,28,19,8,10,9,26,24,16,5,14 <-> Joe, parameters = 1.0509\n",
       "6,8 | 24,13,7,14,27,28,25,30,3,22,12,31,19,1,23 <-> Student, parameters = 0.0443838\n",
       "  15.7646\n",
       "4,8 | 24,13,7,14,27,30,28,25,19,31,1,23,12,22,3 <-> Student, parameters = 0.00936196\n",
       "   14.6794\n",
       "20,23 | 1,25,16,9,10,26,5,8,24,14,19,7,27,28,13 <-> Independence\n",
       "16,31 | 23,1,25,13,7,27,28,19,8,10,9,26,24,14,5 <-> Independence\n",
       "30,5 | 8,24,13,7,14,27,28,25,19,31,1,23,3,12,22 <-> Clayton 180°, parameters = 0.139256\n",
       "9,12 | 31,23,1,25,13,7,27,28,19,8,10,5,14,24,26 <-> Clayton 90°, parameters = 0.0726897\n",
       "3,26 | 5,8,24,13,7,14,27,28,25,19,31,1,23,12,22 <-> Gumbel, parameters = 1.03052\n",
       "10,22 | 12,31,23,1,25,13,7,27,28,19,8,26,24,14,5 <-> TLL, parameters = [30x30 grid]\n",
       "** Tree: 16\n",
       "15,23 | 1,25,16,9,10,26,5,8,24,14,19,7,27,20,13,28 <-> Gaussian, parameters = -0.150385\n",
       "2,25 | 13,7,27,28,19,17,21,8,10,16,5,14,24,9,18,26 <-> BB8 270°, parameters =  1.11845\n",
       "0.971191\n",
       "32,13 | 7,14,27,30,28,25,19,31,1,23,12,29,22,3,4,11 <-> Independence\n",
       "18,1 | 25,13,7,27,28,19,17,21,8,10,16,5,14,24,9,26 <-> Student, parameters = 0.00681835\n",
       "   12.9334\n",
       "17,23 | 1,25,13,7,27,28,19,8,10,9,26,24,16,21,14,5 <-> Clayton 90°, parameters = 0.100261\n",
       "11,24 | 13,7,14,27,30,28,25,19,31,1,23,12,29,22,3,4 <-> Independence\n",
       "29,8 | 24,13,7,14,27,30,28,25,19,31,1,23,12,22,3,4 <-> Student, parameters = -0.0392498\n",
       "   13.6532\n",
       "21,31 | 23,1,25,13,7,27,28,19,8,10,9,26,24,16,5,14 <-> Clayton 270°, parameters = 0.071106\n",
       "6,5 | 8,24,13,7,14,27,28,25,30,3,22,12,31,19,1,23 <-> Student, parameters = -0.0189957\n",
       "   13.7574\n",
       "4,5 | 8,24,13,7,14,27,30,28,25,19,31,1,23,12,22,3 <-> Clayton, parameters = 0.0924929\n",
       "20,31 | 23,1,25,16,9,10,26,5,8,24,14,19,7,27,28,13 <-> Student, parameters = -0.0312154\n",
       "   14.8535\n",
       "16,12 | 31,23,1,25,13,7,27,28,19,8,10,9,26,24,14,5 <-> Clayton, parameters = 0.048923\n",
       "30,26 | 5,8,24,13,7,14,27,28,25,19,31,1,23,3,12,22 <-> Student, parameters = 0.0316747\n",
       "  12.7848\n",
       "9,22 | 12,31,23,1,25,13,7,27,28,19,8,10,5,14,24,26 <-> Clayton 270°, parameters = 0.116994\n",
       "3,10 | 26,5,8,24,13,7,14,27,28,25,19,31,1,23,12,22 <-> Clayton, parameters = 0.0780085\n",
       "** Tree: 17\n",
       "15,31 | 23,1,25,16,9,10,26,5,8,24,14,19,7,27,20,13,28 <-> Frank, parameters = -0.946108\n",
       "2,1 | 25,13,7,27,28,19,17,21,8,10,16,5,14,24,9,18,26 <-> Frank, parameters = 0.460272\n",
       "32,24 | 13,7,14,27,30,28,25,19,31,1,23,12,29,22,3,4,11 <-> Gumbel 90°, parameters = 1.04524\n",
       "18,23 | 1,25,13,7,27,28,19,17,21,8,10,16,5,14,24,9,26 <-> Student, parameters = -0.0356701\n",
       "   15.8293\n",
       "17,31 | 23,1,25,13,7,27,28,19,8,10,9,26,24,16,21,14,5 <-> Frank, parameters = -0.387948\n",
       "11,8 | 24,13,7,14,27,30,28,25,19,31,1,23,12,29,22,3,4 <-> Independence\n",
       "29,5 | 8,24,13,7,14,27,30,28,25,19,31,1,23,12,22,3,4 <-> Frank, parameters = -0.469426\n",
       "21,12 | 31,23,1,25,13,7,27,28,19,8,10,9,26,24,16,5,14 <-> Frank, parameters = -0.384386\n",
       "6,26 | 5,8,24,13,7,14,27,28,25,30,3,22,12,31,19,1,23 <-> Frank, parameters = 0.369032\n",
       "4,26 | 5,8,24,13,7,14,27,30,28,25,19,31,1,23,12,22,3 <-> Gumbel 180°, parameters = 1.0589\n",
       "20,12 | 31,23,1,25,16,9,10,26,5,8,24,14,19,7,27,28,13 <-> Independence\n",
       "16,22 | 12,31,23,1,25,13,7,27,28,19,8,10,9,26,24,14,5 <-> BB8 180°, parameters =  1.31516\n",
       "0.888683\n",
       "30,10 | 26,5,8,24,13,7,14,27,28,25,19,31,1,23,3,12,22 <-> BB8 90°, parameters =  1.26509\n",
       "0.910233\n",
       "9,3 | 22,12,31,23,1,25,13,7,27,28,19,8,10,5,14,24,26 <-> Independence\n",
       "** Tree: 18\n",
       "15,12 | 31,23,1,25,16,9,10,26,5,8,24,14,19,7,27,20,13,28 <-> Clayton, parameters = 0.0784727\n",
       "2,23 | 1,25,13,7,27,28,19,17,21,8,10,16,5,14,24,9,18,26 <-> Gaussian, parameters = -0.149068\n",
       "32,8 | 24,13,7,14,27,30,28,25,19,31,1,23,12,29,22,3,4,11 <-> Independence\n",
       "18,31 | 23,1,25,13,7,27,28,19,17,21,8,10,16,5,14,24,9,26 <-> Joe 270°, parameters = 1.05319\n",
       "17,12 | 31,23,1,25,13,7,27,28,19,8,10,9,26,24,16,21,14,5 <-> Independence\n",
       "11,5 | 8,24,13,7,14,27,30,28,25,19,31,1,23,12,29,22,3,4 <-> Independence\n",
       "29,26 | 5,8,24,13,7,14,27,30,28,25,19,31,1,23,12,22,3,4 <-> Clayton, parameters = 0.0604338\n",
       "21,22 | 12,31,23,1,25,13,7,27,28,19,8,10,9,26,24,16,5,14 <-> TLL, parameters = [30x30 grid]\n",
       "6,4 | 26,5,8,24,13,7,14,27,28,25,30,3,22,12,31,19,1,23 <-> Independence\n",
       "4,10 | 26,5,8,24,13,7,14,27,30,28,25,19,31,1,23,12,22,3 <-> Frank, parameters = 0.370891\n",
       "20,22 | 12,31,23,1,25,16,9,10,26,5,8,24,14,19,7,27,28,13 <-> Joe, parameters = 1.02424\n",
       "16,3 | 22,12,31,23,1,25,13,7,27,28,19,8,10,9,26,24,14,5 <-> BB8 90°, parameters =  1.47281\n",
       "0.817377\n",
       "30,9 | 10,26,5,8,24,13,7,14,27,28,25,19,31,1,23,3,12,22 <-> Independence\n",
       "** Tree: 19\n",
       "15,22 | 12,31,23,1,25,16,9,10,26,5,8,24,14,19,7,27,20,13,28 <-> Gumbel 180°, parameters = 1.03802\n",
       "2,31 | 23,1,25,13,7,27,28,19,17,21,8,10,16,5,14,24,9,18,26 <-> Student, parameters = 0.0164673\n",
       "  6.74462\n",
       "32,5 | 8,24,13,7,14,27,30,28,25,19,31,1,23,12,29,22,3,4,11 <-> Clayton 180°, parameters = 0.0693011\n",
       "18,12 | 31,23,1,25,13,7,27,28,19,17,21,8,10,16,5,14,24,9,26 <-> Independence\n",
       "17,22 | 12,31,23,1,25,13,7,27,28,19,8,10,9,26,24,16,21,14,5 <-> Clayton 180°, parameters = 0.0686001\n",
       "11,26 | 5,8,24,13,7,14,27,30,28,25,19,31,1,23,12,29,22,3,4 <-> Gaussian, parameters = -0.116751\n",
       "29,6 | 26,5,8,24,13,7,14,27,30,28,25,19,31,1,23,12,22,3,4 <-> Frank, parameters = 0.298117\n",
       "21,3 | 22,12,31,23,1,25,13,7,27,28,19,8,10,9,26,24,16,5,14 <-> Gaussian, parameters = -0.321382\n",
       "6,10 | 4,26,5,8,24,13,7,14,27,28,25,30,3,22,12,31,19,1,23 <-> Independence\n",
       "4,9 | 10,26,5,8,24,13,7,14,27,30,28,25,19,31,1,23,12,22,3 <-> Independence\n",
       "20,3 | 22,12,31,23,1,25,16,9,10,26,5,8,24,14,19,7,27,28,13 <-> Frank, parameters = 1.07582\n",
       "16,30 | 3,22,12,31,23,1,25,13,7,27,28,19,8,10,9,26,24,14,5 <-> Clayton, parameters = 0.0519185\n",
       "** Tree: 20\n",
       "15,3 | 22,12,31,23,1,25,16,9,10,26,5,8,24,14,19,7,27,20,13,28 <-> Independence\n",
       "2,12 | 31,23,1,25,13,7,27,28,19,17,21,8,10,16,5,14,24,9,18,26 <-> Clayton, parameters = 0.047811\n",
       "32,26 | 5,8,24,13,7,14,27,30,28,25,19,31,1,23,12,29,22,3,4,11 <-> Frank, parameters = -0.401967\n",
       "18,22 | 12,31,23,1,25,13,7,27,28,19,17,21,8,10,16,5,14,24,9,26 <-> Clayton 270°, parameters = 0.0603079\n",
       "17,3 | 22,12,31,23,1,25,13,7,27,28,19,8,10,9,26,24,16,21,14,5 <-> Joe 90°, parameters = 1.05171\n",
       "11,6 | 26,5,8,24,13,7,14,27,30,28,25,19,31,1,23,12,29,22,3,4 <-> Independence\n",
       "29,10 | 6,26,5,8,24,13,7,14,27,30,28,25,19,31,1,23,12,22,3,4 <-> Independence\n",
       "21,30 | 3,22,12,31,23,1,25,13,7,27,28,19,8,10,9,26,24,16,5,14 <-> Clayton, parameters = 0.143524\n",
       "6,9 | 10,4,26,5,8,24,13,7,14,27,28,25,30,3,22,12,31,19,1,23 <-> Independence\n",
       "4,16 | 9,10,26,5,8,24,13,7,14,27,30,28,25,19,31,1,23,12,22,3 <-> Independence\n",
       "20,30 | 3,22,12,31,23,1,25,16,9,10,26,5,8,24,14,19,7,27,28,13 <-> Student, parameters = -0.118014\n",
       "  11.3948\n",
       "** Tree: 21\n",
       "15,30 | 3,22,12,31,23,1,25,16,9,10,26,5,8,24,14,19,7,27,20,13,28 <-> Clayton 90°, parameters = 0.0761633\n",
       "2,22 | 12,31,23,1,25,13,7,27,28,19,17,21,8,10,16,5,14,24,9,18,26 <-> Joe, parameters = 1.05197\n",
       "32,6 | 26,5,8,24,13,7,14,27,30,28,25,19,31,1,23,12,29,22,3,4,11 <-> Clayton 180°, parameters = 0.0748195\n",
       "18,3 | 22,12,31,23,1,25,13,7,27,28,19,17,21,8,10,16,5,14,24,9,26 <-> Clayton 180°, parameters = 0.0628398\n",
       "17,30 | 3,22,12,31,23,1,25,13,7,27,28,19,8,10,9,26,24,16,21,14,5 <-> Clayton, parameters = 0.0588063\n",
       "11,10 | 6,26,5,8,24,13,7,14,27,30,28,25,19,31,1,23,12,29,22,3,4 <-> BB8, parameters =  1.20759\n",
       "0.869718\n",
       "29,9 | 10,6,26,5,8,24,13,7,14,27,30,28,25,19,31,1,23,12,22,3,4 <-> Gumbel 180°, parameters = 1.0389\n",
       "21,20 | 30,3,22,12,31,23,1,25,13,7,27,28,19,8,10,9,26,24,16,5,14 <-> Clayton, parameters = 0.0869551\n",
       "6,16 | 9,10,4,26,5,8,24,13,7,14,27,28,25,30,3,22,12,31,19,1,23 <-> Independence\n",
       "4,20 | 16,9,10,26,5,8,24,13,7,14,27,30,28,25,19,31,1,23,12,22,3 <-> Gumbel, parameters = 1.06602\n",
       "** Tree: 22\n",
       "15,4 | 30,3,22,12,31,23,1,25,16,9,10,26,5,8,24,14,19,7,27,20,13,28 <-> BB7 180°, parameters =  1.03705\n",
       "0.156875\n",
       "2,3 | 22,12,31,23,1,25,13,7,27,28,19,17,21,8,10,16,5,14,24,9,18,26 <-> Clayton, parameters = 0.0480903\n",
       "32,10 | 6,26,5,8,24,13,7,14,27,30,28,25,19,31,1,23,12,29,22,3,4,11 <-> Independence\n",
       "18,30 | 3,22,12,31,23,1,25,13,7,27,28,19,17,21,8,10,16,5,14,24,9,26 <-> Independence\n",
       "17,20 | 30,3,22,12,31,23,1,25,13,7,27,28,19,8,10,9,26,24,16,21,14,5 <-> Student, parameters = 0.0440125\n",
       "  12.1275\n",
       "11,9 | 10,6,26,5,8,24,13,7,14,27,30,28,25,19,31,1,23,12,29,22,3,4 <-> Clayton 270°, parameters = 0.0536428\n",
       "29,16 | 9,10,6,26,5,8,24,13,7,14,27,30,28,25,19,31,1,23,12,22,3,4 <-> Student, parameters = 0.037846\n",
       " 15.1511\n",
       "21,4 | 20,30,3,22,12,31,23,1,25,13,7,27,28,19,8,10,9,26,24,16,5,14 <-> Clayton 270°, parameters = 0.0557302\n",
       "6,20 | 16,9,10,4,26,5,8,24,13,7,14,27,28,25,30,3,22,12,31,19,1,23 <-> Independence\n",
       "** Tree: 23\n",
       "15,21 | 4,30,3,22,12,31,23,1,25,16,9,10,26,5,8,24,14,19,7,27,20,13,28 <-> Independence\n",
       "2,30 | 3,22,12,31,23,1,25,13,7,27,28,19,17,21,8,10,16,5,14,24,9,18,26 <-> Independence\n",
       "32,9 | 10,6,26,5,8,24,13,7,14,27,30,28,25,19,31,1,23,12,29,22,3,4,11 <-> Gumbel, parameters = 1.02294\n",
       "18,20 | 30,3,22,12,31,23,1,25,13,7,27,28,19,17,21,8,10,16,5,14,24,9,26 <-> Gaussian, parameters = 0.0593008\n",
       "17,4 | 20,30,3,22,12,31,23,1,25,13,7,27,28,19,8,10,9,26,24,16,21,14,5 <-> Clayton, parameters = 0.050278\n",
       "11,16 | 9,10,6,26,5,8,24,13,7,14,27,30,28,25,19,31,1,23,12,29,22,3,4 <-> Clayton 90°, parameters = 0.0976331\n",
       "29,20 | 16,9,10,6,26,5,8,24,13,7,14,27,30,28,25,19,31,1,23,12,22,3,4 <-> Independence\n",
       "21,6 | 4,20,30,3,22,12,31,23,1,25,13,7,27,28,19,8,10,9,26,24,16,5,14 <-> Joe 90°, parameters = 1.0238\n",
       "** Tree: 24\n",
       "15,17 | 21,4,30,3,22,12,31,23,1,25,16,9,10,26,5,8,24,14,19,7,27,20,13,28 <-> Independence\n",
       "2,20 | 30,3,22,12,31,23,1,25,13,7,27,28,19,17,21,8,10,16,5,14,24,9,18,26 <-> Independence\n",
       "32,16 | 9,10,6,26,5,8,24,13,7,14,27,30,28,25,19,31,1,23,12,29,22,3,4,11 <-> Independence\n",
       "18,4 | 20,30,3,22,12,31,23,1,25,13,7,27,28,19,17,21,8,10,16,5,14,24,9,26 <-> Independence\n",
       "17,6 | 4,20,30,3,22,12,31,23,1,25,13,7,27,28,19,8,10,9,26,24,16,21,14,5 <-> Frank, parameters = -0.28641\n",
       "11,20 | 16,9,10,6,26,5,8,24,13,7,14,27,30,28,25,19,31,1,23,12,29,22,3,4 <-> Frank, parameters = -0.543495\n",
       "29,21 | 20,16,9,10,6,26,5,8,24,13,7,14,27,30,28,25,19,31,1,23,12,22,3,4 <-> Independence\n",
       "** Tree: 25\n",
       "15,18 | 17,21,4,30,3,22,12,31,23,1,25,16,9,10,26,5,8,24,14,19,7,27,20,13,28 <-> Gumbel 270°, parameters = 1.05141\n",
       "2,4 | 20,30,3,22,12,31,23,1,25,13,7,27,28,19,17,21,8,10,16,5,14,24,9,18,26 <-> Clayton 180°, parameters = 0.108319\n",
       "32,20 | 16,9,10,6,26,5,8,24,13,7,14,27,30,28,25,19,31,1,23,12,29,22,3,4,11 <-> Independence\n",
       "18,6 | 4,20,30,3,22,12,31,23,1,25,13,7,27,28,19,17,21,8,10,16,5,14,24,9,26 <-> Frank, parameters = -0.382701\n",
       "17,29 | 6,4,20,30,3,22,12,31,23,1,25,13,7,27,28,19,8,10,9,26,24,16,21,14,5 <-> Independence\n",
       "11,21 | 20,16,9,10,6,26,5,8,24,13,7,14,27,30,28,25,19,31,1,23,12,29,22,3,4 <-> Frank, parameters = 0.490082\n",
       "** Tree: 26\n",
       "15,2 | 18,17,21,4,30,3,22,12,31,23,1,25,16,9,10,26,5,8,24,14,19,7,27,20,13,28 <-> Frank, parameters = -0.638727\n",
       "2,6 | 4,20,30,3,22,12,31,23,1,25,13,7,27,28,19,17,21,8,10,16,5,14,24,9,18,26 <-> Frank, parameters = -0.399582\n",
       "32,21 | 20,16,9,10,6,26,5,8,24,13,7,14,27,30,28,25,19,31,1,23,12,29,22,3,4,11 <-> Independence\n",
       "18,29 | 6,4,20,30,3,22,12,31,23,1,25,13,7,27,28,19,17,21,8,10,16,5,14,24,9,26 <-> Student, parameters = 0.0263798\n",
       "  12.7849\n",
       "17,11 | 29,6,4,20,30,3,22,12,31,23,1,25,13,7,27,28,19,8,10,9,26,24,16,21,14,5 <-> Independence\n",
       "** Tree: 27\n",
       "15,6 | 2,18,17,21,4,30,3,22,12,31,23,1,25,16,9,10,26,5,8,24,14,19,7,27,20,13,28 <-> Independence\n",
       "2,29 | 6,4,20,30,3,22,12,31,23,1,25,13,7,27,28,19,17,21,8,10,16,5,14,24,9,18,26 <-> Gumbel, parameters = 1.02906\n",
       "32,17 | 21,20,16,9,10,6,26,5,8,24,13,7,14,27,30,28,25,19,31,1,23,12,29,22,3,4,11 <-> Independence\n",
       "18,11 | 29,6,4,20,30,3,22,12,31,23,1,25,13,7,27,28,19,17,21,8,10,16,5,14,24,9,26 <-> Independence\n",
       "** Tree: 28\n",
       "15,29 | 6,2,18,17,21,4,30,3,22,12,31,23,1,25,16,9,10,26,5,8,24,14,19,7,27,20,13,28 <-> Gumbel, parameters = 1.03055\n",
       "2,11 | 29,6,4,20,30,3,22,12,31,23,1,25,13,7,27,28,19,17,21,8,10,16,5,14,24,9,18,26 <-> Independence\n",
       "32,18 | 17,21,20,16,9,10,6,26,5,8,24,13,7,14,27,30,28,25,19,31,1,23,12,29,22,3,4,11 <-> Independence\n",
       "** Tree: 29\n",
       "15,11 | 29,6,2,18,17,21,4,30,3,22,12,31,23,1,25,16,9,10,26,5,8,24,14,19,7,27,20,13,28 <-> Frank, parameters = -0.857688\n",
       "2,32 | 11,29,6,4,20,30,3,22,12,31,23,1,25,13,7,27,28,19,17,21,8,10,16,5,14,24,9,18,26 <-> Frank, parameters = 0.518376\n",
       "** Tree: 30\n",
       "15,32 | 11,29,6,2,18,17,21,4,30,3,22,12,31,23,1,25,16,9,10,26,5,8,24,14,19,7,27,20,13,28 <-> Clayton 270°, parameters = 0.0521506"
      ]
     },
     "execution_count": 12,
     "metadata": {},
     "output_type": "execute_result"
    }
   ],
   "source": [
    "# family_set=[\n",
    "#        pv.BicopFamily.indep,\n",
    "#        pv.BicopFamily.gaussian,\n",
    "#        pv.BicopFamily.clayton,\n",
    "#        pv.BicopFamily.gumbel,\n",
    "#        pv.BicopFamily.frank,\n",
    "#        pv.BicopFamily.joe,\n",
    "#    ],\n",
    "controls = pv.FitControlsVinecop(\n",
    "    num_threads=4,\n",
    ")\n",
    "vine = pv.Vinecop(data=u, controls=controls)\n",
    "vine"
   ]
  },
  {
   "cell_type": "markdown",
   "id": "27378c55",
   "metadata": {},
   "source": [
    "Sample from the copula"
   ]
  },
  {
   "cell_type": "code",
   "execution_count": 13,
   "id": "91de71e1",
   "metadata": {},
   "outputs": [],
   "source": [
    "u_sim = vine.simulate(n=100, seeds=[42])"
   ]
  },
  {
   "cell_type": "markdown",
   "id": "0f1fba53",
   "metadata": {},
   "source": [
    "Transform back simulations to the original scale"
   ]
  },
  {
   "cell_type": "code",
   "execution_count": 14,
   "id": "7b6e20aa",
   "metadata": {},
   "outputs": [
    {
     "data": {
      "text/plain": [
       "(100, 32)"
      ]
     },
     "execution_count": 14,
     "metadata": {},
     "output_type": "execute_result"
    }
   ],
   "source": [
    "x_sim = np.asarray([np.quantile(x[:, i], u_sim[:, i]) for i in range(0, 32)])\n",
    "x_sim = x_sim.transpose(1, 0)\n",
    "x_sim.shape"
   ]
  },
  {
   "cell_type": "code",
   "execution_count": 15,
   "id": "fcd47401",
   "metadata": {},
   "outputs": [
    {
     "data": {
      "text/plain": [
       "(4068, 32)"
      ]
     },
     "execution_count": 15,
     "metadata": {},
     "output_type": "execute_result"
    }
   ],
   "source": [
    "encodings = np.concatenate((x, x_sim), axis=0)\n",
    "encodings.shape"
   ]
  },
  {
   "cell_type": "code",
   "execution_count": 16,
   "id": "fbd9aab6",
   "metadata": {},
   "outputs": [
    {
     "data": {
      "text/plain": [
       "(4068, 2)"
      ]
     },
     "execution_count": 16,
     "metadata": {},
     "output_type": "execute_result"
    }
   ],
   "source": [
    "z_embedded = TSNE(n_components=2).fit_transform(encodings)\n",
    "z_embedded.shape"
   ]
  },
  {
   "cell_type": "markdown",
   "id": "b380cdb9",
   "metadata": {},
   "source": [
    "Plot embeddings (blue=original, red=sampled)"
   ]
  },
  {
   "cell_type": "code",
   "execution_count": 17,
   "id": "7dc1c356",
   "metadata": {},
   "outputs": [
    {
     "data": {
      "image/png": "[encoded data removed]",
      "text/plain": [
       "<Figure size 360x720 with 2 Axes>"
      ]
     },
     "metadata": {
      "needs_background": "light"
     },
     "output_type": "display_data"
    }
   ],
   "source": [
    "fig, ax = plt.subplots(2, figsize=(5, 10))\n",
    "ax[0].scatter(z_embedded[:3968, 0], z_embedded[:3968, 1], s=4)\n",
    "ax[1].scatter(z_embedded[3968:, 0], z_embedded[3968:, 1], s=4, c='red')\n",
    "plt.show()"
   ]
  },
  {
   "cell_type": "markdown",
   "id": "6567af42",
   "metadata": {},
   "source": [
    "Find closest original trajectories"
   ]
  },
  {
   "cell_type": "code",
   "execution_count": 18,
   "id": "2dea5c0c",
   "metadata": {},
   "outputs": [
    {
     "name": "stdout",
     "output_type": "stream",
     "text": [
      "X generated: (32, 100)\n",
      "X real: (32, 3968)\n"
     ]
    }
   ],
   "source": [
    "Xg = x_sim.T\n",
    "Xr = x.T\n",
    "print(f\"X generated: {Xg.shape}\")\n",
    "print(f\"X real: {Xr.shape}\")"
   ]
  },
  {
   "cell_type": "code",
   "execution_count": 19,
   "id": "ea2c27b8",
   "metadata": {},
   "outputs": [],
   "source": [
    "diff = (Xg[np.newaxis,...] - Xr[np.newaxis,...].T)\n",
    "D = np.sqrt((diff**2).sum(1)).T\n",
    "originals_idx = np.argmin(D, axis=1)"
   ]
  },
  {
   "cell_type": "code",
   "execution_count": 20,
   "id": "4b1615c7",
   "metadata": {},
   "outputs": [
    {
     "data": {
      "text/plain": [
       "torch.Size([100, 200, 4])"
      ]
     },
     "execution_count": 20,
     "metadata": {},
     "output_type": "execute_result"
    }
   ],
   "source": [
    "originals, _, info = dataset[originals_idx]\n",
    "originals = torch.transpose(originals, 1, 2)\n",
    "originals.size()"
   ]
  },
  {
   "cell_type": "code",
   "execution_count": 21,
   "id": "0a2c8ae3",
   "metadata": {},
   "outputs": [],
   "source": [
    "data = originals.detach().numpy()\n",
    "data = data.reshape((data.shape[0], -1))\n",
    "data = dataset.scaler.inverse_transform(data)"
   ]
  },
  {
   "cell_type": "code",
   "execution_count": 22,
   "id": "993e8dfb",
   "metadata": {},
   "outputs": [
    {
     "data": {
      "text/html": [
       "<b>Traffic with 100 identifiers</b><style  type=\"text/css\" >\n",
       "#T_71889_row0_col0,#T_71889_row1_col0,#T_71889_row2_col0,#T_71889_row3_col0,#T_71889_row4_col0,#T_71889_row5_col0,#T_71889_row6_col0,#T_71889_row7_col0,#T_71889_row8_col0,#T_71889_row9_col0{\n",
       "            width:  10em;\n",
       "             height:  80%;\n",
       "            background:  linear-gradient(90deg,#5fba7d 100.0%, transparent 100.0%);\n",
       "        }</style><table id=\"T_71889_\" ><thead>    <tr>        <th class=\"blank level0\" ></th>        <th class=\"col_heading level0 col0\" >count</th>    </tr>    <tr>        <th class=\"index_name level0\" >flight_id</th>        <th class=\"blank\" ></th>    </tr></thead><tbody>\n",
       "                <tr>\n",
       "                        <th id=\"T_71889_level0_row0\" class=\"row_heading level0 row0\" >0</th>\n",
       "                        <td id=\"T_71889_row0_col0\" class=\"data row0 col0\" >200</td>\n",
       "            </tr>\n",
       "            <tr>\n",
       "                        <th id=\"T_71889_level0_row1\" class=\"row_heading level0 row1\" >66</th>\n",
       "                        <td id=\"T_71889_row1_col0\" class=\"data row1 col0\" >200</td>\n",
       "            </tr>\n",
       "            <tr>\n",
       "                        <th id=\"T_71889_level0_row2\" class=\"row_heading level0 row2\" >75</th>\n",
       "                        <td id=\"T_71889_row2_col0\" class=\"data row2 col0\" >200</td>\n",
       "            </tr>\n",
       "            <tr>\n",
       "                        <th id=\"T_71889_level0_row3\" class=\"row_heading level0 row3\" >74</th>\n",
       "                        <td id=\"T_71889_row3_col0\" class=\"data row3 col0\" >200</td>\n",
       "            </tr>\n",
       "            <tr>\n",
       "                        <th id=\"T_71889_level0_row4\" class=\"row_heading level0 row4\" >73</th>\n",
       "                        <td id=\"T_71889_row4_col0\" class=\"data row4 col0\" >200</td>\n",
       "            </tr>\n",
       "            <tr>\n",
       "                        <th id=\"T_71889_level0_row5\" class=\"row_heading level0 row5\" >72</th>\n",
       "                        <td id=\"T_71889_row5_col0\" class=\"data row5 col0\" >200</td>\n",
       "            </tr>\n",
       "            <tr>\n",
       "                        <th id=\"T_71889_level0_row6\" class=\"row_heading level0 row6\" >71</th>\n",
       "                        <td id=\"T_71889_row6_col0\" class=\"data row6 col0\" >200</td>\n",
       "            </tr>\n",
       "            <tr>\n",
       "                        <th id=\"T_71889_level0_row7\" class=\"row_heading level0 row7\" >70</th>\n",
       "                        <td id=\"T_71889_row7_col0\" class=\"data row7 col0\" >200</td>\n",
       "            </tr>\n",
       "            <tr>\n",
       "                        <th id=\"T_71889_level0_row8\" class=\"row_heading level0 row8\" >7</th>\n",
       "                        <td id=\"T_71889_row8_col0\" class=\"data row8 col0\" >200</td>\n",
       "            </tr>\n",
       "            <tr>\n",
       "                        <th id=\"T_71889_level0_row9\" class=\"row_heading level0 row9\" >69</th>\n",
       "                        <td id=\"T_71889_row9_col0\" class=\"data row9 col0\" >200</td>\n",
       "            </tr>\n",
       "    </tbody></table>"
      ],
      "text/plain": [
       "           count\n",
       "flight_id       \n",
       "0            200\n",
       "66           200\n",
       "75           200\n",
       "74           200\n",
       "73           200\n",
       "72           200\n",
       "71           200\n",
       "70           200\n",
       "7            200\n",
       "69           200"
      ]
     },
     "execution_count": 22,
     "metadata": {},
     "output_type": "execute_result"
    }
   ],
   "source": [
    "data = np.concatenate((info, data), axis=1)\n",
    "builder = model.get_builder(data.shape[0])\n",
    "features = [\n",
    "    \"track\" if \"track\" in f else f for f in model.hparams.features\n",
    "]\n",
    "traffic_original = traffic_from_data(\n",
    "    data, features, model.hparams.init_features, builder=builder\n",
    ")\n",
    "traffic_original"
   ]
  },
  {
   "cell_type": "markdown",
   "id": "9eb024bd",
   "metadata": {},
   "source": [
    "Decode generated samples"
   ]
  },
  {
   "cell_type": "code",
   "execution_count": 23,
   "id": "fbd2f86d",
   "metadata": {},
   "outputs": [
    {
     "data": {
      "text/plain": [
       "torch.Size([100, 200, 4])"
      ]
     },
     "execution_count": 23,
     "metadata": {},
     "output_type": "execute_result"
    }
   ],
   "source": [
    "outputs = model.decoder(torch.Tensor(x_sim))\n",
    "outputs = torch.transpose(outputs, 1, 2)\n",
    "outputs.size()"
   ]
  },
  {
   "cell_type": "code",
   "execution_count": 24,
   "id": "fa59b95c",
   "metadata": {},
   "outputs": [],
   "source": [
    "data = outputs.detach().numpy()\n",
    "data = data.reshape((data.shape[0], -1))\n",
    "data = dataset.scaler.inverse_transform(data)"
   ]
  },
  {
   "cell_type": "code",
   "execution_count": 25,
   "id": "9a86c311",
   "metadata": {},
   "outputs": [
    {
     "data": {
      "text/html": [
       "<b>Traffic with 100 identifiers</b><style  type=\"text/css\" >\n",
       "#T_15484_row0_col0,#T_15484_row1_col0,#T_15484_row2_col0,#T_15484_row3_col0,#T_15484_row4_col0,#T_15484_row5_col0,#T_15484_row6_col0,#T_15484_row7_col0,#T_15484_row8_col0,#T_15484_row9_col0{\n",
       "            width:  10em;\n",
       "             height:  80%;\n",
       "            background:  linear-gradient(90deg,#5fba7d 100.0%, transparent 100.0%);\n",
       "        }</style><table id=\"T_15484_\" ><thead>    <tr>        <th class=\"blank level0\" ></th>        <th class=\"col_heading level0 col0\" >count</th>    </tr>    <tr>        <th class=\"index_name level0\" >flight_id</th>        <th class=\"blank\" ></th>    </tr></thead><tbody>\n",
       "                <tr>\n",
       "                        <th id=\"T_15484_level0_row0\" class=\"row_heading level0 row0\" >0</th>\n",
       "                        <td id=\"T_15484_row0_col0\" class=\"data row0 col0\" >200</td>\n",
       "            </tr>\n",
       "            <tr>\n",
       "                        <th id=\"T_15484_level0_row1\" class=\"row_heading level0 row1\" >66</th>\n",
       "                        <td id=\"T_15484_row1_col0\" class=\"data row1 col0\" >200</td>\n",
       "            </tr>\n",
       "            <tr>\n",
       "                        <th id=\"T_15484_level0_row2\" class=\"row_heading level0 row2\" >75</th>\n",
       "                        <td id=\"T_15484_row2_col0\" class=\"data row2 col0\" >200</td>\n",
       "            </tr>\n",
       "            <tr>\n",
       "                        <th id=\"T_15484_level0_row3\" class=\"row_heading level0 row3\" >74</th>\n",
       "                        <td id=\"T_15484_row3_col0\" class=\"data row3 col0\" >200</td>\n",
       "            </tr>\n",
       "            <tr>\n",
       "                        <th id=\"T_15484_level0_row4\" class=\"row_heading level0 row4\" >73</th>\n",
       "                        <td id=\"T_15484_row4_col0\" class=\"data row4 col0\" >200</td>\n",
       "            </tr>\n",
       "            <tr>\n",
       "                        <th id=\"T_15484_level0_row5\" class=\"row_heading level0 row5\" >72</th>\n",
       "                        <td id=\"T_15484_row5_col0\" class=\"data row5 col0\" >200</td>\n",
       "            </tr>\n",
       "            <tr>\n",
       "                        <th id=\"T_15484_level0_row6\" class=\"row_heading level0 row6\" >71</th>\n",
       "                        <td id=\"T_15484_row6_col0\" class=\"data row6 col0\" >200</td>\n",
       "            </tr>\n",
       "            <tr>\n",
       "                        <th id=\"T_15484_level0_row7\" class=\"row_heading level0 row7\" >70</th>\n",
       "                        <td id=\"T_15484_row7_col0\" class=\"data row7 col0\" >200</td>\n",
       "            </tr>\n",
       "            <tr>\n",
       "                        <th id=\"T_15484_level0_row8\" class=\"row_heading level0 row8\" >7</th>\n",
       "                        <td id=\"T_15484_row8_col0\" class=\"data row8 col0\" >200</td>\n",
       "            </tr>\n",
       "            <tr>\n",
       "                        <th id=\"T_15484_level0_row9\" class=\"row_heading level0 row9\" >69</th>\n",
       "                        <td id=\"T_15484_row9_col0\" class=\"data row9 col0\" >200</td>\n",
       "            </tr>\n",
       "    </tbody></table>"
      ],
      "text/plain": [
       "           count\n",
       "flight_id       \n",
       "0            200\n",
       "66           200\n",
       "75           200\n",
       "74           200\n",
       "73           200\n",
       "72           200\n",
       "71           200\n",
       "70           200\n",
       "7            200\n",
       "69           200"
      ]
     },
     "execution_count": 25,
     "metadata": {},
     "output_type": "execute_result"
    }
   ],
   "source": [
    "# add latitude longitude info\n",
    "# info = np.ones((20, 2)) * 40\n",
    "data = np.concatenate((info, data), axis=1)\n",
    "builder = model.get_builder(data.shape[0])\n",
    "features = [\n",
    "    \"track\" if \"track\" in f else f for f in model.hparams.features\n",
    "]\n",
    "traffic_generated = traffic_from_data(\n",
    "    data, features, model.hparams.init_features, builder=builder\n",
    ")\n",
    "traffic_generated"
   ]
  },
  {
   "cell_type": "code",
   "execution_count": 26,
   "id": "a560b3f5",
   "metadata": {},
   "outputs": [
    {
     "data": {
      "image/png": "[encoded data removed]",
      "text/plain": [
       "<Figure size 720x504 with 2 Axes>"
      ]
     },
     "metadata": {},
     "output_type": "display_data"
    }
   ],
   "source": [
    "flight_id = 0\n",
    "generated = traffic_generated[str(flight_id)]\n",
    "original = traffic_original[str(flight_id)]\n",
    "\n",
    "with plt.style.context(\"traffic\"):\n",
    "    fig, ax = plt.subplots(1, 2, subplot_kw=dict(projection=EuroPP()))\n",
    "    ax[0].set_title(\"Closest original\")\n",
    "    original.plot(ax[0])\n",
    "    ax[1].set_title(\"Generated\")\n",
    "    generated.plot(ax[1])\n",
    "\n",
    "    plt.show()"
   ]
  },
  {
   "cell_type": "code",
   "execution_count": 27,
   "id": "355647f6",
   "metadata": {},
   "outputs": [
    {
     "data": {
      "text/html": [
       "\n",
       "<div id=\"altair-viz-57c8788e63ca46eca737e8f668eb3ba6\"></div>\n",
       "<script type=\"text/javascript\">\n",
       "  (function(spec, embedOpt){\n",
       "    let outputDiv = document.currentScript.previousElementSibling;\n",
       "    if (outputDiv.id !== \"altair-viz-57c8788e63ca46eca737e8f668eb3ba6\") {\n",
       "      outputDiv = document.getElementById(\"altair-viz-57c8788e63ca46eca737e8f668eb3ba6\");\n",
       "    }\n",
       "    const paths = {\n",
       "      \"vega\": \"https://cdn.jsdelivr.net/npm//vega@5?noext\",\n",
       "      \"vega-lib\": \"https://cdn.jsdelivr.net/npm//vega-lib?noext\",\n",
       "      \"vega-lite\": \"https://cdn.jsdelivr.net/npm//vega-lite@4.8.1?noext\",\n",
       "      \"vega-embed\": \"https://cdn.jsdelivr.net/npm//vega-embed@6?noext\",\n",
       "    };\n",
       "\n",
       "    function loadScript(lib) {\n",
       "      return new Promise(function(resolve, reject) {\n",
       "        var s = document.createElement('script');\n",
       "        s.src = paths[lib];\n",
       "        s.async = true;\n",
       "        s.onload = () => resolve(paths[lib]);\n",
       "        s.onerror = () => reject(`Error loading script: ${paths[lib]}`);\n",
       "        document.getElementsByTagName(\"head\")[0].appendChild(s);\n",
       "      });\n",
       "    }\n",
       "\n",
       "    function showError(err) {\n",
       "      outputDiv.innerHTML = `<div class=\"error\" style=\"color:red;\">${err}</div>`;\n",
       "      throw err;\n",
       "    }\n",
       "\n",
       "    function displayChart(vegaEmbed) {\n",
       "      vegaEmbed(outputDiv, spec, embedOpt)\n",
       "        .catch(err => showError(`Javascript Error: ${err.message}<br>This usually means there's a typo in your chart specification. See the javascript console for the full traceback.`));\n",
       "    }\n",
       "\n",
       "    if(typeof define === \"function\" && define.amd) {\n",
       "      requirejs.config({paths});\n",
       "      require([\"vega-embed\"], displayChart, err => showError(`Error loading script: ${err.message}`));\n",
       "    } else if (typeof vegaEmbed === \"function\") {\n",
       "      displayChart(vegaEmbed);\n",
       "    } else {\n",
       "      loadScript(\"vega\")\n",
       "        .then(() => loadScript(\"vega-lite\"))\n",
       "        .then(() => loadScript(\"vega-embed\"))\n",
       "        .catch(showError)\n",
       "        .then(() => displayChart(vegaEmbed));\n",
       "    }\n",
       "  })({\"config\": {\"view\": {\"continuousWidth\": 400, \"continuousHeight\": 300}}, \"data\": {\"name\": \"data-b172d518a1eb91be17b91ceec2c387df\"}, \"mark\": \"line\", \"encoding\": {\"color\": {\"type\": \"nominal\", \"field\": \"flight_id\"}, \"x\": {\"type\": \"temporal\", \"field\": \"timestamp\"}, \"y\": {\"type\": \"quantitative\", \"field\": \"track\"}}, \"$schema\": \"https://vega.github.io/schema/vega-lite/v4.8.1.json\", \"datasets\": {\"data-b172d518a1eb91be17b91ceec2c387df\": [{\"track\": 205.9248504638672, \"groundspeed\": 347.435302734375, \"altitude\": 13971.4765625, \"timedelta\": 0.0004954636096954346, \"latitude\": 48.11883544921875, \"longitude\": 8.722389221191406, \"flight_id\": \"0\", \"callsign\": \"0\", \"icao24\": \"0\", \"timestamp\": \"2021-08-25T17:21:22.927562464\"}, {\"track\": 206.12164306640625, \"groundspeed\": 346.63275146484375, \"altitude\": 13906.6630859375, \"timedelta\": 3.6152327060699463, \"latitude\": 48.1136096097572, \"longitude\": 8.71859580691987, \"flight_id\": \"0\", \"callsign\": \"0\", \"icao24\": \"0\", \"timestamp\": \"2021-08-25T17:21:26.542299706\"}, {\"track\": 206.2209930419922, \"groundspeed\": 345.6598815917969, \"altitude\": 13814.5322265625, \"timedelta\": 7.3033246994018555, \"latitude\": 48.10829894445375, \"longitude\": 8.714707492913645, \"flight_id\": \"0\", \"callsign\": \"0\", \"icao24\": \"0\", \"timestamp\": \"2021-08-25T17:21:30.230391699\"}, {\"track\": 206.54269409179688, \"groundspeed\": 344.5446472167969, \"altitude\": 13736.2607421875, \"timedelta\": 10.933173179626465, \"latitude\": 48.103091251357185, \"longitude\": 8.710878222735714, \"flight_id\": \"0\", \"callsign\": \"0\", \"icao24\": \"0\", \"timestamp\": \"2021-08-25T17:21:33.860240180\"}, {\"track\": 206.39979553222656, \"groundspeed\": 343.8036193847656, \"altitude\": 13650.8173828125, \"timedelta\": 14.570606231689453, \"latitude\": 48.09790397362319, \"longitude\": 8.707010176848334, \"flight_id\": \"0\", \"callsign\": \"0\", \"icao24\": \"0\", \"timestamp\": \"2021-08-25T17:21:37.497673232\"}, {\"track\": 206.296142578125, \"groundspeed\": 342.79443359375, \"altitude\": 13568.328125, \"timedelta\": 18.228145599365234, \"latitude\": 48.09269276914659, \"longitude\": 8.703148895678973, \"flight_id\": \"0\", \"callsign\": \"0\", \"icao24\": \"0\", \"timestamp\": \"2021-08-25T17:21:41.155212599\"}, {\"track\": 205.95262145996094, \"groundspeed\": 341.67633056640625, \"altitude\": 13486.3916015625, \"timedelta\": 21.88363265991211, \"latitude\": 48.08749511755475, \"longitude\": 8.699315524192167, \"flight_id\": \"0\", \"callsign\": \"0\", \"icao24\": \"0\", \"timestamp\": \"2021-08-25T17:21:44.810699660\"}, {\"track\": 205.79859924316406, \"groundspeed\": 340.52789306640625, \"altitude\": 13407.8076171875, \"timedelta\": 25.505765914916992, \"latitude\": 48.082346571286486, \"longitude\": 8.695575896399172, \"flight_id\": \"0\", \"callsign\": \"0\", \"icao24\": \"0\", \"timestamp\": \"2021-08-25T17:21:48.432832915\"}, {\"track\": 205.2508087158203, \"groundspeed\": 339.2837829589844, \"altitude\": 13322.4482421875, \"timedelta\": 29.165666580200195, \"latitude\": 48.07715505900337, \"longitude\": 8.691831167460602, \"flight_id\": \"0\", \"callsign\": \"0\", \"icao24\": \"0\", \"timestamp\": \"2021-08-25T17:21:52.092733580\"}, {\"track\": 204.9040985107422, \"groundspeed\": 338.34796142578125, \"altitude\": 13242.33203125, \"timedelta\": 32.79640197753906, \"latitude\": 48.07200025156416, \"longitude\": 8.688203588962798, \"flight_id\": \"0\", \"callsign\": \"0\", \"icao24\": \"0\", \"timestamp\": \"2021-08-25T17:21:55.723468978\"}, {\"track\": 204.7906494140625, \"groundspeed\": 337.12109375, \"altitude\": 13171.0, \"timedelta\": 36.42643737792969, \"latitude\": 48.06684607600478, \"longitude\": 8.684633540490996, \"flight_id\": \"0\", \"callsign\": \"0\", \"icao24\": \"0\", \"timestamp\": \"2021-08-25T17:21:59.353504378\"}, {\"track\": 204.41880798339844, \"groundspeed\": 336.0883483886719, \"altitude\": 13094.8271484375, \"timedelta\": 40.068363189697266, \"latitude\": 48.061689038292876, \"longitude\": 8.68108036830726, \"flight_id\": \"0\", \"callsign\": \"0\", \"icao24\": \"0\", \"timestamp\": \"2021-08-25T17:22:02.995430190\"}, {\"track\": 203.99087524414062, \"groundspeed\": 334.72406005859375, \"altitude\": 13008.365234375, \"timedelta\": 43.73409652709961, \"latitude\": 48.05649878402888, \"longitude\": 8.677565451737227, \"flight_id\": \"0\", \"callsign\": \"0\", \"icao24\": \"0\", \"timestamp\": \"2021-08-25T17:22:06.661163527\"}, {\"track\": 203.7767791748047, \"groundspeed\": 333.1927185058594, \"altitude\": 12922.7392578125, \"timedelta\": 47.343177795410156, \"latitude\": 48.05139236846693, \"longitude\": 8.674176032537273, \"flight_id\": \"0\", \"callsign\": \"0\", \"icao24\": \"0\", \"timestamp\": \"2021-08-25T17:22:10.270244795\"}, {\"track\": 203.27627563476562, \"groundspeed\": 332.0989990234375, \"altitude\": 12856.369140625, \"timedelta\": 51.014034271240234, \"latitude\": 48.04621374425989, \"longitude\": 8.670773548341499, \"flight_id\": \"0\", \"callsign\": \"0\", \"icao24\": \"0\", \"timestamp\": \"2021-08-25T17:22:13.941101271\"}, {\"track\": 202.9096221923828, \"groundspeed\": 330.78118896484375, \"altitude\": 12775.587890625, \"timedelta\": 54.59775161743164, \"latitude\": 48.04115544418897, \"longitude\": 8.667528824966027, \"flight_id\": \"0\", \"callsign\": \"0\", \"icao24\": \"0\", \"timestamp\": \"2021-08-25T17:22:17.524818617\"}, {\"track\": 202.44468688964844, \"groundspeed\": 329.53057861328125, \"altitude\": 12709.109375, \"timedelta\": 58.298336029052734, \"latitude\": 48.03593869711426, \"longitude\": 8.664241629296184, \"flight_id\": \"0\", \"callsign\": \"0\", \"icao24\": \"0\", \"timestamp\": \"2021-08-25T17:22:21.225403029\"}, {\"track\": 202.3389434814453, \"groundspeed\": 327.94415283203125, \"altitude\": 12630.486328125, \"timedelta\": 61.88671875, \"latitude\": 48.03088213038232, \"longitude\": 8.661127534117037, \"flight_id\": \"0\", \"callsign\": \"0\", \"icao24\": \"0\", \"timestamp\": \"2021-08-25T17:22:24.813785750\"}, {\"track\": 202.1245574951172, \"groundspeed\": 326.5606384277344, \"altitude\": 12550.1279296875, \"timedelta\": 65.56456756591797, \"latitude\": 48.02572051458817, \"longitude\": 8.657965676077911, \"flight_id\": \"0\", \"callsign\": \"0\", \"icao24\": \"0\", \"timestamp\": \"2021-08-25T17:22:28.491634566\"}, {\"track\": 202.1534423828125, \"groundspeed\": 325.0809326171875, \"altitude\": 12474.775390625, \"timedelta\": 69.18350982666016, \"latitude\": 48.020655252543136, \"longitude\": 8.654896117729573, \"flight_id\": \"0\", \"callsign\": \"0\", \"icao24\": \"0\", \"timestamp\": \"2021-08-25T17:22:32.110576827\"}, {\"track\": 202.22239685058594, \"groundspeed\": 323.07818603515625, \"altitude\": 12394.998046875, \"timedelta\": 72.72911834716797, \"latitude\": 48.01571612889412, \"longitude\": 8.651898961984957, \"flight_id\": \"0\", \"callsign\": \"0\", \"icao24\": \"0\", \"timestamp\": \"2021-08-25T17:22:35.656185347\"}, {\"track\": 202.1377410888672, \"groundspeed\": 321.77001953125, \"altitude\": 12307.3515625, \"timedelta\": 76.50068664550781, \"latitude\": 48.01049716011545, \"longitude\": 8.648721397464485, \"flight_id\": \"0\", \"callsign\": \"0\", \"icao24\": \"0\", \"timestamp\": \"2021-08-25T17:22:39.427753646\"}, {\"track\": 201.92283630371094, \"groundspeed\": 320.38897705078125, \"altitude\": 12235.7568359375, \"timedelta\": 80.19661712646484, \"latitude\": 48.00540049246536, \"longitude\": 8.645631689937547, \"flight_id\": \"0\", \"callsign\": \"0\", \"icao24\": \"0\", \"timestamp\": \"2021-08-25T17:22:43.123684126\"}, {\"track\": 201.86602783203125, \"groundspeed\": 318.9461669921875, \"altitude\": 12141.8388671875, \"timedelta\": 83.77521514892578, \"latitude\": 48.00047934014575, \"longitude\": 8.642680674155061, \"flight_id\": \"0\", \"callsign\": \"0\", \"icao24\": \"0\", \"timestamp\": \"2021-08-25T17:22:46.702282149\"}, {\"track\": 201.55625915527344, \"groundspeed\": 317.73980712890625, \"altitude\": 12060.4951171875, \"timedelta\": 87.42507934570312, \"latitude\": 47.995480792252906, \"longitude\": 8.639692115962148, \"flight_id\": \"0\", \"callsign\": \"0\", \"icao24\": \"0\", \"timestamp\": \"2021-08-25T17:22:50.352146346\"}, {\"track\": 201.24757385253906, \"groundspeed\": 316.1715087890625, \"altitude\": 11979.2236328125, \"timedelta\": 91.074951171875, \"latitude\": 47.99049040651269, \"longitude\": 8.636755292292815, \"flight_id\": \"0\", \"callsign\": \"0\", \"icao24\": \"0\", \"timestamp\": \"2021-08-25T17:22:54.002018172\"}, {\"track\": 200.7526397705078, \"groundspeed\": 314.92803955078125, \"altitude\": 11897.37109375, \"timedelta\": 94.80034637451172, \"latitude\": 47.98541118191595, \"longitude\": 8.633813505424728, \"flight_id\": \"0\", \"callsign\": \"0\", \"icao24\": \"0\", \"timestamp\": \"2021-08-25T17:22:57.727413375\"}, {\"track\": 200.29022216796875, \"groundspeed\": 313.3821105957031, \"altitude\": 11814.4970703125, \"timedelta\": 98.3760986328125, \"latitude\": 47.98053902500539, \"longitude\": 8.631063835926838, \"flight_id\": \"0\", \"callsign\": \"0\", \"icao24\": \"0\", \"timestamp\": \"2021-08-25T17:23:01.303165633\"}, {\"track\": 199.74119567871094, \"groundspeed\": 311.9889831542969, \"altitude\": 11728.0830078125, \"timedelta\": 102.0711441040039, \"latitude\": 47.97551387772708, \"longitude\": 8.628296963663136, \"flight_id\": \"0\", \"callsign\": \"0\", \"icao24\": \"0\", \"timestamp\": \"2021-08-25T17:23:04.998211104\"}, {\"track\": 199.250732421875, \"groundspeed\": 310.56573486328125, \"altitude\": 11642.640625, \"timedelta\": 105.68345642089844, \"latitude\": 47.970605979974195, \"longitude\": 8.625674232504231, \"flight_id\": \"0\", \"callsign\": \"0\", \"icao24\": \"0\", \"timestamp\": \"2021-08-25T17:23:08.610523421\"}, {\"track\": 198.7542724609375, \"groundspeed\": 309.484375, \"altitude\": 11558.7275390625, \"timedelta\": 109.25839233398438, \"latitude\": 47.96575634463365, \"longitude\": 8.623152441705136, \"flight_id\": \"0\", \"callsign\": \"0\", \"icao24\": \"0\", \"timestamp\": \"2021-08-25T17:23:12.185459334\"}, {\"track\": 198.13812255859375, \"groundspeed\": 308.28692626953125, \"altitude\": 11477.2197265625, \"timedelta\": 112.97052001953125, \"latitude\": 47.960723132782306, \"longitude\": 8.620608080303237, \"flight_id\": \"0\", \"callsign\": \"0\", \"icao24\": \"0\", \"timestamp\": \"2021-08-25T17:23:15.897587020\"}, {\"track\": 197.27720642089844, \"groundspeed\": 306.86956787109375, \"altitude\": 11393.162109375, \"timedelta\": 116.7087631225586, \"latitude\": 47.955655976047844, \"longitude\": 8.618136958085854, \"flight_id\": \"0\", \"callsign\": \"0\", \"icao24\": \"0\", \"timestamp\": \"2021-08-25T17:23:19.635830123\"}, {\"track\": 196.83006286621094, \"groundspeed\": 305.5180969238281, \"altitude\": 11302.876953125, \"timedelta\": 120.2451400756836, \"latitude\": 47.950861539264494, \"longitude\": 8.615917221456554, \"flight_id\": \"0\", \"callsign\": \"0\", \"icao24\": \"0\", \"timestamp\": \"2021-08-25T17:23:23.172207076\"}, {\"track\": 196.07180786132812, \"groundspeed\": 304.0349426269531, \"altitude\": 11222.841796875, \"timedelta\": 123.87168884277344, \"latitude\": 47.945954769251614, \"longitude\": 8.613708052461638, \"flight_id\": \"0\", \"callsign\": \"0\", \"icao24\": \"0\", \"timestamp\": \"2021-08-25T17:23:26.798755843\"}, {\"track\": 195.43296813964844, \"groundspeed\": 302.77630615234375, \"altitude\": 11133.056640625, \"timedelta\": 127.49568176269531, \"latitude\": 47.941056153090344, \"longitude\": 8.611607660310966, \"flight_id\": \"0\", \"callsign\": \"0\", \"icao24\": \"0\", \"timestamp\": \"2021-08-25T17:23:30.422748763\"}, {\"track\": 194.61888122558594, \"groundspeed\": 301.0273742675781, \"altitude\": 11057.849609375, \"timedelta\": 131.21548461914062, \"latitude\": 47.93603306751689, \"longitude\": 8.609544086306515, \"flight_id\": \"0\", \"callsign\": \"0\", \"icao24\": \"0\", \"timestamp\": \"2021-08-25T17:23:34.142551619\"}, {\"track\": 194.1017303466797, \"groundspeed\": 299.3287353515625, \"altitude\": 10975.6669921875, \"timedelta\": 134.77706909179688, \"latitude\": 47.931233140479804, \"longitude\": 8.607681167522726, \"flight_id\": \"0\", \"callsign\": \"0\", \"icao24\": \"0\", \"timestamp\": \"2021-08-25T17:23:37.704136092\"}, {\"track\": 193.36903381347656, \"groundspeed\": 297.5954895019531, \"altitude\": 10904.70703125, \"timedelta\": 138.46713256835938, \"latitude\": 47.92627668123208, \"longitude\": 8.605828606275399, \"flight_id\": \"0\", \"callsign\": \"0\", \"icao24\": \"0\", \"timestamp\": \"2021-08-25T17:23:41.394199568\"}, {\"track\": 192.7443389892578, \"groundspeed\": 295.5455627441406, \"altitude\": 10820.0888671875, \"timedelta\": 142.1182403564453, \"latitude\": 47.921385677608086, \"longitude\": 8.604099293815931, \"flight_id\": \"0\", \"callsign\": \"0\", \"icao24\": \"0\", \"timestamp\": \"2021-08-25T17:23:45.045307356\"}, {\"track\": 192.24049377441406, \"groundspeed\": 293.8390808105469, \"altitude\": 10748.2666015625, \"timedelta\": 145.5867919921875, \"latitude\": 47.91675954651884, \"longitude\": 8.602542845858105, \"flight_id\": \"0\", \"callsign\": \"0\", \"icao24\": \"0\", \"timestamp\": \"2021-08-25T17:23:48.513858992\"}, {\"track\": 191.59523010253906, \"groundspeed\": 291.9433288574219, \"altitude\": 10678.3349609375, \"timedelta\": 149.43362426757812, \"latitude\": 47.911648560235506, \"longitude\": 8.600893574354215, \"flight_id\": \"0\", \"callsign\": \"0\", \"icao24\": \"0\", \"timestamp\": \"2021-08-25T17:23:52.360691268\"}, {\"track\": 191.2469024658203, \"groundspeed\": 289.6405944824219, \"altitude\": 10605.1376953125, \"timedelta\": 153.08010864257812, \"latitude\": 47.90682356010167, \"longitude\": 8.59942115195115, \"flight_id\": \"0\", \"callsign\": \"0\", \"icao24\": \"0\", \"timestamp\": \"2021-08-25T17:23:56.007175643\"}, {\"track\": 190.7212677001953, \"groundspeed\": 287.65740966796875, \"altitude\": 10544.9013671875, \"timedelta\": 156.62905883789062, \"latitude\": 47.90215892753101, \"longitude\": 8.598041691358485, \"flight_id\": \"0\", \"callsign\": \"0\", \"icao24\": \"0\", \"timestamp\": \"2021-08-25T17:23:59.556125838\"}, {\"track\": 190.38241577148438, \"groundspeed\": 285.27935791015625, \"altitude\": 10478.7607421875, \"timedelta\": 160.25648498535156, \"latitude\": 47.89741535146703, \"longitude\": 8.596706163708875, \"flight_id\": \"0\", \"callsign\": \"0\", \"icao24\": \"0\", \"timestamp\": \"2021-08-25T17:24:03.183551985\"}, {\"track\": 189.73687744140625, \"groundspeed\": 283.2091064453125, \"altitude\": 10420.91015625, \"timedelta\": 163.94483947753906, \"latitude\": 47.89262669755155, \"longitude\": 8.595401640031177, \"flight_id\": \"0\", \"callsign\": \"0\", \"icao24\": \"0\", \"timestamp\": \"2021-08-25T17:24:06.871906478\"}, {\"track\": 189.35043334960938, \"groundspeed\": 281.0342712402344, \"altitude\": 10356.078125, \"timedelta\": 167.49269104003906, \"latitude\": 47.88804473656313, \"longitude\": 8.594232701852114, \"flight_id\": \"0\", \"callsign\": \"0\", \"icao24\": \"0\", \"timestamp\": \"2021-08-25T17:24:10.419758040\"}, {\"track\": 188.95997619628906, \"groundspeed\": 278.7618408203125, \"altitude\": 10296.15625, \"timedelta\": 171.31753540039062, \"latitude\": 47.883137413607145, \"longitude\": 8.593031472541723, \"flight_id\": \"0\", \"callsign\": \"0\", \"icao24\": \"0\", \"timestamp\": \"2021-08-25T17:24:14.244602400\"}, {\"track\": 188.52981567382812, \"groundspeed\": 276.5078430175781, \"altitude\": 10233.5654296875, \"timedelta\": 174.9087371826172, \"latitude\": 47.878562088840184, \"longitude\": 8.591959161616789, \"flight_id\": \"0\", \"callsign\": \"0\", \"icao24\": \"0\", \"timestamp\": \"2021-08-25T17:24:17.835804183\"}, {\"track\": 188.3771514892578, \"groundspeed\": 274.4403991699219, \"altitude\": 10181.23046875, \"timedelta\": 178.5707244873047, \"latitude\": 47.873928953297934, \"longitude\": 8.590926323726958, \"flight_id\": \"0\", \"callsign\": \"0\", \"icao24\": \"0\", \"timestamp\": \"2021-08-25T17:24:21.497791487\"}, {\"track\": 187.83084106445312, \"groundspeed\": 271.73211669921875, \"altitude\": 10108.9462890625, \"timedelta\": 182.09649658203125, \"latitude\": 47.86949975309921, \"longitude\": 8.589956959730936, \"flight_id\": \"0\", \"callsign\": \"0\", \"icao24\": \"0\", \"timestamp\": \"2021-08-25T17:24:25.023563582\"}, {\"track\": 187.7802734375, \"groundspeed\": 269.7443542480469, \"altitude\": 10047.9296875, \"timedelta\": 185.74111938476562, \"latitude\": 47.86496026949712, \"longitude\": 8.589029173983704, \"flight_id\": \"0\", \"callsign\": \"0\", \"icao24\": \"0\", \"timestamp\": \"2021-08-25T17:24:28.668186385\"}, {\"track\": 187.7737579345703, \"groundspeed\": 267.3824157714844, \"altitude\": 10001.7275390625, \"timedelta\": 189.56578063964844, \"latitude\": 47.8602308133409, \"longitude\": 8.588068969081057, \"flight_id\": \"0\", \"callsign\": \"0\", \"icao24\": \"0\", \"timestamp\": \"2021-08-25T17:24:32.492847640\"}, {\"track\": 187.5585479736328, \"groundspeed\": 265.7241516113281, \"altitude\": 9951.251953125, \"timedelta\": 193.0433807373047, \"latitude\": 47.85596810702561, \"longitude\": 8.587204331975, \"flight_id\": \"0\", \"callsign\": \"0\", \"icao24\": \"0\", \"timestamp\": \"2021-08-25T17:24:35.970447737\"}, {\"track\": 187.89817810058594, \"groundspeed\": 263.5130615234375, \"altitude\": 9898.76953125, \"timedelta\": 196.93238830566406, \"latitude\": 47.85122827850587, \"longitude\": 8.586269934236794, \"flight_id\": \"0\", \"callsign\": \"0\", \"icao24\": \"0\", \"timestamp\": \"2021-08-25T17:24:39.859455306\"}, {\"track\": 188.1748504638672, \"groundspeed\": 261.8718566894531, \"altitude\": 9846.2255859375, \"timedelta\": 200.40298461914062, \"latitude\": 47.84703696595982, \"longitude\": 8.585406148750305, \"flight_id\": \"0\", \"callsign\": \"0\", \"icao24\": \"0\", \"timestamp\": \"2021-08-25T17:24:43.330051619\"}, {\"track\": 188.46652221679688, \"groundspeed\": 259.43206787109375, \"altitude\": 9786.859375, \"timedelta\": 204.2010498046875, \"latitude\": 47.84248185091842, \"longitude\": 8.584434145747505, \"flight_id\": \"0\", \"callsign\": \"0\", \"icao24\": \"0\", \"timestamp\": \"2021-08-25T17:24:47.128116805\"}, {\"track\": 189.36175537109375, \"groundspeed\": 256.75885009765625, \"altitude\": 9725.67578125, \"timedelta\": 207.80355834960938, \"latitude\": 47.83820470824069, \"longitude\": 8.583488502417763, \"flight_id\": \"0\", \"callsign\": \"0\", \"icao24\": \"0\", \"timestamp\": \"2021-08-25T17:24:50.730625350\"}, {\"track\": 190.3801727294922, \"groundspeed\": 254.59767150878906, \"altitude\": 9668.59765625, \"timedelta\": 211.42581176757812, \"latitude\": 47.83395885106121, \"longitude\": 8.58244890000453, \"flight_id\": \"0\", \"callsign\": \"0\", \"icao24\": \"0\", \"timestamp\": \"2021-08-25T17:24:54.352878768\"}, {\"track\": 191.76622009277344, \"groundspeed\": 252.76760864257812, \"altitude\": 9615.3671875, \"timedelta\": 214.92543029785156, \"latitude\": 47.82990382751358, \"longitude\": 8.581345818973004, \"flight_id\": \"0\", \"callsign\": \"0\", \"icao24\": \"0\", \"timestamp\": \"2021-08-25T17:24:57.852497298\"}, {\"track\": 193.36338806152344, \"groundspeed\": 251.57920837402344, \"altitude\": 9553.4228515625, \"timedelta\": 218.5437469482422, \"latitude\": 47.82576106049007, \"longitude\": 8.580064434149294, \"flight_id\": \"0\", \"callsign\": \"0\", \"icao24\": \"0\", \"timestamp\": \"2021-08-25T17:25:01.470813948\"}, {\"track\": 195.83213806152344, \"groundspeed\": 249.45849609375, \"altitude\": 9506.703125, \"timedelta\": 221.98252868652344, \"latitude\": 47.821866630730405, \"longitude\": 8.578690739412849, \"flight_id\": \"0\", \"callsign\": \"0\", \"icao24\": \"0\", \"timestamp\": \"2021-08-25T17:25:04.909595687\"}, {\"track\": 198.6626434326172, \"groundspeed\": 247.5714874267578, \"altitude\": 9447.873046875, \"timedelta\": 225.80715942382812, \"latitude\": 47.81761966447824, \"longitude\": 8.576902646484848, \"flight_id\": \"0\", \"callsign\": \"0\", \"icao24\": \"0\", \"timestamp\": \"2021-08-25T17:25:08.734226424\"}, {\"track\": 201.68470764160156, \"groundspeed\": 245.6260528564453, \"altitude\": 9387.3916015625, \"timedelta\": 229.56787109375, \"latitude\": 47.81353834889233, \"longitude\": 8.57485617128355, \"flight_id\": \"0\", \"callsign\": \"0\", \"icao24\": \"0\", \"timestamp\": \"2021-08-25T17:25:12.494938094\"}, {\"track\": 204.9722137451172, \"groundspeed\": 243.85496520996094, \"altitude\": 9329.70703125, \"timedelta\": 233.49990844726562, \"latitude\": 47.80938589921921, \"longitude\": 8.572405062288539, \"flight_id\": \"0\", \"callsign\": \"0\", \"icao24\": \"0\", \"timestamp\": \"2021-08-25T17:25:16.426975447\"}, {\"track\": 208.75204467773438, \"groundspeed\": 242.16558837890625, \"altitude\": 9257.001953125, \"timedelta\": 236.77691650390625, \"latitude\": 47.806034145486706, \"longitude\": 8.570088013995077, \"flight_id\": \"0\", \"callsign\": \"0\", \"icao24\": \"0\", \"timestamp\": \"2021-08-25T17:25:19.703983504\"}, {\"track\": 212.3315887451172, \"groundspeed\": 240.5738525390625, \"altitude\": 9197.076171875, \"timedelta\": 240.77493286132812, \"latitude\": 47.80210675553091, \"longitude\": 8.566889729576697, \"flight_id\": \"0\", \"callsign\": \"0\", \"icao24\": \"0\", \"timestamp\": \"2021-08-25T17:25:23.701999861\"}, {\"track\": 216.27037048339844, \"groundspeed\": 239.467529296875, \"altitude\": 9135.603515625, \"timedelta\": 244.11822509765625, \"latitude\": 47.79896223501019, \"longitude\": 8.56393580289632, \"flight_id\": \"0\", \"callsign\": \"0\", \"icao24\": \"0\", \"timestamp\": \"2021-08-25T17:25:27.045292098\"}, {\"track\": 221.03680419921875, \"groundspeed\": 238.07815551757812, \"altitude\": 9074.5966796875, \"timedelta\": 248.07725524902344, \"latitude\": 47.795425589356654, \"longitude\": 8.560084548946778, \"flight_id\": \"0\", \"callsign\": \"0\", \"icao24\": \"0\", \"timestamp\": \"2021-08-25T17:25:31.004322249\"}, {\"track\": 225.51959228515625, \"groundspeed\": 238.06333923339844, \"altitude\": 9007.107421875, \"timedelta\": 251.5821075439453, \"latitude\": 47.79251337877967, \"longitude\": 8.556322972809298, \"flight_id\": \"0\", \"callsign\": \"0\", \"icao24\": \"0\", \"timestamp\": \"2021-08-25T17:25:34.509174544\"}, {\"track\": 229.2186279296875, \"groundspeed\": 236.02505493164062, \"altitude\": 8944.8671875, \"timedelta\": 254.78733825683594, \"latitude\": 47.79003960269005, \"longitude\": 8.552585000785834, \"flight_id\": \"0\", \"callsign\": \"0\", \"icao24\": \"0\", \"timestamp\": \"2021-08-25T17:25:37.714405257\"}, {\"track\": 233.52899169921875, \"groundspeed\": 235.22702026367188, \"altitude\": 8868.890625, \"timedelta\": 258.5828552246094, \"latitude\": 47.787332150267034, \"longitude\": 8.5479278784621, \"flight_id\": \"0\", \"callsign\": \"0\", \"icao24\": \"0\", \"timestamp\": \"2021-08-25T17:25:41.509922225\"}, {\"track\": 237.7186737060547, \"groundspeed\": 234.7041473388672, \"altitude\": 8798.1806640625, \"timedelta\": 262.531494140625, \"latitude\": 47.78477749553211, \"longitude\": 8.542800110985896, \"flight_id\": \"0\", \"callsign\": \"0\", \"icao24\": \"0\", \"timestamp\": \"2021-08-25T17:25:45.458561141\"}, {\"track\": 239.00686645507812, \"groundspeed\": 234.02833557128906, \"altitude\": 8735.296875, \"timedelta\": 265.8787841796875, \"latitude\": 47.78283604634624, \"longitude\": 8.538240464311116, \"flight_id\": \"0\", \"callsign\": \"0\", \"icao24\": \"0\", \"timestamp\": \"2021-08-25T17:25:48.805851180\"}, {\"track\": 241.5683135986328, \"groundspeed\": 234.08668518066406, \"altitude\": 8665.91015625, \"timedelta\": 269.9212646484375, \"latitude\": 47.78058189473622, \"longitude\": 8.532673341620063, \"flight_id\": \"0\", \"callsign\": \"0\", \"icao24\": \"0\", \"timestamp\": \"2021-08-25T17:25:52.848331648\"}, {\"track\": 244.09266662597656, \"groundspeed\": 233.85987854003906, \"altitude\": 8605.099609375, \"timedelta\": 273.39666748046875, \"latitude\": 47.77878962524219, \"longitude\": 8.527762412232928, \"flight_id\": \"0\", \"callsign\": \"0\", \"icao24\": \"0\", \"timestamp\": \"2021-08-25T17:25:56.323734480\"}, {\"track\": 246.0092010498047, \"groundspeed\": 234.1265106201172, \"altitude\": 8555.248046875, \"timedelta\": 276.8734130859375, \"latitude\": 47.777145841062634, \"longitude\": 8.522742228450669, \"flight_id\": \"0\", \"callsign\": \"0\", \"icao24\": \"0\", \"timestamp\": \"2021-08-25T17:25:59.800480086\"}, {\"track\": 247.6929168701172, \"groundspeed\": 233.26174926757812, \"altitude\": 8468.8017578125, \"timedelta\": 280.70574951171875, \"latitude\": 47.775457754282016, \"longitude\": 8.517115573132003, \"flight_id\": \"0\", \"callsign\": \"0\", \"icao24\": \"0\", \"timestamp\": \"2021-08-25T17:26:03.632816512\"}, {\"track\": 248.67811584472656, \"groundspeed\": 233.581298828125, \"altitude\": 8415.5947265625, \"timedelta\": 284.18475341796875, \"latitude\": 47.77403242671534, \"longitude\": 8.511962342749744, \"flight_id\": \"0\", \"callsign\": \"0\", \"icao24\": \"0\", \"timestamp\": \"2021-08-25T17:26:07.111820418\"}, {\"track\": 249.92166137695312, \"groundspeed\": 233.2730255126953, \"altitude\": 8350.091796875, \"timedelta\": 287.64874267578125, \"latitude\": 47.772671067303186, \"longitude\": 8.506788972047692, \"flight_id\": \"0\", \"callsign\": \"0\", \"icao24\": \"0\", \"timestamp\": \"2021-08-25T17:26:10.575809676\"}, {\"track\": 251.11807250976562, \"groundspeed\": 234.03561401367188, \"altitude\": 8290.0087890625, \"timedelta\": 291.2160949707031, \"latitude\": 47.771349101694945, \"longitude\": 8.501424580839673, \"flight_id\": \"0\", \"callsign\": \"0\", \"icao24\": \"0\", \"timestamp\": \"2021-08-25T17:26:14.143161971\"}, {\"track\": 251.4045867919922, \"groundspeed\": 233.7097930908203, \"altitude\": 8219.453125, \"timedelta\": 294.70721435546875, \"latitude\": 47.77012557614818, \"longitude\": 8.496118738529999, \"flight_id\": \"0\", \"callsign\": \"0\", \"icao24\": \"0\", \"timestamp\": \"2021-08-25T17:26:17.634281355\"}, {\"track\": 252.49684143066406, \"groundspeed\": 233.74769592285156, \"altitude\": 8164.69921875, \"timedelta\": 298.6541442871094, \"latitude\": 47.76876442220973, \"longitude\": 8.490118488357467, \"flight_id\": \"0\", \"callsign\": \"0\", \"icao24\": \"0\", \"timestamp\": \"2021-08-25T17:26:21.581211287\"}, {\"track\": 252.91302490234375, \"groundspeed\": 233.8269805908203, \"altitude\": 8093.71875, \"timedelta\": 302.3886413574219, \"latitude\": 47.76754953171437, \"longitude\": 8.484405011179419, \"flight_id\": \"0\", \"callsign\": \"0\", \"icao24\": \"0\", \"timestamp\": \"2021-08-25T17:26:25.315708357\"}, {\"track\": 253.1290283203125, \"groundspeed\": 234.4787139892578, \"altitude\": 8026.62060546875, \"timedelta\": 306.0430603027344, \"latitude\": 47.76638771114267, \"longitude\": 8.478799612908691, \"flight_id\": \"0\", \"callsign\": \"0\", \"icao24\": \"0\", \"timestamp\": \"2021-08-25T17:26:28.970127303\"}, {\"track\": 252.45602416992188, \"groundspeed\": 234.40286254882812, \"altitude\": 7954.30322265625, \"timedelta\": 309.8161926269531, \"latitude\": 47.76519955938684, \"longitude\": 8.47298943977191, \"flight_id\": \"0\", \"callsign\": \"0\", \"icao24\": \"0\", \"timestamp\": \"2021-08-25T17:26:32.743259627\"}, {\"track\": 251.04922485351562, \"groundspeed\": 235.3038330078125, \"altitude\": 7876.9287109375, \"timedelta\": 313.2464599609375, \"latitude\": 47.76407799426566, \"longitude\": 8.467728233946444, \"flight_id\": \"0\", \"callsign\": \"0\", \"icao24\": \"0\", \"timestamp\": \"2021-08-25T17:26:36.173526961\"}, {\"track\": 249.86322021484375, \"groundspeed\": 235.3411865234375, \"altitude\": 7794.5458984375, \"timedelta\": 317.0396423339844, \"latitude\": 47.76273669315469, \"longitude\": 8.461935280031778, \"flight_id\": \"0\", \"callsign\": \"0\", \"icao24\": \"0\", \"timestamp\": \"2021-08-25T17:26:39.966709334\"}, {\"track\": 247.4792938232422, \"groundspeed\": 235.8131561279297, \"altitude\": 7707.24658203125, \"timedelta\": 320.66534423828125, \"latitude\": 47.76137740594875, \"longitude\": 8.456437913409028, \"flight_id\": \"0\", \"callsign\": \"0\", \"icao24\": \"0\", \"timestamp\": \"2021-08-25T17:26:43.592411238\"}, {\"track\": 245.9388885498047, \"groundspeed\": 236.326416015625, \"altitude\": 7634.5234375, \"timedelta\": 324.31781005859375, \"latitude\": 47.75985089788927, \"longitude\": 8.450978456936339, \"flight_id\": \"0\", \"callsign\": \"0\", \"icao24\": \"0\", \"timestamp\": \"2021-08-25T17:26:47.244877059\"}, {\"track\": 242.16502380371094, \"groundspeed\": 236.765625, \"altitude\": 7534.0107421875, \"timedelta\": 328.15625, \"latitude\": 47.758139525006236, \"longitude\": 8.445294885657106, \"flight_id\": \"0\", \"callsign\": \"0\", \"icao24\": \"0\", \"timestamp\": \"2021-08-25T17:26:51.083317\"}, {\"track\": 239.0352020263672, \"groundspeed\": 237.18856811523438, \"altitude\": 7432.92333984375, \"timedelta\": 331.4813232421875, \"latitude\": 47.756438605664165, \"longitude\": 8.440518117521364, \"flight_id\": \"0\", \"callsign\": \"0\", \"icao24\": \"0\", \"timestamp\": \"2021-08-25T17:26:54.408390242\"}, {\"track\": 235.54986572265625, \"groundspeed\": 237.72055053710938, \"altitude\": 7352.4423828125, \"timedelta\": 335.59991455078125, \"latitude\": 47.754112902211496, \"longitude\": 8.434770796017235, \"flight_id\": \"0\", \"callsign\": \"0\", \"icao24\": \"0\", \"timestamp\": \"2021-08-25T17:26:58.526981551\"}, {\"track\": 231.71002197265625, \"groundspeed\": 237.6833953857422, \"altitude\": 7253.79833984375, \"timedelta\": 338.8569641113281, \"latitude\": 47.75208626156673, \"longitude\": 8.430390286088254, \"flight_id\": \"0\", \"callsign\": \"0\", \"icao24\": \"0\", \"timestamp\": \"2021-08-25T17:27:01.784031111\"}, {\"track\": 227.51412963867188, \"groundspeed\": 238.25595092773438, \"altitude\": 7154.5205078125, \"timedelta\": 342.61749267578125, \"latitude\": 47.74952357272209, \"longitude\": 8.425577321673016, \"flight_id\": \"0\", \"callsign\": \"0\", \"icao24\": \"0\", \"timestamp\": \"2021-08-25T17:27:05.544559676\"}, {\"track\": 223.79698181152344, \"groundspeed\": 238.1736297607422, \"altitude\": 7056.65673828125, \"timedelta\": 346.3403625488281, \"latitude\": 47.74675157845089, \"longitude\": 8.421090006938803, \"flight_id\": \"0\", \"callsign\": \"0\", \"icao24\": \"0\", \"timestamp\": \"2021-08-25T17:27:09.267429549\"}, {\"track\": 219.6681671142578, \"groundspeed\": 238.20858764648438, \"altitude\": 6961.81298828125, \"timedelta\": 350.26922607421875, \"latitude\": 47.74362637529258, \"longitude\": 8.416647351133598, \"flight_id\": \"0\", \"callsign\": \"0\", \"icao24\": \"0\", \"timestamp\": \"2021-08-25T17:27:13.196293074\"}, {\"track\": 216.3738555908203, \"groundspeed\": 238.2250213623047, \"altitude\": 6860.330078125, \"timedelta\": 353.56378173828125, \"latitude\": 47.74083122352092, \"longitude\": 8.413211034439309, \"flight_id\": \"0\", \"callsign\": \"0\", \"icao24\": \"0\", \"timestamp\": \"2021-08-25T17:27:16.490848738\"}, {\"track\": 213.01319885253906, \"groundspeed\": 238.21649169921875, \"altitude\": 6762.51220703125, \"timedelta\": 357.30908203125, \"latitude\": 47.73750725106706, \"longitude\": 8.409581711932342, \"flight_id\": \"0\", \"callsign\": \"0\", \"icao24\": \"0\", \"timestamp\": \"2021-08-25T17:27:20.236149031\"}, {\"track\": 210.01365661621094, \"groundspeed\": 238.1374969482422, \"altitude\": 6682.77099609375, \"timedelta\": 360.90875244140625, \"latitude\": 47.73418020864663, \"longitude\": 8.406377444440798, \"flight_id\": \"0\", \"callsign\": \"0\", \"icao24\": \"0\", \"timestamp\": \"2021-08-25T17:27:23.835819441\"}, {\"track\": 206.87942504882812, \"groundspeed\": 238.29974365234375, \"altitude\": 6598.1806640625, \"timedelta\": 363.7832336425781, \"latitude\": 47.731437664146014, \"longitude\": 8.404029190058829, \"flight_id\": \"0\", \"callsign\": \"0\", \"icao24\": \"0\", \"timestamp\": \"2021-08-25T17:27:26.710300643\"}, {\"track\": 204.67462158203125, \"groundspeed\": 237.5157470703125, \"altitude\": 6491.62841796875, \"timedelta\": 367.8404235839844, \"latitude\": 47.727447502559286, \"longitude\": 8.401031596950666, \"flight_id\": \"0\", \"callsign\": \"0\", \"icao24\": \"0\", \"timestamp\": \"2021-08-25T17:27:30.767490584\"}, {\"track\": 202.65066528320312, \"groundspeed\": 237.0465545654297, \"altitude\": 6412.86572265625, \"timedelta\": 371.7503356933594, \"latitude\": 47.72354293950436, \"longitude\": 8.398373186074258, \"flight_id\": \"0\", \"callsign\": \"0\", \"icao24\": \"0\", \"timestamp\": \"2021-08-25T17:27:34.677402693\"}, {\"track\": 200.06460571289062, \"groundspeed\": 236.63829040527344, \"altitude\": 6329.2724609375, \"timedelta\": 375.0224609375, \"latitude\": 47.72023087256309, \"longitude\": 8.396325018047753, \"flight_id\": \"0\", \"callsign\": \"0\", \"icao24\": \"0\", \"timestamp\": \"2021-08-25T17:27:37.949527938\"}, {\"track\": 197.55848693847656, \"groundspeed\": 235.85586547851562, \"altitude\": 6252.4033203125, \"timedelta\": 379.0774841308594, \"latitude\": 47.716060442569315, \"longitude\": 8.39406790156883, \"flight_id\": \"0\", \"callsign\": \"0\", \"icao24\": \"0\", \"timestamp\": \"2021-08-25T17:27:42.004551131\"}, {\"track\": 195.73175048828125, \"groundspeed\": 235.26763916015625, \"altitude\": 6177.306640625, \"timedelta\": 382.6917724609375, \"latitude\": 47.712299959025685, \"longitude\": 8.392304852522228, \"flight_id\": \"0\", \"callsign\": \"0\", \"icao24\": \"0\", \"timestamp\": \"2021-08-25T17:27:45.618839461\"}, {\"track\": 193.71875, \"groundspeed\": 234.38897705078125, \"altitude\": 6108.4453125, \"timedelta\": 386.5157775878906, \"latitude\": 47.708293183535, \"longitude\": 8.390632681256404, \"flight_id\": \"0\", \"callsign\": \"0\", \"icao24\": \"0\", \"timestamp\": \"2021-08-25T17:27:49.442844587\"}, {\"track\": 192.33103942871094, \"groundspeed\": 233.25967407226562, \"altitude\": 6050.19384765625, \"timedelta\": 390.0843200683594, \"latitude\": 47.704533486691915, \"longitude\": 8.389272967990284, \"flight_id\": \"0\", \"callsign\": \"0\", \"icao24\": \"0\", \"timestamp\": \"2021-08-25T17:27:53.011387068\"}, {\"track\": 190.99269104003906, \"groundspeed\": 232.1941680908203, \"altitude\": 5997.5244140625, \"timedelta\": 393.5815124511719, \"latitude\": 47.70084611072131, \"longitude\": 8.388078889637239, \"flight_id\": \"0\", \"callsign\": \"0\", \"icao24\": \"0\", \"timestamp\": \"2021-08-25T17:27:56.508579451\"}, {\"track\": 190.92828369140625, \"groundspeed\": 231.0922393798828, \"altitude\": 5937.931640625, \"timedelta\": 397.2940979003906, \"latitude\": 47.696930675445714, \"longitude\": 8.386952306111501, \"flight_id\": \"0\", \"callsign\": \"0\", \"icao24\": \"0\", \"timestamp\": \"2021-08-25T17:28:00.221164900\"}, {\"track\": 189.66046142578125, \"groundspeed\": 230.25759887695312, \"altitude\": 5890.73193359375, \"timedelta\": 400.9576110839844, \"latitude\": 47.693084489664066, \"longitude\": 8.385852373724399, \"flight_id\": \"0\", \"callsign\": \"0\", \"icao24\": \"0\", \"timestamp\": \"2021-08-25T17:28:03.884678084\"}, {\"track\": 190.01629638671875, \"groundspeed\": 227.98411560058594, \"altitude\": 5838.44921875, \"timedelta\": 404.4640808105469, \"latitude\": 47.68940170108729, \"longitude\": 8.384923922721336, \"flight_id\": \"0\", \"callsign\": \"0\", \"icao24\": \"0\", \"timestamp\": \"2021-08-25T17:28:07.391147811\"}, {\"track\": 190.3524932861328, \"groundspeed\": 226.60804748535156, \"altitude\": 5788.2333984375, \"timedelta\": 408.00457763671875, \"latitude\": 47.68572385055087, \"longitude\": 8.383961938843436, \"flight_id\": \"0\", \"callsign\": \"0\", \"icao24\": \"0\", \"timestamp\": \"2021-08-25T17:28:10.931644637\"}, {\"track\": 190.6976318359375, \"groundspeed\": 225.05526733398438, \"altitude\": 5747.76416015625, \"timedelta\": 412.1324768066406, \"latitude\": 47.681466176763735, \"longitude\": 8.382810198364725, \"flight_id\": \"0\", \"callsign\": \"0\", \"icao24\": \"0\", \"timestamp\": \"2021-08-25T17:28:15.059543807\"}, {\"track\": 190.77903747558594, \"groundspeed\": 223.35546875, \"altitude\": 5708.00244140625, \"timedelta\": 415.5009765625, \"latitude\": 47.67801944283612, \"longitude\": 8.381846082169975, \"flight_id\": \"0\", \"callsign\": \"0\", \"icao24\": \"0\", \"timestamp\": \"2021-08-25T17:28:18.428043561\"}, {\"track\": 190.33169555664062, \"groundspeed\": 221.32330322265625, \"altitude\": 5668.22119140625, \"timedelta\": 419.2174377441406, \"latitude\": 47.674246400860255, \"longitude\": 8.380782545838136, \"flight_id\": \"0\", \"callsign\": \"0\", \"icao24\": \"0\", \"timestamp\": \"2021-08-25T17:28:22.144504744\"}, {\"track\": 189.3836212158203, \"groundspeed\": 219.6172332763672, \"altitude\": 5634.7509765625, \"timedelta\": 422.6932678222656, \"latitude\": 47.67074466673208, \"longitude\": 8.379837434238626, \"flight_id\": \"0\", \"callsign\": \"0\", \"icao24\": \"0\", \"timestamp\": \"2021-08-25T17:28:25.620334822\"}, {\"track\": 187.9697265625, \"groundspeed\": 218.3927459716797, \"altitude\": 5590.24658203125, \"timedelta\": 426.510009765625, \"latitude\": 47.66691813254426, \"longitude\": 8.378901303296374, \"flight_id\": \"0\", \"callsign\": \"0\", \"icao24\": \"0\", \"timestamp\": \"2021-08-25T17:28:29.437076766\"}, {\"track\": 185.712890625, \"groundspeed\": 216.02650451660156, \"altitude\": 5552.57080078125, \"timedelta\": 430.0491027832031, \"latitude\": 47.663376427560856, \"longitude\": 8.378167308337975, \"flight_id\": \"0\", \"callsign\": \"0\", \"icao24\": \"0\", \"timestamp\": \"2021-08-25T17:28:32.976169783\"}, {\"track\": 183.3899688720703, \"groundspeed\": 214.7906494140625, \"altitude\": 5522.32568359375, \"timedelta\": 433.6020202636719, \"latitude\": 47.659842749055954, \"longitude\": 8.377644045733044, \"flight_id\": \"0\", \"callsign\": \"0\", \"icao24\": \"0\", \"timestamp\": \"2021-08-25T17:28:36.529087264\"}, {\"track\": 179.77105712890625, \"groundspeed\": 213.3233642578125, \"altitude\": 5475.6328125, \"timedelta\": 437.3801574707031, \"latitude\": 47.65609448632417, \"longitude\": 8.377315424342694, \"flight_id\": \"0\", \"callsign\": \"0\", \"icao24\": \"0\", \"timestamp\": \"2021-08-25T17:28:40.307224471\"}, {\"track\": 175.9853057861328, \"groundspeed\": 211.62547302246094, \"altitude\": 5443.07763671875, \"timedelta\": 440.2917785644531, \"latitude\": 47.653220613501134, \"longitude\": 8.377332419917858, \"flight_id\": \"0\", \"callsign\": \"0\", \"icao24\": \"0\", \"timestamp\": \"2021-08-25T17:28:43.218845564\"}, {\"track\": 171.88177490234375, \"groundspeed\": 210.3143310546875, \"altitude\": 5416.294921875, \"timedelta\": 444.4981689453125, \"latitude\": 47.649111874450284, \"longitude\": 8.377759173404879, \"flight_id\": \"0\", \"callsign\": \"0\", \"icao24\": \"0\", \"timestamp\": \"2021-08-25T17:28:47.425235945\"}, {\"track\": 167.2371826171875, \"groundspeed\": 209.09982299804688, \"altitude\": 5375.2568359375, \"timedelta\": 448.2715148925781, \"latitude\": 47.64547674498264, \"longitude\": 8.378526490337388, \"flight_id\": \"0\", \"callsign\": \"0\", \"icao24\": \"0\", \"timestamp\": \"2021-08-25T17:28:51.198581893\"}, {\"track\": 162.53713989257812, \"groundspeed\": 207.92140197753906, \"altitude\": 5341.08203125, \"timedelta\": 451.9327087402344, \"latitude\": 47.642022042344415, \"longitude\": 8.379684385240354, \"flight_id\": \"0\", \"callsign\": \"0\", \"icao24\": \"0\", \"timestamp\": \"2021-08-25T17:28:54.859775740\"}, {\"track\": 157.9475555419922, \"groundspeed\": 207.07135009765625, \"altitude\": 5293.220703125, \"timedelta\": 455.4581604003906, \"latitude\": 47.63878668543852, \"longitude\": 8.38119030363141, \"flight_id\": \"0\", \"callsign\": \"0\", \"icao24\": \"0\", \"timestamp\": \"2021-08-25T17:28:58.385227400\"}, {\"track\": 153.3074188232422, \"groundspeed\": 206.187255859375, \"altitude\": 5260.0771484375, \"timedelta\": 459.0322265625, \"latitude\": 47.63561281749035, \"longitude\": 8.383092493771333, \"flight_id\": \"0\", \"callsign\": \"0\", \"icao24\": \"0\", \"timestamp\": \"2021-08-25T17:29:01.959293562\"}, {\"track\": 149.12379455566406, \"groundspeed\": 205.16319274902344, \"altitude\": 5213.412109375, \"timedelta\": 462.6946105957031, \"latitude\": 47.63249113595361, \"longitude\": 8.385414461109427, \"flight_id\": \"0\", \"callsign\": \"0\", \"icao24\": \"0\", \"timestamp\": \"2021-08-25T17:29:05.621677596\"}, {\"track\": 145.62107849121094, \"groundspeed\": 204.7259063720703, \"altitude\": 5179.39013671875, \"timedelta\": 466.7113952636719, \"latitude\": 47.62921840456521, \"longitude\": 8.388309218039923, \"flight_id\": \"0\", \"callsign\": \"0\", \"icao24\": \"0\", \"timestamp\": \"2021-08-25T17:29:09.638462264\"}, {\"track\": 142.76544189453125, \"groundspeed\": 204.405029296875, \"altitude\": 5137.6708984375, \"timedelta\": 470.1418762207031, \"latitude\": 47.62653642340283, \"longitude\": 8.391023503173807, \"flight_id\": \"0\", \"callsign\": \"0\", \"icao24\": \"0\", \"timestamp\": \"2021-08-25T17:29:13.068943221\"}, {\"track\": 140.0274658203125, \"groundspeed\": 203.93292236328125, \"altitude\": 5095.16552734375, \"timedelta\": 473.5338134765625, \"latitude\": 47.62398226054071, \"longitude\": 8.39389473800583, \"flight_id\": \"0\", \"callsign\": \"0\", \"icao24\": \"0\", \"timestamp\": \"2021-08-25T17:29:16.460880477\"}, {\"track\": 137.60330200195312, \"groundspeed\": 203.75514221191406, \"altitude\": 5051.80419921875, \"timedelta\": 476.9725341796875, \"latitude\": 47.621495579186394, \"longitude\": 8.396977924516934, \"flight_id\": \"0\", \"callsign\": \"0\", \"icao24\": \"0\", \"timestamp\": \"2021-08-25T17:29:19.899601180\"}, {\"track\": 136.6150360107422, \"groundspeed\": 203.3781280517578, \"altitude\": 5016.36865234375, \"timedelta\": 480.9195556640625, \"latitude\": 47.618747463814785, \"longitude\": 8.400688821638038, \"flight_id\": \"0\", \"callsign\": \"0\", \"icao24\": \"0\", \"timestamp\": \"2021-08-25T17:29:23.846622664\"}, {\"track\": 136.6553955078125, \"groundspeed\": 202.8610382080078, \"altitude\": 4966.87939453125, \"timedelta\": 484.9992980957031, \"latitude\": 47.61595726050158, \"longitude\": 8.404588950491599, \"flight_id\": \"0\", \"callsign\": \"0\", \"icao24\": \"0\", \"timestamp\": \"2021-08-25T17:29:27.926365096\"}, {\"track\": 136.3579864501953, \"groundspeed\": 202.6287078857422, \"altitude\": 4922.994140625, \"timedelta\": 489.0097961425781, \"latitude\": 47.61321956730112, \"longitude\": 8.408410085574825, \"flight_id\": \"0\", \"callsign\": \"0\", \"icao24\": \"0\", \"timestamp\": \"2021-08-25T17:29:31.936863143\"}, {\"track\": 136.45484924316406, \"groundspeed\": 202.06106567382812, \"altitude\": 4869.59912109375, \"timedelta\": 491.30078125, \"latitude\": 47.611665147965525, \"longitude\": 8.410602294393895, \"flight_id\": \"0\", \"callsign\": \"0\", \"icao24\": \"0\", \"timestamp\": \"2021-08-25T17:29:34.227848250\"}, {\"track\": 137.07017517089844, \"groundspeed\": 202.22909545898438, \"altitude\": 4824.3056640625, \"timedelta\": 496.206787109375, \"latitude\": 47.60834037971018, \"longitude\": 8.41527502382264, \"flight_id\": \"0\", \"callsign\": \"0\", \"icao24\": \"0\", \"timestamp\": \"2021-08-25T17:29:39.133854109\"}, {\"track\": 137.25177001953125, \"groundspeed\": 202.1371612548828, \"altitude\": 4778.2958984375, \"timedelta\": 499.1895446777344, \"latitude\": 47.60629679306772, \"longitude\": 8.418085916474082, \"flight_id\": \"0\", \"callsign\": \"0\", \"icao24\": \"0\", \"timestamp\": \"2021-08-25T17:29:42.116611678\"}, {\"track\": 137.67147827148438, \"groundspeed\": 201.3082275390625, \"altitude\": 4729.46630859375, \"timedelta\": 503.1580505371094, \"latitude\": 47.60357105887589, \"longitude\": 8.421811110175073, \"flight_id\": \"0\", \"callsign\": \"0\", \"icao24\": \"0\", \"timestamp\": \"2021-08-25T17:29:46.085117537\"}, {\"track\": 136.99578857421875, \"groundspeed\": 201.7654571533203, \"altitude\": 4688.22119140625, \"timedelta\": 506.89849853515625, \"latitude\": 47.600995248154405, \"longitude\": 8.425279854524163, \"flight_id\": \"0\", \"callsign\": \"0\", \"icao24\": \"0\", \"timestamp\": \"2021-08-25T17:29:49.825565535\"}, {\"track\": 136.4199981689453, \"groundspeed\": 201.80178833007812, \"altitude\": 4640.42578125, \"timedelta\": 510.1121826171875, \"latitude\": 47.598801142747284, \"longitude\": 8.428305207415095, \"flight_id\": \"0\", \"callsign\": \"0\", \"icao24\": \"0\", \"timestamp\": \"2021-08-25T17:29:53.039249617\"}, {\"track\": 135.91717529296875, \"groundspeed\": 200.83912658691406, \"altitude\": 4587.06298828125, \"timedelta\": 513.4535522460938, \"latitude\": 47.59654094756746, \"longitude\": 8.431484932456398, \"flight_id\": \"0\", \"callsign\": \"0\", \"icao24\": \"0\", \"timestamp\": \"2021-08-25T17:29:56.380619246\"}, {\"track\": 135.1219940185547, \"groundspeed\": 201.54515075683594, \"altitude\": 4551.5126953125, \"timedelta\": 517.6124877929688, \"latitude\": 47.593764621607136, \"longitude\": 8.435459754737746, \"flight_id\": \"0\", \"callsign\": \"0\", \"icao24\": \"0\", \"timestamp\": \"2021-08-25T17:30:00.539554793\"}, {\"track\": 134.197998046875, \"groundspeed\": 201.20309448242188, \"altitude\": 4503.44970703125, \"timedelta\": 520.9320068359375, \"latitude\": 47.591570974797165, \"longitude\": 8.438688654131214, \"flight_id\": \"0\", \"callsign\": \"0\", \"icao24\": \"0\", \"timestamp\": \"2021-08-25T17:30:03.859073836\"}, {\"track\": 133.07652282714844, \"groundspeed\": 200.91348266601562, \"altitude\": 4454.71484375, \"timedelta\": 524.994384765625, \"latitude\": 47.58893434537582, \"longitude\": 8.442696596795567, \"flight_id\": \"0\", \"callsign\": \"0\", \"icao24\": \"0\", \"timestamp\": \"2021-08-25T17:30:07.921451766\"}, {\"track\": 132.88363647460938, \"groundspeed\": 201.07632446289062, \"altitude\": 4412.25390625, \"timedelta\": 528.3568725585938, \"latitude\": 47.586799398222404, \"longitude\": 8.446071526581303, \"flight_id\": \"0\", \"callsign\": \"0\", \"icao24\": \"0\", \"timestamp\": \"2021-08-25T17:30:11.283939559\"}, {\"track\": 132.94129943847656, \"groundspeed\": 200.92831420898438, \"altitude\": 4365.2705078125, \"timedelta\": 532.2317504882812, \"latitude\": 47.584345993629036, \"longitude\": 8.449975942288447, \"flight_id\": \"0\", \"callsign\": \"0\", \"icao24\": \"0\", \"timestamp\": \"2021-08-25T17:30:15.158817488\"}, {\"track\": 132.696044921875, \"groundspeed\": 200.87132263183594, \"altitude\": 4313.482421875, \"timedelta\": 535.935791015625, \"latitude\": 47.5819999456406, \"longitude\": 8.45370181712767, \"flight_id\": \"0\", \"callsign\": \"0\", \"icao24\": \"0\", \"timestamp\": \"2021-08-25T17:30:18.862858016\"}, {\"track\": 133.24786376953125, \"groundspeed\": 199.8740692138672, \"altitude\": 4270.08203125, \"timedelta\": 539.6786499023438, \"latitude\": 47.57964090415127, \"longitude\": 8.457480459710641, \"flight_id\": \"0\", \"callsign\": \"0\", \"icao24\": \"0\", \"timestamp\": \"2021-08-25T17:30:22.605716902\"}, {\"track\": 133.65647888183594, \"groundspeed\": 199.91537475585938, \"altitude\": 4219.9775390625, \"timedelta\": 542.4664306640625, \"latitude\": 47.57787439421048, \"longitude\": 8.460255812486755, \"flight_id\": \"0\", \"callsign\": \"0\", \"icao24\": \"0\", \"timestamp\": \"2021-08-25T17:30:25.393497664\"}, {\"track\": 133.9858856201172, \"groundspeed\": 199.26760864257812, \"altitude\": 4167.2333984375, \"timedelta\": 546.6674194335938, \"latitude\": 47.57519169379864, \"longitude\": 8.464410557760065, \"flight_id\": \"0\", \"callsign\": \"0\", \"icao24\": \"0\", \"timestamp\": \"2021-08-25T17:30:29.594486434\"}, {\"track\": 134.61521911621094, \"groundspeed\": 198.7926483154297, \"altitude\": 4102.2783203125, \"timedelta\": 549.82568359375, \"latitude\": 47.57316933392558, \"longitude\": 8.467506686395115, \"flight_id\": \"0\", \"callsign\": \"0\", \"icao24\": \"0\", \"timestamp\": \"2021-08-25T17:30:32.752750594\"}, {\"track\": 135.4108123779297, \"groundspeed\": 197.99697875976562, \"altitude\": 4049.3115234375, \"timedelta\": 553.5181274414062, \"latitude\": 47.57078384710354, \"longitude\": 8.471079192390913, \"flight_id\": \"0\", \"callsign\": \"0\", \"icao24\": \"0\", \"timestamp\": \"2021-08-25T17:30:36.445194440\"}, {\"track\": 135.82008361816406, \"groundspeed\": 197.24742126464844, \"altitude\": 3984.537109375, \"timedelta\": 557.4676513671875, \"latitude\": 47.5682069654749, \"longitude\": 8.474832440965573, \"flight_id\": \"0\", \"callsign\": \"0\", \"icao24\": \"0\", \"timestamp\": \"2021-08-25T17:30:40.394718367\"}, {\"track\": 136.08973693847656, \"groundspeed\": 196.938720703125, \"altitude\": 3931.47998046875, \"timedelta\": 561.1468505859375, \"latitude\": 47.56579877176455, \"longitude\": 8.478290076416487, \"flight_id\": \"0\", \"callsign\": \"0\", \"icao24\": \"0\", \"timestamp\": \"2021-08-25T17:30:44.073917586\"}, {\"track\": 136.30584716796875, \"groundspeed\": 196.01068115234375, \"altitude\": 3878.34326171875, \"timedelta\": 564.7182006835938, \"latitude\": 47.563454181175274, \"longitude\": 8.481624689896295, \"flight_id\": \"0\", \"callsign\": \"0\", \"icao24\": \"0\", \"timestamp\": \"2021-08-25T17:30:47.645267684\"}, {\"track\": 136.45468139648438, \"groundspeed\": 194.82347106933594, \"altitude\": 3809.547607421875, \"timedelta\": 568.6949462890625, \"latitude\": 47.56084632874525, \"longitude\": 8.485305639313875, \"flight_id\": \"0\", \"callsign\": \"0\", \"icao24\": \"0\", \"timestamp\": \"2021-08-25T17:30:51.622013289\"}, {\"track\": 136.65489196777344, \"groundspeed\": 193.7427520751953, \"altitude\": 3745.70263671875, \"timedelta\": 572.123779296875, \"latitude\": 47.55860587020929, \"longitude\": 8.488451486415709, \"flight_id\": \"0\", \"callsign\": \"0\", \"icao24\": \"0\", \"timestamp\": \"2021-08-25T17:30:55.050846297\"}, {\"track\": 136.89755249023438, \"groundspeed\": 192.20431518554688, \"altitude\": 3682.051025390625, \"timedelta\": 575.7469482421875, \"latitude\": 47.556243754812314, \"longitude\": 8.491744868845869, \"flight_id\": \"0\", \"callsign\": \"0\", \"icao24\": \"0\", \"timestamp\": \"2021-08-25T17:30:58.674015242\"}, {\"track\": 136.9600830078125, \"groundspeed\": 190.9071502685547, \"altitude\": 3619.8125, \"timedelta\": 579.2340698242188, \"latitude\": 47.5539793936744, \"longitude\": 8.494875144608827, \"flight_id\": \"0\", \"callsign\": \"0\", \"icao24\": \"0\", \"timestamp\": \"2021-08-25T17:31:02.161136824\"}, {\"track\": 136.76722717285156, \"groundspeed\": 189.12586975097656, \"altitude\": 3554.660400390625, \"timedelta\": 582.869140625, \"latitude\": 47.5516324966166, \"longitude\": 8.498112281172254, \"flight_id\": \"0\", \"callsign\": \"0\", \"icao24\": \"0\", \"timestamp\": \"2021-08-25T17:31:05.796207625\"}, {\"track\": 136.8063507080078, \"groundspeed\": 187.67608642578125, \"altitude\": 3501.8330078125, \"timedelta\": 587.04638671875, \"latitude\": 47.548969124640294, \"longitude\": 8.501810607171004, \"flight_id\": \"0\", \"callsign\": \"0\", \"icao24\": \"0\", \"timestamp\": \"2021-08-25T17:31:09.973453719\"}, {\"track\": 136.82666015625, \"groundspeed\": 186.18453979492188, \"altitude\": 3437.4599609375, \"timedelta\": 590.2286987304688, \"latitude\": 47.546954385010274, \"longitude\": 8.504604331845512, \"flight_id\": \"0\", \"callsign\": \"0\", \"icao24\": \"0\", \"timestamp\": \"2021-08-25T17:31:13.155765730\"}, {\"track\": 136.8940887451172, \"groundspeed\": 184.17660522460938, \"altitude\": 3374.40478515625, \"timedelta\": 593.9112548828125, \"latitude\": 47.544640690967, \"longitude\": 8.507810171125039, \"flight_id\": \"0\", \"callsign\": \"0\", \"icao24\": \"0\", \"timestamp\": \"2021-08-25T17:31:16.838321883\"}, {\"track\": 136.92141723632812, \"groundspeed\": 182.205322265625, \"altitude\": 3317.48828125, \"timedelta\": 596.8096313476562, \"latitude\": 47.54283734374902, \"longitude\": 8.510302914942425, \"flight_id\": \"0\", \"callsign\": \"0\", \"icao24\": \"0\", \"timestamp\": \"2021-08-25T17:31:19.736698348\"}, {\"track\": 137.05088806152344, \"groundspeed\": 180.3153076171875, \"altitude\": 3258.21142578125, \"timedelta\": 600.3698120117188, \"latitude\": 47.54064495019907, \"longitude\": 8.51333039956651, \"flight_id\": \"0\", \"callsign\": \"0\", \"icao24\": \"0\", \"timestamp\": \"2021-08-25T17:31:23.296879012\"}, {\"track\": 137.0987548828125, \"groundspeed\": 178.85061645507812, \"altitude\": 3199.810546875, \"timedelta\": 604.93212890625, \"latitude\": 47.5378586924413, \"longitude\": 8.517160339814467, \"flight_id\": \"0\", \"callsign\": \"0\", \"icao24\": \"0\", \"timestamp\": \"2021-08-25T17:31:27.859195906\"}, {\"track\": 137.07742309570312, \"groundspeed\": 175.92974853515625, \"altitude\": 3139.458740234375, \"timedelta\": 608.7823486328125, \"latitude\": 47.53552461528536, \"longitude\": 8.52036321886238, \"flight_id\": \"0\", \"callsign\": \"0\", \"icao24\": \"0\", \"timestamp\": \"2021-08-25T17:31:31.709415633\"}, {\"track\": 137.12664794921875, \"groundspeed\": 173.93630981445312, \"altitude\": 3080.1123046875, \"timedelta\": 611.8380126953125, \"latitude\": 47.53370310244467, \"longitude\": 8.52286453412531, \"flight_id\": \"0\", \"callsign\": \"0\", \"icao24\": \"0\", \"timestamp\": \"2021-08-25T17:31:34.765079695\"}, {\"track\": 137.18405151367188, \"groundspeed\": 171.08157348632812, \"altitude\": 3019.991455078125, \"timedelta\": 616.03271484375, \"latitude\": 47.53122894186522, \"longitude\": 8.526256042865212, \"flight_id\": \"0\", \"callsign\": \"0\", \"icao24\": \"0\", \"timestamp\": \"2021-08-25T17:31:38.959781844\"}, {\"track\": 137.16726684570312, \"groundspeed\": 169.01185607910156, \"altitude\": 2970.239990234375, \"timedelta\": 618.9691772460938, \"latitude\": 47.52952378206518, \"longitude\": 8.528588673504936, \"flight_id\": \"0\", \"callsign\": \"0\", \"icao24\": \"0\", \"timestamp\": \"2021-08-25T17:31:41.896244246\"}, {\"track\": 137.11473083496094, \"groundspeed\": 166.25076293945312, \"altitude\": 2917.1005859375, \"timedelta\": 624.179443359375, \"latitude\": 47.526535639219375, \"longitude\": 8.53267852962301, \"flight_id\": \"0\", \"callsign\": \"0\", \"icao24\": \"0\", \"timestamp\": \"2021-08-25T17:31:47.106510359\"}, {\"track\": 137.0818634033203, \"groundspeed\": 163.8527374267578, \"altitude\": 2856.776611328125, \"timedelta\": 626.3296508789062, \"latitude\": 47.52532366727492, \"longitude\": 8.534340388052037, \"flight_id\": \"0\", \"callsign\": \"0\", \"icao24\": \"0\", \"timestamp\": \"2021-08-25T17:31:49.256717879\"}, {\"track\": 137.13177490234375, \"groundspeed\": 161.28558349609375, \"altitude\": 2806.0048828125, \"timedelta\": 630.195556640625, \"latitude\": 47.52317719403559, \"longitude\": 8.537286880614998, \"flight_id\": \"0\", \"callsign\": \"0\", \"icao24\": \"0\", \"timestamp\": \"2021-08-25T17:31:53.122623641\"}, {\"track\": 137.1287078857422, \"groundspeed\": 158.34698486328125, \"altitude\": 2755.8623046875, \"timedelta\": 633.3779907226562, \"latitude\": 47.52143648690586, \"longitude\": 8.539672130253347, \"flight_id\": \"0\", \"callsign\": \"0\", \"icao24\": \"0\", \"timestamp\": \"2021-08-25T17:31:56.305057723\"}, {\"track\": 137.1049041748047, \"groundspeed\": 156.08938598632812, \"altitude\": 2703.70263671875, \"timedelta\": 637.5213012695312, \"latitude\": 47.51921159829749, \"longitude\": 8.5427210275321, \"flight_id\": \"0\", \"callsign\": \"0\", \"icao24\": \"0\", \"timestamp\": \"2021-08-25T17:32:00.448368270\"}, {\"track\": 137.1009521484375, \"groundspeed\": 153.50738525390625, \"altitude\": 2653.43603515625, \"timedelta\": 640.5437622070312, \"latitude\": 47.517612352037105, \"longitude\": 8.544914340379755, \"flight_id\": \"0\", \"callsign\": \"0\", \"icao24\": \"0\", \"timestamp\": \"2021-08-25T17:32:03.470829207\"}, {\"track\": 137.11485290527344, \"groundspeed\": 151.2314453125, \"altitude\": 2607.726318359375, \"timedelta\": 645.20703125, \"latitude\": 47.51518587369408, \"longitude\": 8.548242457558763, \"flight_id\": \"0\", \"callsign\": \"0\", \"icao24\": \"0\", \"timestamp\": \"2021-08-25T17:32:08.134098250\"}, {\"track\": 137.1450958251953, \"groundspeed\": 149.47833251953125, \"altitude\": 2555.71142578125, \"timedelta\": 648.1649169921875, \"latitude\": 47.513669260419796, \"longitude\": 8.550321562076354, \"flight_id\": \"0\", \"callsign\": \"0\", \"icao24\": \"0\", \"timestamp\": \"2021-08-25T17:32:11.091983992\"}, {\"track\": 137.2157440185547, \"groundspeed\": 147.73289489746094, \"altitude\": 2512.60546875, \"timedelta\": 652.036376953125, \"latitude\": 47.51170626685123, \"longitude\": 8.553009645236436, \"flight_id\": \"0\", \"callsign\": \"0\", \"icao24\": \"0\", \"timestamp\": \"2021-08-25T17:32:14.963443953\"}, {\"track\": 137.23216247558594, \"groundspeed\": 146.59901428222656, \"altitude\": 2467.580810546875, \"timedelta\": 655.27392578125, \"latitude\": 47.510082010703364, \"longitude\": 8.555228311195831, \"flight_id\": \"0\", \"callsign\": \"0\", \"icao24\": \"0\", \"timestamp\": \"2021-08-25T17:32:18.200992781\"}, {\"track\": 137.27862548828125, \"groundspeed\": 145.04525756835938, \"altitude\": 2416.06201171875, \"timedelta\": 658.3241577148438, \"latitude\": 47.508563073700685, \"longitude\": 8.557301864672699, \"flight_id\": \"0\", \"callsign\": \"0\", \"icao24\": \"0\", \"timestamp\": \"2021-08-25T17:32:21.251224715\"}, {\"track\": 137.17909240722656, \"groundspeed\": 144.2617950439453, \"altitude\": 2368.495849609375, \"timedelta\": 663.2861938476562, \"latitude\": 47.50611644359678, \"longitude\": 8.560636233678043, \"flight_id\": \"0\", \"callsign\": \"0\", \"icao24\": \"0\", \"timestamp\": \"2021-08-25T17:32:26.213260848\"}, {\"track\": 137.23048400878906, \"groundspeed\": 143.30072021484375, \"altitude\": 2325.677734375, \"timedelta\": 666.7926635742188, \"latitude\": 47.504399619031574, \"longitude\": 8.562984097718653, \"flight_id\": \"0\", \"callsign\": \"0\", \"icao24\": \"0\", \"timestamp\": \"2021-08-25T17:32:29.719730574\"}, {\"track\": 137.21070861816406, \"groundspeed\": 143.0441131591797, \"altitude\": 2276.314208984375, \"timedelta\": 670.1325073242188, \"latitude\": 47.502773922606366, \"longitude\": 8.56520327444141, \"flight_id\": \"0\", \"callsign\": \"0\", \"icao24\": \"0\", \"timestamp\": \"2021-08-25T17:32:33.059574324\"}, {\"track\": 137.17544555664062, \"groundspeed\": 142.3707733154297, \"altitude\": 2227.46875, \"timedelta\": 673.6569213867188, \"latitude\": 47.50106200180854, \"longitude\": 8.567541692954464, \"flight_id\": \"0\", \"callsign\": \"0\", \"icao24\": \"0\", \"timestamp\": \"2021-08-25T17:32:36.583988387\"}, {\"track\": 137.1134033203125, \"groundspeed\": 141.8794403076172, \"altitude\": 2184.107666015625, \"timedelta\": 676.811767578125, \"latitude\": 47.499537676465785, \"longitude\": 8.569626377503651, \"flight_id\": \"0\", \"callsign\": \"0\", \"icao24\": \"0\", \"timestamp\": \"2021-08-25T17:32:39.738834578\"}, {\"track\": 137.21395874023438, \"groundspeed\": 141.27932739257812, \"altitude\": 2140.900390625, \"timedelta\": 681.20556640625, \"latitude\": 47.49742416724289, \"longitude\": 8.572522989498236, \"flight_id\": \"0\", \"callsign\": \"0\", \"icao24\": \"0\", \"timestamp\": \"2021-08-25T17:32:44.132633406\"}, {\"track\": 137.11984252929688, \"groundspeed\": 141.09133911132812, \"altitude\": 2094.624755859375, \"timedelta\": 684.93896484375, \"latitude\": 47.495633012281786, \"longitude\": 8.574969104431368, \"flight_id\": \"0\", \"callsign\": \"0\", \"icao24\": \"0\", \"timestamp\": \"2021-08-25T17:32:47.866031844\"}, {\"track\": 137.1663818359375, \"groundspeed\": 140.99618530273438, \"altitude\": 2047.15234375, \"timedelta\": 688.5659790039062, \"latitude\": 47.49389785661126, \"longitude\": 8.577346485107608, \"flight_id\": \"0\", \"callsign\": \"0\", \"icao24\": \"0\", \"timestamp\": \"2021-08-25T17:32:51.493046004\"}, {\"track\": 137.12083435058594, \"groundspeed\": 140.93112182617188, \"altitude\": 2000.786376953125, \"timedelta\": 692.2489013671875, \"latitude\": 47.49213581459273, \"longitude\": 8.579756691907466, \"flight_id\": \"0\", \"callsign\": \"0\", \"icao24\": \"0\", \"timestamp\": \"2021-08-25T17:32:55.175968367\"}, {\"track\": 137.15101623535156, \"groundspeed\": 140.65313720703125, \"altitude\": 1952.3856201171875, \"timedelta\": 694.12451171875, \"latitude\": 47.49123953700265, \"longitude\": 8.580984607678019, \"flight_id\": \"0\", \"callsign\": \"0\", \"icao24\": \"0\", \"timestamp\": \"2021-08-25T17:32:57.051578719\"}, {\"track\": 137.1705322265625, \"groundspeed\": 140.95079040527344, \"altitude\": 1909.8460693359375, \"timedelta\": 698.821533203125, \"latitude\": 47.48899832871334, \"longitude\": 8.58405169455122, \"flight_id\": \"0\", \"callsign\": \"0\", \"icao24\": \"0\", \"timestamp\": \"2021-08-25T17:33:01.748600203\"}, {\"track\": 137.2010498046875, \"groundspeed\": 140.66644287109375, \"altitude\": 1863.6090087890625, \"timedelta\": 702.62109375, \"latitude\": 47.487180943746836, \"longitude\": 8.58653700396255, \"flight_id\": \"0\", \"callsign\": \"0\", \"icao24\": \"0\", \"timestamp\": \"2021-08-25T17:33:05.548160750\"}, {\"track\": 137.19960021972656, \"groundspeed\": 140.84027099609375, \"altitude\": 1817.1439208984375, \"timedelta\": 706.8643798828125, \"latitude\": 47.48515440878743, \"longitude\": 8.589305258814907, \"flight_id\": \"0\", \"callsign\": \"0\", \"icao24\": \"0\", \"timestamp\": \"2021-08-25T17:33:09.791446883\"}, {\"track\": 137.24929809570312, \"groundspeed\": 139.90145874023438, \"altitude\": 1771.5902099609375, \"timedelta\": 709.948486328125, \"latitude\": 47.48367970278622, \"longitude\": 8.591319767385649, \"flight_id\": \"0\", \"callsign\": \"0\", \"icao24\": \"0\", \"timestamp\": \"2021-08-25T17:33:12.875553328\"}, {\"track\": 137.12570190429688, \"groundspeed\": 140.2122344970703, \"altitude\": 1722.4345703125, \"timedelta\": 713.7349243164062, \"latitude\": 47.481879787515865, \"longitude\": 8.593774159596654, \"flight_id\": \"0\", \"callsign\": \"0\", \"icao24\": \"0\", \"timestamp\": \"2021-08-25T17:33:16.661991316\"}, {\"track\": 137.1619415283203, \"groundspeed\": 139.915771484375, \"altitude\": 1674.3333740234375, \"timedelta\": 717.4977416992188, \"latitude\": 47.48009070513923, \"longitude\": 8.596224274806655, \"flight_id\": \"0\", \"callsign\": \"0\", \"icao24\": \"0\", \"timestamp\": \"2021-08-25T17:33:20.424808699\"}, {\"track\": 137.1579132080078, \"groundspeed\": 139.96067810058594, \"altitude\": 1629.5860595703125, \"timedelta\": 720.9979248046875, \"latitude\": 47.47842904086053, \"longitude\": 8.598496938483226, \"flight_id\": \"0\", \"callsign\": \"0\", \"icao24\": \"0\", \"timestamp\": \"2021-08-25T17:33:23.924991805\"}, {\"track\": 137.17774963378906, \"groundspeed\": 140.00192260742188, \"altitude\": 1586.253173828125, \"timedelta\": 723.9459838867188, \"latitude\": 47.47702913463214, \"longitude\": 8.600411817539664, \"flight_id\": \"0\", \"callsign\": \"0\", \"icao24\": \"0\", \"timestamp\": \"2021-08-25T17:33:26.873050887\"}]}}, {\"mode\": \"vega-lite\"});\n",
       "</script>"
      ],
      "text/plain": [
       "alt.Chart(...)"
      ]
     },
     "execution_count": 27,
     "metadata": {},
     "output_type": "execute_result"
    }
   ],
   "source": [
    "generated.chart().encode(alt.Y(\"track\"), alt.X(\"timestamp\"), alt.Color(\"flight_id\"))"
   ]
  },
  {
   "cell_type": "code",
   "execution_count": 28,
   "id": "35fa1980",
   "metadata": {},
   "outputs": [
    {
     "data": {
      "text/html": [
       "\n",
       "<div id=\"altair-viz-4394e75bbcdd4f16ad3e4ab014441ad4\"></div>\n",
       "<script type=\"text/javascript\">\n",
       "  (function(spec, embedOpt){\n",
       "    let outputDiv = document.currentScript.previousElementSibling;\n",
       "    if (outputDiv.id !== \"altair-viz-4394e75bbcdd4f16ad3e4ab014441ad4\") {\n",
       "      outputDiv = document.getElementById(\"altair-viz-4394e75bbcdd4f16ad3e4ab014441ad4\");\n",
       "    }\n",
       "    const paths = {\n",
       "      \"vega\": \"https://cdn.jsdelivr.net/npm//vega@5?noext\",\n",
       "      \"vega-lib\": \"https://cdn.jsdelivr.net/npm//vega-lib?noext\",\n",
       "      \"vega-lite\": \"https://cdn.jsdelivr.net/npm//vega-lite@4.8.1?noext\",\n",
       "      \"vega-embed\": \"https://cdn.jsdelivr.net/npm//vega-embed@6?noext\",\n",
       "    };\n",
       "\n",
       "    function loadScript(lib) {\n",
       "      return new Promise(function(resolve, reject) {\n",
       "        var s = document.createElement('script');\n",
       "        s.src = paths[lib];\n",
       "        s.async = true;\n",
       "        s.onload = () => resolve(paths[lib]);\n",
       "        s.onerror = () => reject(`Error loading script: ${paths[lib]}`);\n",
       "        document.getElementsByTagName(\"head\")[0].appendChild(s);\n",
       "      });\n",
       "    }\n",
       "\n",
       "    function showError(err) {\n",
       "      outputDiv.innerHTML = `<div class=\"error\" style=\"color:red;\">${err}</div>`;\n",
       "      throw err;\n",
       "    }\n",
       "\n",
       "    function displayChart(vegaEmbed) {\n",
       "      vegaEmbed(outputDiv, spec, embedOpt)\n",
       "        .catch(err => showError(`Javascript Error: ${err.message}<br>This usually means there's a typo in your chart specification. See the javascript console for the full traceback.`));\n",
       "    }\n",
       "\n",
       "    if(typeof define === \"function\" && define.amd) {\n",
       "      requirejs.config({paths});\n",
       "      require([\"vega-embed\"], displayChart, err => showError(`Error loading script: ${err.message}`));\n",
       "    } else if (typeof vegaEmbed === \"function\") {\n",
       "      displayChart(vegaEmbed);\n",
       "    } else {\n",
       "      loadScript(\"vega\")\n",
       "        .then(() => loadScript(\"vega-lite\"))\n",
       "        .then(() => loadScript(\"vega-embed\"))\n",
       "        .catch(showError)\n",
       "        .then(() => displayChart(vegaEmbed));\n",
       "    }\n",
       "  })({\"config\": {\"view\": {\"continuousWidth\": 400, \"continuousHeight\": 300}}, \"data\": {\"name\": \"data-4be2c2fba07351566af39930b57a889c\"}, \"mark\": \"line\", \"encoding\": {\"color\": {\"type\": \"nominal\", \"field\": \"flight_id\"}, \"x\": {\"type\": \"temporal\", \"field\": \"timestamp\"}, \"y\": {\"type\": \"quantitative\", \"field\": \"track\"}}, \"$schema\": \"https://vega.github.io/schema/vega-lite/v4.8.1.json\", \"datasets\": {\"data-4be2c2fba07351566af39930b57a889c\": [{\"track\": 218.39285278320312, \"groundspeed\": 368.7299499511719, \"altitude\": 13150.0, \"timedelta\": 0.0, \"latitude\": 48.11883544921875, \"longitude\": 8.722389221191406, \"flight_id\": \"0\", \"callsign\": \"0\", \"icao24\": \"0\", \"timestamp\": \"2021-08-25T17:21:22.927067\"}, {\"track\": 217.39808654785156, \"groundspeed\": 368.81536865234375, \"altitude\": 13075.0009765625, \"timedelta\": 3.0, \"latitude\": 48.11482408540573, \"longitude\": 8.717642715647203, \"flight_id\": \"0\", \"callsign\": \"0\", \"icao24\": \"0\", \"timestamp\": \"2021-08-25T17:21:25.927067\"}, {\"track\": 215.97036743164062, \"groundspeed\": 368.9820556640625, \"altitude\": 12975.0, \"timedelta\": 7.0, \"latitude\": 48.109401534414516, \"longitude\": 8.711452873157345, \"flight_id\": \"0\", \"callsign\": \"0\", \"icao24\": \"0\", \"timestamp\": \"2021-08-25T17:21:29.927067\"}, {\"track\": 214.03549194335938, \"groundspeed\": 368.0499267578125, \"altitude\": 12900.0, \"timedelta\": 10.0, \"latitude\": 48.10525657979271, \"longitude\": 8.706961563467969, \"flight_id\": \"0\", \"callsign\": \"0\", \"icao24\": \"0\", \"timestamp\": \"2021-08-25T17:21:32.927067\"}, {\"track\": 212.99771118164062, \"groundspeed\": 367.238037109375, \"altitude\": 12825.0, \"timedelta\": 13.0, \"latitude\": 48.10102314949927, \"longitude\": 8.702692921848758, \"flight_id\": \"0\", \"callsign\": \"0\", \"icao24\": \"0\", \"timestamp\": \"2021-08-25T17:21:35.927067\"}, {\"track\": 211.47412109375, \"groundspeed\": 365.3077697753906, \"altitude\": 12750.0, \"timedelta\": 16.0, \"latitude\": 48.09674808028328, \"longitude\": 8.698548953506217, \"flight_id\": \"0\", \"callsign\": \"0\", \"icao24\": \"0\", \"timestamp\": \"2021-08-25T17:21:38.927067\"}, {\"track\": 209.58892822265625, \"groundspeed\": 364.53912353515625, \"altitude\": 12650.0, \"timedelta\": 20.0, \"latitude\": 48.09098203178313, \"longitude\": 8.693280287700041, \"flight_id\": \"0\", \"callsign\": \"0\", \"icao24\": \"0\", \"timestamp\": \"2021-08-25T17:21:42.927067\"}, {\"track\": 208.7487030029297, \"groundspeed\": 363.84857177734375, \"altitude\": 12600.0, \"timedelta\": 23.0, \"latitude\": 48.086582050428355, \"longitude\": 8.689551451175811, \"flight_id\": \"0\", \"callsign\": \"0\", \"icao24\": \"0\", \"timestamp\": \"2021-08-25T17:21:45.927067\"}, {\"track\": 208.1935577392578, \"groundspeed\": 361.941650390625, \"altitude\": 12500.0, \"timedelta\": 26.0, \"latitude\": 48.082154308770086, \"longitude\": 8.68592650517403, \"flight_id\": \"0\", \"callsign\": \"0\", \"icao24\": \"0\", \"timestamp\": \"2021-08-25T17:21:48.927067\"}, {\"track\": 208.12857055664062, \"groundspeed\": 360.5881042480469, \"altitude\": 12450.0, \"timedelta\": 29.0, \"latitude\": 48.077726567447996, \"longitude\": 8.68238471739573, \"flight_id\": \"0\", \"callsign\": \"0\", \"icao24\": \"0\", \"timestamp\": \"2021-08-25T17:21:51.927067\"}, {\"track\": 207.7808837890625, \"groundspeed\": 358.2984313964844, \"altitude\": 12350.0, \"timedelta\": 33.0, \"latitude\": 48.07184138921564, \"longitude\": 8.677690487078056, \"flight_id\": \"0\", \"callsign\": \"0\", \"icao24\": \"0\", \"timestamp\": \"2021-08-25T17:21:55.927067\"}, {\"track\": 207.57138061523438, \"groundspeed\": 356.4839172363281, \"altitude\": 12275.0, \"timedelta\": 36.0, \"latitude\": 48.06744140154765, \"longitude\": 8.674232239242704, \"flight_id\": \"0\", \"callsign\": \"0\", \"icao24\": \"0\", \"timestamp\": \"2021-08-25T17:21:58.927067\"}, {\"track\": 207.35977172851562, \"groundspeed\": 355.1348571777344, \"altitude\": 12200.0, \"timedelta\": 39.0, \"latitude\": 48.06305529073266, \"longitude\": 8.670815699595295, \"flight_id\": \"0\", \"callsign\": \"0\", \"icao24\": \"0\", \"timestamp\": \"2021-08-25T17:22:01.927067\"}, {\"track\": 207.14968872070312, \"groundspeed\": 353.3267517089844, \"altitude\": 12125.0, \"timedelta\": 43.0, \"latitude\": 48.05721805305509, \"longitude\": 8.666310191950995, \"flight_id\": \"0\", \"callsign\": \"0\", \"icao24\": \"0\", \"timestamp\": \"2021-08-25T17:22:05.927067\"}, {\"track\": 207.14967346191406, \"groundspeed\": 351.0908508300781, \"altitude\": 12050.0, \"timedelta\": 46.0, \"latitude\": 48.05285419306629, \"longitude\": 8.662972392115725, \"flight_id\": \"0\", \"callsign\": \"0\", \"icao24\": \"0\", \"timestamp\": \"2021-08-25T17:22:08.927067\"}, {\"track\": 207.14967346191406, \"groundspeed\": 350.6333923339844, \"altitude\": 11974.9990234375, \"timedelta\": 49.0, \"latitude\": 48.04851794461174, \"longitude\": 8.659655994488272, \"flight_id\": \"0\", \"callsign\": \"0\", \"icao24\": \"0\", \"timestamp\": \"2021-08-25T17:22:11.927067\"}, {\"track\": 206.93234252929688, \"groundspeed\": 348.8334655761719, \"altitude\": 11925.0, \"timedelta\": 52.0, \"latitude\": 48.044187342916835, \"longitude\": 8.656344195638036, \"flight_id\": \"0\", \"callsign\": \"0\", \"icao24\": \"0\", \"timestamp\": \"2021-08-25T17:22:14.927067\"}, {\"track\": 206.63917541503906, \"groundspeed\": 345.69610595703125, \"altitude\": 11850.0, \"timedelta\": 56.0, \"latitude\": 48.038431690820914, \"longitude\": 8.651984142458929, \"flight_id\": \"0\", \"callsign\": \"0\", \"icao24\": \"0\", \"timestamp\": \"2021-08-25T17:22:18.927067\"}, {\"track\": 206.56504821777344, \"groundspeed\": 344.3541564941406, \"altitude\": 11800.0, \"timedelta\": 59.0, \"latitude\": 48.0341427246167, \"longitude\": 8.648776459471494, \"flight_id\": \"0\", \"callsign\": \"0\", \"icao24\": \"0\", \"timestamp\": \"2021-08-25T17:22:21.927067\"}, {\"track\": 206.48985290527344, \"groundspeed\": 341.67205810546875, \"altitude\": 11724.9990234375, \"timedelta\": 62.0, \"latitude\": 48.02986763583134, \"longitude\": 8.64558973565031, \"flight_id\": \"0\", \"callsign\": \"0\", \"icao24\": \"0\", \"timestamp\": \"2021-08-25T17:22:24.927067\"}, {\"track\": 206.48985290527344, \"groundspeed\": 340.7767639160156, \"altitude\": 11675.0, \"timedelta\": 65.0, \"latitude\": 48.02562306238802, \"longitude\": 8.642436393565868, \"flight_id\": \"0\", \"callsign\": \"0\", \"icao24\": \"0\", \"timestamp\": \"2021-08-25T17:22:27.927067\"}, {\"track\": 206.48886108398438, \"groundspeed\": 336.30462646484375, \"altitude\": 11600.0, \"timedelta\": 69.0, \"latitude\": 48.0199784368673, \"longitude\": 8.63824341231111, \"flight_id\": \"0\", \"callsign\": \"0\", \"icao24\": \"0\", \"timestamp\": \"2021-08-25T17:22:31.927067\"}, {\"track\": 206.48834228515625, \"groundspeed\": 334.06854248046875, \"altitude\": 11550.0, \"timedelta\": 72.0, \"latitude\": 48.015800500178216, \"longitude\": 8.635140304397222, \"flight_id\": \"0\", \"callsign\": \"0\", \"icao24\": \"0\", \"timestamp\": \"2021-08-25T17:22:34.927067\"}, {\"track\": 206.4878387451172, \"groundspeed\": 331.8324890136719, \"altitude\": 11500.0, \"timedelta\": 75.0, \"latitude\": 48.01165032105678, \"longitude\": 8.632058132338804, \"flight_id\": \"0\", \"callsign\": \"0\", \"icao24\": \"0\", \"timestamp\": \"2021-08-25T17:22:37.927067\"}, {\"track\": 206.4873046875, \"groundspeed\": 330.0436706542969, \"altitude\": 11450.0, \"timedelta\": 79.0, \"latitude\": 48.006153740832296, \"longitude\": 8.627976582241692, \"flight_id\": \"0\", \"callsign\": \"0\", \"icao24\": \"0\", \"timestamp\": \"2021-08-25T17:22:41.927067\"}, {\"track\": 206.64321899414062, \"groundspeed\": 327.8075866699219, \"altitude\": 11400.0, \"timedelta\": 82.0, \"latitude\": 48.0020535198494, \"longitude\": 8.624932219786489, \"flight_id\": \"0\", \"callsign\": \"0\", \"icao24\": \"0\", \"timestamp\": \"2021-08-25T17:22:44.927067\"}, {\"track\": 206.4862518310547, \"groundspeed\": 325.12432861328125, \"altitude\": 11325.0, \"timedelta\": 85.0, \"latitude\": 47.99798661250684, \"longitude\": 8.62189222092249, \"flight_id\": \"0\", \"callsign\": \"0\", \"icao24\": \"0\", \"timestamp\": \"2021-08-25T17:22:47.927067\"}, {\"track\": 206.40676879882812, \"groundspeed\": 323.7835998535156, \"altitude\": 11300.0, \"timedelta\": 88.0, \"latitude\": 47.99394746370139, \"longitude\": 8.618893815377472, \"flight_id\": \"0\", \"callsign\": \"0\", \"icao24\": \"0\", \"timestamp\": \"2021-08-25T17:22:50.927067\"}, {\"track\": 206.48513793945312, \"groundspeed\": 320.65216064453125, \"altitude\": 11225.0, \"timedelta\": 92.0, \"latitude\": 47.98858041731702, \"longitude\": 8.614923927372944, \"flight_id\": \"0\", \"callsign\": \"0\", \"icao24\": \"0\", \"timestamp\": \"2021-08-25T17:22:54.927067\"}, {\"track\": 206.48458862304688, \"groundspeed\": 318.4161376953125, \"altitude\": 11175.0, \"timedelta\": 95.0, \"latitude\": 47.98459678345408, \"longitude\": 8.611967415146276, \"flight_id\": \"0\", \"callsign\": \"0\", \"icao24\": \"0\", \"timestamp\": \"2021-08-25T17:22:57.927067\"}, {\"track\": 206.4840087890625, \"groundspeed\": 317.0754089355469, \"altitude\": 11125.0, \"timedelta\": 98.0, \"latitude\": 47.98064090753013, \"longitude\": 8.60903180053296, \"flight_id\": \"0\", \"callsign\": \"0\", \"icao24\": \"0\", \"timestamp\": \"2021-08-25T17:23:00.927067\"}, {\"track\": 206.4834442138672, \"groundspeed\": 314.8393859863281, \"altitude\": 11075.0, \"timedelta\": 100.99999237060547, \"latitude\": 47.976701676374915, \"longitude\": 8.60610883620213, \"flight_id\": \"0\", \"callsign\": \"0\", \"icao24\": \"0\", \"timestamp\": \"2021-08-25T17:23:03.927059371\"}, {\"track\": 206.48284912109375, \"groundspeed\": 313.04925537109375, \"altitude\": 11000.0, \"timedelta\": 105.0, \"latitude\": 47.97148633881292, \"longitude\": 8.602239483272495, \"flight_id\": \"0\", \"callsign\": \"0\", \"icao24\": \"0\", \"timestamp\": \"2021-08-25T17:23:07.927067\"}, {\"track\": 206.56504821777344, \"groundspeed\": 310.8132019042969, \"altitude\": 10974.9990234375, \"timedelta\": 108.0, \"latitude\": 47.96759707182383, \"longitude\": 8.599354250843838, \"flight_id\": \"0\", \"callsign\": \"0\", \"icao24\": \"0\", \"timestamp\": \"2021-08-25T17:23:10.927067\"}, {\"track\": 206.56504821777344, \"groundspeed\": 309.47186279296875, \"altitude\": 10900.0, \"timedelta\": 111.0, \"latitude\": 47.96373834654685, \"longitude\": 8.59648159501968, \"flight_id\": \"0\", \"callsign\": \"0\", \"icao24\": \"0\", \"timestamp\": \"2021-08-25T17:23:13.927067\"}, {\"track\": 206.56504821777344, \"groundspeed\": 306.341064453125, \"altitude\": 10875.0, \"timedelta\": 114.0, \"latitude\": 47.959896271476715, \"longitude\": 8.593621548451745, \"flight_id\": \"0\", \"callsign\": \"0\", \"icao24\": \"0\", \"timestamp\": \"2021-08-25T17:23:16.927067\"}, {\"track\": 206.64894104003906, \"groundspeed\": 305.44696044921875, \"altitude\": 10800.0, \"timedelta\": 118.0, \"latitude\": 47.95482531064442, \"longitude\": 8.589847100922647, \"flight_id\": \"0\", \"callsign\": \"0\", \"icao24\": \"0\", \"timestamp\": \"2021-08-25T17:23:20.927067\"}, {\"track\": 206.64956665039062, \"groundspeed\": 303.21087646484375, \"altitude\": 10750.0, \"timedelta\": 121.0, \"latitude\": 47.95103597912392, \"longitude\": 8.587016471831951, \"flight_id\": \"0\", \"callsign\": \"0\", \"icao24\": \"0\", \"timestamp\": \"2021-08-25T17:23:23.927067\"}, {\"track\": 206.6501922607422, \"groundspeed\": 300.9748229980469, \"altitude\": 10700.0, \"timedelta\": 124.0, \"latitude\": 47.94727440652629, \"longitude\": 8.584206707670702, \"flight_id\": \"0\", \"callsign\": \"0\", \"icao24\": \"0\", \"timestamp\": \"2021-08-25T17:23:26.927067\"}, {\"track\": 206.65081787109375, \"groundspeed\": 298.73876953125, \"altitude\": 10637.5, \"timedelta\": 128.0, \"latitude\": 47.942295971861455, \"longitude\": 8.580488259405712, \"flight_id\": \"0\", \"callsign\": \"0\", \"icao24\": \"0\", \"timestamp\": \"2021-08-25T17:23:30.927067\"}, {\"track\": 206.65147399902344, \"groundspeed\": 296.502685546875, \"altitude\": 10575.0, \"timedelta\": 131.0, \"latitude\": 47.93858991478835, \"longitude\": 8.577720280116035, \"flight_id\": \"0\", \"callsign\": \"0\", \"icao24\": \"0\", \"timestamp\": \"2021-08-25T17:23:33.927067\"}, {\"track\": 206.56504821777344, \"groundspeed\": 295.16070556640625, \"altitude\": 10550.0, \"timedelta\": 134.0, \"latitude\": 47.93491161686818, \"longitude\": 8.574973151542624, \"flight_id\": \"0\", \"callsign\": \"0\", \"icao24\": \"0\", \"timestamp\": \"2021-08-25T17:23:36.927067\"}, {\"track\": 206.47784423828125, \"groundspeed\": 293.81939697265625, \"altitude\": 10500.0, \"timedelta\": 137.0, \"latitude\": 47.9312471971544, \"longitude\": 8.572246871371906, \"flight_id\": \"0\", \"callsign\": \"0\", \"icao24\": \"0\", \"timestamp\": \"2021-08-25T17:23:39.927067\"}, {\"track\": 206.4771728515625, \"groundspeed\": 291.5833435058594, \"altitude\": 10450.0, \"timedelta\": 141.0, \"latitude\": 47.92637979440201, \"longitude\": 8.568639707396928, \"flight_id\": \"0\", \"callsign\": \"0\", \"icao24\": \"0\", \"timestamp\": \"2021-08-25T17:23:43.927067\"}, {\"track\": 206.38711547851562, \"groundspeed\": 289.3472900390625, \"altitude\": 10425.0, \"timedelta\": 144.0, \"latitude\": 47.92275701108276, \"longitude\": 8.565955173730611, \"flight_id\": \"0\", \"callsign\": \"0\", \"icao24\": \"0\", \"timestamp\": \"2021-08-25T17:23:46.927067\"}, {\"track\": 206.38572692871094, \"groundspeed\": 287.1112060546875, \"altitude\": 10375.0, \"timedelta\": 147.0, \"latitude\": 47.919159197804746, \"longitude\": 8.563299820826684, \"flight_id\": \"0\", \"callsign\": \"0\", \"icao24\": \"0\", \"timestamp\": \"2021-08-25T17:23:49.927067\"}, {\"track\": 206.38571166992188, \"groundspeed\": 285.7706298828125, \"altitude\": 10350.0, \"timedelta\": 150.0, \"latitude\": 47.91558914360952, \"longitude\": 8.560665298514444, \"flight_id\": \"0\", \"callsign\": \"0\", \"icao24\": \"0\", \"timestamp\": \"2021-08-25T17:23:52.927067\"}, {\"track\": 206.2926483154297, \"groundspeed\": 282.1947021484375, \"altitude\": 10300.0, \"timedelta\": 154.0, \"latitude\": 47.91085127984045, \"longitude\": 8.557169324551277, \"flight_id\": \"0\", \"callsign\": \"0\", \"icao24\": \"0\", \"timestamp\": \"2021-08-25T17:23:56.927067\"}, {\"track\": 206.2904815673828, \"groundspeed\": 280.8555908203125, \"altitude\": 10250.0, \"timedelta\": 157.0, \"latitude\": 47.90733953176944, \"longitude\": 8.554588808856114, \"flight_id\": \"0\", \"callsign\": \"0\", \"icao24\": \"0\", \"timestamp\": \"2021-08-25T17:23:59.927067\"}, {\"track\": 206.2882537841797, \"groundspeed\": 278.61956787109375, \"altitude\": 10225.0, \"timedelta\": 160.0, \"latitude\": 47.90384438085796, \"longitude\": 8.55202090806071, \"flight_id\": \"0\", \"callsign\": \"0\", \"icao24\": \"0\", \"timestamp\": \"2021-08-25T17:24:02.927067\"}, {\"track\": 206.19419860839844, \"groundspeed\": 276.3835754394531, \"altitude\": 10175.0, \"timedelta\": 164.0, \"latitude\": 47.899221177363366, \"longitude\": 8.548624869067694, \"flight_id\": \"0\", \"callsign\": \"0\", \"icao24\": \"0\", \"timestamp\": \"2021-08-25T17:24:06.927067\"}, {\"track\": 206.19119262695312, \"groundspeed\": 274.1475524902344, \"altitude\": 10125.0, \"timedelta\": 167.0, \"latitude\": 47.89577882437301, \"longitude\": 8.546106847010625, \"flight_id\": \"0\", \"callsign\": \"0\", \"icao24\": \"0\", \"timestamp\": \"2021-08-25T17:24:09.927067\"}, {\"track\": 206.37689208984375, \"groundspeed\": 272.35430908203125, \"altitude\": 10100.0, \"timedelta\": 170.0, \"latitude\": 47.89236423107476, \"longitude\": 8.543609627034504, \"flight_id\": \"0\", \"callsign\": \"0\", \"icao24\": \"0\", \"timestamp\": \"2021-08-25T17:24:12.927067\"}, {\"track\": 206.37533569335938, \"groundspeed\": 270.1182556152344, \"altitude\": 10075.0, \"timedelta\": 173.0, \"latitude\": 47.888977396639866, \"longitude\": 8.541112570417676, \"flight_id\": \"0\", \"callsign\": \"0\", \"icao24\": \"0\", \"timestamp\": \"2021-08-25T17:24:15.927067\"}, {\"track\": 206.37374877929688, \"groundspeed\": 267.8822021484375, \"altitude\": 10050.0, \"timedelta\": 177.0, \"latitude\": 47.88449861737332, \"longitude\": 8.537810961868724, \"flight_id\": \"0\", \"callsign\": \"0\", \"icao24\": \"0\", \"timestamp\": \"2021-08-25T17:24:19.927067\"}, {\"track\": 206.3721466064453, \"groundspeed\": 265.64617919921875, \"altitude\": 10025.0, \"timedelta\": 180.0, \"latitude\": 47.881167300630665, \"longitude\": 8.535355548224144, \"flight_id\": \"0\", \"callsign\": \"0\", \"icao24\": \"0\", \"timestamp\": \"2021-08-25T17:24:22.927067\"}, {\"track\": 206.27420043945312, \"groundspeed\": 264.306396484375, \"altitude\": 10000.0, \"timedelta\": 183.0, \"latitude\": 47.877863743019155, \"longitude\": 8.532920922113057, \"flight_id\": \"0\", \"callsign\": \"0\", \"icao24\": \"0\", \"timestamp\": \"2021-08-25T17:24:25.927067\"}, {\"track\": 206.36883544921875, \"groundspeed\": 261.1740417480469, \"altitude\": 10000.0, \"timedelta\": 186.0, \"latitude\": 47.87457406425037, \"longitude\": 8.530507083441304, \"flight_id\": \"0\", \"callsign\": \"0\", \"icao24\": \"0\", \"timestamp\": \"2021-08-25T17:24:28.927067\"}, {\"track\": 206.16854858398438, \"groundspeed\": 258.49542236328125, \"altitude\": 10000.0, \"timedelta\": 190.0, \"latitude\": 47.87024333440172, \"longitude\": 8.527316404192122, \"flight_id\": \"0\", \"callsign\": \"0\", \"icao24\": \"0\", \"timestamp\": \"2021-08-25T17:24:32.927067\"}, {\"track\": 206.26663208007812, \"groundspeed\": 257.5982971191406, \"altitude\": 9975.0, \"timedelta\": 193.0, \"latitude\": 47.8670230548316, \"longitude\": 8.524964799221818, \"flight_id\": \"0\", \"callsign\": \"0\", \"icao24\": \"0\", \"timestamp\": \"2021-08-25T17:24:35.927067\"}, {\"track\": 206.1650848388672, \"groundspeed\": 256.2593994140625, \"altitude\": 9950.0, \"timedelta\": 196.0, \"latitude\": 47.863816653689916, \"longitude\": 8.52261333996399, \"flight_id\": \"0\", \"callsign\": \"0\", \"icao24\": \"0\", \"timestamp\": \"2021-08-25T17:24:38.927067\"}, {\"track\": 206.36366271972656, \"groundspeed\": 254.9213409423828, \"altitude\": 9850.0, \"timedelta\": 200.0, \"latitude\": 47.85955994694529, \"longitude\": 8.519505817465909, \"flight_id\": \"0\", \"callsign\": \"0\", \"icao24\": \"0\", \"timestamp\": \"2021-08-25T17:24:42.927067\"}, {\"track\": 206.36366271972656, \"groundspeed\": 254.46588134765625, \"altitude\": 9800.0, \"timedelta\": 203.0, \"latitude\": 47.8563895190651, \"longitude\": 8.51717114599124, \"flight_id\": \"0\", \"callsign\": \"0\", \"icao24\": \"0\", \"timestamp\": \"2021-08-25T17:24:45.927067\"}, {\"track\": 206.36366271972656, \"groundspeed\": 254.46588134765625, \"altitude\": 9725.0, \"timedelta\": 206.0, \"latitude\": 47.85322475397469, \"longitude\": 8.514840787601601, \"flight_id\": \"0\", \"callsign\": \"0\", \"icao24\": \"0\", \"timestamp\": \"2021-08-25T17:24:48.927067\"}, {\"track\": 206.3636474609375, \"groundspeed\": 254.46588134765625, \"altitude\": 9650.0, \"timedelta\": 209.0, \"latitude\": 47.85005998713381, \"longitude\": 8.512510570991735, \"flight_id\": \"0\", \"callsign\": \"0\", \"icao24\": \"0\", \"timestamp\": \"2021-08-25T17:24:51.927067\"}, {\"track\": 206.36541748046875, \"groundspeed\": 255.8063507080078, \"altitude\": 9500.0, \"timedelta\": 213.0, \"latitude\": 47.84584028422433, \"longitude\": 8.509403869185252, \"flight_id\": \"0\", \"callsign\": \"0\", \"icao24\": \"0\", \"timestamp\": \"2021-08-25T17:24:55.927067\"}, {\"track\": 206.36541748046875, \"groundspeed\": 255.80633544921875, \"altitude\": 9425.0, \"timedelta\": 216.0, \"latitude\": 47.842658890152386, \"longitude\": 8.507061565999125, \"flight_id\": \"0\", \"callsign\": \"0\", \"icao24\": \"0\", \"timestamp\": \"2021-08-25T17:24:58.927067\"}, {\"track\": 206.36541748046875, \"groundspeed\": 256.7019348144531, \"altitude\": 9350.0, \"timedelta\": 219.0, \"latitude\": 47.83947749450123, \"longitude\": 8.504719406154658, \"flight_id\": \"0\", \"callsign\": \"0\", \"icao24\": \"0\", \"timestamp\": \"2021-08-25T17:25:01.927067\"}, {\"track\": 206.36541748046875, \"groundspeed\": 256.7019348144531, \"altitude\": 9250.0, \"timedelta\": 221.99998474121094, \"latitude\": 47.83628497568272, \"longitude\": 8.502369202927998, \"flight_id\": \"0\", \"callsign\": \"0\", \"icao24\": \"0\", \"timestamp\": \"2021-08-25T17:25:04.927051741\"}, {\"track\": 206.26663208007812, \"groundspeed\": 257.5982971191406, \"altitude\": 9150.0, \"timedelta\": 226.0, \"latitude\": 47.83202823179801, \"longitude\": 8.499235826436404, \"flight_id\": \"0\", \"callsign\": \"0\", \"icao24\": \"0\", \"timestamp\": \"2021-08-25T17:25:08.927067\"}, {\"track\": 206.26663208007812, \"groundspeed\": 257.5982971191406, \"altitude\": 9075.0, \"timedelta\": 229.0, \"latitude\": 47.828821811045266, \"longitude\": 8.496885948343458, \"flight_id\": \"0\", \"callsign\": \"0\", \"icao24\": \"0\", \"timestamp\": \"2021-08-25T17:25:11.927067\"}, {\"track\": 206.26663208007812, \"groundspeed\": 257.5982971191406, \"altitude\": 9000.0, \"timedelta\": 232.0, \"latitude\": 47.825615388495535, \"longitude\": 8.494536214975149, \"flight_id\": \"0\", \"callsign\": \"0\", \"icao24\": \"0\", \"timestamp\": \"2021-08-25T17:25:14.927067\"}, {\"track\": 206.2666473388672, \"groundspeed\": 257.5982971191406, \"altitude\": 8900.0, \"timedelta\": 236.0, \"latitude\": 47.82134014494777, \"longitude\": 8.491403494388313, \"flight_id\": \"0\", \"callsign\": \"0\", \"icao24\": \"0\", \"timestamp\": \"2021-08-25T17:25:18.927067\"}, {\"track\": 206.26663208007812, \"groundspeed\": 257.5982971191406, \"altitude\": 8825.0, \"timedelta\": 239.0, \"latitude\": 47.818133718626335, \"longitude\": 8.489054097345589, \"flight_id\": \"0\", \"callsign\": \"0\", \"icao24\": \"0\", \"timestamp\": \"2021-08-25T17:25:21.927067\"}, {\"track\": 206.26663208007812, \"groundspeed\": 257.5982971191406, \"altitude\": 8750.0, \"timedelta\": 241.99998474121094, \"latitude\": 47.81492730718753, \"longitude\": 8.486704858740044, \"flight_id\": \"0\", \"callsign\": \"0\", \"icao24\": \"0\", \"timestamp\": \"2021-08-25T17:25:24.927051741\"}, {\"track\": 206.26663208007812, \"groundspeed\": 257.5982971191406, \"altitude\": 8675.0, \"timedelta\": 245.0, \"latitude\": 47.81172086081829, \"longitude\": 8.484355740475984, \"flight_id\": \"0\", \"callsign\": \"0\", \"icao24\": \"0\", \"timestamp\": \"2021-08-25T17:25:27.927067\"}, {\"track\": 206.16510009765625, \"groundspeed\": 256.2593994140625, \"altitude\": 8600.0, \"timedelta\": 249.0, \"latitude\": 47.80744560689257, \"longitude\": 8.481223855495147, \"flight_id\": \"0\", \"callsign\": \"0\", \"icao24\": \"0\", \"timestamp\": \"2021-08-25T17:25:31.927067\"}, {\"track\": 206.1650848388672, \"groundspeed\": 256.2593994140625, \"altitude\": 8550.0, \"timedelta\": 252.0, \"latitude\": 47.804253053978066, \"longitude\": 8.478895687417953, \"flight_id\": \"0\", \"callsign\": \"0\", \"icao24\": \"0\", \"timestamp\": \"2021-08-25T17:25:34.927067\"}, {\"track\": 206.2640380859375, \"groundspeed\": 255.36227416992188, \"altitude\": 8500.0, \"timedelta\": 255.00001525878906, \"latitude\": 47.80106048290129, \"longitude\": 8.476567651607347, \"flight_id\": \"0\", \"callsign\": \"0\", \"icao24\": \"0\", \"timestamp\": \"2021-08-25T17:25:37.927082259\"}, {\"track\": 206.36187744140625, \"groundspeed\": 254.0233917236328, \"altitude\": 8450.0, \"timedelta\": 258.0, \"latitude\": 47.79788182369941, \"longitude\": 8.474239780424368, \"flight_id\": \"0\", \"callsign\": \"0\", \"icao24\": \"0\", \"timestamp\": \"2021-08-25T17:25:40.927067\"}, {\"track\": 206.36187744140625, \"groundspeed\": 252.22982788085938, \"altitude\": 8375.0, \"timedelta\": 262.0, \"latitude\": 47.79366935560211, \"longitude\": 8.471141779459249, \"flight_id\": \"0\", \"callsign\": \"0\", \"icao24\": \"0\", \"timestamp\": \"2021-08-25T17:25:44.927067\"}, {\"track\": 206.4630889892578, \"groundspeed\": 251.334228515625, \"altitude\": 8325.0, \"timedelta\": 265.0, \"latitude\": 47.79053231745447, \"longitude\": 8.468834822944855, \"flight_id\": \"0\", \"callsign\": \"0\", \"icao24\": \"0\", \"timestamp\": \"2021-08-25T17:25:47.927067\"}, {\"track\": 206.5650634765625, \"groundspeed\": 250.88821411132812, \"altitude\": 8250.0, \"timedelta\": 268.0, \"latitude\": 47.78740915761693, \"longitude\": 8.466528005667461, \"flight_id\": \"0\", \"callsign\": \"0\", \"icao24\": \"0\", \"timestamp\": \"2021-08-25T17:25:50.927067\"}, {\"track\": 206.76931762695312, \"groundspeed\": 250.88821411132812, \"altitude\": 8100.0, \"timedelta\": 272.0, \"latitude\": 47.7832560103622, \"longitude\": 8.463446980028912, \"flight_id\": \"0\", \"callsign\": \"0\", \"icao24\": \"0\", \"timestamp\": \"2021-08-25T17:25:54.927067\"}, {\"track\": 206.76930236816406, \"groundspeed\": 250.88821411132812, \"altitude\": 8025.0, \"timedelta\": 275.0, \"latitude\": 47.7801467271912, \"longitude\": 8.461119888934803, \"flight_id\": \"0\", \"callsign\": \"0\", \"icao24\": \"0\", \"timestamp\": \"2021-08-25T17:25:57.927067\"}, {\"track\": 206.97283935546875, \"groundspeed\": 251.34019470214844, \"altitude\": 7949.99951171875, \"timedelta\": 278.0, \"latitude\": 47.77703744191249, \"longitude\": 8.45879293781101, \"flight_id\": \"0\", \"callsign\": \"0\", \"icao24\": \"0\", \"timestamp\": \"2021-08-25T17:26:00.927067\"}, {\"track\": 206.86981201171875, \"groundspeed\": 252.23182678222656, \"altitude\": 7825.0, \"timedelta\": 281.0, \"latitude\": 47.773928154764654, \"longitude\": 8.456445533622244, \"flight_id\": \"0\", \"callsign\": \"0\", \"icao24\": \"0\", \"timestamp\": \"2021-08-25T17:26:03.927067\"}, {\"track\": 206.96925354003906, \"groundspeed\": 253.57620239257812, \"altitude\": 7675.0, \"timedelta\": 285.0, \"latitude\": 47.76976391778929, \"longitude\": 8.453315910862294, \"flight_id\": \"0\", \"callsign\": \"0\", \"icao24\": \"0\", \"timestamp\": \"2021-08-25T17:26:07.927067\"}, {\"track\": 207.067626953125, \"groundspeed\": 254.92132568359375, \"altitude\": 7550.0, \"timedelta\": 288.0, \"latitude\": 47.76662686525401, \"longitude\": 8.450948246021388, \"flight_id\": \"0\", \"callsign\": \"0\", \"icao24\": \"0\", \"timestamp\": \"2021-08-25T17:26:10.927067\"}, {\"track\": 207.16497802734375, \"groundspeed\": 256.2672119140625, \"altitude\": 7475.00048828125, \"timedelta\": 291.0, \"latitude\": 47.76347592973944, \"longitude\": 8.44856013812057, \"flight_id\": \"0\", \"callsign\": \"0\", \"icao24\": \"0\", \"timestamp\": \"2021-08-25T17:26:13.927067\"}, {\"track\": 207.1597900390625, \"groundspeed\": 258.503173828125, \"altitude\": 7324.99951171875, \"timedelta\": 294.0, \"latitude\": 47.76031111128198, \"longitude\": 8.446151589207611, \"flight_id\": \"0\", \"callsign\": \"0\", \"icao24\": \"0\", \"timestamp\": \"2021-08-25T17:26:16.927067\"}, {\"track\": 207.1547088623047, \"groundspeed\": 260.7391052246094, \"altitude\": 7150.0, \"timedelta\": 298.0, \"latitude\": 47.75605432321639, \"longitude\": 8.442913006610716, \"flight_id\": \"0\", \"callsign\": \"0\", \"icao24\": \"0\", \"timestamp\": \"2021-08-25T17:26:20.927067\"}, {\"track\": 207.34320068359375, \"groundspeed\": 262.5450134277344, \"altitude\": 7025.0, \"timedelta\": 301.0, \"latitude\": 47.752833977571576, \"longitude\": 8.440463635124956, \"flight_id\": \"0\", \"callsign\": \"0\", \"icao24\": \"0\", \"timestamp\": \"2021-08-25T17:26:23.927067\"}, {\"track\": 207.3432159423828, \"groundspeed\": 263.432861328125, \"altitude\": 6900.0, \"timedelta\": 304.0, \"latitude\": 47.74959681438265, \"longitude\": 8.437981647904016, \"flight_id\": \"0\", \"callsign\": \"0\", \"icao24\": \"0\", \"timestamp\": \"2021-08-25T17:26:26.927067\"}, {\"track\": 207.14474487304688, \"groundspeed\": 265.2110290527344, \"altitude\": 6749.99951171875, \"timedelta\": 308.0, \"latitude\": 47.745265986257266, \"longitude\": 8.434661414233146, \"flight_id\": \"0\", \"callsign\": \"0\", \"icao24\": \"0\", \"timestamp\": \"2021-08-25T17:26:30.927067\"}, {\"track\": 206.9489288330078, \"groundspeed\": 266.9922790527344, \"altitude\": 6650.00048828125, \"timedelta\": 311.0, \"latitude\": 47.74199010985513, \"longitude\": 8.432171395663081, \"flight_id\": \"0\", \"callsign\": \"0\", \"icao24\": \"0\", \"timestamp\": \"2021-08-25T17:26:33.927067\"}, {\"track\": 206.66085815429688, \"groundspeed\": 267.4338684082031, \"altitude\": 6549.99951171875, \"timedelta\": 314.0, \"latitude\": 47.7386864703776, \"longitude\": 8.429681534836142, \"flight_id\": \"0\", \"callsign\": \"0\", \"icao24\": \"0\", \"timestamp\": \"2021-08-25T17:26:36.927067\"}, {\"track\": 206.66087341308594, \"groundspeed\": 267.8840637207031, \"altitude\": 6449.99951171875, \"timedelta\": 317.0, \"latitude\": 47.735368948842286, \"longitude\": 8.427212408048492, \"flight_id\": \"0\", \"callsign\": \"0\", \"icao24\": \"0\", \"timestamp\": \"2021-08-25T17:26:39.927067\"}, {\"track\": 206.66085815429688, \"groundspeed\": 267.4338684082031, \"altitude\": 6350.0, \"timedelta\": 321.0, \"latitude\": 47.73093812624351, \"longitude\": 8.423914974972796, \"flight_id\": \"0\", \"callsign\": \"0\", \"icao24\": \"0\", \"timestamp\": \"2021-08-25T17:26:43.927067\"}, {\"track\": 206.66085815429688, \"groundspeed\": 267.4338684082031, \"altitude\": 6275.0, \"timedelta\": 324.0, \"latitude\": 47.7276206002143, \"longitude\": 8.421446214409485, \"flight_id\": \"0\", \"callsign\": \"0\", \"icao24\": \"0\", \"timestamp\": \"2021-08-25T17:26:46.927067\"}, {\"track\": 206.66085815429688, \"groundspeed\": 267.4338684082031, \"altitude\": 6200.0, \"timedelta\": 327.0, \"latitude\": 47.72430307226096, \"longitude\": 8.418977610601427, \"flight_id\": \"0\", \"callsign\": \"0\", \"icao24\": \"0\", \"timestamp\": \"2021-08-25T17:26:49.927067\"}, {\"track\": 206.75732421875, \"groundspeed\": 266.5405578613281, \"altitude\": 6125.0, \"timedelta\": 330.0, \"latitude\": 47.72098554238345, \"longitude\": 8.41650916352047, \"flight_id\": \"0\", \"callsign\": \"0\", \"icao24\": \"0\", \"timestamp\": \"2021-08-25T17:26:52.927067\"}, {\"track\": 206.56504821777344, \"groundspeed\": 266.09185791015625, \"altitude\": 6025.0, \"timedelta\": 334.0, \"latitude\": 47.716580662750516, \"longitude\": 8.413218176992494, \"flight_id\": \"0\", \"callsign\": \"0\", \"icao24\": \"0\", \"timestamp\": \"2021-08-25T17:26:56.927067\"}, {\"track\": 206.46826171875, \"groundspeed\": 264.7506103515625, \"altitude\": 5950.0, \"timedelta\": 337.0, \"latitude\": 47.71327700965403, \"longitude\": 8.41077066110461, \"flight_id\": \"0\", \"callsign\": \"0\", \"icao24\": \"0\", \"timestamp\": \"2021-08-25T17:26:59.927067\"}, {\"track\": 206.5650634765625, \"groundspeed\": 263.8558044433594, \"altitude\": 5900.0, \"timedelta\": 340.0, \"latitude\": 47.70998723561502, \"longitude\": 8.408343865451394, \"flight_id\": \"0\", \"callsign\": \"0\", \"icao24\": \"0\", \"timestamp\": \"2021-08-25T17:27:02.927067\"}, {\"track\": 206.76058959960938, \"groundspeed\": 262.0684814453125, \"altitude\": 5875.0, \"timedelta\": 343.0, \"latitude\": 47.706711341038414, \"longitude\": 8.405917220312775, \"flight_id\": \"0\", \"callsign\": \"0\", \"icao24\": \"0\", \"timestamp\": \"2021-08-25T17:27:05.927067\"}, {\"track\": 206.46575927734375, \"groundspeed\": 258.04241943359375, \"altitude\": 5825.0, \"timedelta\": 347.0, \"latitude\": 47.70238048190084, \"longitude\": 8.402681963865142, \"flight_id\": \"0\", \"callsign\": \"0\", \"icao24\": \"0\", \"timestamp\": \"2021-08-25T17:27:09.927067\"}, {\"track\": 206.36187744140625, \"groundspeed\": 252.22982788085938, \"altitude\": 5800.0, \"timedelta\": 350.0, \"latitude\": 47.69917398823989, \"longitude\": 8.400317354376744, \"flight_id\": \"0\", \"callsign\": \"0\", \"icao24\": \"0\", \"timestamp\": \"2021-08-25T17:27:12.927067\"}, {\"track\": 206.2559051513672, \"groundspeed\": 248.65415954589844, \"altitude\": 5800.0, \"timedelta\": 353.0, \"latitude\": 47.69603689826349, \"longitude\": 8.398014569095656, \"flight_id\": \"0\", \"callsign\": \"0\", \"icao24\": \"0\", \"timestamp\": \"2021-08-25T17:27:15.927067\"}, {\"track\": 206.1468505859375, \"groundspeed\": 245.07937622070312, \"altitude\": 5775.0, \"timedelta\": 357.0, \"latitude\": 47.69190962340232, \"longitude\": 8.394999254952246, \"flight_id\": \"0\", \"callsign\": \"0\", \"icao24\": \"0\", \"timestamp\": \"2021-08-25T17:27:19.927067\"}, {\"track\": 206.13906860351562, \"groundspeed\": 240.6073455810547, \"altitude\": 5775.0, \"timedelta\": 360.0, \"latitude\": 47.68885581613562, \"longitude\": 8.392779016088427, \"flight_id\": \"0\", \"callsign\": \"0\", \"icao24\": \"0\", \"timestamp\": \"2021-08-25T17:27:22.927067\"}, {\"track\": 206.13101196289062, \"groundspeed\": 239.26951599121094, \"altitude\": 5750.0, \"timedelta\": 363.0, \"latitude\": 47.685857531466894, \"longitude\": 8.390600018503681, \"flight_id\": \"0\", \"callsign\": \"0\", \"icao24\": \"0\", \"timestamp\": \"2021-08-25T17:27:25.927067\"}, {\"track\": 206.13101196289062, \"groundspeed\": 236.13536071777344, \"altitude\": 5725.0, \"timedelta\": 366.0, \"latitude\": 47.68287571076834, \"longitude\": 8.388433880983111, \"flight_id\": \"0\", \"callsign\": \"0\", \"icao24\": \"0\", \"timestamp\": \"2021-08-25T17:27:28.927067\"}, {\"track\": 206.23513793945312, \"groundspeed\": 233.89935302734375, \"altitude\": 5700.0, \"timedelta\": 370.0, \"latitude\": 47.678952016862745, \"longitude\": 8.385583743214108, \"flight_id\": \"0\", \"callsign\": \"0\", \"icao24\": \"0\", \"timestamp\": \"2021-08-25T17:27:32.927067\"}, {\"track\": 206.34425354003906, \"groundspeed\": 233.001953125, \"altitude\": 5650.0, \"timedelta\": 373.0, \"latitude\": 47.67603972042772, \"longitude\": 8.38345865905721, \"flight_id\": \"0\", \"callsign\": \"0\", \"icao24\": \"0\", \"timestamp\": \"2021-08-25T17:27:35.927067\"}, {\"track\": 206.34426879882812, \"groundspeed\": 232.10537719726562, \"altitude\": 5575.0, \"timedelta\": 375.9999694824219, \"latitude\": 47.67314135405597, \"longitude\": 8.381333691169177, \"flight_id\": \"0\", \"callsign\": \"0\", \"icao24\": \"0\", \"timestamp\": \"2021-08-25T17:27:38.927036482\"}, {\"track\": 206.34425354003906, \"groundspeed\": 232.10537719726562, \"altitude\": 5500.0, \"timedelta\": 379.0, \"latitude\": 47.67025408069179, \"longitude\": 8.379216972590324, \"flight_id\": \"0\", \"callsign\": \"0\", \"icao24\": \"0\", \"timestamp\": \"2021-08-25T17:27:41.927067\"}, {\"track\": 206.34425354003906, \"groundspeed\": 232.10537719726562, \"altitude\": 5400.0, \"timedelta\": 383.0, \"latitude\": 47.66640440991766, \"longitude\": 8.376394918416198, \"flight_id\": \"0\", \"callsign\": \"0\", \"icao24\": \"0\", \"timestamp\": \"2021-08-25T17:27:45.927067\"}, {\"track\": 206.45314025878906, \"groundspeed\": 231.65687561035156, \"altitude\": 5350.0, \"timedelta\": 386.0, \"latitude\": 47.66351716164331, \"longitude\": 8.374278494495398, \"flight_id\": \"0\", \"callsign\": \"0\", \"icao24\": \"0\", \"timestamp\": \"2021-08-25T17:27:48.927067\"}, {\"track\": 206.45314025878906, \"groundspeed\": 231.2096710205078, \"altitude\": 5275.0, \"timedelta\": 389.0, \"latitude\": 47.660638207951536, \"longitude\": 8.372158173932206, \"flight_id\": \"0\", \"callsign\": \"0\", \"icao24\": \"0\", \"timestamp\": \"2021-08-25T17:27:51.927067\"}, {\"track\": 206.45314025878906, \"groundspeed\": 230.31480407714844, \"altitude\": 5200.0, \"timedelta\": 393.0, \"latitude\": 47.656807002435954, \"longitude\": 8.369336743856145, \"flight_id\": \"0\", \"callsign\": \"0\", \"icao24\": \"0\", \"timestamp\": \"2021-08-25T17:27:55.927067\"}, {\"track\": 205.7771453857422, \"groundspeed\": 227.65304565429688, \"altitude\": 5150.0, \"timedelta\": 396.0, \"latitude\": 47.653944724315224, \"longitude\": 8.36722897647089, \"flight_id\": \"0\", \"callsign\": \"0\", \"icao24\": \"0\", \"timestamp\": \"2021-08-25T17:27:58.927067\"}, {\"track\": 203.8333282470703, \"groundspeed\": 225.2041473388672, \"altitude\": 5100.0, \"timedelta\": 399.0, \"latitude\": 47.65109911426634, \"longitude\": 8.36519522548179, \"flight_id\": \"0\", \"callsign\": \"0\", \"icao24\": \"0\", \"timestamp\": \"2021-08-25T17:28:01.927067\"}, {\"track\": 198.5159912109375, \"groundspeed\": 223.57305908203125, \"altitude\": 5050.0, \"timedelta\": 402.0, \"latitude\": 47.648239624684074, \"longitude\": 8.363325920254447, \"flight_id\": \"0\", \"callsign\": \"0\", \"icao24\": \"0\", \"timestamp\": \"2021-08-25T17:28:04.927067\"}, {\"track\": 190.30484008789062, \"groundspeed\": 223.60659790039062, \"altitude\": 4987.5, \"timedelta\": 405.9999694824219, \"latitude\": 47.64431595617018, \"longitude\": 8.361381455486404, \"flight_id\": \"0\", \"callsign\": \"0\", \"icao24\": \"0\", \"timestamp\": \"2021-08-25T17:28:08.927036482\"}, {\"track\": 183.84817504882812, \"groundspeed\": 222.9998016357422, \"altitude\": 4950.0, \"timedelta\": 409.0, \"latitude\": 47.64126211134595, \"longitude\": 8.360559884548302, \"flight_id\": \"0\", \"callsign\": \"0\", \"icao24\": \"0\", \"timestamp\": \"2021-08-25T17:28:11.927067\"}, {\"track\": 176.64866638183594, \"groundspeed\": 222.38011169433594, \"altitude\": 4925.0, \"timedelta\": 412.0, \"latitude\": 47.63817363413297, \"longitude\": 8.36025251142002, \"flight_id\": \"0\", \"callsign\": \"0\", \"icao24\": \"0\", \"timestamp\": \"2021-08-25T17:28:14.927067\"}, {\"track\": 174.05848693847656, \"groundspeed\": 222.19342041015625, \"altitude\": 4900.0, \"timedelta\": 415.0, \"latitude\": 47.6350920572271, \"longitude\": 8.360519488244744, \"flight_id\": \"0\", \"callsign\": \"0\", \"icao24\": \"0\", \"timestamp\": \"2021-08-25T17:28:17.927067\"}, {\"track\": 170.0222930908203, \"groundspeed\": 219.3169403076172, \"altitude\": 4850.0, \"timedelta\": 419.0, \"latitude\": 47.631001791966064, \"longitude\": 8.361149229408491, \"flight_id\": \"0\", \"callsign\": \"0\", \"icao24\": \"0\", \"timestamp\": \"2021-08-25T17:28:21.927067\"}, {\"track\": 168.8961639404297, \"groundspeed\": 218.08236694335938, \"altitude\": 4825.0, \"timedelta\": 422.0, \"latitude\": 47.62800349464528, \"longitude\": 8.361929516678241, \"flight_id\": \"0\", \"callsign\": \"0\", \"icao24\": \"0\", \"timestamp\": \"2021-08-25T17:28:24.927067\"}, {\"track\": 167.9608917236328, \"groundspeed\": 215.7450408935547, \"altitude\": 4800.0, \"timedelta\": 425.0, \"latitude\": 47.6250329573262, \"longitude\": 8.362791891256395, \"flight_id\": \"0\", \"callsign\": \"0\", \"icao24\": \"0\", \"timestamp\": \"2021-08-25T17:28:27.927067\"}, {\"track\": 166.94476318359375, \"groundspeed\": 212.49217224121094, \"altitude\": 4750.0, \"timedelta\": 429.0, \"latitude\": 47.6211277600764, \"longitude\": 8.364023762545612, \"flight_id\": \"0\", \"callsign\": \"0\", \"icao24\": \"0\", \"timestamp\": \"2021-08-25T17:28:31.927067\"}, {\"track\": 166.55712890625, \"groundspeed\": 210.7745819091797, \"altitude\": 4725.0, \"timedelta\": 432.0, \"latitude\": 47.61825438517348, \"longitude\": 8.36500920510113, \"flight_id\": \"0\", \"callsign\": \"0\", \"icao24\": \"0\", \"timestamp\": \"2021-08-25T17:28:34.927067\"}, {\"track\": 166.03085327148438, \"groundspeed\": 207.12538146972656, \"altitude\": 4675.0, \"timedelta\": 435.0, \"latitude\": 47.61540877086742, \"longitude\": 8.36601512416995, \"flight_id\": \"0\", \"callsign\": \"0\", \"icao24\": \"0\", \"timestamp\": \"2021-08-25T17:28:37.927067\"}, {\"track\": 165.8960418701172, \"groundspeed\": 205.18511962890625, \"altitude\": 4675.0, \"timedelta\": 438.0, \"latitude\": 47.61261867909749, \"longitude\": 8.36704151689409, \"flight_id\": \"0\", \"callsign\": \"0\", \"icao24\": \"0\", \"timestamp\": \"2021-08-25T17:28:40.927067\"}, {\"track\": 165.4148406982422, \"groundspeed\": 202.5263671875, \"altitude\": 4675.0, \"timedelta\": 442.0, \"latitude\": 47.60893556824735, \"longitude\": 8.368409944098218, \"flight_id\": \"0\", \"callsign\": \"0\", \"icao24\": \"0\", \"timestamp\": \"2021-08-25T17:28:44.927067\"}, {\"track\": 165.14138793945312, \"groundspeed\": 202.33863830566406, \"altitude\": 4675.0, \"timedelta\": 445.0, \"latitude\": 47.606214878254846, \"longitude\": 8.369456736708713, \"flight_id\": \"0\", \"callsign\": \"0\", \"icao24\": \"0\", \"timestamp\": \"2021-08-25T17:28:47.927067\"}, {\"track\": 163.62644958496094, \"groundspeed\": 203.6662139892578, \"altitude\": 4612.5, \"timedelta\": 448.0, \"latitude\": 47.60350011523218, \"longitude\": 8.370521674360804, \"flight_id\": \"0\", \"callsign\": \"0\", \"icao24\": \"0\", \"timestamp\": \"2021-08-25T17:28:50.927067\"}, {\"track\": 159.34539794921875, \"groundspeed\": 205.5065155029297, \"altitude\": 4575.0, \"timedelta\": 451.0, \"latitude\": 47.60078765936788, \"longitude\": 8.371699980283887, \"flight_id\": \"0\", \"callsign\": \"0\", \"icao24\": \"0\", \"timestamp\": \"2021-08-25T17:28:53.927067\"}, {\"track\": 152.6925048828125, \"groundspeed\": 207.0771026611328, \"altitude\": 4500.0, \"timedelta\": 455.0, \"latitude\": 47.59722858273866, \"longitude\": 8.373683460275434, \"flight_id\": \"0\", \"callsign\": \"0\", \"icao24\": \"0\", \"timestamp\": \"2021-08-25T17:28:57.927067\"}, {\"track\": 147.90740966796875, \"groundspeed\": 208.92562866210938, \"altitude\": 4450.0, \"timedelta\": 458.0, \"latitude\": 47.594674448223394, \"longitude\": 8.37563293994546, \"flight_id\": \"0\", \"callsign\": \"0\", \"icao24\": \"0\", \"timestamp\": \"2021-08-25T17:29:00.927067\"}, {\"track\": 142.36474609375, \"groundspeed\": 209.6185302734375, \"altitude\": 4375.0, \"timedelta\": 461.0, \"latitude\": 47.592217474463475, \"longitude\": 8.37791064682278, \"flight_id\": \"0\", \"callsign\": \"0\", \"icao24\": \"0\", \"timestamp\": \"2021-08-25T17:29:03.927067\"}, {\"track\": 139.45809936523438, \"groundspeed\": 209.22935485839844, \"altitude\": 4300.0, \"timedelta\": 464.9999694824219, \"latitude\": 47.58914509731748, \"longitude\": 8.381412475076749, \"flight_id\": \"0\", \"callsign\": \"0\", \"icao24\": \"0\", \"timestamp\": \"2021-08-25T17:29:07.927036482\"}, {\"track\": 138.68515014648438, \"groundspeed\": 209.0285186767578, \"altitude\": 4275.0, \"timedelta\": 468.0, \"latitude\": 47.586937947759, \"longitude\": 8.384202927102104, \"flight_id\": \"0\", \"callsign\": \"0\", \"icao24\": \"0\", \"timestamp\": \"2021-08-25T17:29:10.927067\"}, {\"track\": 138.2981414794922, \"groundspeed\": 208.9423828125, \"altitude\": 4225.0, \"timedelta\": 471.0, \"latitude\": 47.58475858018928, \"longitude\": 8.387034268489323, \"flight_id\": \"0\", \"callsign\": \"0\", \"icao24\": \"0\", \"timestamp\": \"2021-08-25T17:29:13.927067\"}, {\"track\": 138.1150665283203, \"groundspeed\": 208.19683837890625, \"altitude\": 4150.0, \"timedelta\": 474.0, \"latitude\": 47.58259309261462, \"longitude\": 8.389886009438886, \"flight_id\": \"0\", \"callsign\": \"0\", \"icao24\": \"0\", \"timestamp\": \"2021-08-25T17:29:16.927067\"}, {\"track\": 138.15794372558594, \"groundspeed\": 205.37266540527344, \"altitude\": 4100.0, \"timedelta\": 478.0, \"latitude\": 47.57972426670558, \"longitude\": 8.39368812290251, \"flight_id\": \"0\", \"callsign\": \"0\", \"icao24\": \"0\", \"timestamp\": \"2021-08-25T17:29:20.927067\"}, {\"track\": 138.38987731933594, \"groundspeed\": 203.295166015625, \"altitude\": 4050.000244140625, \"timedelta\": 481.0, \"latitude\": 47.5776004213376, \"longitude\": 8.39649856470066, \"flight_id\": \"0\", \"callsign\": \"0\", \"icao24\": \"0\", \"timestamp\": \"2021-08-25T17:29:23.927067\"}, {\"track\": 138.22451782226562, \"groundspeed\": 201.1365966796875, \"altitude\": 4000.0, \"timedelta\": 484.0, \"latitude\": 47.57549045711089, \"longitude\": 8.399267865926854, \"flight_id\": \"0\", \"callsign\": \"0\", \"icao24\": \"0\", \"timestamp\": \"2021-08-25T17:29:26.927067\"}, {\"track\": 138.27049255371094, \"groundspeed\": 198.31271362304688, \"altitude\": 3950.0, \"timedelta\": 487.0, \"latitude\": 47.57340825527645, \"longitude\": 8.402016545875275, \"flight_id\": \"0\", \"callsign\": \"0\", \"icao24\": \"0\", \"timestamp\": \"2021-08-25T17:29:29.927067\"}, {\"track\": 138.31777954101562, \"groundspeed\": 195.48895263671875, \"altitude\": 3875.0, \"timedelta\": 491.0, \"latitude\": 47.57066898804611, \"longitude\": 8.405626563451738, \"flight_id\": \"0\", \"callsign\": \"0\", \"icao24\": \"0\", \"timestamp\": \"2021-08-25T17:29:33.927067\"}, {\"track\": 137.94644165039062, \"groundspeed\": 192.5874786376953, \"altitude\": 3825.0, \"timedelta\": 494.0, \"latitude\": 47.5686423109557, \"longitude\": 8.408292951039146, \"flight_id\": \"0\", \"callsign\": \"0\", \"icao24\": \"0\", \"timestamp\": \"2021-08-25T17:29:36.927067\"}, {\"track\": 137.76678466796875, \"groundspeed\": 190.43356323242188, \"altitude\": 3775.0, \"timedelta\": 497.0, \"latitude\": 47.566657277072125, \"longitude\": 8.410938728348135, \"flight_id\": \"0\", \"callsign\": \"0\", \"icao24\": \"0\", \"timestamp\": \"2021-08-25T17:29:39.927067\"}, {\"track\": 137.54481506347656, \"groundspeed\": 191.1071319580078, \"altitude\": 3675.0, \"timedelta\": 501.0, \"latitude\": 47.564047567623504, \"longitude\": 8.414438911078662, \"flight_id\": \"0\", \"callsign\": \"0\", \"icao24\": \"0\", \"timestamp\": \"2021-08-25T17:29:43.927067\"}, {\"track\": 137.3243865966797, \"groundspeed\": 191.7835693359375, \"altitude\": 3600.0, \"timedelta\": 504.0, \"latitude\": 47.56209029400227, \"longitude\": 8.417084457530114, \"flight_id\": \"0\", \"callsign\": \"0\", \"icao24\": \"0\", \"timestamp\": \"2021-08-25T17:29:46.927067\"}, {\"track\": 137.52610778808594, \"groundspeed\": 192.51995849609375, \"altitude\": 3525.000244140625, \"timedelta\": 506.9999694824219, \"latitude\": 47.56013303962813, \"longitude\": 8.41975038568342, \"flight_id\": \"0\", \"callsign\": \"0\", \"icao24\": \"0\", \"timestamp\": \"2021-08-25T17:29:49.927036482\"}, {\"track\": 137.726318359375, \"groundspeed\": 193.25872802734375, \"altitude\": 3450.000244140625, \"timedelta\": 509.9999694824219, \"latitude\": 47.55816188366249, \"longitude\": 8.42241624194849, \"flight_id\": \"0\", \"callsign\": \"0\", \"icao24\": \"0\", \"timestamp\": \"2021-08-25T17:29:52.927036482\"}, {\"track\": 137.74639892578125, \"groundspeed\": 191.8461151123047, \"altitude\": 3375.0, \"timedelta\": 514.0, \"latitude\": 47.555515132038735, \"longitude\": 8.425970563608947, \"flight_id\": \"0\", \"callsign\": \"0\", \"icao24\": \"0\", \"timestamp\": \"2021-08-25T17:29:56.927067\"}, {\"track\": 137.35916137695312, \"groundspeed\": 188.95750427246094, \"altitude\": 3325.0, \"timedelta\": 517.0, \"latitude\": 47.553543974805635, \"longitude\": 8.428615680399533, \"flight_id\": \"0\", \"callsign\": \"0\", \"icao24\": \"0\", \"timestamp\": \"2021-08-25T17:29:59.927067\"}, {\"track\": 137.39500427246094, \"groundspeed\": 186.1315155029297, \"altitude\": 3299.999755859375, \"timedelta\": 520.0, \"latitude\": 47.55161446088107, \"longitude\": 8.431240196384191, \"flight_id\": \"0\", \"callsign\": \"0\", \"icao24\": \"0\", \"timestamp\": \"2021-08-25T17:30:02.927067\"}, {\"track\": 136.9749298095703, \"groundspeed\": 184.66439819335938, \"altitude\": 3249.999755859375, \"timedelta\": 523.0, \"latitude\": 47.54971270947973, \"longitude\": 8.43382361070628, \"flight_id\": \"0\", \"callsign\": \"0\", \"icao24\": \"0\", \"timestamp\": \"2021-08-25T17:30:05.927067\"}, {\"track\": 136.99017333984375, \"groundspeed\": 183.25103759765625, \"altitude\": 3200.0, \"timedelta\": 527.0, \"latitude\": 47.54721404374233, \"longitude\": 8.437267999517665, \"flight_id\": \"0\", \"callsign\": \"0\", \"icao24\": \"0\", \"timestamp\": \"2021-08-25T17:30:09.927067\"}, {\"track\": 137.21966552734375, \"groundspeed\": 182.5703887939453, \"altitude\": 3150.0, \"timedelta\": 530.0, \"latitude\": 47.54535393486463, \"longitude\": 8.439830697965569, \"flight_id\": \"0\", \"callsign\": \"0\", \"icao24\": \"0\", \"timestamp\": \"2021-08-25T17:30:12.927067\"}, {\"track\": 137.4508514404297, \"groundspeed\": 181.89266967773438, \"altitude\": 3100.0, \"timedelta\": 533.0, \"latitude\": 47.543493825470065, \"longitude\": 8.44237280460807, \"flight_id\": \"0\", \"callsign\": \"0\", \"icao24\": \"0\", \"timestamp\": \"2021-08-25T17:30:15.927067\"}, {\"track\": 137.0056610107422, \"groundspeed\": 181.83767700195312, \"altitude\": 3050.0, \"timedelta\": 537.0, \"latitude\": 47.54101366755097, \"longitude\": 8.44573478758829, \"flight_id\": \"0\", \"callsign\": \"0\", \"icao24\": \"0\", \"timestamp\": \"2021-08-25T17:30:19.927067\"}, {\"track\": 137.2369842529297, \"groundspeed\": 181.1572265625, \"altitude\": 3000.0, \"timedelta\": 540.0, \"latitude\": 47.53916743803159, \"longitude\": 8.448276684676214, \"flight_id\": \"0\", \"callsign\": \"0\", \"icao24\": \"0\", \"timestamp\": \"2021-08-25T17:30:22.927067\"}, {\"track\": 137.25457763671875, \"groundspeed\": 179.7440948486328, \"altitude\": 2950.0, \"timedelta\": 543.0, \"latitude\": 47.53732120863801, \"longitude\": 8.450797994461873, \"flight_id\": \"0\", \"callsign\": \"0\", \"icao24\": \"0\", \"timestamp\": \"2021-08-25T17:30:25.927067\"}, {\"track\": 137.07003784179688, \"groundspeed\": 176.1844024658203, \"altitude\": 2900.000244140625, \"timedelta\": 546.0, \"latitude\": 47.535488860452055, \"longitude\": 8.453298718712366, \"flight_id\": \"0\", \"callsign\": \"0\", \"icao24\": \"0\", \"timestamp\": \"2021-08-25T17:30:28.927067\"}, {\"track\": 137.13868713378906, \"groundspeed\": 170.5313720703125, \"altitude\": 2850.0, \"timedelta\": 550.0, \"latitude\": 47.53310124275362, \"longitude\": 8.456578208019048, \"flight_id\": \"0\", \"callsign\": \"0\", \"icao24\": \"0\", \"timestamp\": \"2021-08-25T17:30:32.927067\"}, {\"track\": 137.21205139160156, \"groundspeed\": 166.97291564941406, \"altitude\": 2825.0, \"timedelta\": 553.0, \"latitude\": 47.531366064303846, \"longitude\": 8.45895575952323, \"flight_id\": \"0\", \"callsign\": \"0\", \"icao24\": \"0\", \"timestamp\": \"2021-08-25T17:30:35.927067\"}, {\"track\": 137.726318359375, \"groundspeed\": 163.52662658691406, \"altitude\": 2775.000244140625, \"timedelta\": 556.0, \"latitude\": 47.52966507627071, \"longitude\": 8.461280409814309, \"flight_id\": \"0\", \"callsign\": \"0\", \"icao24\": \"0\", \"timestamp\": \"2021-08-25T17:30:38.927067\"}, {\"track\": 137.82395935058594, \"groundspeed\": 160.03111267089844, \"altitude\": 2725.0, \"timedelta\": 559.0, \"latitude\": 47.52798542400808, \"longitude\": 8.463534839710883, \"flight_id\": \"0\", \"callsign\": \"0\", \"icao24\": \"0\", \"timestamp\": \"2021-08-25T17:30:41.927067\"}, {\"track\": 137.82395935058594, \"groundspeed\": 157.8763885498047, \"altitude\": 2675.0, \"timedelta\": 563.0, \"latitude\": 47.52579035797415, \"longitude\": 8.46647085145017, \"flight_id\": \"0\", \"callsign\": \"0\", \"icao24\": \"0\", \"timestamp\": \"2021-08-25T17:30:45.927067\"}, {\"track\": 137.82395935058594, \"groundspeed\": 157.8763885498047, \"altitude\": 2625.0, \"timedelta\": 566.0, \"latitude\": 47.524166231586996, \"longitude\": 8.468643144457806, \"flight_id\": \"0\", \"callsign\": \"0\", \"icao24\": \"0\", \"timestamp\": \"2021-08-25T17:30:48.927067\"}, {\"track\": 137.06382751464844, \"groundspeed\": 157.0794677734375, \"altitude\": 2550.0, \"timedelta\": 569.0, \"latitude\": 47.52254210473881, \"longitude\": 8.47081537041845, \"flight_id\": \"0\", \"callsign\": \"0\", \"icao24\": \"0\", \"timestamp\": \"2021-08-25T17:30:51.927067\"}, {\"track\": 137.33201599121094, \"groundspeed\": 156.39999389648438, \"altitude\": 2500.0, \"timedelta\": 572.0, \"latitude\": 47.5209457391752, \"longitude\": 8.473008022407678, \"flight_id\": \"0\", \"callsign\": \"0\", \"icao24\": \"0\", \"timestamp\": \"2021-08-25T17:30:54.927067\"}, {\"track\": 137.0825653076172, \"groundspeed\": 155.6661834716797, \"altitude\": 2437.5, \"timedelta\": 576.0, \"latitude\": 47.51881724303804, \"longitude\": 8.475904119249844, \"flight_id\": \"0\", \"callsign\": \"0\", \"icao24\": \"0\", \"timestamp\": \"2021-08-25T17:30:58.927067\"}, {\"track\": 137.10165405273438, \"groundspeed\": 154.25289916992188, \"altitude\": 2400.0, \"timedelta\": 579.0, \"latitude\": 47.51723475826845, \"longitude\": 8.478076126353262, \"flight_id\": \"0\", \"callsign\": \"0\", \"icao24\": \"0\", \"timestamp\": \"2021-08-25T17:31:01.927067\"}, {\"track\": 137.12109375, \"groundspeed\": 152.8396453857422, \"altitude\": 2350.0, \"timedelta\": 582.0, \"latitude\": 47.51566615487365, \"longitude\": 8.480227578513086, \"flight_id\": \"0\", \"callsign\": \"0\", \"icao24\": \"0\", \"timestamp\": \"2021-08-25T17:31:04.927067\"}, {\"track\": 136.8822784423828, \"groundspeed\": 150.69493103027344, \"altitude\": 2300.0, \"timedelta\": 586.0, \"latitude\": 47.51359318319012, \"longitude\": 8.483068749566714, \"flight_id\": \"0\", \"callsign\": \"0\", \"icao24\": \"0\", \"timestamp\": \"2021-08-25T17:31:08.927067\"}, {\"track\": 137.44241333007812, \"groundspeed\": 149.33506774902344, \"altitude\": 2250.0, \"timedelta\": 589.0, \"latitude\": 47.51206622337233, \"longitude\": 8.485179077656777, \"flight_id\": \"0\", \"callsign\": \"0\", \"icao24\": \"0\", \"timestamp\": \"2021-08-25T17:31:11.927067\"}, {\"track\": 137.46575927734375, \"groundspeed\": 148.66055297851562, \"altitude\": 2225.0, \"timedelta\": 592.0, \"latitude\": 47.510539263858014, \"longitude\": 8.487248368381577, \"flight_id\": \"0\", \"callsign\": \"0\", \"icao24\": \"0\", \"timestamp\": \"2021-08-25T17:31:14.927067\"}, {\"track\": 137.46575927734375, \"groundspeed\": 147.92214965820312, \"altitude\": 2150.0, \"timedelta\": 595.0, \"latitude\": 47.50901863242933, \"longitude\": 8.489307338769681, \"flight_id\": \"0\", \"callsign\": \"0\", \"icao24\": \"0\", \"timestamp\": \"2021-08-25T17:31:17.927067\"}, {\"track\": 136.93679809570312, \"groundspeed\": 146.45465087890625, \"altitude\": 2125.0, \"timedelta\": 599.0, \"latitude\": 47.507001185944446, \"longitude\": 8.49203889195592, \"flight_id\": \"0\", \"callsign\": \"0\", \"icao24\": \"0\", \"timestamp\": \"2021-08-25T17:31:21.927067\"}, {\"track\": 137.24574279785156, \"groundspeed\": 145.041259765625, \"altitude\": 2075.0, \"timedelta\": 602.0, \"latitude\": 47.50551586930783, \"longitude\": 8.494087499231222, \"flight_id\": \"0\", \"callsign\": \"0\", \"icao24\": \"0\", \"timestamp\": \"2021-08-25T17:31:24.927067\"}, {\"track\": 137.24574279785156, \"groundspeed\": 144.36053466796875, \"altitude\": 2050.0, \"timedelta\": 605.0, \"latitude\": 47.504037495746836, \"longitude\": 8.496104544452045, \"flight_id\": \"0\", \"callsign\": \"0\", \"icao24\": \"0\", \"timestamp\": \"2021-08-25T17:31:27.927067\"}, {\"track\": 137.26795959472656, \"groundspeed\": 142.94741821289062, \"altitude\": 2025.0, \"timedelta\": 608.0, \"latitude\": 47.502566060370064, \"longitude\": 8.498112066935233, \"flight_id\": \"0\", \"callsign\": \"0\", \"icao24\": \"0\", \"timestamp\": \"2021-08-25T17:31:30.927067\"}, {\"track\": 137.2906036376953, \"groundspeed\": 142.21450805664062, \"altitude\": 1950.0, \"timedelta\": 612.0, \"latitude\": 47.50062264704236, \"longitude\": 8.500761352314866, \"flight_id\": \"0\", \"callsign\": \"0\", \"icao24\": \"0\", \"timestamp\": \"2021-08-25T17:31:34.927067\"}, {\"track\": 137.29061889648438, \"groundspeed\": 141.53433227539062, \"altitude\": 1925.0, \"timedelta\": 615.0, \"latitude\": 47.49917203622097, \"longitude\": 8.502737228663134, \"flight_id\": \"0\", \"callsign\": \"0\", \"icao24\": \"0\", \"timestamp\": \"2021-08-25T17:31:37.927067\"}, {\"track\": 137.2906036376953, \"groundspeed\": 141.53433227539062, \"altitude\": 1875.0001220703125, \"timedelta\": 618.0, \"latitude\": 47.497728362662684, \"longitude\": 8.50470360042821, \"flight_id\": \"0\", \"callsign\": \"0\", \"icao24\": \"0\", \"timestamp\": \"2021-08-25T17:31:40.927067\"}, {\"track\": 137.29061889648438, \"groundspeed\": 140.1854705810547, \"altitude\": 1850.0001220703125, \"timedelta\": 622.0, \"latitude\": 47.495803456998935, \"longitude\": 8.50732533438662, \"flight_id\": \"0\", \"callsign\": \"0\", \"icao24\": \"0\", \"timestamp\": \"2021-08-25T17:31:44.927067\"}, {\"track\": 137.29061889648438, \"groundspeed\": 140.12124633789062, \"altitude\": 1800.0, \"timedelta\": 625.0, \"latitude\": 47.4943735413714, \"longitude\": 8.50927284203093, \"flight_id\": \"0\", \"callsign\": \"0\", \"icao24\": \"0\", \"timestamp\": \"2021-08-25T17:31:47.927067\"}, {\"track\": 137.29061889648438, \"groundspeed\": 140.8011474609375, \"altitude\": 1775.0, \"timedelta\": 628.0, \"latitude\": 47.49294428049244, \"longitude\": 8.51121940463088, \"flight_id\": \"0\", \"callsign\": \"0\", \"icao24\": \"0\", \"timestamp\": \"2021-08-25T17:31:50.927067\"}, {\"track\": 137.0146026611328, \"groundspeed\": 140.80116271972656, \"altitude\": 1725.0, \"timedelta\": 631.0, \"latitude\": 47.491508084064456, \"longitude\": 8.513175359081266, \"flight_id\": \"0\", \"callsign\": \"0\", \"icao24\": \"0\", \"timestamp\": \"2021-08-25T17:31:53.927067\"}, {\"track\": 136.99456787109375, \"groundspeed\": 141.48486328125, \"altitude\": 1674.9998779296875, \"timedelta\": 635.0, \"latitude\": 47.489601684441816, \"longitude\": 8.51579678387913, \"flight_id\": \"0\", \"callsign\": \"0\", \"icao24\": \"0\", \"timestamp\": \"2021-08-25T17:31:57.927067\"}, {\"track\": 136.99456787109375, \"groundspeed\": 141.48486328125, \"altitude\": 1625.0, \"timedelta\": 637.9999389648438, \"latitude\": 47.48816544506239, \"longitude\": 8.517773045639279, \"flight_id\": \"0\", \"callsign\": \"0\", \"icao24\": \"0\", \"timestamp\": \"2021-08-25T17:32:00.927005965\"}, {\"track\": 137.2906036376953, \"groundspeed\": 141.53431701660156, \"altitude\": 1600.0, \"timedelta\": 641.0, \"latitude\": 47.4867291464346, \"longitude\": 8.519749334551195, \"flight_id\": \"0\", \"callsign\": \"0\", \"icao24\": \"0\", \"timestamp\": \"2021-08-25T17:32:03.927067\"}, {\"track\": 137.01458740234375, \"groundspeed\": 140.8011474609375, \"altitude\": 1550.0, \"timedelta\": 644.0, \"latitude\": 47.485285470246374, \"longitude\": 8.521715242266332, \"flight_id\": \"0\", \"callsign\": \"0\", \"icao24\": \"0\", \"timestamp\": \"2021-08-25T17:32:06.927067\"}, {\"track\": 137.58950805664062, \"groundspeed\": 140.8579559326172, \"altitude\": 1500.0, \"timedelta\": 648.0, \"latitude\": 47.483379069231255, \"longitude\": 8.524336357951523, \"flight_id\": \"0\", \"callsign\": \"0\", \"icao24\": \"0\", \"timestamp\": \"2021-08-25T17:32:10.927067\"}, {\"track\": 137.313720703125, \"groundspeed\": 140.1212615966797, \"altitude\": 1462.5, \"timedelta\": 651.0, \"latitude\": 47.48193539223655, \"longitude\": 8.526281663340127, \"flight_id\": \"0\", \"callsign\": \"0\", \"icao24\": \"0\", \"timestamp\": \"2021-08-25T17:32:13.927067\"}]}}, {\"mode\": \"vega-lite\"});\n",
       "</script>"
      ],
      "text/plain": [
       "alt.Chart(...)"
      ]
     },
     "execution_count": 28,
     "metadata": {},
     "output_type": "execute_result"
    }
   ],
   "source": [
    "original.chart().encode(alt.Y(\"track\"), alt.X(\"timestamp\"), alt.Color(\"flight_id\"))"
   ]
  },
  {
   "cell_type": "markdown",
   "id": "a2252173",
   "metadata": {},
   "source": [
    "Save generated trajectories into csv file"
   ]
  },
  {
   "cell_type": "code",
   "execution_count": 29,
   "id": "62c4c701",
   "metadata": {},
   "outputs": [],
   "source": [
    "traffic_generated.to_csv(\"./outputs/vcae_gen.csv\")"
   ]
  }
 ],
 "metadata": {
  "kernelspec": {
   "display_name": "Python 3.8.3 64-bit ('traffic': conda)",
   "language": "python",
   "name": "python38364bittrafficcondac883b0b6a9534c18ae7c8771421dfabd"
  },
  "language_info": {
   "codemirror_mode": {
    "name": "ipython",
    "version": 3
   },
   "file_extension": ".py",
   "mimetype": "text/x-python",
   "name": "python",
   "nbconvert_exporter": "python",
   "pygments_lexer": "ipython3",
   "version": "3.8.8"
  }
 },
 "nbformat": 4,
 "nbformat_minor": 5
}
