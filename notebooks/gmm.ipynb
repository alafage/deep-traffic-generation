{
 "cells": [
  {
   "cell_type": "code",
   "execution_count": 1,
   "id": "70fbf8e6",
   "metadata": {},
   "outputs": [],
   "source": [
    "import altair as alt\n",
    "\n",
    "from traffic.core import Traffic\n",
    "from traffic.core.projection import EuroPP\n",
    "import pandas as pd\n",
    "import numpy as np\n",
    "import matplotlib.pyplot as plt\n",
    "\n",
    "from sklearn.mixture import GaussianMixture\n",
    "from sklearn.covariance import LedoitWolf\n",
    "from sklearn.preprocessing import MinMaxScaler\n",
    "\n",
    "from deep_traffic_generation.core.builders import CollectionBuilder, IdentifierBuilder, TimestampBuilder\n",
    "from deep_traffic_generation.core.utils import traffic_from_data, plot_clusters\n",
    "\n",
    "import torch\n",
    "from tqdm import tqdm\n",
    "\n",
    "import warnings\n",
    "warnings.filterwarnings(\"ignore\")"
   ]
  },
  {
   "cell_type": "code",
   "execution_count": 2,
   "id": "7eef937c",
   "metadata": {},
   "outputs": [],
   "source": [
    "features = [\"latitude\", \"longitude\", \"altitude\", \"timedelta\"]"
   ]
  },
  {
   "cell_type": "code",
   "execution_count": 3,
   "id": "5b868c9a",
   "metadata": {},
   "outputs": [
    {
     "data": {
      "text/html": [
       "<b>Traffic with 3968 identifiers</b><style  type=\"text/css\" >\n",
       "#T_8b7f0_row0_col0,#T_8b7f0_row1_col0,#T_8b7f0_row2_col0,#T_8b7f0_row3_col0,#T_8b7f0_row4_col0,#T_8b7f0_row5_col0,#T_8b7f0_row6_col0,#T_8b7f0_row7_col0,#T_8b7f0_row8_col0,#T_8b7f0_row9_col0{\n",
       "            width:  10em;\n",
       "             height:  80%;\n",
       "            background:  linear-gradient(90deg,#5fba7d 100.0%, transparent 100.0%);\n",
       "        }</style><table id=\"T_8b7f0_\" ><thead>    <tr>        <th class=\"blank level0\" ></th>        <th class=\"col_heading level0 col0\" >count</th>    </tr>    <tr>        <th class=\"index_name level0\" >flight_id</th>        <th class=\"blank\" ></th>    </tr></thead><tbody>\n",
       "                <tr>\n",
       "                        <th id=\"T_8b7f0_level0_row0\" class=\"row_heading level0 row0\" >ABP721_057</th>\n",
       "                        <td id=\"T_8b7f0_row0_col0\" class=\"data row0 col0\" >200</td>\n",
       "            </tr>\n",
       "            <tr>\n",
       "                        <th id=\"T_8b7f0_level0_row1\" class=\"row_heading level0 row1\" >SWR134J_9747</th>\n",
       "                        <td id=\"T_8b7f0_row1_col0\" class=\"data row1 col0\" >200</td>\n",
       "            </tr>\n",
       "            <tr>\n",
       "                        <th id=\"T_8b7f0_level0_row2\" class=\"row_heading level0 row2\" >SWR134J_9730</th>\n",
       "                        <td id=\"T_8b7f0_row2_col0\" class=\"data row2 col0\" >200</td>\n",
       "            </tr>\n",
       "            <tr>\n",
       "                        <th id=\"T_8b7f0_level0_row3\" class=\"row_heading level0 row3\" >SWR134J_9731</th>\n",
       "                        <td id=\"T_8b7f0_row3_col0\" class=\"data row3 col0\" >200</td>\n",
       "            </tr>\n",
       "            <tr>\n",
       "                        <th id=\"T_8b7f0_level0_row4\" class=\"row_heading level0 row4\" >SWR134J_9732</th>\n",
       "                        <td id=\"T_8b7f0_row4_col0\" class=\"data row4 col0\" >200</td>\n",
       "            </tr>\n",
       "            <tr>\n",
       "                        <th id=\"T_8b7f0_level0_row5\" class=\"row_heading level0 row5\" >SWR134J_9733</th>\n",
       "                        <td id=\"T_8b7f0_row5_col0\" class=\"data row5 col0\" >200</td>\n",
       "            </tr>\n",
       "            <tr>\n",
       "                        <th id=\"T_8b7f0_level0_row6\" class=\"row_heading level0 row6\" >SWR134J_9734</th>\n",
       "                        <td id=\"T_8b7f0_row6_col0\" class=\"data row6 col0\" >200</td>\n",
       "            </tr>\n",
       "            <tr>\n",
       "                        <th id=\"T_8b7f0_level0_row7\" class=\"row_heading level0 row7\" >SWR134J_9736</th>\n",
       "                        <td id=\"T_8b7f0_row7_col0\" class=\"data row7 col0\" >200</td>\n",
       "            </tr>\n",
       "            <tr>\n",
       "                        <th id=\"T_8b7f0_level0_row8\" class=\"row_heading level0 row8\" >SWR134J_9737</th>\n",
       "                        <td id=\"T_8b7f0_row8_col0\" class=\"data row8 col0\" >200</td>\n",
       "            </tr>\n",
       "            <tr>\n",
       "                        <th id=\"T_8b7f0_level0_row9\" class=\"row_heading level0 row9\" >SWR134J_9738</th>\n",
       "                        <td id=\"T_8b7f0_row9_col0\" class=\"data row9 col0\" >200</td>\n",
       "            </tr>\n",
       "    </tbody></table>"
      ],
      "text/plain": [
       "              count\n",
       "flight_id          \n",
       "ABP721_057      200\n",
       "SWR134J_9747    200\n",
       "SWR134J_9730    200\n",
       "SWR134J_9731    200\n",
       "SWR134J_9732    200\n",
       "SWR134J_9733    200\n",
       "SWR134J_9734    200\n",
       "SWR134J_9736    200\n",
       "SWR134J_9737    200\n",
       "SWR134J_9738    200"
      ]
     },
     "execution_count": 3,
     "metadata": {},
     "output_type": "execute_result"
    }
   ],
   "source": [
    "t = Traffic.from_file(\"../deep_traffic_generation/data/traffic_15.pkl\").drop(columns=[\"cluster\"])\n",
    "t"
   ]
  },
  {
   "cell_type": "markdown",
   "id": "31a8e03d",
   "metadata": {},
   "source": [
    "### GMM"
   ]
  },
  {
   "cell_type": "code",
   "execution_count": 4,
   "id": "66a5cd74",
   "metadata": {},
   "outputs": [
    {
     "data": {
      "text/plain": [
       "(3968, 800)"
      ]
     },
     "execution_count": 4,
     "metadata": {},
     "output_type": "execute_result"
    }
   ],
   "source": [
    "# extract features\n",
    "X = np.stack(list(f.data[features].values.ravel() for f in t))\n",
    "X.shape"
   ]
  },
  {
   "cell_type": "code",
   "execution_count": 5,
   "id": "9340bb7a",
   "metadata": {},
   "outputs": [],
   "source": [
    "transform = MinMaxScaler(feature_range=(-1, 1)).fit(X)\n",
    "X = transform.transform(X)\n",
    "cov = LedoitWolf().fit(X)"
   ]
  },
  {
   "cell_type": "code",
   "execution_count": 6,
   "id": "320740e6",
   "metadata": {},
   "outputs": [],
   "source": [
    "gmm = GaussianMixture(n_components=1, means_init=cov.location_[np.newaxis, ...], precisions_init=cov.get_precision()[np.newaxis, ...]).fit(X)"
   ]
  },
  {
   "cell_type": "code",
   "execution_count": 7,
   "id": "1a5787ec",
   "metadata": {},
   "outputs": [
    {
     "data": {
      "text/plain": [
       "(1000, 800)"
      ]
     },
     "execution_count": 7,
     "metadata": {},
     "output_type": "execute_result"
    }
   ],
   "source": [
    "samples, labels = gmm.sample(1000)\n",
    "samples.shape"
   ]
  },
  {
   "cell_type": "code",
   "execution_count": 8,
   "id": "761b7605",
   "metadata": {},
   "outputs": [
    {
     "data": {
      "text/plain": [
       "(1000, 800)"
      ]
     },
     "execution_count": 8,
     "metadata": {},
     "output_type": "execute_result"
    }
   ],
   "source": [
    "samples = transform.inverse_transform(samples)\n",
    "samples.shape"
   ]
  },
  {
   "cell_type": "code",
   "execution_count": 9,
   "id": "e63a4eb2",
   "metadata": {},
   "outputs": [
    {
     "data": {
      "application/vnd.jupyter.widget-view+json": {
       "model_id": "",
       "version_major": 2,
       "version_minor": 0
      },
      "text/plain": [
       "  0%|          | 0/1000 [00:00<?, ?it/s]"
      ]
     },
     "metadata": {},
     "output_type": "display_data"
    },
    {
     "data": {
      "text/html": [
       "<b>Traffic with 1000 identifiers</b><style  type=\"text/css\" >\n",
       "#T_f7894_row0_col0,#T_f7894_row1_col0,#T_f7894_row2_col0,#T_f7894_row3_col0,#T_f7894_row4_col0,#T_f7894_row5_col0,#T_f7894_row6_col0,#T_f7894_row7_col0,#T_f7894_row8_col0,#T_f7894_row9_col0{\n",
       "            width:  10em;\n",
       "             height:  80%;\n",
       "            background:  linear-gradient(90deg,#5fba7d 100.0%, transparent 100.0%);\n",
       "        }</style><table id=\"T_f7894_\" ><thead>    <tr>        <th class=\"blank level0\" ></th>        <th class=\"col_heading level0 col0\" >count</th>    </tr>    <tr>        <th class=\"index_name level0\" >flight_id</th>        <th class=\"blank\" ></th>    </tr></thead><tbody>\n",
       "                <tr>\n",
       "                        <th id=\"T_f7894_level0_row0\" class=\"row_heading level0 row0\" >TRAJ_0</th>\n",
       "                        <td id=\"T_f7894_row0_col0\" class=\"data row0 col0\" >200</td>\n",
       "            </tr>\n",
       "            <tr>\n",
       "                        <th id=\"T_f7894_level0_row1\" class=\"row_heading level0 row1\" >TRAJ_702</th>\n",
       "                        <td id=\"T_f7894_row1_col0\" class=\"data row1 col0\" >200</td>\n",
       "            </tr>\n",
       "            <tr>\n",
       "                        <th id=\"T_f7894_level0_row2\" class=\"row_heading level0 row2\" >TRAJ_691</th>\n",
       "                        <td id=\"T_f7894_row2_col0\" class=\"data row2 col0\" >200</td>\n",
       "            </tr>\n",
       "            <tr>\n",
       "                        <th id=\"T_f7894_level0_row3\" class=\"row_heading level0 row3\" >TRAJ_692</th>\n",
       "                        <td id=\"T_f7894_row3_col0\" class=\"data row3 col0\" >200</td>\n",
       "            </tr>\n",
       "            <tr>\n",
       "                        <th id=\"T_f7894_level0_row4\" class=\"row_heading level0 row4\" >TRAJ_693</th>\n",
       "                        <td id=\"T_f7894_row4_col0\" class=\"data row4 col0\" >200</td>\n",
       "            </tr>\n",
       "            <tr>\n",
       "                        <th id=\"T_f7894_level0_row5\" class=\"row_heading level0 row5\" >TRAJ_694</th>\n",
       "                        <td id=\"T_f7894_row5_col0\" class=\"data row5 col0\" >200</td>\n",
       "            </tr>\n",
       "            <tr>\n",
       "                        <th id=\"T_f7894_level0_row6\" class=\"row_heading level0 row6\" >TRAJ_695</th>\n",
       "                        <td id=\"T_f7894_row6_col0\" class=\"data row6 col0\" >200</td>\n",
       "            </tr>\n",
       "            <tr>\n",
       "                        <th id=\"T_f7894_level0_row7\" class=\"row_heading level0 row7\" >TRAJ_696</th>\n",
       "                        <td id=\"T_f7894_row7_col0\" class=\"data row7 col0\" >200</td>\n",
       "            </tr>\n",
       "            <tr>\n",
       "                        <th id=\"T_f7894_level0_row8\" class=\"row_heading level0 row8\" >TRAJ_697</th>\n",
       "                        <td id=\"T_f7894_row8_col0\" class=\"data row8 col0\" >200</td>\n",
       "            </tr>\n",
       "            <tr>\n",
       "                        <th id=\"T_f7894_level0_row9\" class=\"row_heading level0 row9\" >TRAJ_698</th>\n",
       "                        <td id=\"T_f7894_row9_col0\" class=\"data row9 col0\" >200</td>\n",
       "            </tr>\n",
       "    </tbody></table>"
      ],
      "text/plain": [
       "           count\n",
       "flight_id       \n",
       "TRAJ_0       200\n",
       "TRAJ_702     200\n",
       "TRAJ_691     200\n",
       "TRAJ_692     200\n",
       "TRAJ_693     200\n",
       "TRAJ_694     200\n",
       "TRAJ_695     200\n",
       "TRAJ_696     200\n",
       "TRAJ_697     200\n",
       "TRAJ_698     200"
      ]
     },
     "execution_count": 9,
     "metadata": {},
     "output_type": "execute_result"
    }
   ],
   "source": [
    "builder = CollectionBuilder([\n",
    "    IdentifierBuilder(1000, 200),\n",
    "    TimestampBuilder()\n",
    "])\n",
    "\n",
    "t_gen = traffic_from_data(samples, features, builder=builder)\n",
    "if \"track\" not in t_gen.data.columns:\n",
    "    t_gen = (\n",
    "        t_gen\n",
    "        .cumulative_distance()\n",
    "        .rename(columns=dict(compute_gs=\"groundspeed\", compute_track=\"track\"))\n",
    "        .eval(desc=\"\")\n",
    "    )\n",
    "\n",
    "t_gen"
   ]
  },
  {
   "cell_type": "code",
   "execution_count": 10,
   "id": "516519d9",
   "metadata": {},
   "outputs": [
    {
     "data": {
      "image/png": "[encoded data removed]",
      "text/plain": [
       "<Figure size 720x504 with 1 Axes>"
      ]
     },
     "metadata": {},
     "output_type": "display_data"
    }
   ],
   "source": [
    "with plt.style.context(\"traffic\"):\n",
    "    fig, ax=plt.subplots(1, subplot_kw=dict(projection=EuroPP()))\n",
    "    t_gen.plot(ax, alpha=0.1)\n",
    "    t_gen.centroid(nb_samples=None, projection=EuroPP()).plot(ax, c=\"red\")"
   ]
  },
  {
   "cell_type": "code",
   "execution_count": 11,
   "id": "0c4504c9",
   "metadata": {},
   "outputs": [],
   "source": [
    "t_gen.to_csv(\"./outputs/gmm.csv\")"
   ]
  },
  {
   "cell_type": "markdown",
   "id": "b40b38e1",
   "metadata": {},
   "source": [
    "### Douglas-Peucker"
   ]
  },
  {
   "cell_type": "code",
   "execution_count": 12,
   "id": "937c130a",
   "metadata": {},
   "outputs": [
    {
     "data": {
      "application/vnd.jupyter.widget-view+json": {
       "model_id": "",
       "version_major": 2,
       "version_minor": 0
      },
      "text/plain": [
       "  0%|          | 0/1000 [00:00<?, ?it/s]"
      ]
     },
     "metadata": {},
     "output_type": "display_data"
    },
    {
     "data": {
      "text/html": [
       "<b>Traffic with 1000 identifiers</b><style  type=\"text/css\" >\n",
       "#T_f4a91_row0_col0,#T_f4a91_row1_col0,#T_f4a91_row2_col0,#T_f4a91_row3_col0{\n",
       "            width:  10em;\n",
       "             height:  80%;\n",
       "            background:  linear-gradient(90deg,#5fba7d 100.0%, transparent 100.0%);\n",
       "        }#T_f4a91_row4_col0,#T_f4a91_row5_col0,#T_f4a91_row6_col0,#T_f4a91_row7_col0,#T_f4a91_row8_col0,#T_f4a91_row9_col0{\n",
       "            width:  10em;\n",
       "             height:  80%;\n",
       "            background:  linear-gradient(90deg,#5fba7d 92.3%, transparent 92.3%);\n",
       "        }</style><table id=\"T_f4a91_\" ><thead>    <tr>        <th class=\"blank level0\" ></th>        <th class=\"col_heading level0 col0\" >count</th>    </tr>    <tr>        <th class=\"index_name level0\" >flight_id</th>        <th class=\"blank\" ></th>    </tr></thead><tbody>\n",
       "                <tr>\n",
       "                        <th id=\"T_f4a91_level0_row0\" class=\"row_heading level0 row0\" >TRAJ_276</th>\n",
       "                        <td id=\"T_f4a91_row0_col0\" class=\"data row0 col0\" >13</td>\n",
       "            </tr>\n",
       "            <tr>\n",
       "                        <th id=\"T_f4a91_level0_row1\" class=\"row_heading level0 row1\" >TRAJ_18</th>\n",
       "                        <td id=\"T_f4a91_row1_col0\" class=\"data row1 col0\" >13</td>\n",
       "            </tr>\n",
       "            <tr>\n",
       "                        <th id=\"T_f4a91_level0_row2\" class=\"row_heading level0 row2\" >TRAJ_359</th>\n",
       "                        <td id=\"T_f4a91_row2_col0\" class=\"data row2 col0\" >13</td>\n",
       "            </tr>\n",
       "            <tr>\n",
       "                        <th id=\"T_f4a91_level0_row3\" class=\"row_heading level0 row3\" >TRAJ_107</th>\n",
       "                        <td id=\"T_f4a91_row3_col0\" class=\"data row3 col0\" >13</td>\n",
       "            </tr>\n",
       "            <tr>\n",
       "                        <th id=\"T_f4a91_level0_row4\" class=\"row_heading level0 row4\" >TRAJ_228</th>\n",
       "                        <td id=\"T_f4a91_row4_col0\" class=\"data row4 col0\" >12</td>\n",
       "            </tr>\n",
       "            <tr>\n",
       "                        <th id=\"T_f4a91_level0_row5\" class=\"row_heading level0 row5\" >TRAJ_365</th>\n",
       "                        <td id=\"T_f4a91_row5_col0\" class=\"data row5 col0\" >12</td>\n",
       "            </tr>\n",
       "            <tr>\n",
       "                        <th id=\"T_f4a91_level0_row6\" class=\"row_heading level0 row6\" >TRAJ_414</th>\n",
       "                        <td id=\"T_f4a91_row6_col0\" class=\"data row6 col0\" >12</td>\n",
       "            </tr>\n",
       "            <tr>\n",
       "                        <th id=\"T_f4a91_level0_row7\" class=\"row_heading level0 row7\" >TRAJ_96</th>\n",
       "                        <td id=\"T_f4a91_row7_col0\" class=\"data row7 col0\" >12</td>\n",
       "            </tr>\n",
       "            <tr>\n",
       "                        <th id=\"T_f4a91_level0_row8\" class=\"row_heading level0 row8\" >TRAJ_687</th>\n",
       "                        <td id=\"T_f4a91_row8_col0\" class=\"data row8 col0\" >12</td>\n",
       "            </tr>\n",
       "            <tr>\n",
       "                        <th id=\"T_f4a91_level0_row9\" class=\"row_heading level0 row9\" >TRAJ_374</th>\n",
       "                        <td id=\"T_f4a91_row9_col0\" class=\"data row9 col0\" >12</td>\n",
       "            </tr>\n",
       "    </tbody></table>"
      ],
      "text/plain": [
       "           count\n",
       "flight_id       \n",
       "TRAJ_276      13\n",
       "TRAJ_18       13\n",
       "TRAJ_359      13\n",
       "TRAJ_107      13\n",
       "TRAJ_228      12\n",
       "TRAJ_365      12\n",
       "TRAJ_414      12\n",
       "TRAJ_96       12\n",
       "TRAJ_687      12\n",
       "TRAJ_374      12"
      ]
     },
     "execution_count": 12,
     "metadata": {},
     "output_type": "execute_result"
    }
   ],
   "source": [
    "simplified_t = (\n",
    "    t_gen\n",
    "    .simplify(tolerance=1e3)\n",
    "    .eval(desc=\"\")\n",
    ")\n",
    "simplified_t"
   ]
  },
  {
   "cell_type": "code",
   "execution_count": 13,
   "id": "7f83743c",
   "metadata": {},
   "outputs": [],
   "source": [
    "simplified_t.to_csv(\"./outputs/dp_gmm.csv\")"
   ]
  },
  {
   "cell_type": "markdown",
   "id": "a64d36c7",
   "metadata": {},
   "source": [
    "### Navigational Points"
   ]
  },
  {
   "cell_type": "code",
   "execution_count": 14,
   "id": "08320f5a",
   "metadata": {},
   "outputs": [
    {
     "name": "stderr",
     "output_type": "stream",
     "text": [
      "100%|██████████| 1000/1000 [12:26<00:00,  1.34it/s]\n"
     ]
    },
    {
     "data": {
      "text/html": [
       "<div>\n",
       "<style scoped>\n",
       "    .dataframe tbody tr th:only-of-type {\n",
       "        vertical-align: middle;\n",
       "    }\n",
       "\n",
       "    .dataframe tbody tr th {\n",
       "        vertical-align: top;\n",
       "    }\n",
       "\n",
       "    .dataframe thead th {\n",
       "        text-align: right;\n",
       "    }\n",
       "</style>\n",
       "<table border=\"1\" class=\"dataframe\">\n",
       "  <thead>\n",
       "    <tr style=\"text-align: right;\">\n",
       "      <th></th>\n",
       "      <th>start</th>\n",
       "      <th>stop</th>\n",
       "      <th>duration</th>\n",
       "      <th>navaid</th>\n",
       "      <th>distance</th>\n",
       "      <th>shift_mean</th>\n",
       "      <th>shift_meanp</th>\n",
       "      <th>name</th>\n",
       "      <th>type</th>\n",
       "      <th>latitude</th>\n",
       "      <th>...</th>\n",
       "      <th>flight_id</th>\n",
       "      <th>callsign</th>\n",
       "      <th>icao24</th>\n",
       "      <th>registration</th>\n",
       "      <th>typecode</th>\n",
       "      <th>latitude_0</th>\n",
       "      <th>longitude_0</th>\n",
       "      <th>altitude_0</th>\n",
       "      <th>track_0</th>\n",
       "      <th>groundspeed_0</th>\n",
       "    </tr>\n",
       "  </thead>\n",
       "  <tbody>\n",
       "    <tr>\n",
       "      <th>0</th>\n",
       "      <td>2021-09-14 08:05:52.478239324+00:00</td>\n",
       "      <td>2021-09-14 08:08:43.139446212+00:00</td>\n",
       "      <td>0 days 00:02:50.661206888</td>\n",
       "      <td>TD003</td>\n",
       "      <td>6.577506</td>\n",
       "      <td>0.079397</td>\n",
       "      <td>0.099397</td>\n",
       "      <td>TD003</td>\n",
       "      <td>FIX</td>\n",
       "      <td>47.785339</td>\n",
       "      <td>...</td>\n",
       "      <td>TRAJ_0</td>\n",
       "      <td>TRAJ_0</td>\n",
       "      <td>TRAJ_0</td>\n",
       "      <td>None</td>\n",
       "      <td>None</td>\n",
       "      <td>48.125977</td>\n",
       "      <td>8.602401</td>\n",
       "      <td>15793.772275</td>\n",
       "      <td>189.401174</td>\n",
       "      <td>257.062559</td>\n",
       "    </tr>\n",
       "    <tr>\n",
       "      <th>1</th>\n",
       "      <td>2021-09-14 08:10:28.942130404+00:00</td>\n",
       "      <td>2021-09-14 08:12:39.869400377+00:00</td>\n",
       "      <td>0 days 00:02:10.927269973</td>\n",
       "      <td>ZH305</td>\n",
       "      <td>5.574537</td>\n",
       "      <td>0.094507</td>\n",
       "      <td>0.114507</td>\n",
       "      <td>ZH305</td>\n",
       "      <td>FIX</td>\n",
       "      <td>47.625500</td>\n",
       "      <td>...</td>\n",
       "      <td>TRAJ_0</td>\n",
       "      <td>TRAJ_0</td>\n",
       "      <td>TRAJ_0</td>\n",
       "      <td>None</td>\n",
       "      <td>None</td>\n",
       "      <td>48.125977</td>\n",
       "      <td>8.602401</td>\n",
       "      <td>15793.772275</td>\n",
       "      <td>189.401174</td>\n",
       "      <td>257.062559</td>\n",
       "    </tr>\n",
       "    <tr>\n",
       "      <th>2</th>\n",
       "      <td>2021-09-14 08:13:43.172015527+00:00</td>\n",
       "      <td>2021-09-14 08:18:27.305338097+00:00</td>\n",
       "      <td>0 days 00:04:44.133322570</td>\n",
       "      <td>MDR29</td>\n",
       "      <td>7.721759</td>\n",
       "      <td>0.116326</td>\n",
       "      <td>0.136326</td>\n",
       "      <td>MDR29</td>\n",
       "      <td>FIX</td>\n",
       "      <td>47.395000</td>\n",
       "      <td>...</td>\n",
       "      <td>TRAJ_0</td>\n",
       "      <td>TRAJ_0</td>\n",
       "      <td>TRAJ_0</td>\n",
       "      <td>None</td>\n",
       "      <td>None</td>\n",
       "      <td>48.125977</td>\n",
       "      <td>8.602401</td>\n",
       "      <td>15793.772275</td>\n",
       "      <td>189.401174</td>\n",
       "      <td>257.062559</td>\n",
       "    </tr>\n",
       "    <tr>\n",
       "      <th>0</th>\n",
       "      <td>2021-09-14 08:05:43.395586962+00:00</td>\n",
       "      <td>2021-09-14 08:10:31.668592671+00:00</td>\n",
       "      <td>0 days 00:04:48.273005709</td>\n",
       "      <td>OSNEM</td>\n",
       "      <td>11.666130</td>\n",
       "      <td>0.149215</td>\n",
       "      <td>0.169215</td>\n",
       "      <td>OSNEM</td>\n",
       "      <td>FIX</td>\n",
       "      <td>47.579694</td>\n",
       "      <td>...</td>\n",
       "      <td>TRAJ_1</td>\n",
       "      <td>TRAJ_1</td>\n",
       "      <td>TRAJ_1</td>\n",
       "      <td>None</td>\n",
       "      <td>None</td>\n",
       "      <td>48.129738</td>\n",
       "      <td>8.520194</td>\n",
       "      <td>13762.973946</td>\n",
       "      <td>195.610805</td>\n",
       "      <td>267.030192</td>\n",
       "    </tr>\n",
       "    <tr>\n",
       "      <th>1</th>\n",
       "      <td>2021-09-14 08:10:50.931111047+00:00</td>\n",
       "      <td>2021-09-14 08:11:35.546504760+00:00</td>\n",
       "      <td>0 days 00:00:44.615393713</td>\n",
       "      <td>ZH204</td>\n",
       "      <td>17.614383</td>\n",
       "      <td>0.213051</td>\n",
       "      <td>0.233051</td>\n",
       "      <td>ZH204</td>\n",
       "      <td>FIX</td>\n",
       "      <td>47.449111</td>\n",
       "      <td>...</td>\n",
       "      <td>TRAJ_1</td>\n",
       "      <td>TRAJ_1</td>\n",
       "      <td>TRAJ_1</td>\n",
       "      <td>None</td>\n",
       "      <td>None</td>\n",
       "      <td>48.129738</td>\n",
       "      <td>8.520194</td>\n",
       "      <td>13762.973946</td>\n",
       "      <td>195.610805</td>\n",
       "      <td>267.030192</td>\n",
       "    </tr>\n",
       "  </tbody>\n",
       "</table>\n",
       "<p>5 rows × 21 columns</p>\n",
       "</div>"
      ],
      "text/plain": [
       "                                start                                stop  \\\n",
       "0 2021-09-14 08:05:52.478239324+00:00 2021-09-14 08:08:43.139446212+00:00   \n",
       "1 2021-09-14 08:10:28.942130404+00:00 2021-09-14 08:12:39.869400377+00:00   \n",
       "2 2021-09-14 08:13:43.172015527+00:00 2021-09-14 08:18:27.305338097+00:00   \n",
       "0 2021-09-14 08:05:43.395586962+00:00 2021-09-14 08:10:31.668592671+00:00   \n",
       "1 2021-09-14 08:10:50.931111047+00:00 2021-09-14 08:11:35.546504760+00:00   \n",
       "\n",
       "                   duration navaid   distance  shift_mean  shift_meanp   name  \\\n",
       "0 0 days 00:02:50.661206888  TD003   6.577506    0.079397     0.099397  TD003   \n",
       "1 0 days 00:02:10.927269973  ZH305   5.574537    0.094507     0.114507  ZH305   \n",
       "2 0 days 00:04:44.133322570  MDR29   7.721759    0.116326     0.136326  MDR29   \n",
       "0 0 days 00:04:48.273005709  OSNEM  11.666130    0.149215     0.169215  OSNEM   \n",
       "1 0 days 00:00:44.615393713  ZH204  17.614383    0.213051     0.233051  ZH204   \n",
       "\n",
       "  type   latitude  ...  flight_id callsign  icao24 registration typecode  \\\n",
       "0  FIX  47.785339  ...     TRAJ_0   TRAJ_0  TRAJ_0         None     None   \n",
       "1  FIX  47.625500  ...     TRAJ_0   TRAJ_0  TRAJ_0         None     None   \n",
       "2  FIX  47.395000  ...     TRAJ_0   TRAJ_0  TRAJ_0         None     None   \n",
       "0  FIX  47.579694  ...     TRAJ_1   TRAJ_1  TRAJ_1         None     None   \n",
       "1  FIX  47.449111  ...     TRAJ_1   TRAJ_1  TRAJ_1         None     None   \n",
       "\n",
       "  latitude_0  longitude_0    altitude_0     track_0  groundspeed_0  \n",
       "0  48.125977     8.602401  15793.772275  189.401174     257.062559  \n",
       "1  48.125977     8.602401  15793.772275  189.401174     257.062559  \n",
       "2  48.125977     8.602401  15793.772275  189.401174     257.062559  \n",
       "0  48.129738     8.520194  13762.973946  195.610805     267.030192  \n",
       "1  48.129738     8.520194  13762.973946  195.610805     267.030192  \n",
       "\n",
       "[5 rows x 21 columns]"
      ]
     },
     "execution_count": 14,
     "metadata": {},
     "output_type": "execute_result"
    }
   ],
   "source": [
    "navpoints_t = pd.concat([\n",
    "    flight\n",
    "    .compute_navpoints()\n",
    "    .assign(\n",
    "        flight_id=flight.flight_id,\n",
    "        callsign=flight.callsign,\n",
    "        icao24=flight.icao24,\n",
    "        registration=flight.registration,\n",
    "        typecode=flight.typecode,\n",
    "        latitude_0=flight.data.iloc[0].latitude,\n",
    "        longitude_0=flight.data.iloc[0].longitude,\n",
    "        altitude_0=flight.data.iloc[0].altitude,\n",
    "        track_0=flight.data.iloc[0].track,\n",
    "        groundspeed_0=flight.data.iloc[0].groundspeed,\n",
    "    )\n",
    "    .drop(columns=[\n",
    "        \"altitude\",\n",
    "        \"description\",\n",
    "        \"frequency\",\n",
    "        \"magnetic_variation\"\n",
    "    ])\n",
    "    for flight in tqdm(t_gen)\n",
    "])\n",
    "navpoints_t.head()"
   ]
  },
  {
   "cell_type": "code",
   "execution_count": 15,
   "id": "b865970a",
   "metadata": {},
   "outputs": [],
   "source": [
    "navpoints_t.to_csv(\"./outputs/nav_gmm.csv\")"
   ]
  }
 ],
 "metadata": {
  "kernelspec": {
   "display_name": "Python 3.8.3 64-bit ('traffic': conda)",
   "language": "python",
   "name": "python38364bittrafficcondac883b0b6a9534c18ae7c8771421dfabd"
  },
  "language_info": {
   "codemirror_mode": {
    "name": "ipython",
    "version": 3
   },
   "file_extension": ".py",
   "mimetype": "text/x-python",
   "name": "python",
   "nbconvert_exporter": "python",
   "pygments_lexer": "ipython3",
   "version": "3.8.8"
  }
 },
 "nbformat": 4,
 "nbformat_minor": 5
}
