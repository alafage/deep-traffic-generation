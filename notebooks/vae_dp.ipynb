{
 "cells": [
  {
   "cell_type": "code",
   "execution_count": 1,
   "id": "cede67e0",
   "metadata": {},
   "outputs": [],
   "source": [
    "import altair as alt\n",
    "\n",
    "from deep_traffic_generation.tc_vae_dp import TCVAEDP\n",
    "from deep_traffic_generation.core.datasets import TrafficDataset\n",
    "\n",
    "from sklearn.preprocessing import MinMaxScaler\n",
    "from sklearn.manifold import TSNE\n",
    "\n",
    "import matplotlib.pyplot as plt\n",
    "import numpy as np\n",
    "\n",
    "from traffic.core.projection import EuroPP\n",
    "import pandas as pd\n",
    "from tqdm import tqdm\n",
    "\n",
    "import torch\n",
    "\n",
    "from deep_traffic_generation.core.utils import traffic_from_data\n",
    "\n",
    "import warnings\n",
    "warnings.filterwarnings(\"ignore\")\n",
    "\n",
    "torch.manual_seed(42)\n",
    "np.random.seed(42)"
   ]
  },
  {
   "cell_type": "code",
   "execution_count": 2,
   "id": "98d24dce",
   "metadata": {},
   "outputs": [],
   "source": [
    "N_SAMPLES = 10"
   ]
  },
  {
   "cell_type": "code",
   "execution_count": 3,
   "id": "d85a658b",
   "metadata": {},
   "outputs": [
    {
     "data": {
      "text/plain": [
       "Dataset TrafficDataset\n",
       "    Number of datapoints: 3968\n",
       "    File location: ../deep_traffic_generation/data/simplified_15.pkl\n",
       "    MinMaxScaler(feature_range=(-1, 1))"
      ]
     },
     "execution_count": 3,
     "metadata": {},
     "output_type": "execute_result"
    }
   ],
   "source": [
    "dataset = TrafficDataset.from_file(\n",
    "    \"../deep_traffic_generation/data/simplified_15.pkl\",\n",
    "    features=[\"x\", \"y\", \"altitude\", \"timedelta\"],\n",
    "    scaler=MinMaxScaler(feature_range=(-1, 1)),\n",
    "    shape=\"image\",\n",
    ")\n",
    "dataset"
   ]
  },
  {
   "cell_type": "code",
   "execution_count": 4,
   "id": "f085a6c8",
   "metadata": {},
   "outputs": [
    {
     "data": {
      "text/plain": [
       "TCVAEDP(\n",
       "  (encoder): TCEncoder(\n",
       "    (encoder): Sequential(\n",
       "      (0): TCN(\n",
       "        (network): Sequential(\n",
       "          (0): ResidualBlock(\n",
       "            (tmp_block1): TemporalBlock(\n",
       "              (conv): Conv1d(4, 16, kernel_size=(3,), stride=(1,))\n",
       "              (dropout): Dropout(p=0.0, inplace=False)\n",
       "            )\n",
       "            (tmp_block2): TemporalBlock(\n",
       "              (conv): Conv1d(16, 16, kernel_size=(3,), stride=(1,))\n",
       "              (dropout): Dropout(p=0.0, inplace=False)\n",
       "            )\n",
       "            (downsample): Conv1d(4, 16, kernel_size=(1,), stride=(1,))\n",
       "          )\n",
       "          (1): ResidualBlock(\n",
       "            (tmp_block1): TemporalBlock(\n",
       "              (conv): Conv1d(16, 16, kernel_size=(3,), stride=(1,), dilation=(2,))\n",
       "              (dropout): Dropout(p=0.0, inplace=False)\n",
       "            )\n",
       "            (tmp_block2): TemporalBlock(\n",
       "              (conv): Conv1d(16, 16, kernel_size=(3,), stride=(1,), dilation=(2,))\n",
       "              (dropout): Dropout(p=0.0, inplace=False)\n",
       "            )\n",
       "          )\n",
       "          (2): ResidualBlock(\n",
       "            (tmp_block1): TemporalBlock(\n",
       "              (conv): Conv1d(16, 16, kernel_size=(3,), stride=(1,), dilation=(4,))\n",
       "              (dropout): Dropout(p=0.0, inplace=False)\n",
       "            )\n",
       "            (tmp_block2): TemporalBlock(\n",
       "              (conv): Conv1d(16, 16, kernel_size=(3,), stride=(1,), dilation=(4,))\n",
       "              (dropout): Dropout(p=0.0, inplace=False)\n",
       "            )\n",
       "          )\n",
       "        )\n",
       "      )\n",
       "    )\n",
       "    (z_loc): Linear(in_features=224, out_features=16, bias=True)\n",
       "    (z_log_var): Linear(in_features=224, out_features=16, bias=True)\n",
       "  )\n",
       "  (decoder): TCDecoder(\n",
       "    (decode_entry): Linear(in_features=16, out_features=224, bias=True)\n",
       "    (decoder): Sequential(\n",
       "      (0): TCN(\n",
       "        (network): Sequential(\n",
       "          (0): ResidualBlock(\n",
       "            (tmp_block1): TemporalBlock(\n",
       "              (conv): Conv1d(16, 16, kernel_size=(3,), stride=(1,))\n",
       "              (dropout): Dropout(p=0.0, inplace=False)\n",
       "            )\n",
       "            (tmp_block2): TemporalBlock(\n",
       "              (conv): Conv1d(16, 16, kernel_size=(3,), stride=(1,))\n",
       "              (dropout): Dropout(p=0.0, inplace=False)\n",
       "            )\n",
       "          )\n",
       "          (1): ResidualBlock(\n",
       "            (tmp_block1): TemporalBlock(\n",
       "              (conv): Conv1d(16, 16, kernel_size=(3,), stride=(1,), dilation=(2,))\n",
       "              (dropout): Dropout(p=0.0, inplace=False)\n",
       "            )\n",
       "            (tmp_block2): TemporalBlock(\n",
       "              (conv): Conv1d(16, 16, kernel_size=(3,), stride=(1,), dilation=(2,))\n",
       "              (dropout): Dropout(p=0.0, inplace=False)\n",
       "            )\n",
       "          )\n",
       "          (2): ResidualBlock(\n",
       "            (tmp_block1): TemporalBlock(\n",
       "              (conv): Conv1d(16, 4, kernel_size=(3,), stride=(1,), dilation=(4,))\n",
       "              (dropout): Dropout(p=0.0, inplace=False)\n",
       "            )\n",
       "            (tmp_block2): TemporalBlock(\n",
       "              (conv): Conv1d(4, 4, kernel_size=(3,), stride=(1,), dilation=(4,))\n",
       "              (dropout): Dropout(p=0.0, inplace=False)\n",
       "            )\n",
       "            (downsample): Conv1d(16, 4, kernel_size=(1,), stride=(1,))\n",
       "          )\n",
       "        )\n",
       "      )\n",
       "    )\n",
       "  )\n",
       "  (out_activ): LinearAct()\n",
       ")"
      ]
     },
     "execution_count": 4,
     "metadata": {},
     "output_type": "execute_result"
    }
   ],
   "source": [
    "model = TCVAEDP.load_from_checkpoint(\n",
    "    \"../deep_traffic_generation/lightning_logs/tc_vae_dp/version_10/checkpoints/epoch=300-step=902.ckpt\",\n",
    "    hparams_file=\"../deep_traffic_generation/lightning_logs/tc_vae_dp/version_10/hparams.yaml\",\n",
    "    dataset_params=dataset.parameters,\n",
    ")\n",
    "model.eval()"
   ]
  },
  {
   "cell_type": "code",
   "execution_count": 5,
   "id": "b4055bb5",
   "metadata": {},
   "outputs": [
    {
     "data": {
      "text/plain": [
       "(3968, 16)"
      ]
     },
     "execution_count": 5,
     "metadata": {},
     "output_type": "execute_result"
    }
   ],
   "source": [
    "z, _ = model.encoder(torch.Tensor(dataset.data), [])\n",
    "x = z.detach().cpu().numpy()\n",
    "# z_scale = np.exp(z_scale.detach().cpu().numpy() / 2)\n",
    "x.shape"
   ]
  },
  {
   "cell_type": "code",
   "execution_count": 6,
   "id": "3f34ad15",
   "metadata": {},
   "outputs": [
    {
     "data": {
      "text/plain": [
       "(2, 14, 4)"
      ]
     },
     "execution_count": 6,
     "metadata": {},
     "output_type": "execute_result"
    }
   ],
   "source": [
    "original, l, info = dataset[0]\n",
    "_, _, reconstruction = model(original.unsqueeze(0), l)\n",
    "\n",
    "data = np.concatenate((original.unsqueeze(0).numpy(), reconstruction.detach().numpy()))\n",
    "data = np.transpose(data, (0, 2, 1))\n",
    "data.shape"
   ]
  },
  {
   "cell_type": "code",
   "execution_count": 8,
   "id": "843ba82f",
   "metadata": {},
   "outputs": [
    {
     "data": {
      "text/plain": [
       "(28, 4)"
      ]
     },
     "execution_count": 8,
     "metadata": {},
     "output_type": "execute_result"
    }
   ],
   "source": [
    "data = data.reshape(-1, 4)\n",
    "data = dataset.scaler.inverse_transform(data)\n",
    "data.shape"
   ]
  },
  {
   "cell_type": "code",
   "execution_count": null,
   "id": "d70908e3",
   "metadata": {},
   "outputs": [],
   "source": []
  }
 ],
 "metadata": {
  "kernelspec": {
   "display_name": "Python 3.8.3 64-bit ('traffic': conda)",
   "language": "python",
   "name": "python38364bittrafficcondac883b0b6a9534c18ae7c8771421dfabd"
  },
  "language_info": {
   "codemirror_mode": {
    "name": "ipython",
    "version": 3
   },
   "file_extension": ".py",
   "mimetype": "text/x-python",
   "name": "python",
   "nbconvert_exporter": "python",
   "pygments_lexer": "ipython3",
   "version": "3.8.8"
  }
 },
 "nbformat": 4,
 "nbformat_minor": 5
}
